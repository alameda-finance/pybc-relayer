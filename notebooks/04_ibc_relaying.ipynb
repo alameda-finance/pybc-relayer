{
 "cells": [
  {
   "cell_type": "markdown",
   "id": "3072ea46-1496-489d-910d-bd5fc609be2b",
   "metadata": {},
   "source": [
    "## This notebook will walkthrough the relayer's \"business-as-usual\" script, which actively checks both chains for packets/acks to relay, and times out any old packets.\n",
    "\n",
    "## WIP"
   ]
  },
  {
   "cell_type": "code",
   "execution_count": null,
   "id": "ce9ce729-33ff-4f50-b81c-b28af8d6d2e0",
   "metadata": {},
   "outputs": [],
   "source": [
    "#imports"
   ]
  },
  {
   "cell_type": "code",
   "execution_count": 1,
   "id": "f3a9361a-ec45-4ef7-9a70-9ea25a47395f",
   "metadata": {},
   "outputs": [],
   "source": [
    "#setup lcd clients, rpc urls, wallets"
   ]
  },
  {
   "cell_type": "code",
   "execution_count": 2,
   "id": "2f89301b-40b1-4bca-90cf-fd20572bdfc6",
   "metadata": {},
   "outputs": [],
   "source": [
    "#protobuf imports"
   ]
  },
  {
   "cell_type": "code",
   "execution_count": 3,
   "id": "b170fa64-ecf2-4ece-9ff0-fbc586320828",
   "metadata": {},
   "outputs": [],
   "source": [
    "#load ibc client, connection, port, channel information from previous notebooks"
   ]
  },
  {
   "cell_type": "markdown",
   "id": "3f301951-28ae-416d-9a28-68266db74bc8",
   "metadata": {},
   "source": [
    "Query for queued packets on both chains, and filter for not-yet-processed ones"
   ]
  },
  {
   "cell_type": "code",
   "execution_count": 11,
   "id": "77ce5c0c-3778-4bd1-b4a5-a0eecfd1a481",
   "metadata": {},
   "outputs": [],
   "source": [
    "#query the rpc for queued packets that are \"unreceived\""
   ]
  },
  {
   "cell_type": "code",
   "execution_count": null,
   "id": "254266ae-b5ec-4a93-a2b5-ae97e809648b",
   "metadata": {},
   "outputs": [],
   "source": [
    "#additionally, filter out (but persist) packets whose timeouts have passed"
   ]
  },
  {
   "cell_type": "markdown",
   "id": "9d395012-41ee-4376-90ef-c6c44abaa16c",
   "metadata": {},
   "source": [
    "Relay valid packets, ie. dispatching the MsgRecvPacket message to the destination chain"
   ]
  },
  {
   "cell_type": "code",
   "execution_count": 5,
   "id": "9d2cadfd-b450-4fdb-82f1-05b57a378839",
   "metadata": {},
   "outputs": [],
   "source": [
    "#update the client on both chains, and fetch packet proofs"
   ]
  },
  {
   "cell_type": "code",
   "execution_count": 8,
   "id": "51e33097-a1d9-46ba-92a7-40056cca6e66",
   "metadata": {},
   "outputs": [],
   "source": [
    "#fabricate message & dispatch via stargate"
   ]
  },
  {
   "cell_type": "markdown",
   "id": "660cb13e-b9d0-41df-9ef5-14810e89394b",
   "metadata": {},
   "source": [
    "Query for queued acks on both chains, and filter for not-yet-processed ones"
   ]
  },
  {
   "cell_type": "code",
   "execution_count": null,
   "id": "1f98f316-09ce-4dbe-8da4-6f900825cbb5",
   "metadata": {},
   "outputs": [],
   "source": [
    "#query the rpc for queued acks that are \"unreceived\""
   ]
  },
  {
   "cell_type": "markdown",
   "id": "a277456d-016f-4677-bbd0-5bc550e11064",
   "metadata": {},
   "source": [
    "Relay valid acks, ie. dispatching the MsgAcknowledgement message to the source chain"
   ]
  },
  {
   "cell_type": "code",
   "execution_count": 9,
   "id": "aa000e52-cd2f-4500-b9bf-c200ae43b346",
   "metadata": {},
   "outputs": [],
   "source": [
    "#update the client on both chains, and fetch acknowledge proofs"
   ]
  },
  {
   "cell_type": "code",
   "execution_count": 10,
   "id": "6ac444c4-f6c6-4c25-8aee-f7223a41297c",
   "metadata": {},
   "outputs": [],
   "source": [
    "#fabricate message & dispatch via stargate"
   ]
  },
  {
   "cell_type": "markdown",
   "id": "a6f68e0e-c1d8-4d44-802b-cdd1f03590d1",
   "metadata": {},
   "source": [
    "Cleanup any timed-out packets"
   ]
  },
  {
   "cell_type": "code",
   "execution_count": 12,
   "id": "dc877164-e678-442e-99dd-d8a7ded10b7a",
   "metadata": {},
   "outputs": [],
   "source": [
    "#update the client on both chains"
   ]
  },
  {
   "cell_type": "code",
   "execution_count": 13,
   "id": "8e02d3b6-706f-4fd8-9e6d-e426d6eb0d5a",
   "metadata": {},
   "outputs": [],
   "source": [
    "#query for the expected next packet sequence number"
   ]
  },
  {
   "cell_type": "code",
   "execution_count": 14,
   "id": "4d96764a-0433-4753-905f-ad418f893f6d",
   "metadata": {},
   "outputs": [],
   "source": [
    "#fetch nonexistence proof of the timed-out packet"
   ]
  },
  {
   "cell_type": "code",
   "execution_count": null,
   "id": "c70de9e1-d6af-49d2-ac06-26b50bd29f56",
   "metadata": {},
   "outputs": [],
   "source": [
    "#fabricate message & dispatch via stargate"
   ]
  }
 ],
 "metadata": {
  "kernelspec": {
   "display_name": "Python 3 (ipykernel)",
   "language": "python",
   "name": "python3"
  },
  "language_info": {
   "codemirror_mode": {
    "name": "ipython",
    "version": 3
   },
   "file_extension": ".py",
   "mimetype": "text/x-python",
   "name": "python",
   "nbconvert_exporter": "python",
   "pygments_lexer": "ipython3",
   "version": "3.8.15"
  }
 },
 "nbformat": 4,
 "nbformat_minor": 5
}
