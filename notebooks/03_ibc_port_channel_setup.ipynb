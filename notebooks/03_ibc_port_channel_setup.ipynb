{
 "cells": [
  {
   "cell_type": "markdown",
   "id": "3072ea46-1496-489d-910d-bd5fc609be2b",
   "metadata": {},
   "source": [
    "## At this point, we have a bonafide IBC connection between injective and osmosis that is ready to service communication between any two \"ports\" (or smart contracts). \n",
    "\n",
    "## In this tutorial, we will setup confio's ica contracts (https://github.com/confio/cw-ibc-demo), with the controller contract (port) on injective and the host contract (port) on osmosis.\n",
    "\n",
    "## One important note: during the channel setup process, the controller dispatches a separate IBC packet (message) that needs to be relayed with an hour timeout."
   ]
  },
  {
   "cell_type": "code",
   "execution_count": null,
   "id": "ce9ce729-33ff-4f50-b81c-b28af8d6d2e0",
   "metadata": {},
   "outputs": [],
   "source": []
  },
  {
   "cell_type": "code",
   "execution_count": 1,
   "id": "f3a9361a-ec45-4ef7-9a70-9ea25a47395f",
   "metadata": {
    "tags": []
   },
   "outputs": [],
   "source": [
    "#imports\n",
    "\n",
    "import pandas as pd\n",
    "import json\n",
    "import os\n",
    "import sys\n",
    "import base64\n",
    "import requests\n",
    "import subprocess\n",
    "import math\n",
    "import hashlib\n",
    "import bech32\n",
    "import time\n",
    "\n",
    "from dateutil.parser import parse\n",
    "from datetime import datetime, timedelta\n",
    "from ecdsa import SECP256k1, SigningKey\n",
    "from ecdsa.util import sigencode_string_canonize\n",
    "from bech32 import bech32_decode, bech32_encode, convertbits\n",
    "from google.protobuf.timestamp_pb2 import Timestamp as googTimestamp\n",
    "\n",
    "from terra_sdk.client.lcd import LCDClient\n",
    "from terra_sdk.core.wasm import MsgStoreCode, MsgInstantiateContract, MsgExecuteContract\n",
    "from terra_sdk.core.bank import MsgSend\n",
    "from terra_sdk.core.fee import Fee\n",
    "from terra_sdk.key.mnemonic import MnemonicKey\n",
    "from terra_sdk.core.bech32 import get_bech\n",
    "from terra_sdk.core import AccAddress, Coin, Coins\n",
    "from terra_sdk.client.lcd.api.tx import CreateTxOptions, SignerOptions\n",
    "from terra_sdk.client.localterra import LocalTerra\n",
    "from terra_sdk.core.wasm.data import AccessConfig\n",
    "from terra_sdk.client.lcd.api._base import BaseAsyncAPI, sync_bind\n",
    "\n",
    "from terra_proto.cosmwasm.wasm.v1 import AccessType\n",
    "from terra_proto.cosmos.tx.v1beta1 import Tx, TxBody, AuthInfo, SignDoc, SignerInfo, ModeInfo, ModeInfoSingle, BroadcastTxResponse\n",
    "from terra_proto.cosmos.base.abci.v1beta1 import TxResponse\n",
    "from terra_proto.cosmos.tx.signing.v1beta1 import SignMode\n",
    "from terra_proto.ibc.core.client.v1 import MsgCreateClient, Height, MsgUpdateClient, QueryClientStateRequest, QueryClientStateResponse\n",
    "from terra_proto.ibc.core.channel.v1 import MsgChannelOpenInit, Channel, State, Order, Counterparty, MsgChannelOpenTry, MsgChannelOpenAck, MsgChannelOpenConfirm, QueryUnreceivedPacketsRequest, QueryUnreceivedPacketsResponse, QueryPacketCommitmentRequest, QueryPacketCommitmentResponse, Packet, QueryNextSequenceReceiveRequest, QueryNextSequenceReceiveResponse, MsgRecvPacket, MsgTimeout, QueryUnreceivedAcksRequest, QueryUnreceivedAcksResponse, MsgAcknowledgement\n",
    "from terra_proto.ibc.core.connection.v1 import MsgConnectionOpenInit, Counterparty as ConnectionCounterParty, Version, MsgConnectionOpenTry, MsgConnectionOpenAck, MsgConnectionOpenConfirm\n",
    "from terra_proto.ibc.lightclients.tendermint.v1 import ClientState, ConsensusState, Fraction, Header\n",
    "from terra_proto.ics23 import HashOp, LengthOp, LeafOp, InnerOp, ProofSpec, InnerSpec, CommitmentProof, ExistenceProof, NonExistenceProof, BatchProof, CompressedBatchProof, BatchEntry, CompressedBatchEntry, CompressedExistenceProof, CompressedNonExistenceProof\n",
    "from terra_proto.ibc.core.commitment.v1 import MerkleRoot, MerklePrefix, MerkleProof\n",
    "from terra_proto.tendermint.types import ValidatorSet, Validator, SignedHeader, Header as tendermintHeader, Commit, BlockId, PartSetHeader, CommitSig, BlockIdFlag\n",
    "from terra_proto.tendermint.version import Consensus\n",
    "from terra_proto.tendermint.crypto import PublicKey\n",
    "from betterproto.lib.google.protobuf import Any\n",
    "from betterproto import Timestamp\n",
    "\n",
    "#misc helper functions\n",
    "sys.path.append(os.path.join(os.path.dirname(__name__), '..', 'scripts'))\n",
    "\n",
    "from helpers import proto_to_binary, timestamp_string_to_proto, stargate_msg, create_ibc_client, fetch_chain_objects, bech32_to_hexstring, hexstring_to_bytes, bech32_to_b64, b64_to_bytes, fabricate_update_client, fetch_proofs, deploy_local_wasm, init_contract, execute_msg, fetch_channel_proof"
   ]
  },
  {
   "cell_type": "code",
   "execution_count": 2,
   "id": "6ee2c7ff-52f5-4c30-8713-fa38f77f6807",
   "metadata": {},
   "outputs": [],
   "source": [
    "#setup lcd clients, rpc urls, wallets\n",
    "(inj, inj_wallet, inj_rpc_url, inj_rpc_header) = fetch_chain_objects(\"injective-888\")\n",
    "(osmo, osmo_wallet, osmo_rpc_url, osmo_rpc_header) = fetch_chain_objects(\"osmo-test-4\")"
   ]
  },
  {
   "cell_type": "code",
   "execution_count": 3,
   "id": "4120dd09-34aa-420c-9afa-673e5a4b553b",
   "metadata": {},
   "outputs": [],
   "source": [
    "#terra_proto imports\n",
    "from terra_proto.ibc.core.channel.v1 import MsgChannelOpenInit, Channel, State, Order, Counterparty, MsgChannelOpenTry, MsgChannelOpenAck, MsgChannelOpenConfirm, QueryUnreceivedPacketsRequest, QueryUnreceivedPacketsResponse, QueryPacketCommitmentRequest, QueryPacketCommitmentResponse, Packet, QueryNextSequenceReceiveRequest, QueryNextSequenceReceiveResponse, MsgRecvPacket, MsgTimeout, QueryUnreceivedAcksRequest, QueryUnreceivedAcksResponse, MsgAcknowledgement\n",
    "from terra_proto.ibc.core.client.v1 import MsgCreateClient, Height, MsgUpdateClient, QueryClientStateRequest, QueryClientStateResponse"
   ]
  },
  {
   "cell_type": "code",
   "execution_count": 4,
   "id": "c0c2b16f-231c-4fa8-b5d4-949692b15293",
   "metadata": {},
   "outputs": [
    {
     "name": "stdout",
     "output_type": "stream",
     "text": [
      "{'client_id_on_inj': '07-tendermint-87', 'client_id_on_osmo': '07-tendermint-4298', 'connection_id_on_inj': 'connection-69', 'connection_id_on_osmo': 'connection-3714'}\n"
     ]
    }
   ],
   "source": [
    "#load ibc client & connection information from previous notebooks\n",
    "context = {}\n",
    "# Open the file for reading\n",
    "with open(\"context.json\", \"r\") as f:\n",
    "    # Load the dictionary from the file\n",
    "    context = json.load(f)\n",
    "    \n",
    "client_id_on_inj = context[\"client_id_on_inj\"]\n",
    "client_id_on_osmo = context[\"client_id_on_osmo\"]\n",
    "connection_id_on_inj = context[\"connection_id_on_inj\"]\n",
    "connection_id_on_osmo = context[\"connection_id_on_osmo\"]\n",
    "\n",
    "print(context)"
   ]
  },
  {
   "cell_type": "markdown",
   "id": "092b54d5-8a9f-4717-b5c6-85a64b45dd97",
   "metadata": {},
   "source": [
    "## Setting up the smart contracts is the normal standard process, but ibc-enabled contracts will also automatically generate its IBC port."
   ]
  },
  {
   "cell_type": "code",
   "execution_count": 5,
   "id": "47666448-4ef6-4b55-b6cc-656dd566f9c2",
   "metadata": {},
   "outputs": [
    {
     "name": "stdout",
     "output_type": "stream",
     "text": [
      "\n",
      "ica_controller_code_id on inj: 536\n",
      "ica_host_code_id on osmo: 4692\n",
      "cw1_code_id on osmo: 4693\n",
      "\n",
      "controller_address: inj10mp9hu2mjh7md53t2adp9s70cn8dfjsnnd4w55\n",
      "host_address: osmo1dya5jdc5dqnqvf8y8j03x22ptrw2w7tkrz7p53gkgyt28sjth5asu9up3s\n",
      "\n",
      "controller_port: wasm.inj10mp9hu2mjh7md53t2adp9s70cn8dfjsnnd4w55\n",
      "host_port: wasm.osmo1dya5jdc5dqnqvf8y8j03x22ptrw2w7tkrz7p53gkgyt28sjth5asu9up3s\n",
      "\n"
     ]
    }
   ],
   "source": [
    "#load wasms & instantiate contracts\n",
    "\n",
    "##from scratch code upload\n",
    "#ica_controller_code_id = deploy_local_wasm(\"/repos/cw-ibc-demo/artifacts/simple_ica_controller.wasm\", inj_wallet, inj)\n",
    "#osmo_ica_host_code_id = deploy_local_wasm(\"/repos/cw-ibc-demo/artifacts/simple_ica_host.wasm\", osmo_wallet, osmo)\n",
    "#osmo_cw1_code_id = deploy_local_wasm(\"/repos/cw-plus/artifacts/cw1_whitelist.wasm\", osmo_wallet, osmo)\n",
    "\n",
    "#using already uploaded code ids\n",
    "ica_controller_code_id = '536'\n",
    "osmo_ica_host_code_id = '4692'\n",
    "osmo_cw1_code_id = '4693'\n",
    "\n",
    "#controller\n",
    "init_msg = {\n",
    "}\n",
    "controller_result = init_contract(ica_controller_code_id, init_msg, inj_wallet, inj, \"ica_controller\")\n",
    "controller_address = controller_result.logs[0].events_by_type[\"wasm\"][\"_contract_address\"][0]\n",
    "\n",
    "#host\n",
    "init_msg = {\n",
    "  \"cw1_code_id\": int(osmo_cw1_code_id),\n",
    "}\n",
    "host_result = init_contract(osmo_ica_host_code_id, init_msg, osmo_wallet, osmo, \"ica_host\")\n",
    "host_address = host_result.logs[0].events_by_type[\"instantiate\"][\"_contract_address\"][0]\n",
    "\n",
    "#contracts automatically generate an ibc port\n",
    "controller_port = inj.wasm.contract_info(controller_address)[\"ibc_port_id\"]\n",
    "host_port = osmo.wasm.contract_info(host_address)[\"ibc_port_id\"]\n",
    "\n",
    "print(f\"\"\"\n",
    "ica_controller_code_id on inj: {ica_controller_code_id}\n",
    "ica_host_code_id on osmo: {osmo_ica_host_code_id}\n",
    "cw1_code_id on osmo: {osmo_cw1_code_id}\n",
    "\n",
    "controller_address: {controller_address}\n",
    "host_address: {host_address}\n",
    "\n",
    "controller_port: {controller_port}\n",
    "host_port: {host_port}\n",
    "\"\"\")\n"
   ]
  },
  {
   "cell_type": "markdown",
   "id": "a12b4b99-7f66-4e60-8ec6-df8d616bdc20",
   "metadata": {},
   "source": [
    "## IBC channel setup is a 4-step handshake between the two ports (the controller and host smart contracts in this case) - 1) init, 2) try, 3) ack, 4) confirm.\n",
    "\n",
    "## Connecting two IBC ports through an IBC channel is conceptually and procedurally analogous to connecting two IBC clients through an IBC connection."
   ]
  },
  {
   "cell_type": "markdown",
   "id": "28293e00-3141-4eb6-a6ac-4aac38d526f9",
   "metadata": {},
   "source": [
    "###########################################################################################################################"
   ]
  },
  {
   "cell_type": "markdown",
   "id": "342fc3aa-7904-41fd-9a40-269520d0246b",
   "metadata": {},
   "source": [
    "## IBC channel step 1 - MsgChannelOpenInit\n",
    "\n",
    "## Note that the port (the controller contract) has a hook that executes custom logic https://github.com/confio/cw-ibc-demo/blob/ce3112721e3b1d7650d848823e3055b2c2328d13/contracts/simple-ica-controller/src/ibc.rs#L24 "
   ]
  },
  {
   "cell_type": "code",
   "execution_count": 6,
   "id": "29ed0990-2b9e-4947-ae7a-b37a495d6fe2",
   "metadata": {},
   "outputs": [
    {
     "name": "stdout",
     "output_type": "stream",
     "text": [
      "                       key                                              value\n",
      "0                  port_id    wasm.inj10mp9hu2mjh7md53t2adp9s70cn8dfjsnnd4w55\n",
      "1               channel_id                                         channel-42\n",
      "2     counterparty_port_id  wasm.osmo1dya5jdc5dqnqvf8y8j03x22ptrw2w7tkrz7p...\n",
      "3  counterparty_channel_id                                                   \n",
      "4            connection_id                                      connection-69\n",
      "5                  version                                      simple-ica-v2\n"
     ]
    }
   ],
   "source": [
    "#fabricate message & dispatch via stargate\n",
    "\n",
    "msg = MsgChannelOpenInit(\n",
    "  port_id=controller_port,\n",
    "  channel=Channel(\n",
    "    state=State.STATE_INIT,\n",
    "    ordering=Order.ORDER_UNORDERED,\n",
    "    counterparty=Counterparty(\n",
    "      port_id=host_port,\n",
    "    ),\n",
    "    connection_hops=[\n",
    "      connection_id_on_inj\n",
    "    ],\n",
    "    version=\"simple-ica-v2\",\n",
    "  ),\n",
    "  signer=inj_wallet.key.acc_address\n",
    ")\n",
    "\n",
    "channel_open_init_on_inj = stargate_msg(\"/ibc.core.channel.v1.MsgChannelOpenInit\", msg, inj_wallet, inj)\n",
    "channel_open_init_on_inj_df = pd.DataFrame(channel_open_init_on_inj[\"tx_response\"][\"logs\"][0][\"events\"][0][\"attributes\"])\n",
    "channel_id_on_inj = channel_open_init_on_inj_df[channel_open_init_on_inj_df[\"key\"]==\"channel_id\"][\"value\"].values[0]\n",
    "\n",
    "print(channel_open_init_on_inj_df)"
   ]
  },
  {
   "cell_type": "markdown",
   "id": "993153ed-190a-4acb-b660-a4549556c352",
   "metadata": {},
   "source": [
    "## IBC channel step 2 - MsgChannelOpenTry\n",
    "\n",
    "## Note that the port (the host contract) also has a hook that executes custom logic https://github.com/confio/cw-ibc-demo/blob/ce3112721e3b1d7650d848823e3055b2c2328d13/contracts/simple-ica-host/src/contract.rs#L71"
   ]
  },
  {
   "cell_type": "code",
   "execution_count": 7,
   "id": "1a6394d7-e71a-4462-b0e6-bd4bfaac1bfc",
   "metadata": {
    "tags": []
   },
   "outputs": [
    {
     "name": "stdout",
     "output_type": "stream",
     "text": [
      "{'remote_lcd': <terra_sdk.client.lcd.lcdclient.LCDClient object at 0x7f87e83c6850>, 'remote_rpc_url': 'https://k8s.testnet.tm.injective.network:443/', 'remote_rpc_header': {}, 'client_lcd': <terra_sdk.client.lcd.lcdclient.LCDClient object at 0x7f87e839ddf0>, 'client_wallet': <terra_sdk.client.lcd.wallet.Wallet object at 0x7f87b9dc3e50>, 'client_id': '07-tendermint-4298'}\n",
      "\n",
      "\n",
      "\n",
      "timestamp: seconds: 1678826951\n",
      "nanos: 842542200\n",
      " \n",
      "\n",
      "\n",
      "source current tendermint:\n",
      "{'block_id': {'hash': '9wBRNENsVo8KeiX0tJpzkOAtAfOqz7uJje35xHJl3Xs=', 'part_set_header': {'total': 1, 'hash': '+r4qNMcFQoQ9I3IrLMOcDeHmu4d/L4zHL7SQxIePJPc='}}, 'block': {'header': {'version': {'block': '11', 'app': '0'}, 'chain_id': 'injective-888', 'height': '9200199', 'time': '2023-03-14T20:49:11.842542200Z', 'last_block_id': {'hash': 'tED/az4Napzrwc0+3sjL03pyTe/YE9VM6DlmtO1UNFM=', 'part_set_header': {'total': 1, 'hash': 'MMLAaIAzEYOsxiTOY5uj7h4soi2erDSKZkwkUvtdtgQ='}}, 'last_commit_hash': 'uGHhTi+07NR4br23vGigZNr1ROxvJMWH5yi8veqZSuA=', 'data_hash': '2R/cdNA68gAVyHc40Yzl0ycF6rdVAL/7GRBtOvNgn/s=', 'validators_hash': 'FI/e4hLK65ZxQjpH7coHwFCKHMb3WPVzA5PGSyB7KMg=', 'next_validators_hash': 'FI/e4hLK65ZxQjpH7coHwFCKHMb3WPVzA5PGSyB7KMg=', 'consensus_hash': 'vml94SL+cPwUT5B4L5ZAe/3n0gSLsv2tqMpUVEVA8gg=', 'app_hash': 'LsXSAE3pb99CEhFaibf9mn1v+wVV9Q95w8cTX/keq/U=', 'last_results_hash': 'rMQRbfa64uk4KWxgw3x3x1Rs3N8nb8Cb4XgQOqsMrf0=', 'evidence_hash': '47DEQpj8HBSa+/TImW+5JCeuQeRkm5NMpJWZG3hSuFU=', 'proposer_address': 'ObUXYdS8jfTSNPonUBFPJkft7eA='}, 'data': {'txs': ['Co4BCosBCiQvaW5qZWN0aXZlLnBlZ2d5LnYxLk1zZ1dpdGhkcmF3Q2xhaW0SYwi1ARDippAEGIkBIioweEFEMTc5NDMwNzI0NTQ0M0IzQ2I1NWQ4OGU3OUVFRTRkOGE1NDhDMDMqKmluajFjOHJwdTc5bXI3MGhxc2d6dXRkZDZyaHZ6aGVqOXZudG02ZnFrdRJ+Cl8KVAotL2luamVjdGl2ZS5jcnlwdG8udjFiZXRhMS5ldGhzZWNwMjU2azEuUHViS2V5EiMKIQMPcP9a9oQ22dIk4M6BMipweMB5es/tsSuRN0xfkdsV6BIECgIIARjfAhIbChUKA2luahIONjU1MTAwMDAwMDAwMDAQzP8HGkFXEwixQOS3DnHgCDS8G1sbnqoTJca0tK7OR3N/+EbW0TBelT8fFIh9gWFWEQvlpI9O7qbQdpraSTKc5JYp5lriAQ==']}, 'evidence': {'evidence': []}, 'last_commit': {'height': '9200198', 'round': 0, 'block_id': {'hash': 'tED/az4Napzrwc0+3sjL03pyTe/YE9VM6DlmtO1UNFM=', 'part_set_header': {'total': 1, 'hash': 'MMLAaIAzEYOsxiTOY5uj7h4soi2erDSKZkwkUvtdtgQ='}}, 'signatures': [{'block_id_flag': 'BLOCK_ID_FLAG_COMMIT', 'validator_address': 'pp0xJG+3PqSvgHC1GJU9SwvYymM=', 'timestamp': '2023-03-14T20:49:11.833000193Z', 'signature': 'K/OoIMvVbVe98NnooWikSrymTsYOMkZVRpRXH8PUyrhyo6Gua676nv+AYsleW4QrnA4DoElbqSlytYlbAmXTAQ=='}, {'block_id_flag': 'BLOCK_ID_FLAG_COMMIT', 'validator_address': 'Nv8cuLE25L4mgnBx8shCmG68xfc=', 'timestamp': '2023-03-14T20:49:11.933855451Z', 'signature': '5NP12kvKzJKd9U3m0/mzYVsWrcpQ3xxyQDRv7W7XuCdZftJtBsyVBJZHaeZhZdAOj7qPhuRzV1oGNA2FgiRXCQ=='}, {'block_id_flag': 'BLOCK_ID_FLAG_COMMIT', 'validator_address': 'M5HjW2EATgO+uI+h2rRES5E7174=', 'timestamp': '2023-03-14T20:49:11.842542200Z', 'signature': 'c0/44Fz1Y00mKf/pV6PTjii8Hy8hUwTYhAu/FSoqRmU5jrS0WhJihExwpBF05VTv/f/Xu3JxyQu3D6sKpVvjDQ=='}, {'block_id_flag': 'BLOCK_ID_FLAG_COMMIT', 'validator_address': 'ObUXYdS8jfTSNPonUBFPJkft7eA=', 'timestamp': '2023-03-14T20:49:11.842262618Z', 'signature': 'YvezvbebG1QF6+0AbXo2Zfaw+kRzWBmNGTgPIaWAYsuOPNQ0/Q3Edu0ZBdVmThWm6gmTaancAx8/nMVxJxpPDA=='}, {'block_id_flag': 'BLOCK_ID_FLAG_COMMIT', 'validator_address': 'wIZn4dvVrjfbpoqyxvKVK56xeK8=', 'timestamp': '2023-03-14T20:49:11.996974911Z', 'signature': 'LyjdI22YQlSnjgevBkwLvAtelYvrHriz8KPucesbaqg0UmT/kBS2EssTA6+0TmMy2ZiPUGom1U1ypLzdPLc9Cg=='}]}}}\n",
      "\n",
      "\n",
      "\n",
      "\n",
      "\n",
      "commit_info:\n",
      "\n",
      "{'jsonrpc': '2.0', 'id': -1, 'result': {'signed_header': {'header': {'version': {'block': '11'}, 'chain_id': 'injective-888', 'height': '9200199', 'time': '2023-03-14T20:49:11.8425422Z', 'last_block_id': {'hash': 'B440FF6B3E0D6A9CEBC1CD3EDEC8CBD37A724DEFD813D54CE83966B4ED543453', 'parts': {'total': 1, 'hash': '30C2C06880331183ACC624CE639BA3EE1E2CA22D9EAC348A664C2452FB5DB604'}}, 'last_commit_hash': 'B861E14E2FB4ECD4786EBDB7BC68A064DAF544EC6F24C587E728BCBDEA994AE0', 'data_hash': 'D91FDC74D03AF20015C87738D18CE5D32705EAB75500BFFB19106D3AF3609FFB', 'validators_hash': '148FDEE212CAEB9671423A47EDCA07C0508A1CC6F758F5730393C64B207B28C8', 'next_validators_hash': '148FDEE212CAEB9671423A47EDCA07C0508A1CC6F758F5730393C64B207B28C8', 'consensus_hash': 'BE697DE122FE70FC144F90782F96407BFDE7D2048BB2FDADA8CA54544540F208', 'app_hash': '2EC5D2004DE96FDF4212115A89B7FD9A7D6FFB0555F50F79C3C7135FF91EABF5', 'last_results_hash': 'ACC4116DF6BAE2E938296C60C37C77C7546CDCDF276FC09BE178103AAB0CADFD', 'evidence_hash': 'E3B0C44298FC1C149AFBF4C8996FB92427AE41E4649B934CA495991B7852B855', 'proposer_address': '39B51761D4BC8DF4D234FA2750114F2647EDEDE0'}, 'commit': {'height': '9200199', 'round': 0, 'block_id': {'hash': 'F7005134436C568F0A7A25F4B49A7390E02D01F3AACFBB898DEDF9C47265DD7B', 'parts': {'total': 1, 'hash': 'FABE2A34C70542843D23722B2CC39C0DE1E6BB877F2F8CC72FB490C4878F24F7'}}, 'signatures': [{'block_id_flag': 2, 'validator_address': 'A69D31246FB73EA4AF8070B518953D4B0BD8CA63', 'timestamp': '2023-03-14T20:49:14.355204996Z', 'signature': 'pcDpcokJevyVYBoao1m/R2fAypT65VWgpz4vwQY5yMVmGCA7R1pMnJqmQwKqk9EhTQc1C4iby5eUm2f951QPCg=='}, {'block_id_flag': 2, 'validator_address': '36FF1CB8B136E4BE26827071F2C842986EBCC5F7', 'timestamp': '2023-03-14T20:49:14.262753049Z', 'signature': 'n4dJFD3rcN99kjF/5szOlefvi9eL9S9ERsK3IbCR4UR7DN22S+dw3JYnDbhR9U0S8s9ReA7+f0S1tBaC7Fh3Cw=='}, {'block_id_flag': 2, 'validator_address': '3391E35B61004E03BEB88FA1DAB4444B913BD7BE', 'timestamp': '2023-03-14T20:49:14.263838507Z', 'signature': 'f45HNtLJP352SJTqRbmKoBnM1V6RGap0ZTWOUM2MGCRQPOsK6o5abvpfQNvn+Vg5p5aUWkzu3eObmd3GHS/2AQ=='}, {'block_id_flag': 1, 'validator_address': '', 'timestamp': '0001-01-01T00:00:00Z', 'signature': None}, {'block_id_flag': 1, 'validator_address': '', 'timestamp': '0001-01-01T00:00:00Z', 'signature': None}]}}, 'canonical': False}}\n",
      "\n",
      "\n",
      "\n",
      "9200199\n"
     ]
    }
   ],
   "source": [
    "#update the client_id on osmosis (ie, refresh osmosis's knowledge of inj's tendermint state)\n",
    "\n",
    "time.sleep(10) #wait a few blocks\n",
    "msg = fabricate_update_client(inj, inj_rpc_url, inj_rpc_header, osmo, osmo_wallet, client_id_on_osmo)\n",
    "update_client_before_channel_try_result = stargate_msg(\"/ibc.core.client.v1.MsgUpdateClient\", msg, osmo_wallet, osmo)\n",
    "header_height = Header.FromString(msg.header.value).signed_header.header.height\n",
    "\n",
    "inj_client_trusted_height = header_height\n",
    "inj_client_trusted_revision_number = osmo.broadcaster.query(f\"/ibc/core/client/v1/client_states/{client_id_on_osmo}\")[\"client_state\"][\"latest_height\"][\"revision_number\"]\n",
    "\n",
    "print(header_height)"
   ]
  },
  {
   "cell_type": "code",
   "execution_count": 8,
   "id": "7d04d8cf-755f-4940-ac33-bd91b03d307f",
   "metadata": {},
   "outputs": [],
   "source": [
    "#fetch channel proof\n",
    "\n",
    "params = {\n",
    "    \"path\": '\"/store/ibc/key\"',\n",
    "    \"data\": \"0x\" + bytes(f\"channelEnds/ports/{controller_port}/channels/{channel_id_on_inj}\", \"ascii\").hex(),\n",
    "    \"prove\": \"true\",\n",
    "    \"height\": int(inj_client_trusted_height) - 1,\n",
    "}\n",
    "resp = requests.get(f\"{inj_rpc_url}/abci_query\", headers=inj_rpc_header, params=params).json()\n",
    "proofs = [CommitmentProof.FromString(b64_to_bytes(x[\"data\"])) for x in resp[\"result\"][\"response\"][\"proofOps\"][\"ops\"]]\n",
    "channel_proof = MerkleProof(proofs=proofs)\n"
   ]
  },
  {
   "cell_type": "code",
   "execution_count": 9,
   "id": "2f48ea31-99dd-4000-a380-14530ca19b54",
   "metadata": {},
   "outputs": [
    {
     "name": "stdout",
     "output_type": "stream",
     "text": [
      "{'tx_response': {'height': '9559746', 'txhash': 'BDD6103AA8CC1A65473E840955E1AF292AB1A91AB867DF67D1DCED4BA6206EE4', 'codespace': '', 'code': 0, 'data': '0A390A262F6962632E636F72652E6368616E6E656C2E76312E4D73674368616E6E656C4F70656E547279120F0A0D73696D706C652D6963612D7632', 'raw_log': '[{\"events\":[{\"type\":\"channel_open_try\",\"attributes\":[{\"key\":\"port_id\",\"value\":\"wasm.osmo1dya5jdc5dqnqvf8y8j03x22ptrw2w7tkrz7p53gkgyt28sjth5asu9up3s\"},{\"key\":\"channel_id\",\"value\":\"channel-3037\"},{\"key\":\"counterparty_port_id\",\"value\":\"wasm.inj10mp9hu2mjh7md53t2adp9s70cn8dfjsnnd4w55\"},{\"key\":\"counterparty_channel_id\",\"value\":\"channel-42\"},{\"key\":\"connection_id\",\"value\":\"connection-3714\"},{\"key\":\"version\",\"value\":\"simple-ica-v2\"}]},{\"type\":\"message\",\"attributes\":[{\"key\":\"action\",\"value\":\"/ibc.core.channel.v1.MsgChannelOpenTry\"},{\"key\":\"module\",\"value\":\"ibc_channel\"}]}]}]', 'logs': [{'msg_index': 0, 'log': '', 'events': [{'type': 'channel_open_try', 'attributes': [{'key': 'port_id', 'value': 'wasm.osmo1dya5jdc5dqnqvf8y8j03x22ptrw2w7tkrz7p53gkgyt28sjth5asu9up3s'}, {'key': 'channel_id', 'value': 'channel-3037'}, {'key': 'counterparty_port_id', 'value': 'wasm.inj10mp9hu2mjh7md53t2adp9s70cn8dfjsnnd4w55'}, {'key': 'counterparty_channel_id', 'value': 'channel-42'}, {'key': 'connection_id', 'value': 'connection-3714'}, {'key': 'version', 'value': 'simple-ica-v2'}]}, {'type': 'message', 'attributes': [{'key': 'action', 'value': '/ibc.core.channel.v1.MsgChannelOpenTry'}, {'key': 'module', 'value': 'ibc_channel'}]}]}], 'info': '', 'gas_wanted': '10000000', 'gas_used': '173053', 'tx': None, 'timestamp': '', 'events': [{'type': 'coin_spent', 'attributes': [{'key': 'c3BlbmRlcg==', 'value': 'b3NtbzE2a2tudzc5dmQ4cndzOTA1cGhycTZ0NWV4OHZ6eGRodmMwZ3NtcA==', 'index': True}, {'key': 'YW1vdW50', 'value': 'MjAwMDAwMHVvc21v', 'index': True}]}, {'type': 'coin_received', 'attributes': [{'key': 'cmVjZWl2ZXI=', 'value': 'b3NtbzE3eHBmdmFrbTJhbWc5NjJ5bHM2Zjg0ejNrZWxsOGM1bGN6c3NhMA==', 'index': True}, {'key': 'YW1vdW50', 'value': 'MjAwMDAwMHVvc21v', 'index': True}]}, {'type': 'transfer', 'attributes': [{'key': 'cmVjaXBpZW50', 'value': 'b3NtbzE3eHBmdmFrbTJhbWc5NjJ5bHM2Zjg0ejNrZWxsOGM1bGN6c3NhMA==', 'index': True}, {'key': 'c2VuZGVy', 'value': 'b3NtbzE2a2tudzc5dmQ4cndzOTA1cGhycTZ0NWV4OHZ6eGRodmMwZ3NtcA==', 'index': True}, {'key': 'YW1vdW50', 'value': 'MjAwMDAwMHVvc21v', 'index': True}]}, {'type': 'message', 'attributes': [{'key': 'c2VuZGVy', 'value': 'b3NtbzE2a2tudzc5dmQ4cndzOTA1cGhycTZ0NWV4OHZ6eGRodmMwZ3NtcA==', 'index': True}]}, {'type': 'tx', 'attributes': [{'key': 'ZmVl', 'value': 'MjAwMDAwMHVvc21v', 'index': True}]}, {'type': 'tx', 'attributes': [{'key': 'YWNjX3NlcQ==', 'value': 'b3NtbzE2a2tudzc5dmQ4cndzOTA1cGhycTZ0NWV4OHZ6eGRodmMwZ3NtcC8zMzM=', 'index': True}]}, {'type': 'tx', 'attributes': [{'key': 'c2lnbmF0dXJl', 'value': 'eHM0eU9JeWVhYWlJK3VPK1NEcEF0UVUwdDdJeEtkazRPM3cvV1p4V2lLRXhQZ0ttTzhGWFhMSHYzaVZzZWxNQVVZWnE1Sk9pWWxKeC94Zll6N0RpWmc9PQ==', 'index': True}]}, {'type': 'message', 'attributes': [{'key': 'YWN0aW9u', 'value': 'L2liYy5jb3JlLmNoYW5uZWwudjEuTXNnQ2hhbm5lbE9wZW5Ucnk=', 'index': True}]}, {'type': 'channel_open_try', 'attributes': [{'key': 'cG9ydF9pZA==', 'value': 'd2FzbS5vc21vMWR5YTVqZGM1ZHFucXZmOHk4ajAzeDIycHRydzJ3N3Rrcno3cDUzZ2tneXQyOHNqdGg1YXN1OXVwM3M=', 'index': True}, {'key': 'Y2hhbm5lbF9pZA==', 'value': 'Y2hhbm5lbC0zMDM3', 'index': True}, {'key': 'Y291bnRlcnBhcnR5X3BvcnRfaWQ=', 'value': 'd2FzbS5pbmoxMG1wOWh1Mm1qaDdtZDUzdDJhZHA5czcwY244ZGZqc25uZDR3NTU=', 'index': True}, {'key': 'Y291bnRlcnBhcnR5X2NoYW5uZWxfaWQ=', 'value': 'Y2hhbm5lbC00Mg==', 'index': True}, {'key': 'Y29ubmVjdGlvbl9pZA==', 'value': 'Y29ubmVjdGlvbi0zNzE0', 'index': True}, {'key': 'dmVyc2lvbg==', 'value': 'c2ltcGxlLWljYS12Mg==', 'index': True}]}, {'type': 'message', 'attributes': [{'key': 'bW9kdWxl', 'value': 'aWJjX2NoYW5uZWw=', 'index': True}]}, {'type': 'coin_spent', 'attributes': [{'key': 'c3BlbmRlcg==', 'value': 'b3NtbzE2a2tudzc5dmQ4cndzOTA1cGhycTZ0NWV4OHZ6eGRodmMwZ3NtcA==', 'index': True}, {'key': 'YW1vdW50', 'value': 'MjAwMDAwMHVvc21v', 'index': True}]}, {'type': 'coin_received', 'attributes': [{'key': 'cmVjZWl2ZXI=', 'value': 'b3NtbzE3eHBmdmFrbTJhbWc5NjJ5bHM2Zjg0ejNrZWxsOGM1bGN6c3NhMA==', 'index': True}, {'key': 'YW1vdW50', 'value': 'MjAwMDAwMHVvc21v', 'index': True}]}, {'type': 'transfer', 'attributes': [{'key': 'cmVjaXBpZW50', 'value': 'b3NtbzE3eHBmdmFrbTJhbWc5NjJ5bHM2Zjg0ejNrZWxsOGM1bGN6c3NhMA==', 'index': True}, {'key': 'c2VuZGVy', 'value': 'b3NtbzE2a2tudzc5dmQ4cndzOTA1cGhycTZ0NWV4OHZ6eGRodmMwZ3NtcA==', 'index': True}, {'key': 'YW1vdW50', 'value': 'MjAwMDAwMHVvc21v', 'index': True}]}, {'type': 'message', 'attributes': [{'key': 'c2VuZGVy', 'value': 'b3NtbzE2a2tudzc5dmQ4cndzOTA1cGhycTZ0NWV4OHZ6eGRodmMwZ3NtcA==', 'index': True}]}, {'type': 'tx', 'attributes': [{'key': 'ZmVl', 'value': 'MjAwMDAwMHVvc21v', 'index': True}]}, {'type': 'tx', 'attributes': [{'key': 'YWNjX3NlcQ==', 'value': 'b3NtbzE2a2tudzc5dmQ4cndzOTA1cGhycTZ0NWV4OHZ6eGRodmMwZ3NtcC8zMzM=', 'index': True}]}, {'type': 'tx', 'attributes': [{'key': 'c2lnbmF0dXJl', 'value': 'eHM0eU9JeWVhYWlJK3VPK1NEcEF0UVUwdDdJeEtkazRPM3cvV1p4V2lLRXhQZ0ttTzhGWFhMSHYzaVZzZWxNQVVZWnE1Sk9pWWxKeC94Zll6N0RpWmc9PQ==', 'index': True}]}]}}\n",
      "                       key                                              value\n",
      "0                  port_id  wasm.osmo1dya5jdc5dqnqvf8y8j03x22ptrw2w7tkrz7p...\n",
      "1               channel_id                                       channel-3037\n",
      "2     counterparty_port_id    wasm.inj10mp9hu2mjh7md53t2adp9s70cn8dfjsnnd4w55\n",
      "3  counterparty_channel_id                                         channel-42\n",
      "4            connection_id                                    connection-3714\n",
      "5                  version                                      simple-ica-v2\n"
     ]
    }
   ],
   "source": [
    "#fabricate message & dispatch via stargate\n",
    "\n",
    "msg = MsgChannelOpenTry(\n",
    "  port_id=host_port,\n",
    "  channel=Channel(\n",
    "    state=State.STATE_TRYOPEN,\n",
    "    ordering=Order.ORDER_UNORDERED,\n",
    "    counterparty=Counterparty(\n",
    "      port_id=controller_port,\n",
    "      channel_id=channel_id_on_inj,\n",
    "    ),\n",
    "    connection_hops=[\n",
    "      connection_id_on_osmo\n",
    "    ],\n",
    "    version=\"simple-ica-v2\",\n",
    "  ),\n",
    "  counterparty_version=\"simple-ica-v2\",\n",
    "  proof_init=channel_proof.SerializeToString(),\n",
    "  proof_height=Height(int(inj_client_trusted_revision_number), int(inj_client_trusted_height)),\n",
    "  signer=osmo_wallet.key.acc_address,\n",
    ")\n",
    "\n",
    "channel_open_try_result = stargate_msg(\"/ibc.core.channel.v1.MsgChannelOpenTry\", msg, osmo_wallet, osmo)\n",
    "print(channel_open_try_result)\n",
    "channel_open_try_on_osmo_df = pd.DataFrame(channel_open_try_result[\"tx_response\"][\"logs\"][0][\"events\"][0][\"attributes\"])\n",
    "channel_id_on_osmo = channel_open_try_on_osmo_df[channel_open_try_on_osmo_df[\"key\"]==\"channel_id\"][\"value\"].values[0]\n",
    "\n",
    "print(channel_open_try_on_osmo_df)"
   ]
  },
  {
   "cell_type": "markdown",
   "id": "35ac167b-fbf3-4655-95f3-eff530ad1a6f",
   "metadata": {},
   "source": [
    "## IBC channel step 3 - MsgChannelOpenAck\n",
    "\n",
    "## Note that the port (the controller contract) has a hook that dispatches a separate IBC packet (message) https://github.com/confio/cw-ibc-demo/blob/ce3112721e3b1d7650d848823e3055b2c2328d13/contracts/simple-ica-controller/src/ibc.rs#L41"
   ]
  },
  {
   "cell_type": "code",
   "execution_count": 11,
   "id": "3ad245ea-9c27-429d-b5c8-5df8ff6b5099",
   "metadata": {
    "tags": []
   },
   "outputs": [
    {
     "name": "stdout",
     "output_type": "stream",
     "text": [
      "{'remote_lcd': <terra_sdk.client.lcd.lcdclient.LCDClient object at 0x7f87e839ddf0>, 'remote_rpc_url': 'https://rpc-test.osmosis.zone', 'remote_rpc_header': {}, 'client_lcd': <terra_sdk.client.lcd.lcdclient.LCDClient object at 0x7f87e83c6850>, 'client_wallet': <terra_sdk.client.lcd.wallet.Wallet object at 0x7f87e839dee0>, 'client_id': '07-tendermint-87'}\n",
      "\n",
      "\n",
      "\n",
      "timestamp: seconds: 1678827024\n",
      "nanos: 851533941\n",
      " \n",
      "\n",
      "\n",
      "source current tendermint:\n",
      "{'block_id': {'hash': 'Ajako6avHE19Iz24Y8spqegqwmOgsn3/foUclNrnb7c=', 'part_set_header': {'total': 1, 'hash': 'd/v24m/VzAkB6IXOK6QXQ0OxM1tBslNWYq+7Z/tYuO0='}}, 'block': {'header': {'version': {'block': '11', 'app': '16'}, 'chain_id': 'osmo-test-4', 'height': '9559755', 'time': '2023-03-14T20:50:24.851533941Z', 'last_block_id': {'hash': 'H0hKwrEcfAA0h76jl0XUiIqLXnuyysArjEuI7MyjeQc=', 'part_set_header': {'total': 1, 'hash': 'wnGOfuHNXJcvvA2959uXzAEl9YCn+ds5QD5okZHl4is='}}, 'last_commit_hash': 'XYT82c3Khzu98PCwj4LZVm55go6hr0GsHPobAcC+IsI=', 'data_hash': '47DEQpj8HBSa+/TImW+5JCeuQeRkm5NMpJWZG3hSuFU=', 'validators_hash': 'OKO5EbUTO5Td7kbtkXO7P2s/nycejIJi2GP2D/Cz8ro=', 'next_validators_hash': 'OKO5EbUTO5Td7kbtkXO7P2s/nycejIJi2GP2D/Cz8ro=', 'consensus_hash': 'qWfVX6y7oZq5YUkEjyR2xGV+wD0lt4qBr1uPCgj2Hf8=', 'app_hash': 'jiGh5r5h+AK3IX5CHvzn4GisCqgHorIksuK5hV2rCwU=', 'last_results_hash': '47DEQpj8HBSa+/TImW+5JCeuQeRkm5NMpJWZG3hSuFU=', 'evidence_hash': '47DEQpj8HBSa+/TImW+5JCeuQeRkm5NMpJWZG3hSuFU=', 'proposer_address': 'VpZxag4yMaDqkoAJJjK6v4Fve28='}, 'data': {'txs': []}, 'evidence': {'evidence': []}, 'last_commit': {'height': '9559754', 'round': 0, 'block_id': {'hash': 'H0hKwrEcfAA0h76jl0XUiIqLXnuyysArjEuI7MyjeQc=', 'part_set_header': {'total': 1, 'hash': 'wnGOfuHNXJcvvA2959uXzAEl9YCn+ds5QD5okZHl4is='}}, 'signatures': [{'block_id_flag': 'BLOCK_ID_FLAG_COMMIT', 'validator_address': 'VpZxag4yMaDqkoAJJjK6v4Fve28=', 'timestamp': '2023-03-14T20:50:24.851533941Z', 'signature': 'blJJGXwYYOK210ZPi3YKi3UzICnbVO3I3ZNslaLd6Old/0PToHs8vcx3zRVat7+nB05hNffBjSSKuq1lptuVAw=='}, {'block_id_flag': 'BLOCK_ID_FLAG_NIL', 'validator_address': 'RZtlaXV1HIbS0+n1l6l5NE8djP0=', 'timestamp': '2023-03-14T20:50:25.459509098Z', 'signature': 'CTcxhnCS0uly30iG1HwCnu30NfQIaoxmxN2k+3B1ArBJ39fY9LasfPiP6dNbWr6IzRlaqNdYdWjK5j/RYKZ+Bw=='}, {'block_id_flag': 'BLOCK_ID_FLAG_NIL', 'validator_address': '0S+fYerUINQxMAAVX2ADSheBdEI=', 'timestamp': '2023-03-14T20:50:24.971829238Z', 'signature': '5fVyjqiV4GUSldglayTL1A23zvbUVSSreUHPsl9AXeD/RqzNmvJ57qqOLfHsDlsO9Rz7JrTkFx7Zs3gM58HEDg=='}, {'block_id_flag': 'BLOCK_ID_FLAG_NIL', 'validator_address': 'pIRf84SzPKxmbSw2eERqJv2O7uM=', 'timestamp': '2023-03-14T20:50:25.036762922Z', 'signature': 'mP7ITGnXuafMQzQ0yWOeobdkkh39StzVin4r8JyBFSfCK582v/qHsw6hhcZCu9Qysr5CNydbULL0dwz1eX18Cw=='}, {'block_id_flag': 'BLOCK_ID_FLAG_ABSENT', 'validator_address': None, 'timestamp': '0001-01-01T00:00:00Z', 'signature': None}, {'block_id_flag': 'BLOCK_ID_FLAG_NIL', 'validator_address': 'yJaRcfm1ozVMcSog8AfN4GSMmQ8=', 'timestamp': '2023-03-14T20:50:25.033671038Z', 'signature': 'bgIqdGYKYbekkpdaej1rLc1EFr5i2TpHdEK+b4tZE0xSPdsmNQdE59PgQtEmChaCqLgsG7KfdceHyDoPtHmHAQ=='}, {'block_id_flag': 'BLOCK_ID_FLAG_ABSENT', 'validator_address': None, 'timestamp': '0001-01-01T00:00:00Z', 'signature': None}]}}}\n",
      "\n",
      "\n",
      "\n",
      "\n",
      "\n",
      "commit_info:\n",
      "\n",
      "{'jsonrpc': '2.0', 'id': -1, 'result': {'signed_header': {'header': {'version': {'block': '11', 'app': '16'}, 'chain_id': 'osmo-test-4', 'height': '9559755', 'time': '2023-03-14T20:50:24.851533941Z', 'last_block_id': {'hash': '1F484AC2B11C7C003487BEA39745D4888A8B5E7BB2CAC02B8C4B88ECCCA37907', 'parts': {'total': 1, 'hash': 'C2718E7EE1CD5C972FBC0DBDE7DB97CC0125F580A7F9DB39403E689191E5E22B'}}, 'last_commit_hash': '5D84FCD9CDCA873BBDF0F0B08F82D9566E79828EA1AF41AC1CFA1B01C0BE22C2', 'data_hash': 'E3B0C44298FC1C149AFBF4C8996FB92427AE41E4649B934CA495991B7852B855', 'validators_hash': '38A3B911B5133B94DDEE46ED9173BB3F6B3F9F271E8C8262D863F60FF0B3F2BA', 'next_validators_hash': '38A3B911B5133B94DDEE46ED9173BB3F6B3F9F271E8C8262D863F60FF0B3F2BA', 'consensus_hash': 'A967D55FACBBA19AB96149048F2476C4657EC03D25B78A81AF5B8F0A08F61DFF', 'app_hash': '8E21A1E6BE61F802B7217E421EFCE7E068AC0AA807A2B224B2E2B9855DAB0B05', 'last_results_hash': 'E3B0C44298FC1C149AFBF4C8996FB92427AE41E4649B934CA495991B7852B855', 'evidence_hash': 'E3B0C44298FC1C149AFBF4C8996FB92427AE41E4649B934CA495991B7852B855', 'proposer_address': '5696716A0E3231A0EA9280092632BABF816F7B6F'}, 'commit': {'height': '9559755', 'round': 0, 'block_id': {'hash': '0236A4A3A6AF1C4D7D233DB863CB29A9E82AC263A0B27DFF7E851C94DAE76FB7', 'parts': {'total': 1, 'hash': '77FBF6E26FD5CC0901E885CE2BA4174343B1335B41B2535662AFBB67FB58B8ED'}}, 'signatures': [{'block_id_flag': 2, 'validator_address': '5696716A0E3231A0EA9280092632BABF816F7B6F', 'timestamp': '2023-03-14T20:50:29.863665936Z', 'signature': '6YXFkerEbUUVV3LZJWjU9gUbXX8WTOjtxhFoMJTGijvgZczOpnCAfKcdwJxEHiki4rbqjgxlme5sMPumAQXfBQ=='}, {'block_id_flag': 1, 'validator_address': '', 'timestamp': '0001-01-01T00:00:00Z', 'signature': None}, {'block_id_flag': 1, 'validator_address': '', 'timestamp': '0001-01-01T00:00:00Z', 'signature': None}, {'block_id_flag': 1, 'validator_address': '', 'timestamp': '0001-01-01T00:00:00Z', 'signature': None}, {'block_id_flag': 1, 'validator_address': '', 'timestamp': '0001-01-01T00:00:00Z', 'signature': None}, {'block_id_flag': 1, 'validator_address': '', 'timestamp': '0001-01-01T00:00:00Z', 'signature': None}, {'block_id_flag': 1, 'validator_address': '', 'timestamp': '0001-01-01T00:00:00Z', 'signature': None}]}}, 'canonical': False}}\n",
      "\n",
      "\n",
      "\n"
     ]
    }
   ],
   "source": [
    "#update client on inj (ie, refresh inj's knowledge of osmosis's tendermint state) & fetch channel proof\n",
    "\n",
    "time.sleep(10) #wait a few blocks\n",
    "update_client_msg = fabricate_update_client(osmo, osmo_rpc_url, inj_rpc_header, inj, inj_wallet, client_id_on_inj)\n",
    "update_client_before_channel_try_result = stargate_msg(\"/ibc.core.client.v1.MsgUpdateClient\", update_client_msg, inj_wallet, inj)\n",
    "header_height = Header.FromString(update_client_msg.header.value).signed_header.header.height\n",
    "\n",
    "osmo_client_trusted_height = header_height\n",
    "osmo_client_trusted_revision_number = inj.broadcaster.query(f\"/ibc/core/client/v1/client_states/{client_id_on_inj}\")[\"client_state\"][\"latest_height\"][\"revision_number\"]\n",
    "\n",
    "channel_proof = fetch_channel_proof(osmo_rpc_url, inj_rpc_header, host_port, channel_id_on_osmo, osmo_client_trusted_height, osmo_client_trusted_revision_number)"
   ]
  },
  {
   "cell_type": "code",
   "execution_count": 13,
   "id": "ebb4ddfd-c6cb-47d9-8a95-6cc71b62d417",
   "metadata": {},
   "outputs": [
    {
     "name": "stdout",
     "output_type": "stream",
     "text": [
      "                       key                                              value\n",
      "0                  port_id    wasm.inj10mp9hu2mjh7md53t2adp9s70cn8dfjsnnd4w55\n",
      "1               channel_id                                         channel-42\n",
      "2     counterparty_port_id  wasm.osmo1dya5jdc5dqnqvf8y8j03x22ptrw2w7tkrz7p...\n",
      "3  counterparty_channel_id                                       channel-3037\n",
      "4            connection_id                                      connection-69\n"
     ]
    }
   ],
   "source": [
    "#fabricate message & dispatch via stargate\n",
    "\n",
    "msg = MsgChannelOpenAck(\n",
    "  port_id=controller_port,\n",
    "  channel_id=channel_id_on_inj,\n",
    "  counterparty_channel_id=channel_id_on_osmo,\n",
    "  counterparty_version=\"simple-ica-v2\",\n",
    "  proof_try=channel_proof.SerializeToString(),\n",
    "  proof_height=Height(int(osmo_client_trusted_revision_number), int(osmo_client_trusted_height)),\n",
    "  signer=inj_wallet.key.acc_address,\n",
    ")\n",
    "\n",
    "time.sleep(2)\n",
    "channel_open_ack_result = stargate_msg(\"/ibc.core.channel.v1.MsgChannelOpenAck\", msg, inj_wallet, inj)\n",
    "channel_open_ack_on_inj_df = pd.DataFrame(channel_open_ack_result[\"tx_response\"][\"logs\"][0][\"events\"][0][\"attributes\"])\n",
    "\n",
    "print(channel_open_ack_on_inj_df)"
   ]
  },
  {
   "cell_type": "code",
   "execution_count": 14,
   "id": "5b1f079c-4937-413b-8c1c-cbada26bf7f5",
   "metadata": {},
   "outputs": [
    {
     "name": "stdout",
     "output_type": "stream",
     "text": [
      "Packet(sequence=1, source_port='wasm.inj10mp9hu2mjh7md53t2adp9s70cn8dfjsnnd4w55', source_channel='channel-42', destination_port='wasm.osmo1dya5jdc5dqnqvf8y8j03x22ptrw2w7tkrz7p53gkgyt28sjth5asu9up3s', destination_channel='channel-3037', data=b'{\"who_am_i\":{}}', timeout_height=Height(revision_number=0, revision_height=0), timeout_timestamp=1678830654441806271)\n"
     ]
    }
   ],
   "source": [
    "#parse the ibc who_am_i packet for relay after channel setup is complete\n",
    "#the logic here is very specific to the ICA controller contract\n",
    "\n",
    "packet_df = pd.DataFrame([x for x in channel_open_ack_result[\"tx_response\"][\"logs\"][0][\"events\"] if x[\"type\"]==\"send_packet\"][0][\"attributes\"])\n",
    "packet_df[\"index\"] = 0\n",
    "packet_df = packet_df.pivot(index=\"index\", columns=\"key\", values=\"value\")\n",
    "packet_row = packet_df.iloc[0,:]\n",
    "\n",
    "packet_to_relay = Packet(\n",
    "  sequence=int(packet_row[\"packet_sequence\"]),\n",
    "  source_port=packet_row[\"packet_src_port\"],\n",
    "  source_channel=packet_row[\"packet_src_channel\"],\n",
    "  destination_port=packet_row[\"packet_dst_port\"],\n",
    "  destination_channel=packet_row[\"packet_dst_channel\"],\n",
    "  data=hexstring_to_bytes(packet_row[\"packet_data_hex\"]),\n",
    "  timeout_height=Height(int(packet_row[\"packet_timeout_height\"].split('-')[0]), int(packet_row[\"packet_timeout_height\"].split('-')[1])),\n",
    "  timeout_timestamp=int(packet_row[\"packet_timeout_timestamp\"]),\n",
    ")\n",
    "\n",
    "print(packet_to_relay)"
   ]
  },
  {
   "cell_type": "markdown",
   "id": "7d22c615-8ebf-4216-b940-6cfc91881126",
   "metadata": {},
   "source": [
    "## IBC channel step 4 - MsgChannelOpenConfirm\n",
    "\n",
    "## Note that the port (the host contract) hook https://github.com/confio/cw-ibc-demo/blob/ce3112721e3b1d7650d848823e3055b2c2328d13/contracts/simple-ica-host/src/contract.rs#L93"
   ]
  },
  {
   "cell_type": "code",
   "execution_count": 15,
   "id": "df3060b2-488c-44b5-b62e-6a5c185aebf6",
   "metadata": {
    "tags": []
   },
   "outputs": [
    {
     "name": "stdout",
     "output_type": "stream",
     "text": [
      "{'remote_lcd': <terra_sdk.client.lcd.lcdclient.LCDClient object at 0x7f87e83c6850>, 'remote_rpc_url': 'https://k8s.testnet.tm.injective.network:443/', 'remote_rpc_header': {}, 'client_lcd': <terra_sdk.client.lcd.lcdclient.LCDClient object at 0x7f87e839ddf0>, 'client_wallet': <terra_sdk.client.lcd.wallet.Wallet object at 0x7f87b9dc3e50>, 'client_id': '07-tendermint-4298'}\n",
      "\n",
      "\n",
      "\n",
      "timestamp: seconds: 1678827089\n",
      "nanos: 63203456\n",
      " \n",
      "\n",
      "\n",
      "source current tendermint:\n",
      "{'block_id': {'hash': 'GkA0sPMn72HXWZ4zVTA5XuDdEdYRSBEnIYFUtKHarII=', 'part_set_header': {'total': 1, 'hash': 'af9RbxpZrXkJzUGwUfdP5JTTnYXOHj67jOCARcXSeEE='}}, 'block': {'header': {'version': {'block': '11', 'app': '0'}, 'chain_id': 'injective-888', 'height': '9200255', 'time': '2023-03-14T20:51:29.063203456Z', 'last_block_id': {'hash': 'equH0+OglqaYDLpyYWdOHE72IpPk6k8eA3ckGdEg9+I=', 'part_set_header': {'total': 1, 'hash': 'Ii2ZZlSDlxJF0nhT3Sz2rua2DFG33Y/LHrXxqelQ6B8='}}, 'last_commit_hash': 'D72qCquefDup4AwBYXEbguI4FQUgsAAvGZQuvdnxizY=', 'data_hash': 'Jp77zi42pYKGXAXRJlMFFHHa558DNCLgk+wQ6PPSfx0=', 'validators_hash': 'FI/e4hLK65ZxQjpH7coHwFCKHMb3WPVzA5PGSyB7KMg=', 'next_validators_hash': 'FI/e4hLK65ZxQjpH7coHwFCKHMb3WPVzA5PGSyB7KMg=', 'consensus_hash': 'vml94SL+cPwUT5B4L5ZAe/3n0gSLsv2tqMpUVEVA8gg=', 'app_hash': 'UaAoB/EzffoWWHJJLAOEp7G6ExKW+VBEkuAHgqmvBG8=', 'last_results_hash': 'Yv2PcWt/EEhSDvJkYvKiQtKvFF2XN4AdjpcjqMj7CYs=', 'evidence_hash': '47DEQpj8HBSa+/TImW+5JCeuQeRkm5NMpJWZG3hSuFU=', 'proposer_address': 'ObUXYdS8jfTSNPonUBFPJkft7eA='}, 'data': {'txs': ['CroECvoDCiwvaW5qZWN0aXZlLndhc214LnYxLk1zZ0V4ZWN1dGVDb250cmFjdENvbXBhdBLJAwoqaW5qMTI0MDZ1ZGtrZDkybWxyM3Jka202bHphdTlyZnAzZHNmMmdheWU4EippbmoxaDJtcXdxODhnY3N3Z2t2NHBwOXdrejhmZHZhMnRmZ3lkaHdkNXcakQJ7InByb3ZpZGVfbGlxdWlkaXR5Ijp7ImFzc2V0cyI6W3siaW5mbyI6eyJuYXRpdmVfdG9rZW4iOnsiZGVub20iOiJpbmoifX0sImFtb3VudCI6IjQ2MDYwMDAwMDAwMDAwMDAwMCJ9LHsiaW5mbyI6eyJuYXRpdmVfdG9rZW4iOnsiZGVub20iOiJwZWdneTB4NDRDMjFhZkFhRjIwYzI3MEVCYkY1OTE0Q2ZjM2I1MDIyMTczRkVCNyJ9fSwiYW1vdW50IjoiMTEzMTgxNzQ0NDAwMDAwMDAwMDAwMCJ9XSwic2xpcHBhZ2VfdG9sZXJhbmNlIjoiMC4wMiIsImF1dG9fc3Rha2UiOmZhbHNlfX0iWzQ2MDYwMDAwMDAwMDAwMDAwMGluaiwxMTMxODE3NDQ0MDAwMDAwMDAwMDAwcGVnZ3kweDQ0QzIxYWZBYUYyMGMyNzBFQmJGNTkxNENmYzNiNTAyMjE3M0ZFQjcYmsWxBPo/NQovL2luamVjdGl2ZS50eXBlcy52MWJldGExLkV4dGVuc2lvbk9wdGlvbnNXZWIzVHgSAggFEn4KXgpUCi0vaW5qZWN0aXZlLmNyeXB0by52MWJldGExLmV0aHNlY3AyNTZrMS5QdWJLZXkSIwohAoftpo9RRF6XB4BMgY58vRCVgLvSz+6z5+i6f8dLJdpXEgQKAgh/GAYSHAoWCgNpbmoSDzIyNzAwMDAwMDAwMDAwMBDn0RsaQYx/g1RzPkAazg5tHIv6lJWtDMWw5Bh5eDAWuFXHOoOqaDif0z0cxXlG2EUxqpKj0a5+oru4xknXjS/p2MGQwYAb']}, 'evidence': {'evidence': []}, 'last_commit': {'height': '9200254', 'round': 0, 'block_id': {'hash': 'equH0+OglqaYDLpyYWdOHE72IpPk6k8eA3ckGdEg9+I=', 'part_set_header': {'total': 1, 'hash': 'Ii2ZZlSDlxJF0nhT3Sz2rua2DFG33Y/LHrXxqelQ6B8='}}, 'signatures': [{'block_id_flag': 'BLOCK_ID_FLAG_COMMIT', 'validator_address': 'pp0xJG+3PqSvgHC1GJU9SwvYymM=', 'timestamp': '2023-03-14T20:51:29.063203456Z', 'signature': 'xJApW1mcT6qZyVxefN7C6s8a8odSej+Uc+qcfzgSamuFlI7EhWDLur9pU5KudRvNj+66r85g5tgirU1szsHhDg=='}, {'block_id_flag': 'BLOCK_ID_FLAG_COMMIT', 'validator_address': 'Nv8cuLE25L4mgnBx8shCmG68xfc=', 'timestamp': '2023-03-14T20:51:29.058608083Z', 'signature': 'rnmaJ7Vzk1cAydT0+k2jGQ1Tb4WKG/6Zuz8oiOq7zfn9BbpzB3DCnibxA6e6bOpAEAbJlkPig+MuOf34uj+5CQ=='}, {'block_id_flag': 'BLOCK_ID_FLAG_COMMIT', 'validator_address': 'M5HjW2EATgO+uI+h2rRES5E7174=', 'timestamp': '2023-03-14T20:51:29.134150682Z', 'signature': 'LBA4fsrYN1qnyT3/9uxgVA9i8/7YT+I+3Hfv4KqQFDU0GJ8lP6RCLt/ROeOeAAh2/rqpvoEYXrdAtU0iXKBjAA=='}, {'block_id_flag': 'BLOCK_ID_FLAG_COMMIT', 'validator_address': 'ObUXYdS8jfTSNPonUBFPJkft7eA=', 'timestamp': '2023-03-14T20:51:29.134812412Z', 'signature': 'jnC2DWg8ratdvGx6iTfySVu+2+WeahJtrOBAwoF18IQqVNxBKcWUHBTwWvbMei10KFyhSoM16Jl1ZwQiP8E3AQ=='}, {'block_id_flag': 'BLOCK_ID_FLAG_COMMIT', 'validator_address': 'wIZn4dvVrjfbpoqyxvKVK56xeK8=', 'timestamp': '2023-03-14T20:51:29.221208264Z', 'signature': '7Lr8n611XFXsuxWO0fii+Vm2ArPesVAfS7eo02kFbU9WHEOP9VCgFT0TU7xpZBbTv9L29uxGvTinYb9tlkyvAA=='}]}}}\n",
      "\n",
      "\n",
      "\n",
      "\n",
      "\n",
      "commit_info:\n",
      "\n",
      "{'jsonrpc': '2.0', 'id': -1, 'result': {'signed_header': {'header': {'version': {'block': '11'}, 'chain_id': 'injective-888', 'height': '9200255', 'time': '2023-03-14T20:51:29.063203456Z', 'last_block_id': {'hash': '7AAB87D3E3A096A6980CBA7261674E1C4EF62293E4EA4F1E03772419D120F7E2', 'parts': {'total': 1, 'hash': '222D99665483971245D27853DD2CF6AEE6B60C51B7DD8FCB1EB5F1A9E950E81F'}}, 'last_commit_hash': '0FBDAA0AAB9E7C3BA9E00C0161711B82E238150520B0002F19942EBDD9F18B36', 'data_hash': '269EFBCE2E36A582865C05D12653051471DAE79F033422E093EC10E8F3D27F1D', 'validators_hash': '148FDEE212CAEB9671423A47EDCA07C0508A1CC6F758F5730393C64B207B28C8', 'next_validators_hash': '148FDEE212CAEB9671423A47EDCA07C0508A1CC6F758F5730393C64B207B28C8', 'consensus_hash': 'BE697DE122FE70FC144F90782F96407BFDE7D2048BB2FDADA8CA54544540F208', 'app_hash': '51A02807F1337DFA165872492C0384A7B1BA131296F9504492E00782A9AF046F', 'last_results_hash': '62FD8F716B7F1048520EF26462F2A242D2AF145D9737801D8E9723A8C8FB098B', 'evidence_hash': 'E3B0C44298FC1C149AFBF4C8996FB92427AE41E4649B934CA495991B7852B855', 'proposer_address': '39B51761D4BC8DF4D234FA2750114F2647EDEDE0'}, 'commit': {'height': '9200255', 'round': 0, 'block_id': {'hash': '1A4034B0F327EF61D7599E335530395EE0DD11D611481127218154B4A1DAAC82', 'parts': {'total': 1, 'hash': '69FF516F1A59AD7909CD41B051F74FE494D39D85CE1E3EBB8CE08045C5D27841'}}, 'signatures': [{'block_id_flag': 2, 'validator_address': 'A69D31246FB73EA4AF8070B518953D4B0BD8CA63', 'timestamp': '2023-03-14T20:51:31.535677525Z', 'signature': '6zpp9yESk8IhUwp5H48P2iaiZqAfbcKbLLsdM9fZSx9vJrG/0WnSd01S93ArrIcgt0mg7r3EkcZi467AJA/fCw=='}, {'block_id_flag': 2, 'validator_address': '36FF1CB8B136E4BE26827071F2C842986EBCC5F7', 'timestamp': '2023-03-14T20:51:31.443172332Z', 'signature': 'xyl/zdqRpVu4wX2mQoxzdQVgoiGup0ADCCtw5eiXbFD/Tj9zUYOJLvDn3OMx5CiaQe1aHlkKcn9dabflmzNhAg=='}, {'block_id_flag': 2, 'validator_address': '3391E35B61004E03BEB88FA1DAB4444B913BD7BE', 'timestamp': '2023-03-14T20:51:31.536165116Z', 'signature': '5txYnmPPJof3btTjatevWTjUDl18epOgYcwR/5b9p1gOVH9yDBah7sWePaPVlLkTBNNExaElQAnx0ztLnAv0Cg=='}, {'block_id_flag': 1, 'validator_address': '', 'timestamp': '0001-01-01T00:00:00Z', 'signature': None}, {'block_id_flag': 1, 'validator_address': '', 'timestamp': '0001-01-01T00:00:00Z', 'signature': None}]}}, 'canonical': False}}\n",
      "\n",
      "\n",
      "\n"
     ]
    }
   ],
   "source": [
    "#update client again on osmosis & fetch proofs\n",
    "\n",
    "time.sleep(10) #wait a few blocks\n",
    "update_client_msg = fabricate_update_client(inj, inj_rpc_url, inj_rpc_header, osmo, osmo_wallet, client_id_on_osmo)\n",
    "update_client_before_channel_try_result = stargate_msg(\"/ibc.core.client.v1.MsgUpdateClient\", update_client_msg, osmo_wallet, osmo)\n",
    "header_height = Header.FromString(update_client_msg.header.value).signed_header.header.height\n",
    "\n",
    "inj_client_trusted_height = header_height\n",
    "inj_client_trusted_revision_number = osmo.broadcaster.query(f\"/ibc/core/client/v1/client_states/{client_id_on_osmo}\")[\"client_state\"][\"latest_height\"][\"revision_number\"]\n",
    "\n",
    "channel_proof = fetch_channel_proof(inj_rpc_url, inj_rpc_header, controller_port, channel_id_on_inj, inj_client_trusted_height, inj_client_trusted_revision_number)"
   ]
  },
  {
   "cell_type": "code",
   "execution_count": 16,
   "id": "1fff1069-736e-41cc-a421-7f3fb3de1d95",
   "metadata": {},
   "outputs": [
    {
     "name": "stdout",
     "output_type": "stream",
     "text": [
      "                       key                                              value\n",
      "0                  port_id  wasm.osmo1dya5jdc5dqnqvf8y8j03x22ptrw2w7tkrz7p...\n",
      "1               channel_id                                       channel-3037\n",
      "2     counterparty_port_id    wasm.inj10mp9hu2mjh7md53t2adp9s70cn8dfjsnnd4w55\n",
      "3  counterparty_channel_id                                         channel-42\n",
      "4            connection_id                                    connection-3714\n"
     ]
    }
   ],
   "source": [
    "#fabricate message & dispatch via stargate\n",
    "\n",
    "msg = MsgChannelOpenConfirm(\n",
    "  port_id=host_port,\n",
    "  channel_id=channel_id_on_osmo,\n",
    "  proof_ack=channel_proof.SerializeToString(),\n",
    "  proof_height=Height(int(inj_client_trusted_revision_number), int(inj_client_trusted_height)),\n",
    "  signer=osmo_wallet.key.acc_address,\n",
    ")\n",
    "\n",
    "channel_open_confirm_result = stargate_msg(\"/ibc.core.channel.v1.MsgChannelOpenConfirm\", msg, osmo_wallet, osmo)\n",
    "channel_open_confirm_on_osmo_df = pd.DataFrame(channel_open_confirm_result[\"tx_response\"][\"logs\"][0][\"events\"][0][\"attributes\"])\n",
    "\n",
    "print(channel_open_confirm_on_osmo_df)"
   ]
  },
  {
   "cell_type": "markdown",
   "id": "8ed7a179-633d-4fb4-b906-78f1f81c8a55",
   "metadata": {},
   "source": [
    "## At this point, the IBC channel connecting the ica contracts is setup! \n",
    "\n",
    "## However, the IBC packet dispatched in the ChannelOpenAck step needs to be relayed/acked to complete the ica contract setup (specific to the contracts)."
   ]
  },
  {
   "cell_type": "code",
   "execution_count": 17,
   "id": "83c1cdb7-6122-48c8-b042-14a747977f89",
   "metadata": {
    "tags": []
   },
   "outputs": [
    {
     "name": "stdout",
     "output_type": "stream",
     "text": [
      "{'remote_lcd': <terra_sdk.client.lcd.lcdclient.LCDClient object at 0x7f87e83c6850>, 'remote_rpc_url': 'https://k8s.testnet.tm.injective.network:443/', 'remote_rpc_header': {}, 'client_lcd': <terra_sdk.client.lcd.lcdclient.LCDClient object at 0x7f87e839ddf0>, 'client_wallet': <terra_sdk.client.lcd.wallet.Wallet object at 0x7f87b9dc3e50>, 'client_id': '07-tendermint-4298'}\n",
      "\n",
      "\n",
      "\n",
      "timestamp: seconds: 1678827123\n",
      "nanos: 63654166\n",
      " \n",
      "\n",
      "\n",
      "source current tendermint:\n",
      "{'block_id': {'hash': 'eJ9yQdBdwvz5oahvv+HQ5ZUEY3avEe76nIOr4oJa2+s=', 'part_set_header': {'total': 1, 'hash': 'yhfAsi6EoZ9YAv6SinLvvOTerIGchfbnhZNhzxLnv5Y='}}, 'block': {'header': {'version': {'block': '11', 'app': '0'}, 'chain_id': 'injective-888', 'height': '9200269', 'time': '2023-03-14T20:52:03.063654166Z', 'last_block_id': {'hash': 'ljSLeUSACsye0UhIw57KEWGMoePGHlLb6P58y2V7F9A=', 'part_set_header': {'total': 1, 'hash': 'NHsBkrDY8Lh8yBBQfw2V7XloF4UjBXHSUY5bA/F+KMo='}}, 'last_commit_hash': 'u//nEwTy7zgs2dZJXGCjRKIEYY7INvdWKK5+G40ULUM=', 'data_hash': '47DEQpj8HBSa+/TImW+5JCeuQeRkm5NMpJWZG3hSuFU=', 'validators_hash': 'FI/e4hLK65ZxQjpH7coHwFCKHMb3WPVzA5PGSyB7KMg=', 'next_validators_hash': 'FI/e4hLK65ZxQjpH7coHwFCKHMb3WPVzA5PGSyB7KMg=', 'consensus_hash': 'vml94SL+cPwUT5B4L5ZAe/3n0gSLsv2tqMpUVEVA8gg=', 'app_hash': 'LiStj8w8HwtR0eNypBEeSLUMPe7PpkEB1QD7E5p8CZY=', 'last_results_hash': 'wfi2j2lwBNLQ+OC3HvCFxHhyLeH8FEmRqqEheFvFv/4=', 'evidence_hash': '47DEQpj8HBSa+/TImW+5JCeuQeRkm5NMpJWZG3hSuFU=', 'proposer_address': 'Nv8cuLE25L4mgnBx8shCmG68xfc='}, 'data': {'txs': []}, 'evidence': {'evidence': []}, 'last_commit': {'height': '9200268', 'round': 0, 'block_id': {'hash': 'ljSLeUSACsye0UhIw57KEWGMoePGHlLb6P58y2V7F9A=', 'part_set_header': {'total': 1, 'hash': 'NHsBkrDY8Lh8yBBQfw2V7XloF4UjBXHSUY5bA/F+KMo='}}, 'signatures': [{'block_id_flag': 'BLOCK_ID_FLAG_COMMIT', 'validator_address': 'pp0xJG+3PqSvgHC1GJU9SwvYymM=', 'timestamp': '2023-03-14T20:52:03.063654166Z', 'signature': 'XJ9rhTaeY8XS646JxZeF2s4uLMo5VbRM+hqiy+JlaYt7ls2JhlBbDuIcqjq4mwZXKHJsa+4apqEY1fJUJnAjAw=='}, {'block_id_flag': 'BLOCK_ID_FLAG_COMMIT', 'validator_address': 'Nv8cuLE25L4mgnBx8shCmG68xfc=', 'timestamp': '2023-03-14T20:52:02.973400566Z', 'signature': 'Mrqy8M0Icfm544m3OdG/UIqS8/c0qNXnvkEx2h02ezivI7mkpJ/ewdJXbHO3tSRfUmBzu/V/5PuaDVcnvYN9Dg=='}, {'block_id_flag': 'BLOCK_ID_FLAG_COMMIT', 'validator_address': 'M5HjW2EATgO+uI+h2rRES5E7174=', 'timestamp': '2023-03-14T20:52:03.165068631Z', 'signature': 'BiURLo7YPxe1GIzj+erag2Xf17ri0VsFxNsXTjjeXzps+N+GwvM/nd+dyE6eiTFzXNQdwLfWWw0OxijOnPLlBA=='}, {'block_id_flag': 'BLOCK_ID_FLAG_COMMIT', 'validator_address': 'ObUXYdS8jfTSNPonUBFPJkft7eA=', 'timestamp': '2023-03-14T20:52:02.972491432Z', 'signature': 'KM5xFgyKHV236ifUbal+k7Uy0fA/NaXeRPq8h86LqYChYHiVZet/+plrh7TV4gxodAUlVfX44qoziWmAYJX2AQ=='}, {'block_id_flag': 'BLOCK_ID_FLAG_COMMIT', 'validator_address': 'wIZn4dvVrjfbpoqyxvKVK56xeK8=', 'timestamp': '2023-03-14T20:52:03.227103910Z', 'signature': 'rKO2VG1xrVM/daGjhC+lkM0dr7NJiN5Ijx30qLamkABuP685PJEfskmpKzUH2Zd5UvGw0V0Sz/swZVVv4qqFDA=='}]}}}\n",
      "\n",
      "\n",
      "\n",
      "\n",
      "\n",
      "commit_info:\n",
      "\n",
      "{'jsonrpc': '2.0', 'id': -1, 'result': {'signed_header': {'header': {'version': {'block': '11'}, 'chain_id': 'injective-888', 'height': '9200269', 'time': '2023-03-14T20:52:03.063654166Z', 'last_block_id': {'hash': '96348B7944800ACC9ED14848C39ECA11618CA1E3C61E52DBE8FE7CCB657B17D0', 'parts': {'total': 1, 'hash': '347B0192B0D8F0B87CC810507F0D95ED79681785230571D2518E5B03F17E28CA'}}, 'last_commit_hash': 'BBFFE71304F2EF382CD9D6495C60A344A204618EC836F75628AE7E1B8D142D43', 'data_hash': 'E3B0C44298FC1C149AFBF4C8996FB92427AE41E4649B934CA495991B7852B855', 'validators_hash': '148FDEE212CAEB9671423A47EDCA07C0508A1CC6F758F5730393C64B207B28C8', 'next_validators_hash': '148FDEE212CAEB9671423A47EDCA07C0508A1CC6F758F5730393C64B207B28C8', 'consensus_hash': 'BE697DE122FE70FC144F90782F96407BFDE7D2048BB2FDADA8CA54544540F208', 'app_hash': '2E24AD8FCC3C1F0B51D1E372A4111E48B50C3DEECFA64101D500FB139A7C0996', 'last_results_hash': 'C1F8B68F697004D2D0F8E0B71EF085C478722DE1FC144991AAA121785BC5BFFE', 'evidence_hash': 'E3B0C44298FC1C149AFBF4C8996FB92427AE41E4649B934CA495991B7852B855', 'proposer_address': '36FF1CB8B136E4BE26827071F2C842986EBCC5F7'}, 'commit': {'height': '9200269', 'round': 0, 'block_id': {'hash': '789F7241D05DC2FCF9A1A86FBFE1D0E595046376AF11EEFA9C83ABE2825ADBEB', 'parts': {'total': 1, 'hash': 'CA17C0B22E84A19F5802FE928A72EFBCE4DEAC819C85F6E7859361CF12E7BF96'}}, 'signatures': [{'block_id_flag': 2, 'validator_address': 'A69D31246FB73EA4AF8070B518953D4B0BD8CA63', 'timestamp': '2023-03-14T20:52:05.477493644Z', 'signature': '4ML0L+ulxOCAMtkilEojsWXK3rsCoQeFAgGWphNU2EfT6Ev9GbfrubPTWlvSmJgbePkVVZdLVt8RDyP39CMLDw=='}, {'block_id_flag': 1, 'validator_address': '', 'timestamp': '0001-01-01T00:00:00Z', 'signature': None}, {'block_id_flag': 2, 'validator_address': '3391E35B61004E03BEB88FA1DAB4444B913BD7BE', 'timestamp': '2023-03-14T20:52:05.386009977Z', 'signature': 'SRnecX20KcSkDIEwOQ2UmMGu1jnF+qJCMEvXgwwg+v0hCPvzPYBEf+0mzME8GUEh93Di0pFxtgPXdE+FnWUWAQ=='}, {'block_id_flag': 2, 'validator_address': '39B51761D4BC8DF4D234FA2750114F2647EDEDE0', 'timestamp': '2023-03-14T20:52:05.38492358Z', 'signature': 'X4yAlFZXNdrZizuHj/OKfJoEKT+t8KJ6gEEzDJ5XSzyR/60e8sVbfyjdBvbE6XfDhud4Uanu9cWGHKBmcfLICg=='}, {'block_id_flag': 1, 'validator_address': '', 'timestamp': '0001-01-01T00:00:00Z', 'signature': None}]}}, 'canonical': False}}\n",
      "\n",
      "\n",
      "\n"
     ]
    }
   ],
   "source": [
    "#update client again on osmosis & fetch the packet proof\n",
    "\n",
    "time.sleep(10) #wait a few blocks\n",
    "update_client_msg = fabricate_update_client(inj, inj_rpc_url, inj_rpc_header, osmo, osmo_wallet, client_id_on_osmo)\n",
    "update_client_before_channel_try_result = stargate_msg(\"/ibc.core.client.v1.MsgUpdateClient\", update_client_msg, osmo_wallet, osmo)\n",
    "header_height = Header.FromString(update_client_msg.header.value).signed_header.header.height\n",
    "\n",
    "inj_client_trusted_height = header_height\n",
    "inj_client_trusted_revision_number = osmo.broadcaster.query(f\"/ibc/core/client/v1/client_states/{client_id_on_osmo}\")[\"client_state\"][\"latest_height\"][\"revision_number\"]\n",
    "\n",
    "params = {\n",
    "    \"path\": '\"/store/ibc/key\"',\n",
    "    \"data\": \"0x\" + bytes(f\"commitments/ports/{controller_port}/channels/{channel_id_on_inj}/sequences/{packet_to_relay.sequence}\", \"ascii\").hex(),\n",
    "    \"prove\": \"true\",\n",
    "    \"height\": int(inj_client_trusted_height) - 1,\n",
    "}\n",
    "resp = requests.get(f\"{inj_rpc_url}/abci_query\", headers=inj_rpc_header, params=params).json()\n",
    "proofs = [CommitmentProof.FromString(b64_to_bytes(x[\"data\"])) for x in resp[\"result\"][\"response\"][\"proofOps\"][\"ops\"]]\n",
    "packet_proof = MerkleProof(proofs=proofs)"
   ]
  },
  {
   "cell_type": "code",
   "execution_count": 18,
   "id": "19ddbccf-1ae9-4263-96e5-3edb1a924c5d",
   "metadata": {},
   "outputs": [
    {
     "name": "stdout",
     "output_type": "stream",
     "text": [
      "                         key  \\\n",
      "0                     action   \n",
      "1                     module   \n",
      "2                     module   \n",
      "3                packet_data   \n",
      "4            packet_data_hex   \n",
      "5      packet_timeout_height   \n",
      "6   packet_timeout_timestamp   \n",
      "7            packet_sequence   \n",
      "8            packet_src_port   \n",
      "9         packet_src_channel   \n",
      "10           packet_dst_port   \n",
      "11        packet_dst_channel   \n",
      "12   packet_channel_ordering   \n",
      "13         packet_connection   \n",
      "14         _contract_address   \n",
      "15                    action   \n",
      "16               packet_data   \n",
      "17           packet_data_hex   \n",
      "18     packet_timeout_height   \n",
      "19  packet_timeout_timestamp   \n",
      "20           packet_sequence   \n",
      "21           packet_src_port   \n",
      "22        packet_src_channel   \n",
      "23           packet_dst_port   \n",
      "24        packet_dst_channel   \n",
      "25                packet_ack   \n",
      "26            packet_ack_hex   \n",
      "27         packet_connection   \n",
      "\n",
      "                                                value  \n",
      "0                  /ibc.core.channel.v1.MsgRecvPacket  \n",
      "1                                         ibc_channel  \n",
      "2                                         ibc_channel  \n",
      "3                                     {\"who_am_i\":{}}  \n",
      "4                      7b2277686f5f616d5f69223a7b7d7d  \n",
      "5                                                 0-0  \n",
      "6                                 1678830654441806271  \n",
      "7                                                   1  \n",
      "8     wasm.inj10mp9hu2mjh7md53t2adp9s70cn8dfjsnnd4w55  \n",
      "9                                          channel-42  \n",
      "10  wasm.osmo1dya5jdc5dqnqvf8y8j03x22ptrw2w7tkrz7p...  \n",
      "11                                       channel-3037  \n",
      "12                                    ORDER_UNORDERED  \n",
      "13                                    connection-3714  \n",
      "14  osmo1dya5jdc5dqnqvf8y8j03x22ptrw2w7tkrz7p53gkg...  \n",
      "15                                   receive_who_am_i  \n",
      "16                                    {\"who_am_i\":{}}  \n",
      "17                     7b2277686f5f616d5f69223a7b7d7d  \n",
      "18                                                0-0  \n",
      "19                                1678830654441806271  \n",
      "20                                                  1  \n",
      "21    wasm.inj10mp9hu2mjh7md53t2adp9s70cn8dfjsnnd4w55  \n",
      "22                                         channel-42  \n",
      "23  wasm.osmo1dya5jdc5dqnqvf8y8j03x22ptrw2w7tkrz7p...  \n",
      "24                                       channel-3037  \n",
      "25  {\"result\":\"eyJhY2NvdW50Ijoib3NtbzFhMnhmZHFmODV...  \n",
      "26  7b22726573756c74223a2265794a6859324e7664573530...  \n",
      "27                                    connection-3714  \n"
     ]
    }
   ],
   "source": [
    "#fabricate message & dispatch via stargate\n",
    "msg = MsgRecvPacket(\n",
    "  packet=packet_to_relay,\n",
    "  proof_commitment=packet_proof.SerializeToString(),\n",
    "  proof_height=Height(int(inj_client_trusted_revision_number), int(inj_client_trusted_height)),\n",
    "  signer=osmo_wallet.key.acc_address\n",
    ")\n",
    "\n",
    "relay_result = stargate_msg(\"/ibc.core.channel.v1.MsgRecvPacket\", msg, osmo_wallet, osmo)\n",
    "relay_result_df = pd.DataFrame([y for x in [x[\"attributes\"] for x in relay_result[\"tx_response\"][\"logs\"][0][\"events\"]] for y in x])\n",
    "\n",
    "print(relay_result_df)"
   ]
  },
  {
   "cell_type": "code",
   "execution_count": 19,
   "id": "1ff1eb8f-8706-4690-ac32-ebb2457ad3d2",
   "metadata": {},
   "outputs": [
    {
     "name": "stdout",
     "output_type": "stream",
     "text": [
      "key\n",
      "packet_ack                  {\"result\":\"eyJhY2NvdW50Ijoib3NtbzFhMnhmZHFmODV...\n",
      "packet_ack_hex              7b22726573756c74223a2265794a6859324e7664573530...\n",
      "packet_connection                                             connection-3714\n",
      "packet_data                                                   {\"who_am_i\":{}}\n",
      "packet_data_hex                                7b2277686f5f616d5f69223a7b7d7d\n",
      "packet_dst_channel                                               channel-3037\n",
      "packet_dst_port             wasm.osmo1dya5jdc5dqnqvf8y8j03x22ptrw2w7tkrz7p...\n",
      "packet_sequence                                                             1\n",
      "packet_src_channel                                                 channel-42\n",
      "packet_src_port               wasm.inj10mp9hu2mjh7md53t2adp9s70cn8dfjsnnd4w55\n",
      "packet_timeout_height                                                     0-0\n",
      "packet_timeout_timestamp                                  1678830654441806271\n",
      "Name: 0, dtype: object\n"
     ]
    }
   ],
   "source": [
    "#parse the acknowledge packet (message) for the ack relay back to the controller smart contract\n",
    "\n",
    "ack_df = pd.DataFrame([x for x in relay_result[\"tx_response\"][\"logs\"][0][\"events\"] if x[\"type\"]==\"write_acknowledgement\"][0][\"attributes\"])\n",
    "ack_df[\"index\"] = 0\n",
    "ack_df = ack_df.pivot(index=\"index\", columns=\"key\", values=\"value\")\n",
    "ack_row = ack_df.iloc[0,:]\n",
    "\n",
    "print(ack_row)"
   ]
  },
  {
   "cell_type": "markdown",
   "id": "db3d036d-43ed-41a1-85e1-35f2eceb3c35",
   "metadata": {},
   "source": [
    "## The packet acknowledgement contains the host contract's response to the controller contract's who_am_i request. The final relaying of this ack concludes successful setup of an ibc channel between two ica contract ports."
   ]
  },
  {
   "cell_type": "code",
   "execution_count": 21,
   "id": "84d4d1a3-a981-459f-8939-7711c4ed6865",
   "metadata": {
    "tags": []
   },
   "outputs": [
    {
     "name": "stdout",
     "output_type": "stream",
     "text": [
      "{'remote_lcd': <terra_sdk.client.lcd.lcdclient.LCDClient object at 0x7f87e839ddf0>, 'remote_rpc_url': 'https://rpc-test.osmosis.zone', 'remote_rpc_header': {}, 'client_lcd': <terra_sdk.client.lcd.lcdclient.LCDClient object at 0x7f87e83c6850>, 'client_wallet': <terra_sdk.client.lcd.wallet.Wallet object at 0x7f87e839dee0>, 'client_id': '07-tendermint-87'}\n",
      "\n",
      "\n",
      "\n",
      "timestamp: seconds: 1678827190\n",
      "nanos: 415301036\n",
      " \n",
      "\n",
      "\n",
      "source current tendermint:\n",
      "{'block_id': {'hash': '1WoqINFc92Ta/OJwzFnPChsVZC7NNVUPdjil8J9xePc=', 'part_set_header': {'total': 1, 'hash': 'gC0KbxrWTAuKqGIhwNoSrsvTSlt5G/YYjQuVIl5nt7s='}}, 'block': {'header': {'version': {'block': '11', 'app': '16'}, 'chain_id': 'osmo-test-4', 'height': '9559788', 'time': '2023-03-14T20:53:10.415301036Z', 'last_block_id': {'hash': '9WIKfZv518KaNYa8l4oOwKKBg4/BRbytXzm+6gYztsU=', 'part_set_header': {'total': 1, 'hash': 'TaWnqEPzWbD29scOETMMv9ear5eTAT7YC7cDpOOGZmQ='}}, 'last_commit_hash': 'ExDsoAMLM1RcDd+CXnrCnaoej4WzeUi8PFUp34KOZxI=', 'data_hash': 'mX6Iv9nnJ/5CF7lkRYKj14b7+61gTVtFmjYzg+0xvpI=', 'validators_hash': 'OKO5EbUTO5Td7kbtkXO7P2s/nycejIJi2GP2D/Cz8ro=', 'next_validators_hash': 'OKO5EbUTO5Td7kbtkXO7P2s/nycejIJi2GP2D/Cz8ro=', 'consensus_hash': 'qWfVX6y7oZq5YUkEjyR2xGV+wD0lt4qBr1uPCgj2Hf8=', 'app_hash': 'PlAAm/A+a9nuF5nzva09btL5wwY2tL9ojk2drcXOe6k=', 'last_results_hash': 'XjIXiWJyaNqGsMhhJOq9EvCqi0ylfwcCV2LdO7qL7os=', 'evidence_hash': '47DEQpj8HBSa+/TImW+5JCeuQeRkm5NMpJWZG3hSuFU=', 'proposer_address': 'VpZxag4yMaDqkoAJJjK6v4Fve28='}, 'data': {'txs': ['CskBCsYBCiQvY29zbXdhc20ud2FzbS52MS5Nc2dFeGVjdXRlQ29udHJhY3QSnQEKK29zbW8xcGNtYThmaHpkZHg2ajB1eWxwY2xsNHV0NjczdDNxcXVscHU1NmwSP29zbW8xZmdzNWN0MjB1NzlqZ3hlODQwbnZ5NGw0Z2Uyem4wcWU3ZGpseTVoZnRxd2R3bnkwY3Uyc3RnOGpqcBoteyJzZXRfcHJpY2UiOnsicHJpY2UiOiIxMy4wNTIiLCJleGVjcyI6bnVsbH19EmkKUgpGCh8vY29zbW9zLmNyeXB0by5zZWNwMjU2azEuUHViS2V5EiMKIQI65vSkuyVYWOxwgy2MwaLn29SJNwo3/RALFsXtpADi6BIECgIIARi85QUSEwoNCgV1b3NtbxIENTkwMhD/gAwaQIIIFyCjdwIIM+zjSbdI/ZwBrDwciBSbbT7ywdR1HTpIdT35EN5RFTsq06v1BNrJ85XUfYDRHR/QmyLWveULoCQ=', 'CskBCsYBCiQvY29zbXdhc20ud2FzbS52MS5Nc2dFeGVjdXRlQ29udHJhY3QSnQEKK29zbW8xdXZsbHo2cjhheWUzNXJtMzhqZGNqd2U3cjczd2djeHZ0c3U0YzYSP29zbW8xMG0yNTJkcGF4ZjZqZmx1NXlobmNhdGVzcnQzdnF3bjdoMDJzaHFobmR2bjd0NGhtOXFocThxbmdyYRoteyJzZXRfcHJpY2UiOnsicHJpY2UiOiIxMy4wNTIiLCJleGVjcyI6bnVsbH19EmkKUgpGCh8vY29zbW9zLmNyeXB0by5zZWNwMjU2azEuUHViS2V5EiMKIQL/2D7/aomLXiy5aC8x4QWNfa6FJOkGgsdzCpwePSqQ3RIECgIIARi19AcSEwoNCgV1b3NtbxIENTY4MxCGyAsaQB4VpnqWllRuWOVHNK0sqA9IkIE2AzPY213F943d3NfkSLDB2QHW8TgwRUvPLyCrcw1ix3N0aqgyRQFWIvjAMNA=']}, 'evidence': {'evidence': []}, 'last_commit': {'height': '9559787', 'round': 0, 'block_id': {'hash': '9WIKfZv518KaNYa8l4oOwKKBg4/BRbytXzm+6gYztsU=', 'part_set_header': {'total': 1, 'hash': 'TaWnqEPzWbD29scOETMMv9ear5eTAT7YC7cDpOOGZmQ='}}, 'signatures': [{'block_id_flag': 'BLOCK_ID_FLAG_COMMIT', 'validator_address': 'VpZxag4yMaDqkoAJJjK6v4Fve28=', 'timestamp': '2023-03-14T20:53:10.415301036Z', 'signature': 'w8dsuK3rydsCxvzQaL0dn3A9mbaKenEp+B6eJrVEknkMysUX+RkmLdqkD61Ud0lvPnQuqFx+yEBwHbWjr1jLAw=='}, {'block_id_flag': 'BLOCK_ID_FLAG_NIL', 'validator_address': 'RZtlaXV1HIbS0+n1l6l5NE8djP0=', 'timestamp': '2023-03-14T20:53:10.622664022Z', 'signature': 'yBmY0Cr0GTwntASwrydz0cpFPKEx6ioaSlJq2eg9Mqmckg8aFhLPZA0S2ysyezPlnNBUeEibfzrHTlKkfiVwDQ=='}, {'block_id_flag': 'BLOCK_ID_FLAG_NIL', 'validator_address': '0S+fYerUINQxMAAVX2ADSheBdEI=', 'timestamp': '2023-03-14T20:53:10.534932490Z', 'signature': 'xYaIjku/P+b05MtebWkle+I+Xb8krYKll+xDZGBJrFFKuDy6UjyGTMjT0OiCjOAxyGLof6hdU0eS91Zg9ObXAg=='}, {'block_id_flag': 'BLOCK_ID_FLAG_NIL', 'validator_address': 'pIRf84SzPKxmbSw2eERqJv2O7uM=', 'timestamp': '2023-03-14T20:53:10.602530634Z', 'signature': 'Cl/J334IaJwoNyvDG+ZfQjqDXopDg2cW98ig+eABTMCFpPA7m3danXQNg9/gVsswcECRvXZG5hFJQ5eoIVqzBQ=='}, {'block_id_flag': 'BLOCK_ID_FLAG_ABSENT', 'validator_address': None, 'timestamp': '0001-01-01T00:00:00Z', 'signature': None}, {'block_id_flag': 'BLOCK_ID_FLAG_NIL', 'validator_address': 'yJaRcfm1ozVMcSog8AfN4GSMmQ8=', 'timestamp': '2023-03-14T20:53:10.599502987Z', 'signature': 'H4uC8QCrMpa12mdfgM6+HRig7tAkKPWDMhgY2EWieYDaht7xvoP3BODYMLduzTHOIOi/9FZkP1TKBnUZKZ8/BA=='}, {'block_id_flag': 'BLOCK_ID_FLAG_ABSENT', 'validator_address': None, 'timestamp': '0001-01-01T00:00:00Z', 'signature': None}]}}}\n",
      "\n",
      "\n",
      "\n",
      "\n",
      "\n",
      "commit_info:\n",
      "\n",
      "{'jsonrpc': '2.0', 'id': -1, 'result': {'signed_header': {'header': {'version': {'block': '11', 'app': '16'}, 'chain_id': 'osmo-test-4', 'height': '9559788', 'time': '2023-03-14T20:53:10.415301036Z', 'last_block_id': {'hash': 'F5620A7D9BF9D7C29A3586BC978A0EC0A281838FC145BCAD5F39BEEA0633B6C5', 'parts': {'total': 1, 'hash': '4DA5A7A843F359B0F6F6C70E11330CBFD79AAF9793013ED80BB703A4E3866664'}}, 'last_commit_hash': '1310ECA0030B33545C0DDF825E7AC29DAA1E8F85B37948BC3C5529DF828E6712', 'data_hash': '997E88BFD9E727FE4217B9644582A3D786FBFBAD604D5B459A363383ED31BE92', 'validators_hash': '38A3B911B5133B94DDEE46ED9173BB3F6B3F9F271E8C8262D863F60FF0B3F2BA', 'next_validators_hash': '38A3B911B5133B94DDEE46ED9173BB3F6B3F9F271E8C8262D863F60FF0B3F2BA', 'consensus_hash': 'A967D55FACBBA19AB96149048F2476C4657EC03D25B78A81AF5B8F0A08F61DFF', 'app_hash': '3E50009BF03E6BD9EE1799F3BDAD3D6ED2F9C30636B4BF688E4D9DADC5CE7BA9', 'last_results_hash': '5E321789627268DA86B0C86124EABD12F0AA8B4CA57F07025762DD3BBA8BEE8B', 'evidence_hash': 'E3B0C44298FC1C149AFBF4C8996FB92427AE41E4649B934CA495991B7852B855', 'proposer_address': '5696716A0E3231A0EA9280092632BABF816F7B6F'}, 'commit': {'height': '9559788', 'round': 0, 'block_id': {'hash': 'D56A2A20D15CF764DAFCE270CC59CF0A1B15642ECD35550F7638A5F09F7178F7', 'parts': {'total': 1, 'hash': '802D0A6F1AD64C0B8AA86221C0DA12AECBD34A5B791BF6188D0B95225E67B7BB'}}, 'signatures': [{'block_id_flag': 2, 'validator_address': '5696716A0E3231A0EA9280092632BABF816F7B6F', 'timestamp': '2023-03-14T20:53:15.426977548Z', 'signature': 'VvJvknRY6WbGHDo+C+9eh4/DcduW01ZCAqcQnZ3cuNnx9v8oCGEPmUKCDungg9f45IbLMDgRrBd7BaqEPXDJBA=='}, {'block_id_flag': 1, 'validator_address': '', 'timestamp': '0001-01-01T00:00:00Z', 'signature': None}, {'block_id_flag': 1, 'validator_address': '', 'timestamp': '0001-01-01T00:00:00Z', 'signature': None}, {'block_id_flag': 1, 'validator_address': '', 'timestamp': '0001-01-01T00:00:00Z', 'signature': None}, {'block_id_flag': 1, 'validator_address': '', 'timestamp': '0001-01-01T00:00:00Z', 'signature': None}, {'block_id_flag': 1, 'validator_address': '', 'timestamp': '0001-01-01T00:00:00Z', 'signature': None}, {'block_id_flag': 1, 'validator_address': '', 'timestamp': '0001-01-01T00:00:00Z', 'signature': None}]}}, 'canonical': False}}\n",
      "\n",
      "\n",
      "\n",
      "MerkleProof(proofs=[CommitmentProof(exist=ExistenceProof(key=b'acks/ports/wasm.osmo1dya5jdc5dqnqvf8y8j03x22ptrw2w7tkrz7p53gkgyt28sjth5asu9up3s/channels/channel-3037/sequences/1', value=b'\\x95\\xa3c~{6d\\xdf\\x88\\xf3\\xfc\\x8bx\\xd9<SJ\\xfc:d\\xef\\xbb\\x1d\\xf4\\xb6\\xe2 }\\xfe\\x99\\\\_', leaf=LeafOp(hash=1, prehash_value=1, length=1, prefix=b'\\x00\\x02\\xc2\\xfb\\x8e\\t'), path=[InnerOp(hash=1, prefix=b'\\x02\\x04\\xc2\\xfb\\x8e\\t \\xe9@\\x8bxpkd\\xc7\\x08\\xbc\\xfe\\x07\\x86\\xb9\\x027\\x81X&\\xc6e\\x1cT\\x90\\x98T\\xc6\\xf5C\\xe9\\xc2\\x85 '), InnerOp(hash=1, prefix=b'\\x04\\x06\\xc2\\xfb\\x8e\\t ', suffix=b' \\xf6\\xea\\xff\\xaa\\xe4Fl\\x0ck\\x95\\x99<\\x01p5nY{\\\\\\xc3\\xe9a\\xe5\\xf6\\xc6{\\xde\\x94V7\\xcd\\xb8'), InnerOp(hash=1, prefix=b'\\x06\\n\\xc2\\xfb\\x8e\\t \\t)\\x06\\x8b\\xb9\\x90\\xe8\\xba\\x9a,\\xacv\\x98\\x95Y\\x1f\\xb3\\x02A\\n\\xa5\\n\\xda\\x9c\\xd5C,P5\\xf5\\xe1\\x92 '), InnerOp(hash=1, prefix=b'\\x08\\x10\\xc2\\xfb\\x8e\\t y\\xec\\xa0!)\\x8e\\xf0\\xc8\\x99\\x1d\\xa5\\xe8>C\\x02=\\xf8\\n\\xf8U\\xc3B\\r\\xc7\\x0f\\xde)\\x02\\x19~\\xbf` '), InnerOp(hash=1, prefix=b'\\n\\x1e\\xc2\\xfb\\x8e\\t \\xb0Y\\x82@\\x1d\\xa4g\\xb0\\xcb\\xb8\\x1fM\\x08\\xa5G*\\xab\\x00\\x19\\xdbR&ah\\xaf\\xdd\\x16AR\\x9f0\\xca '), InnerOp(hash=1, prefix=b'\\x0c6\\xc2\\xfb\\x8e\\t _ N5\\xe0\\xfd\\x177\\x9e\\xcf\\xdb\\xe4\\xca\\xa9`\\xd5\\x8c\\xadQ\\xc1\\xd58\\x1a\\xe4\\x83\\xfc3\\xbb\\xc8\\x1f\\x03\\xda '), InnerOp(hash=1, prefix=b'\\x0ez\\xc2\\xfb\\x8e\\t ', suffix=b' \\xc8\\xc2ViZ\\x10\\x06rJ\\xd4\\x97Y\\xf2H_J\\xa0\\xb2#s\\x8c,m\\xbd.\\xe5\\x8b\\xa0{\\x0f\\xb5\\xc9'), InnerOp(hash=1, prefix=b'\\x10\\xf8\\x01\\xc2\\xfb\\x8e\\t hC\\r{\\x91%\\x1837\\x9e5\\x9c\\x85bV\\xd4\\xc2=\\x95Dt\\x1e\\x08\\x17\\xf5\\xdbu\"S\\x9a_Z '), InnerOp(hash=1, prefix=b'\\x12\\xce\\x03\\xc2\\xfb\\x8e\\t \\x9a\\x88J`\\x86P\\x0b\\xcc<\\xa7A0\\x06\\xf9ah\\x13\\xa5\\xa4?\\xab\\xbc\\xa2\\xadz\\xf5\\xc2_\\t+O\\xc7 '), InnerOp(hash=1, prefix=b'\\x14\\xe2\\x06\\xc2\\xfb\\x8e\\t ', suffix=b' \\xe6\\xaa\\xfb\\x9cZY\\xc9\\tA!\\x85\\xdd\\xab\\x99\\x96<I2tVa\\x10\\xd33;#\\xf3]\\xfeGL\\xde'), InnerOp(hash=1, prefix=b'\\x16\\xf2\\t\\xc2\\xfb\\x8e\\t ', suffix=b' \\x86\\xa6\\xa8\\x08%e8\\xeb\\xc0jlq.c\\x1a\\x87Z\\xb7\\xb5\\xe1\\xe2\\xda@\\xa7\\x1b\\x06\\xb3\\xe7\\\\\\xa9\\xf5\\x81'), InnerOp(hash=1, prefix=b'\\x18\\xa6\\x12\\xc2\\xfb\\x8e\\t \\xa2\\x13B\\x7f\\xee\\x0c\\x00\\x11\\xcb\\x1c\\x8c\\xae\\x8eb3\\xa8J\\xf5\\xc8p|\\x02\\xc4\\x8fJ=\\x02/\\xc83\\x18\\xc1 '), InnerOp(hash=1, prefix=b'\\x1a\\xa6B\\xc2\\xfb\\x8e\\t |\\xe9\\xb9\\xf8!\\x99Q\\xce\\r\\x0b\\x18\\xe2W\\xb7N\\x81\\x1c\\xf3\\xee#vE@\\xda\\xaeL\\xab\\xf74#\\xe7\\xd7 '), InnerOp(hash=1, prefix=b'\\x1e\\xd0w\\xc2\\xfb\\x8e\\t ', suffix=b' \\x18KrB\\xc3[\\xd9\\xea\\x8a=\\x89CNA\\x81B\\x08\\xd2\\xd0X\\x1e=\"fM\\xac\\xce\\xf3\\xa2\\x81ea'), InnerOp(hash=1, prefix=b' \\xe2\\xf7\\x03\\xc2\\xfb\\x8e\\t \\xb6\\xc2\\x1e\\x89\\x9dPQ\\xae[\\x11\\xd1SO\\x00\\xaa\\xc3\\xe1\\xeb\\xcdQ\\xbe%\\xd0]\\x06\\x91c\\x82\\n\\x82RZ '), InnerOp(hash=1, prefix=b'\"\\xb4\\xe8\\x08\\xc2\\xfb\\x8e\\t ', suffix=b' U\\xca\\xc6\\x84d\\xda\\x0c,\\xc2\\x07d\\xf0 \\xc9\\x96\\xb9\\xce\\xcd[v\\xa3\\xed~\\x83J%j\\t\\x9b S\\xb9'), InnerOp(hash=1, prefix=b\"$\\xb4\\xe8\\x10\\xc2\\xfb\\x8e\\t \\xd9pj\\x1d\\xd3\\x9c\\x9e7\\xd7\\xa5d\\x9d'=\\x1a\\x19k\\xb9\\x8eU\\xcb\\xb9\\xda0\\xbdW\\x1br\\x1dLU~ \"), InnerOp(hash=1, prefix=b'&\\xb4\\xe8 \\xc2\\xfb\\x8e\\t ', suffix=b' 9No:\\xc7E\\xc1=\\xf0\\xcb\\xac\\x93\\xccP\\x11\\xbe\\x14u\\xb44\\xbf\\xd4\\xc6\\xecD\\x1d\\xc4\\x80{\\xa6\\xf9&'), InnerOp(hash=1, prefix=b'(\\xb4\\xe8@\\xc2\\xfb\\x8e\\t ', suffix=b' \\x1cK\\x045d\\xff\\xae\\xb7\\x17\\xc9w\\x9f\\xf5\\x87\\x1f\\xf9\\xd0y\\xb9ws`\\xa7\\xf4\\xa5\\x13\\xd5\\xa8s\\x19l\\xea'), InnerOp(hash=1, prefix=b'*\\xb4\\xe8\\x80\\x01\\xc2\\xfb\\x8e\\t ', suffix=b' jT\\x05?l\\x00\\xeb\\x8f7.\\xea<\\xb9\\x0f\\x92,\\x8c\\xa2%\\xbf\\xf7\\x08\\xe4Sr\\x8a+\\xb8\\x00\\x0e^\\xba'), InnerOp(hash=1, prefix=b'.\\xa0\\x9f\\x8d\\x02\\xc2\\xfb\\x8e\\t k\\x1e\\xa3\\x10\\x06\\xad-9\\xed\\xe8\\x89\\x84\\xa6\\xaa\\x98\\xeb\\x10z\\x81MoJ\\xd4\\x14\\xa1j\\xa8\\x88\\xff/\\xe1\\xf8 '), InnerOp(hash=1, prefix=b'2\\xa4\\x9d\\xe8\\x04\\xc2\\xfb\\x8e\\t ', suffix=b' \\xccO\\x0c<Br{\\xc9\\xe6\\xc9\\xe4\\x16\\xe7\\x00\\xe5\\x96\\x83\\x88\\x88\\xbb\\xf0\\x08\\xeb3\\xf1\\x83k\\x1d0\\x10wQ')])), CommitmentProof(exist=ExistenceProof(key=b'ibc', value=b'\\xaduR\\xf0\\xd8%${\\x9e\\xca\\xa0\\x9a\\x01\\xdf\\x9f.\\xf9\\xff\\x1d[\\xe7e\\xa8\\x15\\x1f\\xad\\x8b\\x92\\xec\\x1d:\\x8d', leaf=LeafOp(hash=1, prehash_value=1, length=1, prefix=b'\\x00'), path=[InnerOp(hash=1, prefix=b\"\\x01N\\x1d\\\\V;\\r\\xb0\\xff\\xdc\\xbao\\xc9}\\xc0\\xc7\\xb1;[\\\\\\x9c4\\x13W\\xf0\\x88'VPG\\xd6\\xc6\\xb9\"), InnerOp(hash=1, prefix=b'\\x01q\\x18V1\\xac\\xb0dY\\x84f\\x93|G\\xa9P\\xae(\\x9d*[\\xd8I\\xb8\\xdcx\\x99#\\x08\\xd5\\x07X\\xad'), InnerOp(hash=1, prefix=b'\\x01', suffix=b'4\\xc0\\xa2\\x10\\x1e\\xef\\x86\\x93\\xc3\\xba\\xd1\\xf4\\xdc\\xf4\\xa3i\\xb5\\xf1B\\xd8\\xc8\\x9a\\xc7\\xda\\xad\\xca\\xbci\\x9d\\x84b\\xe2'), InnerOp(hash=1, prefix=b'\\x01\\x86@\\xcai\\xdc>8\\x1cD_\\x19t\\xac&\\xef\\x8e\\xe1\\x94}[\\xaa\\xa3v\\x9cF\\x96j\\xed\\x83+Y\\xca'), InnerOp(hash=1, prefix=b'\\x01', suffix=b'\\x011\\x97R\\xccE\\x89K\\xabR\\x08\\xe9\\x8d\\xb5\\x80j,\\xc2\\xfb\\xaa\\xab^\\x19\\x1ag\\x9e\\xb0m\\xbe\\xa80k'), InnerOp(hash=1, prefix=b'\\x01', suffix=b'\\xfb5l\\x03\\xa6\\x15\\xc8\\xe3\\xfc..Z\\x96nz\\xbb\\xc0E\\xde\\x08\\xa5\\x9d\\xed4\\x90D\\x88\\xc1\\n\\xa9\\xfc\\xaa')]))])\n"
     ]
    }
   ],
   "source": [
    "#update client on inj & fetch the acknowledge proof\n",
    "\n",
    "time.sleep(10) #wait a few blocks\n",
    "update_client_msg = fabricate_update_client(osmo, osmo_rpc_url, inj_rpc_header, inj, inj_wallet, client_id_on_inj)\n",
    "update_client_before_channel_try_result = stargate_msg(\"/ibc.core.client.v1.MsgUpdateClient\", update_client_msg, inj_wallet, inj)\n",
    "header_height = Header.FromString(update_client_msg.header.value).signed_header.header.height\n",
    "\n",
    "osmo_client_trusted_height = header_height\n",
    "osmo_client_trusted_revision_number = inj.broadcaster.query(f\"/ibc/core/client/v1/client_states/{client_id_on_inj}\")[\"client_state\"][\"latest_height\"][\"revision_number\"]\n",
    "\n",
    "##fetch packetack proofs - acks/ports/{port_id}/channels/{channel_id}/sequences/{ack_sequence}\n",
    "params = {\n",
    "  \"path\": '\"/store/ibc/key\"',\n",
    "  \"data\": \"0x\" + bytes(f\"acks/ports/{ack_row['packet_dst_port']}/channels/{ack_row['packet_dst_channel']}/sequences/{ack_row['packet_sequence']}\", \"ascii\").hex(),\n",
    "  \"prove\": \"true\",\n",
    "  \"height\": int(osmo_client_trusted_height) - 1,\n",
    "}\n",
    "resp = requests.get(f\"{osmo_rpc_url }/abci_query\", headers=inj_rpc_header, params=params).json()\n",
    "proofs = [CommitmentProof.FromString(b64_to_bytes(x[\"data\"])) for x in resp[\"result\"][\"response\"][\"proofOps\"][\"ops\"]]\n",
    "ack_proof = MerkleProof(proofs=proofs)\n",
    "\n",
    "print(ack_proof)"
   ]
  },
  {
   "cell_type": "code",
   "execution_count": 23,
   "id": "964cb3a8-9554-4de9-b8cf-83a33f768177",
   "metadata": {},
   "outputs": [
    {
     "name": "stdout",
     "output_type": "stream",
     "text": [
      "{'tx_response': {'height': '9200304', 'txhash': 'C8428AD4A5B7D5C0FBD360DEC1AC81E65B69678B3EC146272CDBBAA863EC1B79', 'codespace': '', 'code': 0, 'data': '0A2D0A272F6962632E636F72652E6368616E6E656C2E76312E4D736741636B6E6F776C656467656D656E7412020802', 'raw_log': '[{\"events\":[{\"type\":\"acknowledge_packet\",\"attributes\":[{\"key\":\"packet_timeout_height\",\"value\":\"0-0\"},{\"key\":\"packet_timeout_timestamp\",\"value\":\"1678830654441806271\"},{\"key\":\"packet_sequence\",\"value\":\"1\"},{\"key\":\"packet_src_port\",\"value\":\"wasm.inj10mp9hu2mjh7md53t2adp9s70cn8dfjsnnd4w55\"},{\"key\":\"packet_src_channel\",\"value\":\"channel-42\"},{\"key\":\"packet_dst_port\",\"value\":\"wasm.osmo1dya5jdc5dqnqvf8y8j03x22ptrw2w7tkrz7p53gkgyt28sjth5asu9up3s\"},{\"key\":\"packet_dst_channel\",\"value\":\"channel-3037\"},{\"key\":\"packet_channel_ordering\",\"value\":\"ORDER_UNORDERED\"},{\"key\":\"packet_connection\",\"value\":\"connection-69\"}]},{\"type\":\"message\",\"attributes\":[{\"key\":\"action\",\"value\":\"/ibc.core.channel.v1.MsgAcknowledgement\"},{\"key\":\"module\",\"value\":\"ibc_channel\"}]},{\"type\":\"wasm\",\"attributes\":[{\"key\":\"_contract_address\",\"value\":\"inj10mp9hu2mjh7md53t2adp9s70cn8dfjsnnd4w55\"},{\"key\":\"action\",\"value\":\"acknowledge_who_am_i\"}]}]}]', 'logs': [{'msg_index': 0, 'log': '', 'events': [{'type': 'acknowledge_packet', 'attributes': [{'key': 'packet_timeout_height', 'value': '0-0'}, {'key': 'packet_timeout_timestamp', 'value': '1678830654441806271'}, {'key': 'packet_sequence', 'value': '1'}, {'key': 'packet_src_port', 'value': 'wasm.inj10mp9hu2mjh7md53t2adp9s70cn8dfjsnnd4w55'}, {'key': 'packet_src_channel', 'value': 'channel-42'}, {'key': 'packet_dst_port', 'value': 'wasm.osmo1dya5jdc5dqnqvf8y8j03x22ptrw2w7tkrz7p53gkgyt28sjth5asu9up3s'}, {'key': 'packet_dst_channel', 'value': 'channel-3037'}, {'key': 'packet_channel_ordering', 'value': 'ORDER_UNORDERED'}, {'key': 'packet_connection', 'value': 'connection-69'}]}, {'type': 'message', 'attributes': [{'key': 'action', 'value': '/ibc.core.channel.v1.MsgAcknowledgement'}, {'key': 'module', 'value': 'ibc_channel'}]}, {'type': 'wasm', 'attributes': [{'key': '_contract_address', 'value': 'inj10mp9hu2mjh7md53t2adp9s70cn8dfjsnnd4w55'}, {'key': 'action', 'value': 'acknowledge_who_am_i'}]}]}], 'info': '', 'gas_wanted': '3000000', 'gas_used': '109758', 'tx': None, 'timestamp': '', 'events': [{'type': 'tx', 'attributes': [{'key': 'YWNjX3NlcQ==', 'value': 'aW5qMWRjNnJyeGhmamF4ZXh6ZGNyZWM1dzNyeWw0am42eDV0N3Q5ajN6LzY0MA==', 'index': True}]}, {'type': 'tx', 'attributes': [{'key': 'c2lnbmF0dXJl', 'value': 'Z0MvTTdpYXZMZFlzSTBJQ0ppMEs0NnJaR0JmaHNid3l2NjFDZjNvQVIwZG50QTNTbUlqc3Z3SGJSZTFHcUtuNjFpOEt1TjA3MUZPT0lZMCtzU1YvWnc9PQ==', 'index': True}]}, {'type': 'coin_spent', 'attributes': [{'key': 'c3BlbmRlcg==', 'value': 'aW5qMWRjNnJyeGhmamF4ZXh6ZGNyZWM1dzNyeWw0am42eDV0N3Q5ajN6', 'index': True}, {'key': 'YW1vdW50', 'value': 'MTUwMDAwMDAwMDAwMDAwMGluag==', 'index': True}]}, {'type': 'coin_received', 'attributes': [{'key': 'cmVjZWl2ZXI=', 'value': 'aW5qMTd4cGZ2YWttMmFtZzk2MnlsczZmODR6M2tlbGw4YzVsNnM1eWU5', 'index': True}, {'key': 'YW1vdW50', 'value': 'MTUwMDAwMDAwMDAwMDAwMGluag==', 'index': True}]}, {'type': 'transfer', 'attributes': [{'key': 'cmVjaXBpZW50', 'value': 'aW5qMTd4cGZ2YWttMmFtZzk2MnlsczZmODR6M2tlbGw4YzVsNnM1eWU5', 'index': True}, {'key': 'c2VuZGVy', 'value': 'aW5qMWRjNnJyeGhmamF4ZXh6ZGNyZWM1dzNyeWw0am42eDV0N3Q5ajN6', 'index': True}, {'key': 'YW1vdW50', 'value': 'MTUwMDAwMDAwMDAwMDAwMGluag==', 'index': True}]}, {'type': 'message', 'attributes': [{'key': 'c2VuZGVy', 'value': 'aW5qMWRjNnJyeGhmamF4ZXh6ZGNyZWM1dzNyeWw0am42eDV0N3Q5ajN6', 'index': True}]}, {'type': 'tx', 'attributes': [{'key': 'ZmVl', 'value': 'MTUwMDAwMDAwMDAwMDAwMGluag==', 'index': True}, {'key': 'ZmVlX3BheWVy', 'value': 'aW5qMWRjNnJyeGhmamF4ZXh6ZGNyZWM1dzNyeWw0am42eDV0N3Q5ajN6', 'index': True}]}, {'type': 'message', 'attributes': [{'key': 'YWN0aW9u', 'value': 'L2liYy5jb3JlLmNoYW5uZWwudjEuTXNnQWNrbm93bGVkZ2VtZW50', 'index': True}]}, {'type': 'acknowledge_packet', 'attributes': [{'key': 'cGFja2V0X3RpbWVvdXRfaGVpZ2h0', 'value': 'MC0w', 'index': True}, {'key': 'cGFja2V0X3RpbWVvdXRfdGltZXN0YW1w', 'value': 'MTY3ODgzMDY1NDQ0MTgwNjI3MQ==', 'index': True}, {'key': 'cGFja2V0X3NlcXVlbmNl', 'value': 'MQ==', 'index': True}, {'key': 'cGFja2V0X3NyY19wb3J0', 'value': 'd2FzbS5pbmoxMG1wOWh1Mm1qaDdtZDUzdDJhZHA5czcwY244ZGZqc25uZDR3NTU=', 'index': True}, {'key': 'cGFja2V0X3NyY19jaGFubmVs', 'value': 'Y2hhbm5lbC00Mg==', 'index': True}, {'key': 'cGFja2V0X2RzdF9wb3J0', 'value': 'd2FzbS5vc21vMWR5YTVqZGM1ZHFucXZmOHk4ajAzeDIycHRydzJ3N3Rrcno3cDUzZ2tneXQyOHNqdGg1YXN1OXVwM3M=', 'index': True}, {'key': 'cGFja2V0X2RzdF9jaGFubmVs', 'value': 'Y2hhbm5lbC0zMDM3', 'index': True}, {'key': 'cGFja2V0X2NoYW5uZWxfb3JkZXJpbmc=', 'value': 'T1JERVJfVU5PUkRFUkVE', 'index': True}, {'key': 'cGFja2V0X2Nvbm5lY3Rpb24=', 'value': 'Y29ubmVjdGlvbi02OQ==', 'index': True}]}, {'type': 'message', 'attributes': [{'key': 'bW9kdWxl', 'value': 'aWJjX2NoYW5uZWw=', 'index': True}]}, {'type': 'wasm', 'attributes': [{'key': 'X2NvbnRyYWN0X2FkZHJlc3M=', 'value': 'aW5qMTBtcDlodTJtamg3bWQ1M3QyYWRwOXM3MGNuOGRmanNubmQ0dzU1', 'index': True}, {'key': 'YWN0aW9u', 'value': 'YWNrbm93bGVkZ2Vfd2hvX2FtX2k=', 'index': True}]}]}}\n",
      "                         key  \\\n",
      "0      packet_timeout_height   \n",
      "1   packet_timeout_timestamp   \n",
      "2            packet_sequence   \n",
      "3            packet_src_port   \n",
      "4         packet_src_channel   \n",
      "5            packet_dst_port   \n",
      "6         packet_dst_channel   \n",
      "7    packet_channel_ordering   \n",
      "8          packet_connection   \n",
      "9                     action   \n",
      "10                    module   \n",
      "11         _contract_address   \n",
      "12                    action   \n",
      "\n",
      "                                                value  \n",
      "0                                                 0-0  \n",
      "1                                 1678830654441806271  \n",
      "2                                                   1  \n",
      "3     wasm.inj10mp9hu2mjh7md53t2adp9s70cn8dfjsnnd4w55  \n",
      "4                                          channel-42  \n",
      "5   wasm.osmo1dya5jdc5dqnqvf8y8j03x22ptrw2w7tkrz7p...  \n",
      "6                                        channel-3037  \n",
      "7                                     ORDER_UNORDERED  \n",
      "8                                       connection-69  \n",
      "9             /ibc.core.channel.v1.MsgAcknowledgement  \n",
      "10                                        ibc_channel  \n",
      "11         inj10mp9hu2mjh7md53t2adp9s70cn8dfjsnnd4w55  \n",
      "12                               acknowledge_who_am_i  \n"
     ]
    }
   ],
   "source": [
    "#fabricate message & dispatch via stargate\n",
    "\n",
    "msg = MsgAcknowledgement(\n",
    "  packet=packet_to_relay,\n",
    "  acknowledgement=hexstring_to_bytes(ack_row[\"packet_ack_hex\"]),\n",
    "  proof_acked=ack_proof.SerializeToString(),\n",
    "  proof_height=Height(int(osmo_client_trusted_revision_number), int(osmo_client_trusted_height)),\n",
    "  signer=inj_wallet.key.acc_address,\n",
    ")\n",
    "\n",
    "relay_ack_result = stargate_msg(\"/ibc.core.channel.v1.MsgAcknowledgement\", msg, inj_wallet, inj)\n",
    "print(relay_ack_result)\n",
    "relay_ack_result_df = pd.DataFrame([y for x in [x[\"attributes\"] for x in relay_ack_result[\"tx_response\"][\"logs\"][0][\"events\"]] for y in x])\n",
    "\n",
    "print(relay_ack_result_df)"
   ]
  },
  {
   "cell_type": "code",
   "execution_count": 25,
   "id": "db64eab4-4924-48db-abcf-6ab71f0e96e4",
   "metadata": {},
   "outputs": [
    {
     "name": "stdout",
     "output_type": "stream",
     "text": [
      "{'accounts': [{'channel_id': 'channel-42', 'last_update_time': '0', 'remote_addr': 'osmo1a2xfdqf85uzf2zv5c3kr4x2wz4p3ya8kqtjkeg8jk5s4ylfmdwnsf59892', 'remote_balance': []}]}\n"
     ]
    }
   ],
   "source": [
    "#query the controller contract to confirm its account state reflects\n",
    "print(inj.wasm.contract_query(controller_address, {\"list_accounts\":{}}))"
   ]
  },
  {
   "cell_type": "code",
   "execution_count": 26,
   "id": "37c58b14-3d71-49a6-a8b5-0e0edef3033b",
   "metadata": {},
   "outputs": [
    {
     "name": "stdout",
     "output_type": "stream",
     "text": [
      "{'client_id_on_inj': '07-tendermint-87', 'client_id_on_osmo': '07-tendermint-4298', 'connection_id_on_inj': 'connection-69', 'connection_id_on_osmo': 'connection-3714', 'channel_id_on_inj': 'channel-42', 'channel_id_on_osmo': 'channel-3037', 'port_id_on_inj': 'wasm.inj10mp9hu2mjh7md53t2adp9s70cn8dfjsnnd4w55', 'port_id_on_osmo': 'wasm.osmo1dya5jdc5dqnqvf8y8j03x22ptrw2w7tkrz7p53gkgyt28sjth5asu9up3s', 'controller_address': 'inj10mp9hu2mjh7md53t2adp9s70cn8dfjsnnd4w55', 'host_address': 'osmo1dya5jdc5dqnqvf8y8j03x22ptrw2w7tkrz7p53gkgyt28sjth5asu9up3s', 'last_relayed_height_on_inj': 9200269, 'last_relayed_height_on_osmo': 9559788, 'last_ack_height_on_inj': 9200269, 'last_ack_height_on_osmo': 9559788}\n"
     ]
    }
   ],
   "source": [
    "#persist channel and port information for regular packet/ack relaying in the next notebook (optional)\n",
    "\n",
    "context[\"channel_id_on_inj\"] = channel_id_on_inj\n",
    "context[\"channel_id_on_osmo\"] = channel_id_on_osmo\n",
    "context[\"port_id_on_inj\"] = controller_port\n",
    "context[\"port_id_on_osmo\"] = host_port\n",
    "context[\"controller_address\"] = controller_address\n",
    "context[\"host_address\"] = host_address\n",
    "context[\"last_relayed_height_on_inj\"] = inj_client_trusted_height\n",
    "context[\"last_relayed_height_on_osmo\"] = osmo_client_trusted_height\n",
    "context[\"last_ack_height_on_inj\"] = inj_client_trusted_height\n",
    "context[\"last_ack_height_on_osmo\"] = osmo_client_trusted_height\n",
    "\n",
    "print(context)\n",
    "\n",
    "with open(\"context.json\", \"w\") as f:\n",
    "    # Write the dictionary to the file as a JSON string\n",
    "    json.dump(context, f)"
   ]
  },
  {
   "cell_type": "code",
   "execution_count": null,
   "id": "5d9e1655-707f-44e2-960c-1c47c2c1b6a7",
   "metadata": {},
   "outputs": [],
   "source": []
  }
 ],
 "metadata": {
  "kernelspec": {
   "display_name": "Python 3 (ipykernel)",
   "language": "python",
   "name": "python3"
  },
  "language_info": {
   "codemirror_mode": {
    "name": "ipython",
    "version": 3
   },
   "file_extension": ".py",
   "mimetype": "text/x-python",
   "name": "python",
   "nbconvert_exporter": "python",
   "pygments_lexer": "ipython3",
   "version": "3.8.15"
  }
 },
 "nbformat": 4,
 "nbformat_minor": 5
}
