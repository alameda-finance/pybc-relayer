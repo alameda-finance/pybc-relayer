{
 "cells": [
  {
   "cell_type": "markdown",
   "id": "3072ea46-1496-489d-910d-bd5fc609be2b",
   "metadata": {},
   "source": [
    "At this point, we have a bonafide IBC connection between terra and osmosis that is ready to service communication between any two \"ports\" (or smart contracts). \n",
    "\n",
    "In this tutorial, we will setup confio's ica contracts (https://github.com/confio/cw-ibc-demo), with the controller contract (port) on terra and the host contract (port) on osmosis.\n",
    "\n",
    "One important note: during the channel setup process, the controller dispatches a separate IBC packet (message) that needs to be relayed with an hour timeout."
   ]
  },
  {
   "cell_type": "code",
   "execution_count": null,
   "id": "ce9ce729-33ff-4f50-b81c-b28af8d6d2e0",
   "metadata": {},
   "outputs": [],
   "source": []
  },
  {
   "cell_type": "code",
   "execution_count": 1,
   "id": "f3a9361a-ec45-4ef7-9a70-9ea25a47395f",
   "metadata": {},
   "outputs": [],
   "source": [
    "#imports"
   ]
  },
  {
   "cell_type": "code",
   "execution_count": null,
   "id": "6ee2c7ff-52f5-4c30-8713-fa38f77f6807",
   "metadata": {},
   "outputs": [],
   "source": [
    "#setup lcd clients, rpc urls, wallets"
   ]
  },
  {
   "cell_type": "code",
   "execution_count": null,
   "id": "4120dd09-34aa-420c-9afa-673e5a4b553b",
   "metadata": {},
   "outputs": [],
   "source": [
    "#protobuf imports"
   ]
  },
  {
   "cell_type": "code",
   "execution_count": null,
   "id": "c0c2b16f-231c-4fa8-b5d4-949692b15293",
   "metadata": {},
   "outputs": [],
   "source": [
    "#load ibc client & connection information from previous notebooks"
   ]
  },
  {
   "cell_type": "markdown",
   "id": "092b54d5-8a9f-4717-b5c6-85a64b45dd97",
   "metadata": {},
   "source": [
    "Setting up the smart contracts is the normal standard process, but ibc-enabled contracts will also automatically generate its IBC port."
   ]
  },
  {
   "cell_type": "code",
   "execution_count": 2,
   "id": "47666448-4ef6-4b55-b6cc-656dd566f9c2",
   "metadata": {},
   "outputs": [],
   "source": [
    "#load wasms & instantiate contracts\n",
    "#fetch ibc ports"
   ]
  },
  {
   "cell_type": "markdown",
   "id": "a12b4b99-7f66-4e60-8ec6-df8d616bdc20",
   "metadata": {},
   "source": [
    "IBC channel setup is a 4-step handshake between the two ports (the controller and host smart contracts in this case) - 1) init, 2) try, 3) ack, 4) confirm.\n",
    "\n",
    "Connecting two IBC ports through an IBC channel is conceptually and procedurally analogous to connecting two IBC clients through an IBC connection."
   ]
  },
  {
   "cell_type": "markdown",
   "id": "28293e00-3141-4eb6-a6ac-4aac38d526f9",
   "metadata": {},
   "source": [
    "###########################################################################################################################"
   ]
  },
  {
   "cell_type": "markdown",
   "id": "342fc3aa-7904-41fd-9a40-269520d0246b",
   "metadata": {},
   "source": [
    "IBC channel step 1 - MsgChannelOpenInit\n",
    "\n",
    "Note that the port (the controller contract) has a hook that executes custom logic https://github.com/confio/cw-ibc-demo/blob/ce3112721e3b1d7650d848823e3055b2c2328d13/contracts/simple-ica-controller/src/ibc.rs#L24 "
   ]
  },
  {
   "cell_type": "code",
   "execution_count": 6,
   "id": "29ed0990-2b9e-4947-ae7a-b37a495d6fe2",
   "metadata": {},
   "outputs": [],
   "source": [
    "#fabricate message & dispatch via stargate"
   ]
  },
  {
   "cell_type": "markdown",
   "id": "993153ed-190a-4acb-b660-a4549556c352",
   "metadata": {},
   "source": [
    "IBC channel step 2 - MsgChannelOpenTry\n",
    "\n",
    "Note that the port (the host contract) also has a hook that executes custom logic https://github.com/confio/cw-ibc-demo/blob/ce3112721e3b1d7650d848823e3055b2c2328d13/contracts/simple-ica-host/src/contract.rs#L71"
   ]
  },
  {
   "cell_type": "code",
   "execution_count": 5,
   "id": "1a6394d7-e71a-4462-b0e6-bd4bfaac1bfc",
   "metadata": {
    "tags": []
   },
   "outputs": [],
   "source": [
    "#update the client_id on osmosis (ie, refresh osmosis's knowledge of terra's tendermint state)"
   ]
  },
  {
   "cell_type": "code",
   "execution_count": null,
   "id": "7d04d8cf-755f-4940-ac33-bd91b03d307f",
   "metadata": {},
   "outputs": [],
   "source": [
    "#fetch channel proof"
   ]
  },
  {
   "cell_type": "code",
   "execution_count": null,
   "id": "2f48ea31-99dd-4000-a380-14530ca19b54",
   "metadata": {},
   "outputs": [],
   "source": [
    "#fabricate message & dispatch via stargate"
   ]
  },
  {
   "cell_type": "markdown",
   "id": "35ac167b-fbf3-4655-95f3-eff530ad1a6f",
   "metadata": {},
   "source": [
    "IBC channel step 3 - MsgChannelOpenAck\n",
    "\n",
    "Note that the port (the controller contract) has a hook that dispatches a separate IBC packet (message) https://github.com/confio/cw-ibc-demo/blob/ce3112721e3b1d7650d848823e3055b2c2328d13/contracts/simple-ica-controller/src/ibc.rs#L41"
   ]
  },
  {
   "cell_type": "code",
   "execution_count": null,
   "id": "3ad245ea-9c27-429d-b5c8-5df8ff6b5099",
   "metadata": {},
   "outputs": [],
   "source": [
    "#update client on terra (ie, refresh terra's knowledge of osmosis's tendermint state) & fetch channel proof"
   ]
  },
  {
   "cell_type": "code",
   "execution_count": 7,
   "id": "ebb4ddfd-c6cb-47d9-8a95-6cc71b62d417",
   "metadata": {},
   "outputs": [],
   "source": [
    "#fabricate message & dispatch via stargate"
   ]
  },
  {
   "cell_type": "code",
   "execution_count": null,
   "id": "5b1f079c-4937-413b-8c1c-cbada26bf7f5",
   "metadata": {},
   "outputs": [],
   "source": [
    "#parse the ibc who_am_i packet for relay after channel setup is complete"
   ]
  },
  {
   "cell_type": "markdown",
   "id": "7d22c615-8ebf-4216-b940-6cfc91881126",
   "metadata": {},
   "source": [
    "IBC channel step 4 - MsgChannelOpenConfirm\n",
    "\n",
    "Note that the port (the host contract) hook https://github.com/confio/cw-ibc-demo/blob/ce3112721e3b1d7650d848823e3055b2c2328d13/contracts/simple-ica-host/src/contract.rs#L93"
   ]
  },
  {
   "cell_type": "code",
   "execution_count": null,
   "id": "df3060b2-488c-44b5-b62e-6a5c185aebf6",
   "metadata": {},
   "outputs": [],
   "source": [
    "#update client again on osmosis & fetch proofs"
   ]
  },
  {
   "cell_type": "code",
   "execution_count": null,
   "id": "1fff1069-736e-41cc-a421-7f3fb3de1d95",
   "metadata": {},
   "outputs": [],
   "source": [
    "#fabricate message & dispatch via stargate"
   ]
  },
  {
   "cell_type": "markdown",
   "id": "8ed7a179-633d-4fb4-b906-78f1f81c8a55",
   "metadata": {},
   "source": [
    "At this point, the IBC channel connecting the ica contracts is setup! \n",
    "\n",
    "However, the IBC packet dispatched in the ChannelOpenAck step needs to be relayed/acked to complete the ica contract setup (specific to the contracts)."
   ]
  },
  {
   "cell_type": "code",
   "execution_count": 8,
   "id": "83c1cdb7-6122-48c8-b042-14a747977f89",
   "metadata": {},
   "outputs": [],
   "source": [
    "#update client again on osmosis & fetch the packet proof"
   ]
  },
  {
   "cell_type": "code",
   "execution_count": 9,
   "id": "19ddbccf-1ae9-4263-96e5-3edb1a924c5d",
   "metadata": {},
   "outputs": [],
   "source": [
    "#fabricate message & dispatch via stargate"
   ]
  },
  {
   "cell_type": "code",
   "execution_count": 10,
   "id": "1ff1eb8f-8706-4690-ac32-ebb2457ad3d2",
   "metadata": {},
   "outputs": [],
   "source": [
    "#parse the acknowledge packet (message) for the ack relay back to the controller smart contract"
   ]
  },
  {
   "cell_type": "markdown",
   "id": "db3d036d-43ed-41a1-85e1-35f2eceb3c35",
   "metadata": {},
   "source": [
    "The packet acknowledgement contains the host contract's response to the controller contract's who_am_i request. The final relaying of this ack concludes successful setup of an ibc channel between two ica contract ports."
   ]
  },
  {
   "cell_type": "code",
   "execution_count": 11,
   "id": "84d4d1a3-a981-459f-8939-7711c4ed6865",
   "metadata": {},
   "outputs": [],
   "source": [
    "#update client on terra & fetch the acknowledge proof"
   ]
  },
  {
   "cell_type": "code",
   "execution_count": 12,
   "id": "964cb3a8-9554-4de9-b8cf-83a33f768177",
   "metadata": {},
   "outputs": [],
   "source": [
    "#fabricate message & dispatch via stargate"
   ]
  },
  {
   "cell_type": "code",
   "execution_count": 13,
   "id": "db64eab4-4924-48db-abcf-6ab71f0e96e4",
   "metadata": {},
   "outputs": [],
   "source": [
    "#query the controller contract to confirm its account state reflects"
   ]
  },
  {
   "cell_type": "code",
   "execution_count": null,
   "id": "37c58b14-3d71-49a6-a8b5-0e0edef3033b",
   "metadata": {},
   "outputs": [],
   "source": [
    "#persist channel and port information for regular packet/ack relaying in the next notebook (optional)"
   ]
  }
 ],
 "metadata": {
  "kernelspec": {
   "display_name": "Python 3 (ipykernel)",
   "language": "python",
   "name": "python3"
  },
  "language_info": {
   "codemirror_mode": {
    "name": "ipython",
    "version": 3
   },
   "file_extension": ".py",
   "mimetype": "text/x-python",
   "name": "python",
   "nbconvert_exporter": "python",
   "pygments_lexer": "ipython3",
   "version": "3.8.15"
  }
 },
 "nbformat": 4,
 "nbformat_minor": 5
}
