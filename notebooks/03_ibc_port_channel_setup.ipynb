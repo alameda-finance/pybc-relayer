{
 "cells": [
  {
   "cell_type": "markdown",
   "id": "3072ea46-1496-489d-910d-bd5fc609be2b",
   "metadata": {},
   "source": [
    "## At this point, we have a bonafide IBC connection between terra and osmosis that is ready to service communication between any two \"ports\" (or smart contracts). \n",
    "\n",
    "## In this tutorial, we will setup confio's ica contracts (https://github.com/confio/cw-ibc-demo), with the controller contract (port) on terra and the host contract (port) on osmosis.\n",
    "\n",
    "## One important note: during the channel setup process, the controller dispatches a separate IBC packet (message) that needs to be relayed with an hour timeout."
   ]
  },
  {
   "cell_type": "code",
   "execution_count": null,
   "id": "ce9ce729-33ff-4f50-b81c-b28af8d6d2e0",
   "metadata": {},
   "outputs": [],
   "source": []
  },
  {
   "cell_type": "code",
   "execution_count": null,
   "id": "f3a9361a-ec45-4ef7-9a70-9ea25a47395f",
   "metadata": {
    "jupyter": {
     "source_hidden": true
    },
    "tags": []
   },
   "outputs": [],
   "source": [
    "#imports\n",
    "\n",
    "import pandas as pd\n",
    "import json\n",
    "import os\n",
    "import sys\n",
    "import base64\n",
    "import requests\n",
    "import subprocess\n",
    "import math\n",
    "import hashlib\n",
    "import bech32\n",
    "import time\n",
    "\n",
    "from dateutil.parser import parse\n",
    "from datetime import datetime, timedelta\n",
    "from ecdsa import SECP256k1, SigningKey\n",
    "from ecdsa.util import sigencode_string_canonize\n",
    "from bech32 import bech32_decode, bech32_encode, convertbits\n",
    "from google.protobuf.timestamp_pb2 import Timestamp as googTimestamp\n",
    "\n",
    "from terra_sdk.client.lcd import LCDClient\n",
    "from terra_sdk.core.wasm import MsgStoreCode, MsgInstantiateContract, MsgExecuteContract\n",
    "from terra_sdk.core.bank import MsgSend\n",
    "from terra_sdk.core.fee import Fee\n",
    "from terra_sdk.key.mnemonic import MnemonicKey\n",
    "from terra_sdk.core.bech32 import get_bech\n",
    "from terra_sdk.core import AccAddress, Coin, Coins\n",
    "from terra_sdk.client.lcd.api.tx import CreateTxOptions, SignerOptions\n",
    "from terra_sdk.client.localterra import LocalTerra\n",
    "from terra_sdk.core.wasm.data import AccessConfig\n",
    "from terra_sdk.client.lcd.api._base import BaseAsyncAPI, sync_bind\n",
    "\n",
    "from terra_proto.cosmwasm.wasm.v1 import AccessType\n",
    "from terra_proto.cosmos.tx.v1beta1 import Tx, TxBody, AuthInfo, SignDoc, SignerInfo, ModeInfo, ModeInfoSingle, BroadcastTxResponse\n",
    "from terra_proto.cosmos.base.abci.v1beta1 import TxResponse\n",
    "from terra_proto.cosmos.tx.signing.v1beta1 import SignMode\n",
    "from terra_proto.ibc.core.client.v1 import MsgCreateClient, Height, MsgUpdateClient, QueryClientStateRequest, QueryClientStateResponse\n",
    "from terra_proto.ibc.core.channel.v1 import MsgChannelOpenInit, Channel, State, Order, Counterparty, MsgChannelOpenTry, MsgChannelOpenAck, MsgChannelOpenConfirm, QueryUnreceivedPacketsRequest, QueryUnreceivedPacketsResponse, QueryPacketCommitmentRequest, QueryPacketCommitmentResponse, Packet, QueryNextSequenceReceiveRequest, QueryNextSequenceReceiveResponse, MsgRecvPacket, MsgTimeout, QueryUnreceivedAcksRequest, QueryUnreceivedAcksResponse, MsgAcknowledgement\n",
    "from terra_proto.ibc.core.connection.v1 import MsgConnectionOpenInit, Counterparty as ConnectionCounterParty, Version, MsgConnectionOpenTry, MsgConnectionOpenAck, MsgConnectionOpenConfirm\n",
    "from terra_proto.ibc.lightclients.tendermint.v1 import ClientState, ConsensusState, Fraction, Header\n",
    "from terra_proto.ics23 import HashOp, LengthOp, LeafOp, InnerOp, ProofSpec, InnerSpec, CommitmentProof, ExistenceProof, NonExistenceProof, BatchProof, CompressedBatchProof, BatchEntry, CompressedBatchEntry, CompressedExistenceProof, CompressedNonExistenceProof\n",
    "from terra_proto.ibc.core.commitment.v1 import MerkleRoot, MerklePrefix, MerkleProof\n",
    "from terra_proto.tendermint.types import ValidatorSet, Validator, SignedHeader, Header as tendermintHeader, Commit, BlockId, PartSetHeader, CommitSig, BlockIdFlag\n",
    "from terra_proto.tendermint.version import Consensus\n",
    "from terra_proto.tendermint.crypto import PublicKey\n",
    "from betterproto.lib.google.protobuf import Any\n",
    "from betterproto import Timestamp\n",
    "\n",
    "#misc helper functions\n",
    "sys.path.append(os.path.join(os.path.dirname(__name__), '..', 'scripts'))\n",
    "\n",
    "from helpers import proto_to_binary, timestamp_string_to_proto, stargate_msg, create_ibc_client, fetch_chain_objects, bech32_to_hexstring, hexstring_to_bytes, bech32_to_b64, b64_to_bytes, fabricate_update_client, fetch_proofs, deploy_local_wasm, init_contract, execute_msg, fetch_channel_proof"
   ]
  },
  {
   "cell_type": "code",
   "execution_count": null,
   "id": "6ee2c7ff-52f5-4c30-8713-fa38f77f6807",
   "metadata": {},
   "outputs": [],
   "source": [
    "#setup lcd clients, rpc urls, wallets\n",
    "(terra, wallet, terra_rpc_url, terra_rpc_header) = fetch_chain_objects(\"pisco-1\")\n",
    "(osmo, osmo_wallet, osmo_rpc_url, osmo_rpc_header) = fetch_chain_objects(\"osmo-test-4\")"
   ]
  },
  {
   "cell_type": "code",
   "execution_count": null,
   "id": "4120dd09-34aa-420c-9afa-673e5a4b553b",
   "metadata": {},
   "outputs": [],
   "source": [
    "#terra_proto imports\n",
    "from terra_proto.ibc.core.channel.v1 import MsgChannelOpenInit, Channel, State, Order, Counterparty, MsgChannelOpenTry, MsgChannelOpenAck, MsgChannelOpenConfirm, QueryUnreceivedPacketsRequest, QueryUnreceivedPacketsResponse, QueryPacketCommitmentRequest, QueryPacketCommitmentResponse, Packet, QueryNextSequenceReceiveRequest, QueryNextSequenceReceiveResponse, MsgRecvPacket, MsgTimeout, QueryUnreceivedAcksRequest, QueryUnreceivedAcksResponse, MsgAcknowledgement\n",
    "from terra_proto.ibc.core.client.v1 import MsgCreateClient, Height, MsgUpdateClient, QueryClientStateRequest, QueryClientStateResponse"
   ]
  },
  {
   "cell_type": "code",
   "execution_count": null,
   "id": "c0c2b16f-231c-4fa8-b5d4-949692b15293",
   "metadata": {},
   "outputs": [],
   "source": [
    "#load ibc client & connection information from previous notebooks\n",
    "context = {}\n",
    "# Open the file for reading\n",
    "with open(\"context.json\", \"r\") as f:\n",
    "    # Load the dictionary from the file\n",
    "    context = json.load(f)\n",
    "    \n",
    "client_id_on_terra = context[\"client_id_on_terra\"]\n",
    "client_id_on_osmo = context[\"client_id_on_osmo\"]\n",
    "connection_id_on_terra = context[\"connection_id_on_terra\"]\n",
    "connection_id_on_osmo = context[\"connection_id_on_osmo\"]"
   ]
  },
  {
   "cell_type": "markdown",
   "id": "092b54d5-8a9f-4717-b5c6-85a64b45dd97",
   "metadata": {},
   "source": [
    "## Setting up the smart contracts is the normal standard process, but ibc-enabled contracts will also automatically generate its IBC port."
   ]
  },
  {
   "cell_type": "code",
   "execution_count": null,
   "id": "47666448-4ef6-4b55-b6cc-656dd566f9c2",
   "metadata": {},
   "outputs": [],
   "source": [
    "#load wasms & instantiate contracts\n",
    "\n",
    "##from scratch code upload\n",
    "#ica_controller_code_id = deploy_local_wasm(\"/repos/cw-ibc-demo/artifacts/simple_ica_controller.wasm\", wallet, terra)\n",
    "#osmo_ica_host_code_id = deploy_local_wasm(\"/repos/cw-ibc-demo/artifacts/simple_ica_host.wasm\", osmo_wallet, osmo)\n",
    "#osmo_cw1_code_id = deploy_local_wasm(\"/repos/cw-plus/artifacts/cw1_whitelist.wasm\", osmo_wallet, osmo)\n",
    "\n",
    "#using already uploaded code ids\n",
    "ica_controller_code_id = '6284'\n",
    "osmo_ica_host_code_id = '4692'\n",
    "osmo_cw1_code_id = '4693'\n",
    "\n",
    "#osmo_ica_host_code_id = deploy_local_wasm(\"/repos/cw-ibc-demo/artifacts/simple_ica_host.wasm\", osmo_wallet, osmo)\n",
    "#osmo_cw1_code_id = deploy_local_wasm(\"/repos/cw-plus/artifacts/cw1_whitelist.wasm\", osmo_wallet, osmo)\n",
    "\n",
    "#controller\n",
    "init_msg = {\n",
    "}\n",
    "controller_result = init_contract(ica_controller_code_id, init_msg, wallet, terra, \"ica_controller\")\n",
    "controller_address = controller_result.logs[0].events_by_type[\"wasm\"][\"_contract_address\"][0]\n",
    "\n",
    "#host\n",
    "init_msg = {\n",
    "  \"cw1_code_id\": int(osmo_cw1_code_id),\n",
    "}\n",
    "host_result = init_contract(osmo_ica_host_code_id, init_msg, osmo_wallet, osmo, \"ica_host\")\n",
    "host_address = host_result.logs[0].events_by_type[\"instantiate\"][\"_contract_address\"][0]\n",
    "\n",
    "#contracts automatically generate an ibc port\n",
    "controller_port = terra.wasm.contract_info(controller_address)[\"ibc_port_id\"]\n",
    "host_port = osmo.wasm.contract_info(host_address)[\"ibc_port_id\"]\n",
    "\n",
    "print(f\"\"\"\n",
    "ica_controller_code_id on terra: {ica_controller_code_id}\n",
    "ica_host_code_id on osmo: {osmo_ica_host_code_id}\n",
    "cw1_code_id on osmo: {osmo_cw1_code_id}\n",
    "\n",
    "controller_address: {controller_address}\n",
    "host_address: {host_address}\n",
    "\n",
    "controller_port: {controller_port}\n",
    "host_port: {host_port}\n",
    "\"\"\")\n"
   ]
  },
  {
   "cell_type": "markdown",
   "id": "a12b4b99-7f66-4e60-8ec6-df8d616bdc20",
   "metadata": {},
   "source": [
    "## IBC channel setup is a 4-step handshake between the two ports (the controller and host smart contracts in this case) - 1) init, 2) try, 3) ack, 4) confirm.\n",
    "\n",
    "## Connecting two IBC ports through an IBC channel is conceptually and procedurally analogous to connecting two IBC clients through an IBC connection."
   ]
  },
  {
   "cell_type": "markdown",
   "id": "28293e00-3141-4eb6-a6ac-4aac38d526f9",
   "metadata": {},
   "source": [
    "###########################################################################################################################"
   ]
  },
  {
   "cell_type": "markdown",
   "id": "342fc3aa-7904-41fd-9a40-269520d0246b",
   "metadata": {},
   "source": [
    "## IBC channel step 1 - MsgChannelOpenInit\n",
    "\n",
    "## Note that the port (the controller contract) has a hook that executes custom logic https://github.com/confio/cw-ibc-demo/blob/ce3112721e3b1d7650d848823e3055b2c2328d13/contracts/simple-ica-controller/src/ibc.rs#L24 "
   ]
  },
  {
   "cell_type": "code",
   "execution_count": null,
   "id": "29ed0990-2b9e-4947-ae7a-b37a495d6fe2",
   "metadata": {},
   "outputs": [],
   "source": [
    "#fabricate message & dispatch via stargate\n",
    "\n",
    "msg = MsgChannelOpenInit(\n",
    "  port_id=controller_port,\n",
    "  channel=Channel(\n",
    "    state=State.STATE_INIT,\n",
    "    ordering=Order.ORDER_UNORDERED,\n",
    "    counterparty=Counterparty(\n",
    "      port_id=host_port,\n",
    "    ),\n",
    "    connection_hops=[\n",
    "      connection_id_on_terra\n",
    "    ],\n",
    "    version=\"simple-ica-v2\",\n",
    "  ),\n",
    "  signer=wallet.key.acc_address\n",
    ")\n",
    "\n",
    "channel_open_init_on_terra = stargate_msg(\"/ibc.core.channel.v1.MsgChannelOpenInit\", msg, wallet, terra)\n",
    "channel_open_init_on_terra_df = pd.DataFrame(channel_open_init_on_terra[\"tx_response\"][\"logs\"][0][\"events\"][0][\"attributes\"])\n",
    "channel_id_on_terra = channel_open_init_on_terra_df[channel_open_init_on_terra_df[\"key\"]==\"channel_id\"][\"value\"].values[0]\n",
    "\n",
    "print(channel_open_init_on_terra_df)"
   ]
  },
  {
   "cell_type": "markdown",
   "id": "993153ed-190a-4acb-b660-a4549556c352",
   "metadata": {},
   "source": [
    "## IBC channel step 2 - MsgChannelOpenTry\n",
    "\n",
    "## Note that the port (the host contract) also has a hook that executes custom logic https://github.com/confio/cw-ibc-demo/blob/ce3112721e3b1d7650d848823e3055b2c2328d13/contracts/simple-ica-host/src/contract.rs#L71"
   ]
  },
  {
   "cell_type": "code",
   "execution_count": null,
   "id": "1a6394d7-e71a-4462-b0e6-bd4bfaac1bfc",
   "metadata": {
    "tags": []
   },
   "outputs": [],
   "source": [
    "#update the client_id on osmosis (ie, refresh osmosis's knowledge of terra's tendermint state)\n",
    "\n",
    "time.sleep(10) #wait a few blocks\n",
    "msg = fabricate_update_client(terra, terra_rpc_url, terra_rpc_header, osmo, osmo_wallet, client_id_on_osmo)\n",
    "update_client_before_channel_try_result = stargate_msg(\"/ibc.core.client.v1.MsgUpdateClient\", msg, osmo_wallet, osmo)\n",
    "header_height = Header.FromString(msg.header.value).signed_header.header.height\n",
    "\n",
    "terra_client_trusted_height = header_height\n",
    "terra_client_trusted_revision_number = osmo.broadcaster.query(f\"/ibc/core/client/v1/client_states/{client_id_on_osmo}\")[\"client_state\"][\"latest_height\"][\"revision_number\"]\n",
    "\n",
    "print(header_height)"
   ]
  },
  {
   "cell_type": "code",
   "execution_count": null,
   "id": "7d04d8cf-755f-4940-ac33-bd91b03d307f",
   "metadata": {},
   "outputs": [],
   "source": [
    "#fetch channel proof\n",
    "\n",
    "params = {\n",
    "    \"path\": '\"/store/ibc/key\"',\n",
    "    \"data\": \"0x\" + bytes(f\"channelEnds/ports/{controller_port}/channels/{channel_id_on_terra}\", \"ascii\").hex(),\n",
    "    \"prove\": \"true\",\n",
    "    \"height\": int(terra_client_trusted_height) - 1,\n",
    "}\n",
    "resp = requests.get(f\"{terra_rpc_url}/abci_query\", headers=terra_rpc_header, params=params).json()\n",
    "proofs = [CommitmentProof.FromString(b64_to_bytes(x[\"data\"])) for x in resp[\"result\"][\"response\"][\"proofOps\"][\"ops\"]]\n",
    "channel_proof = MerkleProof(proofs=proofs)\n"
   ]
  },
  {
   "cell_type": "code",
   "execution_count": null,
   "id": "2f48ea31-99dd-4000-a380-14530ca19b54",
   "metadata": {},
   "outputs": [],
   "source": [
    "#fabricate message & dispatch via stargate\n",
    "\n",
    "msg = MsgChannelOpenTry(\n",
    "  port_id=host_port,\n",
    "  channel=Channel(\n",
    "    state=State.STATE_TRYOPEN,\n",
    "    ordering=Order.ORDER_UNORDERED,\n",
    "    counterparty=Counterparty(\n",
    "      port_id=controller_port,\n",
    "      channel_id=channel_id_on_terra,\n",
    "    ),\n",
    "    connection_hops=[\n",
    "      connection_id_on_osmo\n",
    "    ],\n",
    "    version=\"simple-ica-v2\",\n",
    "  ),\n",
    "  counterparty_version=\"simple-ica-v2\",\n",
    "  proof_init=channel_proof.SerializeToString(),\n",
    "  proof_height=Height(int(terra_client_trusted_revision_number), int(terra_client_trusted_height)),\n",
    "  signer=osmo_wallet.key.acc_address,\n",
    ")\n",
    "\n",
    "channel_open_try_result = stargate_msg(\"/ibc.core.channel.v1.MsgChannelOpenTry\", msg, osmo_wallet, osmo)\n",
    "channel_open_try_on_osmo_df = pd.DataFrame(channel_open_try_result[\"tx_response\"][\"logs\"][0][\"events\"][0][\"attributes\"])\n",
    "channel_id_on_osmo = channel_open_try_on_osmo_df[channel_open_try_on_osmo_df[\"key\"]==\"channel_id\"][\"value\"].values[0]\n",
    "\n",
    "print(channel_open_try_on_osmo_df)"
   ]
  },
  {
   "cell_type": "markdown",
   "id": "35ac167b-fbf3-4655-95f3-eff530ad1a6f",
   "metadata": {},
   "source": [
    "## IBC channel step 3 - MsgChannelOpenAck\n",
    "\n",
    "## Note that the port (the controller contract) has a hook that dispatches a separate IBC packet (message) https://github.com/confio/cw-ibc-demo/blob/ce3112721e3b1d7650d848823e3055b2c2328d13/contracts/simple-ica-controller/src/ibc.rs#L41"
   ]
  },
  {
   "cell_type": "code",
   "execution_count": null,
   "id": "3ad245ea-9c27-429d-b5c8-5df8ff6b5099",
   "metadata": {},
   "outputs": [],
   "source": [
    "#update client on terra (ie, refresh terra's knowledge of osmosis's tendermint state) & fetch channel proof\n",
    "\n",
    "time.sleep(10) #wait a few blocks\n",
    "update_client_msg = fabricate_update_client(osmo, osmo_rpc_url, terra_rpc_header, terra, wallet, client_id_on_terra)\n",
    "update_client_before_channel_try_result = stargate_msg(\"/ibc.core.client.v1.MsgUpdateClient\", update_client_msg, wallet, terra)\n",
    "header_height = Header.FromString(update_client_msg.header.value).signed_header.header.height\n",
    "\n",
    "osmo_client_trusted_height = header_height\n",
    "osmo_client_trusted_revision_number = terra.broadcaster.query(f\"/ibc/core/client/v1/client_states/{client_id_on_terra}\")[\"client_state\"][\"latest_height\"][\"revision_number\"]\n",
    "\n",
    "channel_proof = fetch_channel_proof(osmo_rpc_url, terra_rpc_header, host_port, channel_id_on_osmo, osmo_client_trusted_height, osmo_client_trusted_revision_number)"
   ]
  },
  {
   "cell_type": "code",
   "execution_count": null,
   "id": "ebb4ddfd-c6cb-47d9-8a95-6cc71b62d417",
   "metadata": {},
   "outputs": [],
   "source": [
    "#fabricate message & dispatch via stargate\n",
    "\n",
    "msg = MsgChannelOpenAck(\n",
    "  port_id=controller_port,\n",
    "  channel_id=channel_id_on_terra,\n",
    "  counterparty_channel_id=channel_id_on_osmo,\n",
    "  counterparty_version=\"simple-ica-v2\",\n",
    "  proof_try=channel_proof.SerializeToString(),\n",
    "  proof_height=Height(int(osmo_client_trusted_revision_number), int(osmo_client_trusted_height)),\n",
    "  signer=wallet.key.acc_address,\n",
    ")\n",
    "\n",
    "time.sleep(2)\n",
    "channel_open_ack_result = stargate_msg(\"/ibc.core.channel.v1.MsgChannelOpenAck\", msg, wallet, terra)\n",
    "channel_open_ack_on_terra_df = pd.DataFrame(channel_open_ack_result[\"tx_response\"][\"logs\"][0][\"events\"][0][\"attributes\"])\n",
    "\n",
    "print(channel_open_ack_on_terra_df)"
   ]
  },
  {
   "cell_type": "code",
   "execution_count": null,
   "id": "5b1f079c-4937-413b-8c1c-cbada26bf7f5",
   "metadata": {},
   "outputs": [],
   "source": [
    "#parse the ibc who_am_i packet for relay after channel setup is complete\n",
    "#the logic here is very specific to the ICA controller contract\n",
    "\n",
    "packet_df = pd.DataFrame([x for x in channel_open_ack_result[\"tx_response\"][\"logs\"][0][\"events\"] if x[\"type\"]==\"send_packet\"][0][\"attributes\"])\n",
    "packet_df[\"index\"] = 0\n",
    "packet_df = packet_df.pivot(index=\"index\", columns=\"key\", values=\"value\")\n",
    "packet_row = packet_df.iloc[0,:]\n",
    "\n",
    "packet_to_relay = Packet(\n",
    "  sequence=int(packet_row[\"packet_sequence\"]),\n",
    "  source_port=packet_row[\"packet_src_port\"],\n",
    "  source_channel=packet_row[\"packet_src_channel\"],\n",
    "  destination_port=packet_row[\"packet_dst_port\"],\n",
    "  destination_channel=packet_row[\"packet_dst_channel\"],\n",
    "  data=hexstring_to_bytes(packet_row[\"packet_data_hex\"]),\n",
    "  timeout_height=Height(int(packet_row[\"packet_timeout_height\"].split('-')[0]), int(packet_row[\"packet_timeout_height\"].split('-')[1])),\n",
    "  timeout_timestamp=int(packet_row[\"packet_timeout_timestamp\"]),\n",
    ")\n",
    "\n",
    "print(packet_to_relay)"
   ]
  },
  {
   "cell_type": "markdown",
   "id": "7d22c615-8ebf-4216-b940-6cfc91881126",
   "metadata": {},
   "source": [
    "## IBC channel step 4 - MsgChannelOpenConfirm\n",
    "\n",
    "## Note that the port (the host contract) hook https://github.com/confio/cw-ibc-demo/blob/ce3112721e3b1d7650d848823e3055b2c2328d13/contracts/simple-ica-host/src/contract.rs#L93"
   ]
  },
  {
   "cell_type": "code",
   "execution_count": null,
   "id": "df3060b2-488c-44b5-b62e-6a5c185aebf6",
   "metadata": {},
   "outputs": [],
   "source": [
    "#update client again on osmosis & fetch proofs\n",
    "\n",
    "time.sleep(10) #wait a few blocks\n",
    "update_client_msg = fabricate_update_client(terra, terra_rpc_url, terra_rpc_header, osmo, osmo_wallet, client_id_on_osmo)\n",
    "update_client_before_channel_try_result = stargate_msg(\"/ibc.core.client.v1.MsgUpdateClient\", update_client_msg, osmo_wallet, osmo)\n",
    "header_height = Header.FromString(update_client_msg.header.value).signed_header.header.height\n",
    "\n",
    "terra_client_trusted_height = header_height\n",
    "terra_client_trusted_revision_number = osmo.broadcaster.query(f\"/ibc/core/client/v1/client_states/{client_id_on_osmo}\")[\"client_state\"][\"latest_height\"][\"revision_number\"]\n",
    "\n",
    "channel_proof = fetch_channel_proof(terra_rpc_url, terra_rpc_header, controller_port, channel_id_on_terra, terra_client_trusted_height, terra_client_trusted_revision_number)"
   ]
  },
  {
   "cell_type": "code",
   "execution_count": null,
   "id": "1fff1069-736e-41cc-a421-7f3fb3de1d95",
   "metadata": {},
   "outputs": [],
   "source": [
    "#fabricate message & dispatch via stargate\n",
    "\n",
    "msg = MsgChannelOpenConfirm(\n",
    "  port_id=host_port,\n",
    "  channel_id=channel_id_on_osmo,\n",
    "  proof_ack=channel_proof.SerializeToString(),\n",
    "  proof_height=Height(int(terra_client_trusted_revision_number), int(terra_client_trusted_height)),\n",
    "  signer=osmo_wallet.key.acc_address,\n",
    ")\n",
    "\n",
    "channel_open_confirm_result = stargate_msg(\"/ibc.core.channel.v1.MsgChannelOpenConfirm\", msg, osmo_wallet, osmo)\n",
    "channel_open_confirm_on_osmo_df = pd.DataFrame(channel_open_confirm_result[\"tx_response\"][\"logs\"][0][\"events\"][0][\"attributes\"])\n",
    "\n",
    "print(channel_open_confirm_on_osmo_df)"
   ]
  },
  {
   "cell_type": "markdown",
   "id": "8ed7a179-633d-4fb4-b906-78f1f81c8a55",
   "metadata": {},
   "source": [
    "## At this point, the IBC channel connecting the ica contracts is setup! \n",
    "\n",
    "## However, the IBC packet dispatched in the ChannelOpenAck step needs to be relayed/acked to complete the ica contract setup (specific to the contracts)."
   ]
  },
  {
   "cell_type": "code",
   "execution_count": null,
   "id": "83c1cdb7-6122-48c8-b042-14a747977f89",
   "metadata": {},
   "outputs": [],
   "source": [
    "#update client again on osmosis & fetch the packet proof\n",
    "\n",
    "time.sleep(10) #wait a few blocks\n",
    "update_client_msg = fabricate_update_client(terra, terra_rpc_url, terra_rpc_header, osmo, osmo_wallet, client_id_on_osmo)\n",
    "update_client_before_channel_try_result = stargate_msg(\"/ibc.core.client.v1.MsgUpdateClient\", update_client_msg, osmo_wallet, osmo)\n",
    "header_height = Header.FromString(update_client_msg.header.value).signed_header.header.height\n",
    "\n",
    "terra_client_trusted_height = header_height\n",
    "terra_client_trusted_revision_number = osmo.broadcaster.query(f\"/ibc/core/client/v1/client_states/{client_id_on_osmo}\")[\"client_state\"][\"latest_height\"][\"revision_number\"]\n",
    "\n",
    "params = {\n",
    "    \"path\": '\"/store/ibc/key\"',\n",
    "    \"data\": \"0x\" + bytes(f\"commitments/ports/{controller_port}/channels/{channel_id_on_terra}/sequences/{packet_to_relay.sequence}\", \"ascii\").hex(),\n",
    "    \"prove\": \"true\",\n",
    "    \"height\": int(terra_client_trusted_height) - 1,\n",
    "}\n",
    "resp = requests.get(f\"{terra_rpc_url}/abci_query\", headers=terra_rpc_header, params=params).json()\n",
    "proofs = [CommitmentProof.FromString(b64_to_bytes(x[\"data\"])) for x in resp[\"result\"][\"response\"][\"proofOps\"][\"ops\"]]\n",
    "packet_proof = MerkleProof(proofs=proofs)"
   ]
  },
  {
   "cell_type": "code",
   "execution_count": null,
   "id": "19ddbccf-1ae9-4263-96e5-3edb1a924c5d",
   "metadata": {},
   "outputs": [],
   "source": [
    "#fabricate message & dispatch via stargate\n",
    "msg = MsgRecvPacket(\n",
    "  packet=packet_to_relay,\n",
    "  proof_commitment=packet_proof.SerializeToString(),\n",
    "  proof_height=Height(int(terra_client_trusted_revision_number), int(terra_client_trusted_height)),\n",
    "  signer=osmo_wallet.key.acc_address\n",
    ")\n",
    "\n",
    "relay_result = stargate_msg(\"/ibc.core.channel.v1.MsgRecvPacket\", msg, osmo_wallet, osmo)\n",
    "relay_result_df = pd.DataFrame([y for x in [x[\"attributes\"] for x in relay_result[\"tx_response\"][\"logs\"][0][\"events\"]] for y in x])\n",
    "\n",
    "print(relay_result_df)"
   ]
  },
  {
   "cell_type": "code",
   "execution_count": null,
   "id": "1ff1eb8f-8706-4690-ac32-ebb2457ad3d2",
   "metadata": {},
   "outputs": [],
   "source": [
    "#parse the acknowledge packet (message) for the ack relay back to the controller smart contract\n",
    "\n",
    "ack_df = pd.DataFrame([x for x in relay_result[\"tx_response\"][\"logs\"][0][\"events\"] if x[\"type\"]==\"write_acknowledgement\"][0][\"attributes\"])\n",
    "ack_df[\"index\"] = 0\n",
    "ack_df = ack_df.pivot(index=\"index\", columns=\"key\", values=\"value\")\n",
    "ack_row = ack_df.iloc[0,:]\n",
    "\n",
    "print(ack_row)"
   ]
  },
  {
   "cell_type": "markdown",
   "id": "db3d036d-43ed-41a1-85e1-35f2eceb3c35",
   "metadata": {},
   "source": [
    "## The packet acknowledgement contains the host contract's response to the controller contract's who_am_i request. The final relaying of this ack concludes successful setup of an ibc channel between two ica contract ports."
   ]
  },
  {
   "cell_type": "code",
   "execution_count": null,
   "id": "84d4d1a3-a981-459f-8939-7711c4ed6865",
   "metadata": {},
   "outputs": [],
   "source": [
    "#update client on terra & fetch the acknowledge proof\n",
    "\n",
    "time.sleep(10) #wait a few blocks\n",
    "update_client_msg = fabricate_update_client(osmo, osmo_rpc_url, terra_rpc_header, terra, wallet, client_id_on_terra)\n",
    "update_client_before_channel_try_result = stargate_msg(\"/ibc.core.client.v1.MsgUpdateClient\", update_client_msg, wallet, terra)\n",
    "header_height = Header.FromString(update_client_msg.header.value).signed_header.header.height\n",
    "\n",
    "osmo_client_trusted_height = header_height\n",
    "osmo_client_trusted_revision_number = terra.broadcaster.query(f\"/ibc/core/client/v1/client_states/{client_id_on_terra}\")[\"client_state\"][\"latest_height\"][\"revision_number\"]\n",
    "\n",
    "##fetch packetack proofs - acks/ports/{port_id}/channels/{channel_id}/sequences/{ack_sequence}\n",
    "params = {\n",
    "  \"path\": '\"/store/ibc/key\"',\n",
    "  \"data\": \"0x\" + bytes(f\"acks/ports/{ack_row['packet_dst_port']}/channels/{ack_row['packet_dst_channel']}/sequences/{ack_row['packet_sequence']}\", \"ascii\").hex(),\n",
    "  \"prove\": \"true\",\n",
    "  \"height\": int(osmo_client_trusted_height) - 1,\n",
    "}\n",
    "resp = requests.get(f\"{osmo_rpc_url }/abci_query\", headers=terra_rpc_header, params=params).json()\n",
    "proofs = [CommitmentProof.FromString(b64_to_bytes(x[\"data\"])) for x in resp[\"result\"][\"response\"][\"proofOps\"][\"ops\"]]\n",
    "ack_proof = MerkleProof(proofs=proofs)\n",
    "\n",
    "print(ack_proof)"
   ]
  },
  {
   "cell_type": "code",
   "execution_count": null,
   "id": "964cb3a8-9554-4de9-b8cf-83a33f768177",
   "metadata": {},
   "outputs": [],
   "source": [
    "#fabricate message & dispatch via stargate\n",
    "\n",
    "msg = MsgAcknowledgement(\n",
    "  packet=packet_to_relay,\n",
    "  acknowledgement=hexstring_to_bytes(ack_row[\"packet_ack_hex\"]),\n",
    "  proof_acked=ack_proof.SerializeToString(),\n",
    "  proof_height=Height(int(osmo_client_trusted_revision_number), int(osmo_client_trusted_height)),\n",
    "  signer=wallet.key.acc_address,\n",
    ")\n",
    "\n",
    "relay_ack_result = stargate_msg(\"/ibc.core.channel.v1.MsgAcknowledgement\", msg, wallet, terra)\n",
    "relay_ack_result_df = pd.DataFrame([y for x in [x[\"attributes\"] for x in relay_ack_result[\"tx_response\"][\"logs\"][0][\"events\"]] for y in x])\n",
    "\n",
    "print(relay_ack_result_df)"
   ]
  },
  {
   "cell_type": "code",
   "execution_count": null,
   "id": "db64eab4-4924-48db-abcf-6ab71f0e96e4",
   "metadata": {},
   "outputs": [],
   "source": [
    "#query the controller contract to confirm its account state reflects\n",
    "print(terra.wasm.contract_query(controller_address, {\"list_accounts\":{}}))"
   ]
  },
  {
   "cell_type": "code",
   "execution_count": null,
   "id": "37c58b14-3d71-49a6-a8b5-0e0edef3033b",
   "metadata": {},
   "outputs": [],
   "source": [
    "#persist channel and port information for regular packet/ack relaying in the next notebook (optional)\n",
    "\n",
    "context[\"channel_id_on_terra\"] = channel_id_on_terra\n",
    "context[\"channel_id_on_osmo\"] = channel_id_on_osmo\n",
    "context[\"port_id_on_terra\"] = controller_port\n",
    "context[\"port_id_on_osmo\"] = host_port\n",
    "context[\"controller_address\"] = controller_address\n",
    "context[\"host_address\"] = host_address\n",
    "context[\"last_relayed_height_on_terra\"] = terra_client_trusted_height\n",
    "context[\"last_relayed_height_on_osmo\"] = osmo_client_trusted_height\n",
    "context[\"last_ack_height_on_terra\"] = terra_client_trusted_height\n",
    "context[\"last_ack_height_on_osmo\"[ = osmo_client_trusted_height\n",
    "\n",
    "print(context)\n",
    "\n",
    "with open(\"context.json\", \"w\") as f:\n",
    "    # Write the dictionary to the file as a JSON string\n",
    "    json.dump(context, f)"
   ]
  }
 ],
 "metadata": {
  "kernelspec": {
   "display_name": "Python 3 (ipykernel)",
   "language": "python",
   "name": "python3"
  },
  "language_info": {
   "codemirror_mode": {
    "name": "ipython",
    "version": 3
   },
   "file_extension": ".py",
   "mimetype": "text/x-python",
   "name": "python",
   "nbconvert_exporter": "python",
   "pygments_lexer": "ipython3",
   "version": "3.8.15"
  }
 },
 "nbformat": 4,
 "nbformat_minor": 5
}
