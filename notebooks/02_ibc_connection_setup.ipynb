{
 "cells": [
  {
   "cell_type": "markdown",
   "id": "3072ea46-1496-489d-910d-bd5fc609be2b",
   "metadata": {},
   "source": [
    "## The second step is completing the 4-step IBC connection handshake between terra and osmosis - 1) init (on terra), 2) try (on osmosis), 3) ack (on terra), 4) confirm (on osmosis).\n",
    "\n",
    "## With an IBC connection in-place, we lay the foundation for terra/osmosis smart contract pairs to communicate."
   ]
  },
  {
   "cell_type": "code",
   "execution_count": null,
   "id": "ce9ce729-33ff-4f50-b81c-b28af8d6d2e0",
   "metadata": {},
   "outputs": [],
   "source": []
  },
  {
   "cell_type": "code",
   "execution_count": 24,
   "id": "f3a9361a-ec45-4ef7-9a70-9ea25a47395f",
   "metadata": {},
   "outputs": [],
   "source": [
    "#imports\n",
    "\n",
    "import pandas as pd\n",
    "import json\n",
    "import os\n",
    "import sys\n",
    "import base64\n",
    "import requests\n",
    "import subprocess\n",
    "import math\n",
    "import hashlib\n",
    "import bech32\n",
    "import time\n",
    "\n",
    "from dateutil.parser import parse\n",
    "from datetime import datetime, timedelta\n",
    "from ecdsa import SECP256k1, SigningKey\n",
    "from ecdsa.util import sigencode_string_canonize\n",
    "from bech32 import bech32_decode, bech32_encode, convertbits\n",
    "from google.protobuf.timestamp_pb2 import Timestamp as googTimestamp\n",
    "\n",
    "from terra_sdk.client.lcd import LCDClient\n",
    "from terra_sdk.core.wasm import MsgStoreCode, MsgInstantiateContract, MsgExecuteContract\n",
    "from terra_sdk.core.bank import MsgSend\n",
    "from terra_sdk.core.fee import Fee\n",
    "from terra_sdk.key.mnemonic import MnemonicKey\n",
    "from terra_sdk.core.bech32 import get_bech\n",
    "from terra_sdk.core import AccAddress, Coin, Coins\n",
    "from terra_sdk.client.lcd.api.tx import CreateTxOptions, SignerOptions\n",
    "from terra_sdk.client.localterra import LocalTerra\n",
    "from terra_sdk.core.wasm.data import AccessConfig\n",
    "from terra_sdk.client.lcd.api._base import BaseAsyncAPI, sync_bind\n",
    "\n",
    "from terra_proto.cosmwasm.wasm.v1 import AccessType\n",
    "from terra_proto.cosmos.tx.v1beta1 import Tx, TxBody, AuthInfo, SignDoc, SignerInfo, ModeInfo, ModeInfoSingle, BroadcastTxResponse\n",
    "from terra_proto.cosmos.base.abci.v1beta1 import TxResponse\n",
    "from terra_proto.cosmos.tx.signing.v1beta1 import SignMode\n",
    "from terra_proto.ibc.core.client.v1 import MsgCreateClient, Height, MsgUpdateClient, QueryClientStateRequest, QueryClientStateResponse\n",
    "from terra_proto.ibc.core.channel.v1 import MsgChannelOpenInit, Channel, State, Order, Counterparty, MsgChannelOpenTry, MsgChannelOpenAck, MsgChannelOpenConfirm, QueryUnreceivedPacketsRequest, QueryUnreceivedPacketsResponse, QueryPacketCommitmentRequest, QueryPacketCommitmentResponse, Packet, QueryNextSequenceReceiveRequest, QueryNextSequenceReceiveResponse, MsgRecvPacket, MsgTimeout, QueryUnreceivedAcksRequest, QueryUnreceivedAcksResponse, MsgAcknowledgement\n",
    "from terra_proto.ibc.core.connection.v1 import MsgConnectionOpenInit, Counterparty as ConnectionCounterParty, Version, MsgConnectionOpenTry, MsgConnectionOpenAck, MsgConnectionOpenConfirm\n",
    "from terra_proto.ibc.lightclients.tendermint.v1 import ClientState, ConsensusState, Fraction, Header\n",
    "from terra_proto.ics23 import HashOp, LengthOp, LeafOp, InnerOp, ProofSpec, InnerSpec, CommitmentProof, ExistenceProof, NonExistenceProof, BatchProof, CompressedBatchProof, BatchEntry, CompressedBatchEntry, CompressedExistenceProof, CompressedNonExistenceProof\n",
    "from terra_proto.ibc.core.commitment.v1 import MerkleRoot, MerklePrefix, MerkleProof\n",
    "from terra_proto.tendermint.types import ValidatorSet, Validator, SignedHeader, Header as tendermintHeader, Commit, BlockId, PartSetHeader, CommitSig, BlockIdFlag\n",
    "from terra_proto.tendermint.version import Consensus\n",
    "from terra_proto.tendermint.crypto import PublicKey\n",
    "from betterproto.lib.google.protobuf import Any\n",
    "from betterproto import Timestamp\n",
    "\n",
    "#misc helper functions\n",
    "sys.path.append(os.path.join(os.path.dirname(__name__), '..', 'scripts'))\n",
    "\n",
    "from helpers import proto_to_binary, timestamp_string_to_proto, stargate_msg, create_ibc_client, fetch_chain_objects, bech32_to_hexstring, hexstring_to_bytes, bech32_to_b64"
   ]
  },
  {
   "cell_type": "code",
   "execution_count": 3,
   "id": "eecb637a-bff3-48c2-a32f-28f8de24c476",
   "metadata": {},
   "outputs": [
    {
     "name": "stdout",
     "output_type": "stream",
     "text": [
      "https://rpc.pisco.terra.setten.io/a0a3abea69544a99a67700ce2c7926fb\n",
      "osmo16kknw79vd8rws905phrq6t5ex8vzxdhvc0gsmp\n"
     ]
    }
   ],
   "source": [
    "#setup lcd clients, rpc urls, wallets\n",
    "(terra, wallet, terra_rpc_url, terra_rpc_header) = fetch_chain_objects(\"pisco-1\")\n",
    "(osmo, osmo_wallet, osmo_rpc_url, osmo_rpc_header) = fetch_chain_objects(\"osmo-test-4\")"
   ]
  },
  {
   "cell_type": "markdown",
   "id": "8f042359-e5b1-40c5-a9c8-20e3799bda4d",
   "metadata": {},
   "source": [
    "## These are the protobuf classes specific for setting up the IBC connection. One noteworthy protobuf class that will see continual usage now, and in later stages, is MsgUpdateClient, which basically refreshes the light client information (ie the counterpart chain tendermint state)."
   ]
  },
  {
   "cell_type": "code",
   "execution_count": 4,
   "id": "44e0b22d-b67a-47cb-9659-5775e6bf3051",
   "metadata": {},
   "outputs": [],
   "source": [
    "#terra_proto imports\n",
    "from terra_proto.ibc.core.connection.v1 import MsgConnectionOpenInit, Counterparty as ConnectionCounterParty, Version, MsgConnectionOpenTry, MsgConnectionOpenAck, MsgConnectionOpenConfirm\n",
    "from terra_proto.ibc.core.client.v1 import MsgCreateClient, Height, MsgUpdateClient, QueryClientStateRequest, QueryClientStateResponse"
   ]
  },
  {
   "cell_type": "markdown",
   "id": "32a2c027-4f91-4038-89a6-faca261db347",
   "metadata": {},
   "source": [
    "## Load client_id's from previous step; if we don't find it, we'll use default client_id's built by the authors."
   ]
  },
  {
   "cell_type": "code",
   "execution_count": 5,
   "id": "c7ce8cc2-c9e2-4947-abdb-ae4976f9f7d8",
   "metadata": {},
   "outputs": [],
   "source": [
    "#load context.json\n",
    "context = {}\n",
    "# Open the file for reading\n",
    "with open(\"context.json\", \"r\") as f:\n",
    "    # Load the dictionary from the file\n",
    "    context = json.load(f)\n",
    "    \n",
    "client_id_on_terra = context[\"client_id_on_terra\"]\n",
    "client_id_on_osmo = context[\"client_id_on_osmo\"]"
   ]
  },
  {
   "cell_type": "markdown",
   "id": "33d92aa9-eebc-45e5-b276-069bd6189036",
   "metadata": {},
   "source": [
    "## IBC connection step 1 - MsgConnectionOpenInit (called on terra)"
   ]
  },
  {
   "cell_type": "code",
   "execution_count": 7,
   "id": "9046090d-1f42-4cde-9153-e7d912ff2dd5",
   "metadata": {},
   "outputs": [
    {
     "name": "stdout",
     "output_type": "stream",
     "text": [
      "connection_id on terra: connection-214\n"
     ]
    }
   ],
   "source": [
    "#fabricate message & dispatch via stargate\n",
    "msg = MsgConnectionOpenInit(\n",
    "  client_id=client_id_on_terra,\n",
    "  counterparty=ConnectionCounterParty(\n",
    "    client_id=client_id_on_osmo,\n",
    "    prefix=MerklePrefix(\n",
    "      key_prefix=bytes(\"ibc\", \"ascii\"),\n",
    "    )\n",
    "  ),\n",
    "  version=Version(\n",
    "    identifier=\"1\",\n",
    "    features=[\"ORDER_ORDERED\", \"ORDER_UNORDERED\"],\n",
    "  ),\n",
    "  delay_period=0,\n",
    "  signer=wallet.key.acc_address\n",
    ")\n",
    "\n",
    "result = stargate_msg(\"/ibc.core.connection.v1.MsgConnectionOpenInit\", msg, wallet, terra)\n",
    "result_df = pd.DataFrame(result[\"tx_response\"][\"logs\"][0][\"events\"][0][\"attributes\"])\n",
    "connection_id_on_terra = result_df[result_df[\"key\"]==\"connection_id\"][\"value\"].values[0]\n",
    "\n",
    "print(f\"connection_id on terra: {connection_id_on_terra}\")"
   ]
  },
  {
   "cell_type": "markdown",
   "id": "73cec54d-14ed-4dfd-a728-f187219ff004",
   "metadata": {},
   "source": [
    "## IBC connection step 2 - MsgConnectionOpenTry (called on osmosis)"
   ]
  },
  {
   "cell_type": "code",
   "execution_count": 30,
   "id": "138efa72-0ff3-415a-af49-01b6d182b887",
   "metadata": {
    "tags": []
   },
   "outputs": [
    {
     "name": "stdout",
     "output_type": "stream",
     "text": [
      "timestamp: seconds: 1671065446\n",
      "nanos: 776126771\n",
      " \n",
      "\n",
      "\n",
      "source current tendermint:\n",
      "{'block': {'header': {'version': {'block': '11', 'app': '0'}, 'chain_id': 'pisco-1', 'height': '3200591', 'time': '2022-12-15T00:50:46.776126771Z', 'last_block_id': {'hash': 'ENA6auAlxtXhj6EPDiIvl8oEtQSnnJhxhjNgsNfUMqQ=', 'part_set_header': {'total': 1, 'hash': 'Fq1UuE5x3Co3ilPQjW6MQpyuflhlzU/mKKOx8ApcWcQ='}}, 'last_commit_hash': '/aMZnEJwASI973SgZqcTk3pMezcQOG5RaIkUQB5eFfY=', 'data_hash': '47DEQpj8HBSa+/TImW+5JCeuQeRkm5NMpJWZG3hSuFU=', 'validators_hash': 'ZBHl+8zQcz99f5Idpo/IwysnDm4ahDjj0zpV3cXgGTk=', 'next_validators_hash': 'ZBHl+8zQcz99f5Idpo/IwysnDm4ahDjj0zpV3cXgGTk=', 'consensus_hash': '5mDvFKlRQ9sPPq8vMfF33jNN5atlBXn9CToQy66G1aY=', 'app_hash': 'jR2zzOan3Fv3WxAu2Y2OgoGOTZJ1p/kNr0YA0b+EHlo=', 'last_results_hash': 'nuSbZ/nxzFLzsX9EYS2+rMRnt9AuZtE6svfavtmRI4Y=', 'evidence_hash': '47DEQpj8HBSa+/TImW+5JCeuQeRkm5NMpJWZG3hSuFU=', 'proposer_address': 'asrigcDpNocfqmcPIglWHhehEHE='}, 'data': {'txs': []}}}\n",
      "\n",
      "\n",
      "\n",
      "\n",
      "\n",
      "commit_info:\n",
      "\n",
      "{'jsonrpc': '2.0', 'id': -1, 'result': {'signed_header': {'header': {'version': {'block': '11'}, 'chain_id': 'pisco-1', 'height': '3200591', 'time': '2022-12-15T00:50:46.776126771Z', 'last_block_id': {'hash': '10D03A6AE025C6D5E18FA10F0E222F97CA04B504A79C9871863360B0D7D432A4', 'parts': {'total': 1, 'hash': '16AD54B84E71DC2A378A53D08D6E8C429CAE7E5865CD4FE628A3B1F00A5C59C4'}}, 'last_commit_hash': 'FDA3199C427001223DEF74A066A713937A4C7B3710386E51688914401E5E15F6', 'data_hash': 'E3B0C44298FC1C149AFBF4C8996FB92427AE41E4649B934CA495991B7852B855', 'validators_hash': '6411E5FBCCD0733F7D7F921DA68FC8C32B270E6E1A8438E3D33A55DDC5E01939', 'next_validators_hash': '6411E5FBCCD0733F7D7F921DA68FC8C32B270E6E1A8438E3D33A55DDC5E01939', 'consensus_hash': 'E660EF14A95143DB0F3EAF2F31F177DE334DE5AB650579FD093A10CBAE86D5A6', 'app_hash': '8D1DB3CCE6A7DC5BF75B102ED98D8E82818E4D9275A7F90DAF4600D1BF841E5A', 'last_results_hash': '9EE49B67F9F1CC52F3B17F44612DBEACC467B7D02E66D13AB2F7DABED9912386', 'evidence_hash': 'E3B0C44298FC1C149AFBF4C8996FB92427AE41E4649B934CA495991B7852B855', 'proposer_address': '6ACAE281C0E936871FAA670F2209561E17A11071'}, 'commit': {'height': '3200591', 'round': 0, 'block_id': {'hash': '42D0512DCFC5650F0333C782FB3A2F63E38E4C333083FCBF03DBFD3F8687F6BB', 'parts': {'total': 1, 'hash': 'FD926AB786EAD11FAA8BEFB4212094E10BCB60951D287D2114C088D080004168'}}, 'signatures': [{'block_id_flag': 2, 'validator_address': 'B384CE5A8F860736EFE9C1C467101D8413B90B81', 'timestamp': '2022-12-15T00:50:52.371715092Z', 'signature': 'yn1UVzdTeO9iQ3eP2/y7XEJ7KZ/1XOkHnrH/O0oJn+eoIFQJwHPZ9tqVJ2G+J7LQ+UZ3+XK5LvXTOewMBTt6Bw=='}, {'block_id_flag': 2, 'validator_address': 'C24A7D204E0A07736EAF8A7E76820CD868565B0E', 'timestamp': '2022-12-15T00:50:52.372401235Z', 'signature': '0Jx9gJGV5pBIkoGDe76sh5t7mbmSsZ5grgo/i/yYjrpUzblZB/HRO4lZdVOOACqCU66ZQPvYiWmBpUKFvJhaCQ=='}, {'block_id_flag': 1, 'validator_address': '', 'timestamp': '0001-01-01T00:00:00Z', 'signature': None}, {'block_id_flag': 1, 'validator_address': '', 'timestamp': '0001-01-01T00:00:00Z', 'signature': None}, {'block_id_flag': 2, 'validator_address': 'C3DE9695E9A7B20CB96F4C3FB418E0B819941D2B', 'timestamp': '2022-12-15T00:50:52.3780533Z', 'signature': 'NmqRgoV267DI/GGzB4I2SJo7Y7ImyxDjSQvDEnCy2VGIhNMEcrw9DooBkb1NPFtmQucuShGNTeV8tmD2mgfUBg=='}, {'block_id_flag': 1, 'validator_address': '', 'timestamp': '0001-01-01T00:00:00Z', 'signature': None}, {'block_id_flag': 1, 'validator_address': '', 'timestamp': '0001-01-01T00:00:00Z', 'signature': None}, {'block_id_flag': 1, 'validator_address': '', 'timestamp': '0001-01-01T00:00:00Z', 'signature': None}, {'block_id_flag': 2, 'validator_address': 'E36B8058A160B7592F487556B04D0B2FCF55BB21', 'timestamp': '2022-12-15T00:50:52.465916468Z', 'signature': 'p9vlHZXaMO9sIFe9tx4JqUdXxcRVKav6WXJmHcsh1/YRQhZxwjy0XcUZmyjL1FxrBLDjpiWY3aL8g7glpqgzDg=='}, {'block_id_flag': 2, 'validator_address': '19AA44E5553DED864BE3371D135416B085C795E6', 'timestamp': '2022-12-15T00:50:52.400527282Z', 'signature': 'QwcunfuMxOAZ1QP+/mrh9UOmOOARpTk78My0f4RGqJbZMuSyKLXCSkb1xzCwnZC4AwYhYDc7ooeygo9WuxDtBQ=='}, {'block_id_flag': 2, 'validator_address': '744C7305044AC0B439088D991F44C73F827F4D0E', 'timestamp': '2022-12-15T00:50:52.374238321Z', 'signature': 'uRaAOwOjMiIJLeuuxbwtTFgtXyBDV9enlJvUXHO3TeV2vM627M/Lt3zI1HtH/h8+enxWXxT5cwd+1XfaJ9duCg=='}, {'block_id_flag': 2, 'validator_address': 'A39FD495DBBE30110E139C7B6EF6CB094228EA20', 'timestamp': '2022-12-15T00:50:52.387556295Z', 'signature': 'jqLmWrxC6XT7DB2a1mKyjkILgR3aX2ZtDhmGDsBXJT2ybbVxwkm6rsMC+rIp0dGZ9mdYuh5CghnFzUjUd1sABA=='}, {'block_id_flag': 1, 'validator_address': '', 'timestamp': '0001-01-01T00:00:00Z', 'signature': None}, {'block_id_flag': 1, 'validator_address': '', 'timestamp': '0001-01-01T00:00:00Z', 'signature': None}, {'block_id_flag': 2, 'validator_address': 'CFE618B4BC8654819D5A4BB8A97CEAB70971D6B7', 'timestamp': '2022-12-15T00:50:52.421198562Z', 'signature': 'kdMKnrARx6BQq4hQGCJBCzIaHPjTJe32+9SE+Ru5nAH6b5kqpc9cGblHTiLSnwDkQBzkm6scdijojy1c4rf1Cg=='}, {'block_id_flag': 2, 'validator_address': '22F1EAA184BD177E66E62B53DF65EE088DFB4ECB', 'timestamp': '2022-12-15T00:50:52.421274673Z', 'signature': 'VQcDs/cHKqj4r2mMcbIU1XKNX3qIu4MQDIPN7aMZHufO5opxJs7DJfqMcOhQvnfhIEDwAH3VzgaqrJi1X8hPAg=='}, {'block_id_flag': 1, 'validator_address': '', 'timestamp': '0001-01-01T00:00:00Z', 'signature': None}, {'block_id_flag': 2, 'validator_address': '1D905D3C39FD6CE3A2501C2479DD731562FC81BE', 'timestamp': '2022-12-15T00:50:52.468214931Z', 'signature': 'UX07I2hXcR1EYsRQ+tFhkFh6Pfqvt6F3Dv3KoH6RY1+pKW2VW36Z00HYJHNSDa57qL9mbFNPIdyWRKihvBATAw=='}, {'block_id_flag': 2, 'validator_address': '122686EF1BBE42A167AFD568A92070B6C1F1FE77', 'timestamp': '2022-12-15T00:50:52.378014945Z', 'signature': 'vMjNM2qYiAQ8GrtGe+CIu7h4taTwoBc9Y/t70AJILwEAzXfWOlScio/DaV5bkkPG3tImhhPGd7WK6TSfIVUhCQ=='}, {'block_id_flag': 1, 'validator_address': '', 'timestamp': '0001-01-01T00:00:00Z', 'signature': None}, {'block_id_flag': 1, 'validator_address': '', 'timestamp': '0001-01-01T00:00:00Z', 'signature': None}, {'block_id_flag': 2, 'validator_address': 'A2F1F94322A03D6EA83E7875D323BC8D629AEC8E', 'timestamp': '2022-12-15T00:50:52.385869469Z', 'signature': 'mGF47yQXPXIAhzovk68sDDlm8/gO6UN/Nah5p+UBYXpfIc/0VIq1rNEdKkX5YY3992zisAixqUJd0uSX/ODYCQ=='}, {'block_id_flag': 2, 'validator_address': '09F1BCA5A35FC45D0D0AD007310B4BD8994393AE', 'timestamp': '2022-12-15T00:50:52.37935502Z', 'signature': 'CHgJi+mbaliM+6LfEbwtFhcdmw80t1KTl0tf4GM1Bv4F9teVQDy+f1uq75Cw+0VS7hfpSNqnyB7X2FIBP9iKAw=='}, {'block_id_flag': 2, 'validator_address': '5D066416227488463F7090EC4E4909028D47086C', 'timestamp': '2022-12-15T00:50:52.373494681Z', 'signature': 'GqdDW4vtAPw2RZouaY3kKfOe1+xRvoP84gVrVqZvUKi5sivMwnLIi15JHDEk2yNoMbUQEI3PUmJXQYHpBJH3Bg=='}, {'block_id_flag': 2, 'validator_address': '1FEAD225509B0C3AC9F11F58CBD3FCA885265BEB', 'timestamp': '2022-12-15T00:50:52.38116406Z', 'signature': 'lRQKtmfW1BVxBlDQbZig63Bf/nKGpWXw6K39jXrXfZz9X8Fb8vtL9J0kzhIzoh8WqXf4fZKa3XV8GsrUdnq2Cw=='}, {'block_id_flag': 1, 'validator_address': '', 'timestamp': '0001-01-01T00:00:00Z', 'signature': None}, {'block_id_flag': 2, 'validator_address': '7779E43DE5A3219F719E1C03D0511B679AC96CF8', 'timestamp': '2022-12-15T00:50:52.380477643Z', 'signature': 'a7QI4dbeoz4v0UdNlin5Pp8rpEjHL/BCIBIlM+Fw9B8L9c9kGgrej4VzqZy3ONPkHcpTyyF/XHCnR/f4Ng1CBg=='}, {'block_id_flag': 2, 'validator_address': 'C7C3EF63B7DB35ED006504775421B5E1F3DE4473', 'timestamp': '2022-12-15T00:50:52.386192083Z', 'signature': 'CbQgVXsSVJ2EqETH2xpLzv4Exv3FE9z9Z/n1Bycuyc3ZEP6Qhn75oDRM/L3Z4ZUlzYe+t1JBs3mEYuv0iwmRAg=='}, {'block_id_flag': 1, 'validator_address': '', 'timestamp': '0001-01-01T00:00:00Z', 'signature': None}, {'block_id_flag': 2, 'validator_address': '155ABB8A90A9AF53B9EA617967A2FC1F432134C2', 'timestamp': '2022-12-15T00:50:52.389163826Z', 'signature': '4HdWzlKxQF86g6NLPlCqcJ2nDs0BVK40rn6BS8RjeDsoEaxaKAs70l9Si1LWLH0GKkMTuFc6/I9H51pUgC5FDw=='}, {'block_id_flag': 2, 'validator_address': '426574C176F2CE22956C5FD53DC2E6A7773613A9', 'timestamp': '2022-12-15T00:50:52.416541364Z', 'signature': 'CJInpcEpSEMIdMkfKm3PxCJEGx0MYX2VJTaqzq01dbW/W0ivuPbD0ka4Lz4qLwWsjF+egxyUSvQYPqI4PGXPAA=='}, {'block_id_flag': 1, 'validator_address': '', 'timestamp': '0001-01-01T00:00:00Z', 'signature': None}, {'block_id_flag': 1, 'validator_address': '', 'timestamp': '0001-01-01T00:00:00Z', 'signature': None}, {'block_id_flag': 2, 'validator_address': '4B0B4CDF8201CEDCABF5FBD48375469614AEBF89', 'timestamp': '2022-12-15T00:50:52.382848829Z', 'signature': '5zi2/rlzjDiwuRRKgg9wqjMy5xo0JULRsBRArDWA8PpaDs/GqR9zlz1FYI8jBssA0HFcTraVJGHzd1xLvdSyCQ=='}, {'block_id_flag': 1, 'validator_address': '', 'timestamp': '0001-01-01T00:00:00Z', 'signature': None}, {'block_id_flag': 1, 'validator_address': '', 'timestamp': '0001-01-01T00:00:00Z', 'signature': None}, {'block_id_flag': 1, 'validator_address': '', 'timestamp': '0001-01-01T00:00:00Z', 'signature': None}, {'block_id_flag': 1, 'validator_address': '', 'timestamp': '0001-01-01T00:00:00Z', 'signature': None}, {'block_id_flag': 1, 'validator_address': '', 'timestamp': '0001-01-01T00:00:00Z', 'signature': None}]}}, 'canonical': False}}\n",
      "\n",
      "\n",
      "\n",
      "\n",
      "\n",
      "update client msg:\n",
      "\n",
      "{'clientId': '07-tendermint-3241', 'header': {'typeUrl': '/ibc.lightclients.tendermint.v1.Header', 'value': 'CvAWCpADCgIICxIHcGlzY28tMRjPrMMBIgwI5t7pnAYQs4KL8gIqSAogENA6auAlxtXhj6EPDiIvl8oEtQSnnJhxhjNgsNfUMqQSJAgBEiAWrVS4TnHcKjeKU9CNboxCnK5+WGXNT+Yoo7HwClxZxDIg/aMZnEJwASI973SgZqcTk3pMezcQOG5RaIkUQB5eFfY6IOOwxEKY/BwUmvv0yJlvuSQnrkHkZJuTTKSVmRt4UrhVQiBkEeX7zNBzP31/kh2mj8jDKycObhqEOOPTOlXdxeAZOUogZBHl+8zQcz99f5Idpo/IwysnDm4ahDjj0zpV3cXgGTlSIOZg7xSpUUPbDz6vLzHxd94zTeWrZQV5/Qk6EMuuhtWmWiCNHbPM5qfcW/dbEC7ZjY6CgY5NknWn+Q2vRgDRv4QeWmIgnuSbZ/nxzFLzsX9EYS2+rMRnt9AuZtE6svfavtmRI4ZqIOOwxEKY/BwUmvv0yJlvuSQnrkHkZJuTTKSVmRt4UrhVchRqyuKBwOk2hx+qZw8iCVYeF6EQcRLaEwjPrMMBGkgKIELQUS3PxWUPAzPHgvs6L2PjjkwzMIP8vwPb/T+Gh/a7EiQIARIg/ZJqt4bq0R+qi++0ISCU4QvLYJUdKH0hFMCI0IAAQWgiaAgCEhSzhM5aj4YHNu/pwcRnEB2EE7kLgRoMCOze6ZwGEJTYn7EBIkDKfVRXN1N472JDd4/b/LtcQnspn/Vc6Qeesf87Sgmf56ggVAnAc9n22pUnYb4nstD5Rnf5crku9dM57AwFO3oHImgIAhIUwkp9IE4KB3Nur4p+doIM2GhWWw4aDAjs3umcBhDTyMmxASJA0Jx9gJGV5pBIkoGDe76sh5t7mbmSsZ5grgo/i/yYjrpUzblZB/HRO4lZdVOOACqCU66ZQPvYiWmBpUKFvJhaCSIPCAEaCwiAkrjDmP7///8BIg8IARoLCICSuMOY/v///wEiaAgCEhTD3paV6aeyDLlvTD+0GOC4GZQdKxoMCOze6ZwGELTForQBIkA2apGChXbrsMj8YbMHgjZImjtjsibLEONJC8MScLLZUYiE0wRyvD0OigGRvU08W2ZC5y5KEY1N5Xy2YPaaB9QGIg8IARoLCICSuMOY/v///wEiDwgBGgsIgJK4w5j+////ASIPCAEaCwiAkrjDmP7///8BImgIAhIU42uAWKFgt1kvSHVWsE0LL89VuyEaDAjs3umcBhC0pJXeASJAp9vlHZXaMO9sIFe9tx4JqUdXxcRVKav6WXJmHcsh1/YRQhZxwjy0XcUZmyjL1FxrBLDjpiWY3aL8g7glpqgzDiJoCAISFBmqROVVPe2GS+M3HRNUFrCFx5XmGgwI7N7pnAYQsp/+vgEiQEMHLp37jMTgGdUD/v5q4fVDpjjgEaU5O/DMtH+ERqiW2TLksii1wkpG9ccwsJ2QuAMGIWA3O6KHsoKPVrsQ7QUiaAgCEhR0THMFBErAtDkIjZkfRMc/gn9NDhoMCOze6ZwGEPHYubIBIkC5FoA7A6MyIgkt667FvC1MWC1fIENX16eUm9Rcc7dN5Xa8zrbsz8u3fMjUe0f+Hz56fFZfFPlzB37Vd9on124KImgIAhIUo5/Uldu+MBEOE5x7bvbLCUIo6iAaDAjs3umcBhDHx+a4ASJAjqLmWrxC6XT7DB2a1mKyjkILgR3aX2ZtDhmGDsBXJT2ybbVxwkm6rsMC+rIp0dGZ9mdYuh5CghnFzUjUd1sABCIPCAEaCwiAkrjDmP7///8BIg8IARoLCICSuMOY/v///wEiaAgCEhTP5hi0vIZUgZ1aS7ipfOq3CXHWtxoMCOze6ZwGEOL168gBIkCR0wqesBHHoFCriFAYIkELMhoc+NMl7fb71IT5G7mcAfpvmSqlz1wZuUdOItKfAORAHOSbqxx2KOiPLVzit/UKImgIAhIUIvHqoYS9F35m5itT32XuCI37TssaDAjs3umcBhCxyPDIASJAVQcDs/cHKqj4r2mMcbIU1XKNX3qIu4MQDIPN7aMZHufO5opxJs7DJfqMcOhQvnfhIEDwAH3VzgaqrJi1X8hPAiIPCAEaCwiAkrjDmP7///8BImgIAhIUHZBdPDn9bOOiUBwked1zFWL8gb4aDAjs3umcBhCTyaHfASJAUX07I2hXcR1EYsRQ+tFhkFh6Pfqvt6F3Dv3KoH6RY1+pKW2VW36Z00HYJHNSDa57qL9mbFNPIdyWRKihvBATAyJoCAISFBImhu8bvkKhZ6/VaKkgcLbB8f53GgwI7N7pnAYQ4ZmgtAEiQLzIzTNqmIgEPBq7RnvgiLu4eLWk8KAXPWP7e9ACSC8BAM131jpUnIqPw2leW5JDxt7SJoYTxne1iuk0nyFVIQkiDwgBGgsIgJK4w5j+////ASIPCAEaCwiAkrjDmP7///8BImgIAhIUovH5QyKgPW6oPnh10yO8jWKa7I4aDAjs3umcBhCdzf+3ASJAmGF47yQXPXIAhzovk68sDDlm8/gO6UN/Nah5p+UBYXpfIc/0VIq1rNEdKkX5YY3992zisAixqUJd0uSX/ODYCSJoCAISFAnxvKWjX8RdDQrQBzELS9iZQ5OuGgwI7N7pnAYQjP/xtAEiQAh4CYvpm2pYjPui3xG8LRYXHZsPNLdSk5dLX+BjNQb+BfbXlUA8vn9bqu+QsPtFUu4X6Ujap8ge19hSAT/YigMiaAgCEhRdBmQWInSIRj9wkOxOSQkCjUcIbBoMCOze6ZwGEJmnjLIBIkAap0Nbi+0A/DZFmi5pjeQp857X7FG+g/ziBWtWpm9QqLmyK8zCcsiLXkkcMSTbI2gxtRAQjc9SYldBgekEkfcGImgIAhIUH+rSJVCbDDrJ8R9Yy9P8qIUmW+saDAjs3umcBhCctOC1ASJAlRQKtmfW1BVxBlDQbZig63Bf/nKGpWXw6K39jXrXfZz9X8Fb8vtL9J0kzhIzoh8WqXf4fZKa3XV8GsrUdnq2CyIPCAEaCwiAkrjDmP7///8BImgIAhIUd3nkPeWjIZ9xnhwD0FEbZ5rJbPgaDAjs3umcBhDLwba1ASJAa7QI4dbeoz4v0UdNlin5Pp8rpEjHL/BCIBIlM+Fw9B8L9c9kGgrej4VzqZy3ONPkHcpTyyF/XHCnR/f4Ng1CBiJoCAISFMfD72O32zXtAGUEd1QhteHz3kRzGgwI7N7pnAYQ06WTuAEiQAm0IFV7ElSdhKhEx9saS87+BMb9xRPc/Wf59QcnLsnN2RD+kIZ++aA0TPy92eGVJc2HvrdSQbN5hGLr9IsJkQIiDwgBGgsIgJK4w5j+////ASJoCAISFBVau4qQqa9TuepheWei/B9DITTCGgwI7N7pnAYQstbIuQEiQOB3Vs5SsUBfOoOjSz5QqnCdpw7NAVSuNK5+gUvEY3g7KBGsWigLO9JfUotS1ix9BipDE7hXOvyPR+daVIAuRQ8iaAgCEhRCZXTBdvLOIpVsX9U9wuandzYTqRoMCOze6ZwGELTVz8YBIkAIkielwSlIQwh0yR8qbc/EIkQbHQxhfZUlNqrOrTV1tb9bSK+49sPSRrgvPiovBayMX56DHJRK9Bg+ojg8Zc8AIg8IARoLCICSuMOY/v///wEiDwgBGgsIgJK4w5j+////ASJoCAISFEsLTN+CAc7cq/X71IN1RpYUrr+JGgwI7N7pnAYQvZ7HtgEiQOc4tv65c4w4sLkUSoIPcKozMucaNCVC0bAUQKw1gPD6Wg7Pxqkfc5c9RWCPIwbLANBxXE62lSRh83dcS73UsgkiDwgBGgsIgJK4w5j+////ASIPCAEaCwiAkrjDmP7///8BIg8IARoLCICSuMOY/v///wEiDwgBGgsIgJK4w5j+////ASIPCAEaCwiAkrjDmP7///8BEpYUCkAKFLOEzlqPhgc27+nBxGcQHYQTuQuBEiIKIKjcMS0F3if8rZN3bzf4MEgTmRKZkC6yUIfK9BlXwewgGKncq88BCkAKFMJKfSBOCgdzbq+KfnaCDNhoVlsOEiIKICnjlTat2/7eaM2knoHalnAt+vYrDUNLnUV9aDVx2RQsGMbP7soBCkAKFOpF06nFaughd5XgqBk4CEhCbZglEiIKIBH/79e8TxWnm6D128FTpSoO0tBKFxPUjhaC1t3bcAJyGKDWxZkBCj8KFMqGHi5Zrj19mYrbdxbJFBngMvf8EiIKIDcRw5lRPVwn/4Kwk/UiNkU26SKMDd6xGo7Dvsh6HXrVGIT0ph0KPwoUw96Wlemnsgy5b0w/tBjguBmUHSsSIgogYxquzZDcw/urDKsAIeiYJyWTyzSczGlQrd8B8d+hlYcYn4/pDgo/ChQBLNFk8g0Rjt/qYiQH6v2dwaJ4cxIiCiATgLj3x4vYmHzF2EicHOB9VFXtGKE1IIlm80yNnVTBBhj5+roJCj8KFBk5MIJ7vTzBhyfXfz+FC2tghylKEiIKIGZbrSujq3bj07I8eOgM+6QFNWL9Pi3ATQ4jbUfWoPrdGMa50AcKPwoUasrigcDpNocfqmcPIglWHhehEHESIgog3tn6O4DC6b44BAewKLFYtmR01f92fSYIULV0129e9J4Y1K6VBwo/ChTja4BYoWC3WS9IdVawTQsvz1W7IRIiCiCkc6sId/tvD4hBNZwUC0ueorw+B1Ek+GPAP5tMcEEPvxj4ieIGCj8KFBmqROVVPe2GS+M3HRNUFrCFx5XmEiIKIKw9zzzJXN/NXnDVy4K9wnUG4m/vcFzH/LQME0wvcgLrGKi02QIKPwoUdExzBQRKwLQ5CI2ZH0THP4J/TQ4SIgogCOwYoY13TCspPKlGzwBTy42oVHdUBpj7uUP7k5tUV4oY3aK+AQo/ChSjn9SV274wEQ4TnHtu9ssJQijqIBIiCiChdjJYru5FgGDOW25yMkJh4ZuX3Vp6bmcfiEQ3IJjn+RjjzLMBCj8KFAB16dtIcBk7loNxFhS7q8SXwxqjEiIKIDi3Q6FwY6xn/kjpoqhr9Y/VTYVHO433uy6Zg3EtgGLVGNbpkQEKPwoUYtYXMaLZCTz/3MTSJ2Xybw6cvvMSIgoglPyMGHKhk2HdUExWPM3aUvrz1/UvY6QwNFR7Vgorh6sYv9GPAQo+ChTP5hi0vIZUgZ1aS7ipfOq3CXHWtxIiCiAYSYe8pj+0vJObIpvHCVWunczjdpvKUNzULrwqpE05RhjgmGEKPgoUIvHqoYS9F35m5itT32XuCI37TssSIgogBmA9KrfZmHpAeTDElOjGkZCDxkrR6XDpQiCd/Q4tPEoYha9QCj4KFFHpIvwd1kJjGoGto32Cn20EZW9KEiIKIGBxDGWyFD2LmkYDPDgOS48I0CO2ho2qlC9vtvuwiIzjGO6STgo+ChQdkF08Of1s46JQHCR53XMVYvyBvhIiCiAWOW/buQ5TablaQNHNkgU3Ehepwnd+mr9uVFqXvsd01hjz7UgKPgoUEiaG7xu+QqFnr9VoqSBwtsHx/ncSIgog3SDvV8RIAQuayap6UF16w9m0KSpMKErG7Zm81L2Dz7cY9/tDCj4KFE8EXqACwREKXK8rI4ScONduGsDzEiIKIJ/4vor0qPGgyJ/cwzBHBxzVstaYD3fgUNX1EYnDZGzfGKzhQgo+ChRvMMaaXcp4QjEcDPG3EAv7CB3xmhIiCiBYuoERC6Byhy4P2A6LN7sGDNSiREonwYmoCLqMX0HL4Bjr10IKPgoUovH5QyKgPW6oPnh10yO8jWKa7I4SIgogJ1YeKFqkT6GqvjMGUAPp7UA2V0Y8wL3odssuml81w/IYqNZCCj4KFAnxvKWjX8RdDQrQBzELS9iZQ5OuEiIKIN/hy3agrK5UZVWUIY80a148yAO288rICtsDNjbtoT7tGKTWQgo+ChRdBmQWInSIRj9wkOxOSQkCjUcIbBIiCiC50T4ENKjaEnvk238ZorhvXLvVSorT8TYBqB0F/TKG7hiz1UIKPgoUH+rSJVCbDDrJ8R9Yy9P8qIUmW+sSIgogcfsDndZGrn/SpP+9SByW61IFBO4S0yFw4NzWAqITrpoYidRCCj4KFFJb0BrNe8fR++mx2E7GkaCOYOQnEiIKIFUT+zNdJ7N8F1AQo5InaxqvzREDEbZINBB4reMx+TSiGP/TQgo+ChR3eeQ95aMhn3GeHAPQURtnmsls+BIiCiBdnUMC/P4lLjvTZb98b663MfW0LaSx4LY50hLzxc+koBjw00IKPgoUx8PvY7fbNe0AZQR3VCG14fPeRHMSIgogBzIp6SuV78Cy+UVBTLs8dDbRr1JbxNZaebNO4o1ORqQY2dJCCj4KFOjOUL/5VDgBy0IotbOrXY9hfOHTEiIKINxMviWLCeFmRG6GbkE35jZ9sopBv3PZcqEMX0aZvfREGNjSQgo+ChQVWruKkKmvU7nqYXlnovwfQyE0whIiCiCHwz1LNzy353ndHx4OpC/JBEnf+0YuxBj+3fKOW6XDuhjkz0IKPgoUQmV0wXbyziKVbF/VPcLmp3c2E6kSIgog9Vs3+eteBGt+KT5q32hwSyfc9DAIvUDc0Xkya7+yS8cY68xCCj4KFNhf4MCOWQ0GpeqGQH8bEPNhuF/tEiIKIHpUDx7EXtv8MQG7K39NWYw4G3z3e67ZsUON1sI7pIJlGL7MQgo+ChQA/WqgkwDRig8LkQVstkWos/SIoBIiCiBHs9JYGN3vxr9bWHt+Ct89JMjA+AJm1/DrB5WnGXbcGxi6ykIKPgoUSwtM34IBztyr9fvUg3VGlhSuv4kSIgogfYDXPwqF7cDS3eGbR27IxuDKptzkIf4NP0H9EYaPfN4YtcpCCj4KFD/rbqkRfEvMVFRl75MOZY6AqjnZEiIKIFIRUn/G644ghO2STbZ/6e5dRv1Q9Ne+xMgZFMW73fuLGJbKQgo+ChTEwqtt3b+22G9SZlMaRBs562U/5xIiCiBE8XCqrUVrDmEqCTA1P7ti8m8wEqvGrRttDIVmD7mduhid2z8KPgoU3eeFEKwFgbYLmrk33ScMNEHoF+cSIgogKH8zCp2L2rcssttJnXSBvb3g1Smynq/FSScUc/TN6C8YsK8kCj4KFKSX7cZxbgTjhpDaIrVhrK3ZvATzEiIKINedXDttEeBMRlH7SUKs0vXc7r90jyxe1HnXREFG82vWGL+LEQo8ChTVZHmDq9Q4rWnxE6zwHjUCyO20HRIiCiCpSH3PNfMK5zW4GhzrxcjSFCECXs6udnvVtkqcq+bXpxgDEj8KFGrK4oHA6TaHH6pnDyIJVh4XoRBxEiIKIN7Z+juAwum+OAQHsCixWLZkdNX/dn0mCFC1dNdvXvSeGNSulQcY19CLkwUaBwgBEMiswwEilxQKQAoUs4TOWo+GBzbv6cHEZxAdhBO5C4ESIgogqNwxLQXeJ/ytk3dvN/gwSBOZEpmQLrJQh8r0GVfB7CAYqdyrzwEKQAoUwkp9IE4KB3Nur4p+doIM2GhWWw4SIgogKeOVNq3b/t5ozaSegdqWcC369isNQ0udRX1oNXHZFCwY2cLuygEKQAoU6kXTqcVq6CF3leCoGTgISEJtmCUSIgogEf/v17xPFaeboPXbwVOlKg7S0EoXE9SOFoLW3dtwAnIYoNbFmQEKPwoUyoYeLlmuPX2Zitt3FskUGeAy9/wSIgogNxHDmVE9XCf/grCT9SI2RTbpIowN3rEajsO+yHodetUYhPSmHQo/ChTD3paV6aeyDLlvTD+0GOC4GZQdKxIiCiBjGq7NkNzD+6sMqwAh6JgnJZPLNJzMaVCt3wHx36GVhxifj+kOCj8KFAEs0WTyDRGO3+piJAfq/Z3BonhzEiIKIBOAuPfHi9iYfMXYSJwc4H1UVe0YoTUgiWbzTI2dVMEGGPn6ugkKPwoUGTkwgnu9PMGHJ9d/P4ULa2CHKUoSIgogZlutK6OrduPTsjx46Az7pAU1Yv0+LcBNDiNtR9ag+t0YxrnQBwo/ChRqyuKBwOk2hx+qZw8iCVYeF6EQcRIiCiDe2fo7gMLpvjgEB7AosVi2ZHTV/3Z9JghQtXTXb170nhjUrpUHCj8KFONrgFihYLdZL0h1VrBNCy/PVbshEiIKIKRzqwh3+28PiEE1nBQLS56ivD4HUST4Y8A/m0xwQQ+/GPiJ4gYKPwoUGapE5VU97YZL4zcdE1QWsIXHleYSIgogrD3PPMlc381ecNXLgr3CdQbib+9wXMf8tAwTTC9yAusYqLTZAgo/ChR0THMFBErAtDkIjZkfRMc/gn9NDhIiCiAI7BihjXdMKyk8qUbPAFPLjahUd1QGmPu5Q/uTm1RXihjdor4BCj8KFKOf1JXbvjARDhOce272ywlCKOogEiIKIKF2Mliu7kWAYM5bbnIyQmHhm5fdWnpuZx+IRDcgmOf5GOPMswEKPwoUAHXp20hwGTuWg3EWFLurxJfDGqMSIgogOLdDoXBjrGf+SOmiqGv1j9VNhUc7jfe7LpmDcS2AYtUY1umRAQo/ChRi1hcxotkJPP/cxNInZfJvDpy+8xIiCiCU/IwYcqGTYd1QTFY8zdpS+vPX9S9jpDA0VHtWCiuHqxi/0Y8BCj4KFM/mGLS8hlSBnVpLuKl86rcJcda3EiIKIBhJh7ymP7S8k5sim8cJVa6dzON2m8pQ3NQuvCqkTTlGGOCYYQo+ChQi8eqhhL0XfmbmK1PfZe4IjftOyxIiCiAGYD0qt9mYekB5MMSU6MaRkIPGStHpcOlCIJ39Di08ShiFr1AKPgoUUeki/B3WQmMaga2jfYKfbQRlb0oSIgogYHEMZbIUPYuaRgM8OA5LjwjQI7aGjaqUL2+2+7CIjOMY7pJOCj4KFB2QXTw5/WzjolAcJHndcxVi/IG+EiIKIBY5b9u5DlNpuVpA0c2SBTcSF6nCd36av25UWpe+x3TWGPPtSAo+ChQSJobvG75CoWev1WipIHC2wfH+dxIiCiDdIO9XxEgBC5rJqnpQXXrD2bQpKkwoSsbtmbzUvYPPtxj3+0MKPgoUTwReoALBEQpcrysjhJw4124awPMSIgogn/i+ivSo8aDIn9zDMEcHHNWy1pgPd+BQ1fURicNkbN8YrOFCCj4KFG8wxppdynhCMRwM8bcQC/sIHfGaEiIKIFi6gRELoHKHLg/YDos3uwYM1KJESifBiagIuoxfQcvgGOvXQgo+ChSi8flDIqA9bqg+eHXTI7yNYprsjhIiCiAnVh4oWqRPoaq+MwZQA+ntQDZXRjzAveh2yy6aXzXD8hio1kIKPgoUCfG8paNfxF0NCtAHMQtL2JlDk64SIgog3+HLdqCsrlRlVZQhjzRrXjzIA7bzysgK2wM2Nu2hPu0YpNZCCj4KFF0GZBYidIhGP3CQ7E5JCQKNRwhsEiIKILnRPgQ0qNoSe+TbfxmiuG9cu9VKitPxNgGoHQX9MobuGLPVQgo+ChQf6tIlUJsMOsnxH1jL0/yohSZb6xIiCiBx+wOd1kauf9Kk/71IHJbrUgUE7hLTIXDg3NYCohOumhiJ1EIKPgoUUlvQGs17x9H76bHYTsaRoI5g5CcSIgogVRP7M10ns3wXUBCjkidrGq/NEQMRtkg0EHit4zH5NKIY/9NCCj4KFHd55D3loyGfcZ4cA9BRG2eayWz4EiIKIF2dQwL8/iUuO9Nlv3xvrrcx9bQtpLHgtjnSEvPFz6SgGPDTQgo+ChTHw+9jt9s17QBlBHdUIbXh895EcxIiCiAHMinpK5XvwLL5RUFMuzx0NtGvUlvE1lp5s07ijU5GpBjZ0kIKPgoU6M5Qv/lUOAHLQii1s6tdj2F84dMSIgog3Ey+JYsJ4WZEboZuQTfmNn2yikG/c9lyoQxfRpm99EQY2NJCCj4KFBVau4qQqa9TuepheWei/B9DITTCEiIKIIfDPUs3PLfned0fHg6kL8kESd/7Ri7EGP7d8o5bpcO6GOTPQgo+ChRCZXTBdvLOIpVsX9U9wuandzYTqRIiCiD1Wzf5614Ea34pPmrfaHBLJ9z0MAi9QNzReTJrv7JLxxjrzEIKPgoU2F/gwI5ZDQal6oZAfxsQ82G4X+0SIgogelQPHsRe2/wxAbsrf01ZjDgbfPd7rtmxQ43WwjukgmUYvsxCCj4KFAD9aqCTANGKDwuRBWy2Raiz9IigEiIKIEez0lgY3e/Gv1tYe34K3z0kyMD4AmbX8OsHlacZdtwbGLrKQgo+ChRLC0zfggHO3Kv1+9SDdUaWFK6/iRIiCiB9gNc/CoXtwNLd4ZtHbsjG4Mqm3OQh/g0/Qf0Rho983hi1ykIKPgoUP+tuqRF8S8xUVGXvkw5ljoCqOdkSIgogUhFSf8brjiCE7ZJNtn/p7l1G/VD0177EyBkUxbvd+4sYlspCCj4KFMTCq23dv7bYb1JmUxpEGznrZT/nEiIKIETxcKqtRWsOYSoJMDU/u2LybzASq8atG20MhWYPuZ26GJ3bPwo+ChTd54UQrAWBtguauTfdJww0QegX5xIiCiAofzMKnYvatyyy20mddIG9veDVKbKer8VJJxRz9M3oLxiwryQKPgoUpJftxnFuBOOGkNoitWGsrdm8BPMSIgog151cO20R4ExGUftJQqzS9dzuv3SPLF7UeddEQUbza9YYv4sRCjwKFNVkeYOr1DitafETrPAeNQLI7bQdEiIKIKlIfc818wrnNbgaHOvFyNIUIQJezq52e9W2Spyr5tenGAMSQAoU6kXTqcVq6CF3leCoGTgISEJtmCUSIgogEf/v17xPFaeboPXbwVOlKg7S0EoXE9SOFoLW3dtwAnIYoNbFmQEY6sOLkwU='}, 'signer': 'osmo16kknw79vd8rws905phrq6t5ex8vzxdhvc0gsmp'}\n",
      "\n",
      "\n"
     ]
    }
   ],
   "source": [
    "#update the client_id on osmosis (ie, refresh osmosis's knowledge of terra's tendermint state)\n",
    "#only this cell will show the full gory details; the rest will just call the helper function\n",
    "\n",
    "#gather tendermint/consensus/validator information on terra's current state\n",
    "tendermint_info_on_other_chain = terra.tendermint.block_info()\n",
    "\n",
    "timestamp = googTimestamp()\n",
    "timestamp.FromJsonString(tendermint_info_on_other_chain[\"block\"][\"header\"][\"time\"])\n",
    "print(f\"timestamp: {timestamp} \\n\\n\")\n",
    "\n",
    "print(\"source current tendermint:\")\n",
    "print(tendermint_info_on_other_chain)\n",
    "print(\"\\n\\n\")\n",
    "\n",
    "validator_info_on_other_chain = terra.tendermint.validator_set(height=int(tendermint_info_on_other_chain[\"block\"][\"header\"][\"height\"]))\n",
    "commit_info_on_other_chain = requests.get(f\"{terra_rpc_url}/commit\", headers=terra_rpc_header, params={\"height\": tendermint_info_on_other_chain[\"block\"][\"header\"][\"height\"]}).json()\n",
    "\n",
    "print(\"\\n\\ncommit_info:\\n\")\n",
    "print(commit_info_on_other_chain)\n",
    "print(\"\\n\\n\")\n",
    "\n",
    "resp = requests.get(f\"{terra_rpc_url}/blockchain\", headers=terra_rpc_header, params={\"minHeight\": tendermint_info_on_other_chain[\"block\"][\"header\"][\"height\"], \"maxHeight\": tendermint_info_on_other_chain[\"block\"][\"header\"][\"height\"]}).json()\n",
    "block_proposer_on_other_chain = resp[\"result\"][\"block_metas\"][0][\"header\"][\"proposer_address\"]\n",
    "\n",
    "proposer_info = None\n",
    "for x in validator_info_on_other_chain[\"validators\"]:\n",
    "    if block_proposer_on_other_chain == bech32_to_hexstring(x[\"address\"]).upper():\n",
    "        proposer_info = x\n",
    "\n",
    "#gather osmosis's understanding of terra's tendermint/consensus/validator information \n",
    "client_state_of_other_chain_on_my_chain = osmo.broadcaster.query(f\"/ibc/core/client/v1/client_states/{client_id_on_osmo}\")\n",
    "validator_info_of_other_chain_on_my_chain = terra.tendermint.validator_set(height=int(client_state_of_other_chain_on_my_chain[\"client_state\"][\"latest_height\"][\"revision_height\"])+1)\n",
    "block_proposer_of_other_chain_on_my_chain = requests.get(f\"{terra_rpc_url}/blockchain\", headers=terra_rpc_header, params={\"minHeight\": int(client_state_of_other_chain_on_my_chain[\"client_state\"][\"latest_height\"][\"revision_height\"])+1, \"maxHeight\": int(client_state_of_other_chain_on_my_chain[\"client_state\"][\"latest_height\"][\"revision_height\"])+1}).json()[\"result\"][\"block_metas\"][0][\"header\"][\"proposer_address\"]\n",
    "\n",
    "trusted_proposer_info = None\n",
    "for x in validator_info_of_other_chain_on_my_chain[\"validators\"]:\n",
    "    if block_proposer_of_other_chain_on_my_chain == bech32_to_hexstring(x[\"address\"]).upper():\n",
    "        trusted_proposer_info = x\n",
    "\n",
    "version_app = 0 if \"app\" not in commit_info_on_other_chain[\"result\"][\"signed_header\"][\"header\"][\"version\"].keys() else int(commit_info_on_other_chain[\"result\"][\"signed_header\"][\"header\"][\"version\"][\"app\"])\n",
    "\n",
    "#fabricate the MsgUpdateClient message; this updates osmosis's knowledge of terra's tendermint/consensus state\n",
    "msg = MsgUpdateClient(\n",
    "    signer=osmo_wallet.key.acc_address,\n",
    "    client_id=client_id_on_osmo,\n",
    "    header=Any(\n",
    "      type_url=\"/ibc.lightclients.tendermint.v1.Header\",\n",
    "      value=Header(\n",
    "        signed_header=SignedHeader(\n",
    "          header=tendermintHeader(\n",
    "            version=Consensus(\n",
    "              block=int(commit_info_on_other_chain[\"result\"][\"signed_header\"][\"header\"][\"version\"][\"block\"]),\n",
    "              app=version_app,\n",
    "            ),\n",
    "            chain_id=terra.chain_id,\n",
    "            height=int(commit_info_on_other_chain[\"result\"][\"signed_header\"][\"header\"][\"height\"]),\n",
    "            time=Timestamp(timestamp.seconds, timestamp.nanos),\n",
    "            last_block_id=BlockId(\n",
    "              hash=hexstring_to_bytes(commit_info_on_other_chain[\"result\"][\"signed_header\"][\"header\"][\"last_block_id\"][\"hash\"]),\n",
    "              part_set_header=PartSetHeader(\n",
    "                total=int(commit_info_on_other_chain[\"result\"][\"signed_header\"][\"header\"][\"last_block_id\"][\"parts\"][\"total\"]),\n",
    "                hash=hexstring_to_bytes(commit_info_on_other_chain[\"result\"][\"signed_header\"][\"header\"][\"last_block_id\"][\"parts\"][\"hash\"]),\n",
    "              ),\n",
    "            ),\n",
    "            last_commit_hash=hexstring_to_bytes(commit_info_on_other_chain[\"result\"][\"signed_header\"][\"header\"][\"last_commit_hash\"]),\n",
    "            data_hash=hexstring_to_bytes(commit_info_on_other_chain[\"result\"][\"signed_header\"][\"header\"][\"data_hash\"]),\n",
    "            validators_hash=hexstring_to_bytes(commit_info_on_other_chain[\"result\"][\"signed_header\"][\"header\"][\"validators_hash\"]),\n",
    "            next_validators_hash=hexstring_to_bytes(commit_info_on_other_chain[\"result\"][\"signed_header\"][\"header\"][\"next_validators_hash\"]),\n",
    "            consensus_hash=hexstring_to_bytes(commit_info_on_other_chain[\"result\"][\"signed_header\"][\"header\"][\"consensus_hash\"]),\n",
    "            app_hash=hexstring_to_bytes(commit_info_on_other_chain[\"result\"][\"signed_header\"][\"header\"][\"app_hash\"]),\n",
    "            last_results_hash=hexstring_to_bytes(commit_info_on_other_chain[\"result\"][\"signed_header\"][\"header\"][\"last_results_hash\"]),\n",
    "            evidence_hash=hexstring_to_bytes(commit_info_on_other_chain[\"result\"][\"signed_header\"][\"header\"][\"evidence_hash\"]),\n",
    "            proposer_address=hexstring_to_bytes(commit_info_on_other_chain[\"result\"][\"signed_header\"][\"header\"][\"proposer_address\"]),\n",
    "          ),\n",
    "          commit=Commit(\n",
    "            height=int(commit_info_on_other_chain[\"result\"][\"signed_header\"][\"commit\"][\"height\"]),\n",
    "            round=int(commit_info_on_other_chain[\"result\"][\"signed_header\"][\"commit\"][\"round\"]),\n",
    "            block_id=BlockId(\n",
    "              hash=hexstring_to_bytes(commit_info_on_other_chain[\"result\"][\"signed_header\"][\"commit\"][\"block_id\"][\"hash\"]),\n",
    "              part_set_header=PartSetHeader(\n",
    "                total=int(commit_info_on_other_chain[\"result\"][\"signed_header\"][\"commit\"][\"block_id\"][\"parts\"][\"total\"]),\n",
    "                hash=hexstring_to_bytes(commit_info_on_other_chain[\"result\"][\"signed_header\"][\"commit\"][\"block_id\"][\"parts\"][\"hash\"]),\n",
    "              )\n",
    "            ),\n",
    "            signatures=[\n",
    "              CommitSig(\n",
    "                block_id_flag=BlockIdFlag(x[\"block_id_flag\"]),\n",
    "                validator_address=hexstring_to_bytes(x[\"validator_address\"]),\n",
    "                timestamp=timestamp_string_to_proto(x[\"timestamp\"]),\n",
    "                signature=base64.b64decode(x[\"signature\"]) if x[\"signature\"] is not None else None,\n",
    "              )\n",
    "              for x in commit_info_on_other_chain[\"result\"][\"signed_header\"][\"commit\"][\"signatures\"]\n",
    "            ],\n",
    "          ),\n",
    "        ),\n",
    "        validator_set=ValidatorSet(\n",
    "          validators=[\n",
    "            Validator(\n",
    "              address=base64.b64decode(bech32_to_b64(x[\"address\"])),\n",
    "              pub_key=PublicKey(\n",
    "                ed25519=base64.b64decode(x[\"pub_key\"][\"key\"])\n",
    "              ) if \"ed25519\" in x[\"pub_key\"][\"@type\"] else PublicKey(\n",
    "                secp256_k1=base64.b64decode(x[\"pub_key\"][\"key\"])\n",
    "              ),\n",
    "              voting_power=int(x[\"voting_power\"]),\n",
    "            ) for x in validator_info_on_other_chain[\"validators\"]\n",
    "          ],\n",
    "          proposer=Validator(\n",
    "            address=base64.b64decode(bech32_to_b64(proposer_info[\"address\"])),\n",
    "            pub_key=PublicKey(\n",
    "              ed25519=base64.b64decode(proposer_info[\"pub_key\"][\"key\"])\n",
    "            ) if \"ed25519\" in proposer_info[\"pub_key\"][\"@type\"] else PublicKey(\n",
    "                secp256_k1=base64.b64decode(proposer_info[\"pub_key\"][\"key\"])\n",
    "            ),\n",
    "            voting_power=int(proposer_info[\"voting_power\"]),\n",
    "          ) \n",
    "          ,\n",
    "          total_voting_power=sum([int(x[\"voting_power\"]) for x in validator_info_on_other_chain[\"validators\"]]),\n",
    "        ),\n",
    "        trusted_height=Height(\n",
    "          revision_number=int(client_state_of_other_chain_on_my_chain[\"client_state\"][\"latest_height\"][\"revision_number\"]),\n",
    "          revision_height=int(client_state_of_other_chain_on_my_chain[\"client_state\"][\"latest_height\"][\"revision_height\"]),\n",
    "        ),\n",
    "        trusted_validators=ValidatorSet(\n",
    "          validators=[\n",
    "            Validator(\n",
    "              address=base64.b64decode(bech32_to_b64(x[\"address\"])),\n",
    "              pub_key=PublicKey(\n",
    "                ed25519=base64.b64decode(x[\"pub_key\"][\"key\"])\n",
    "              ) if \"ed25519\" in x[\"pub_key\"][\"@type\"] else PublicKey(\n",
    "                secp256_k1=base64.b64decode(x[\"pub_key\"][\"key\"])\n",
    "              ),\n",
    "              voting_power=int(x[\"voting_power\"]),\n",
    "            ) for x in validator_info_of_other_chain_on_my_chain[\"validators\"]\n",
    "          ],\n",
    "          proposer=Validator(\n",
    "            address=base64.b64decode(bech32_to_b64(trusted_proposer_info[\"address\"])),\n",
    "            pub_key=PublicKey(\n",
    "              ed25519=base64.b64decode(trusted_proposer_info[\"pub_key\"][\"key\"])\n",
    "            ) if \"ed25519\" in trusted_proposer_info[\"pub_key\"][\"@type\"] else PublicKey(\n",
    "                secp256_k1=base64.b64decode(trusted_proposer_info[\"pub_key\"][\"key\"])\n",
    "            ),\n",
    "            voting_power=int(trusted_proposer_info[\"voting_power\"]),\n",
    "          ) \n",
    "          ,\n",
    "          total_voting_power=sum([int(x[\"voting_power\"]) for x in validator_info_of_other_chain_on_my_chain[\"validators\"]]),\n",
    "        ),\n",
    "      ).SerializeToString(),\n",
    "    ),\n",
    ")\n",
    "\n",
    "print(f\"\"\"\n",
    "\n",
    "update client msg:\n",
    "\n",
    "{ msg.to_dict()}\n",
    "\n",
    "\"\"\")\n",
    "\n",
    "update_client_on_osmo_result = stargate_msg(\"/ibc.core.client.v1.MsgUpdateClient\", msg, osmo_wallet, osmo)\n",
    "header_height = Header.FromString(msg.header.value).signed_header.header.height"
   ]
  },
  {
   "cell_type": "code",
   "execution_count": 31,
   "id": "287772d1-cc9a-404e-bccf-8181495767df",
   "metadata": {},
   "outputs": [
    {
     "name": "stdout",
     "output_type": "stream",
     "text": [
      "{'tx_response': {'height': '8157504', 'txhash': '3E99974EF2CBAFA472F723AB3EFDB0455296F58D7F5A349A351FEF35E07C25B9', 'codespace': '', 'code': 0, 'data': '0A250A232F6962632E636F72652E636C69656E742E76312E4D7367557064617465436C69656E74', 'raw_log': '[{\"events\":[{\"type\":\"message\",\"attributes\":[{\"key\":\"action\",\"value\":\"/ibc.core.client.v1.MsgUpdateClient\"},{\"key\":\"module\",\"value\":\"ibc_client\"}]},{\"type\":\"update_client\",\"attributes\":[{\"key\":\"client_id\",\"value\":\"07-tendermint-3241\"},{\"key\":\"client_type\",\"value\":\"07-tendermint\"},{\"key\":\"consensus_height\",\"value\":\"1-3200591\"},{\"key\":\"header\",\"value\":\"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\"}]}]}]', 'logs': [{'msg_index': 0, 'log': '', 'events': [{'type': 'message', 'attributes': [{'key': 'action', 'value': '/ibc.core.client.v1.MsgUpdateClient'}, {'key': 'module', 'value': 'ibc_client'}]}, {'type': 'update_client', 'attributes': [{'key': 'client_id', 'value': '07-tendermint-3241'}, {'key': 'client_type', 'value': '07-tendermint'}, {'key': 'consensus_height', 'value': '1-3200591'}, {'key': 'header', 'value': '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'}]}]}], 'info': '', 'gas_wanted': '2000000', 'gas_used': '182316', 'tx': None, 'timestamp': '', 'events': [{'type': 'coin_spent', 'attributes': [{'key': 'c3BlbmRlcg==', 'value': 'b3NtbzE2a2tudzc5dmQ4cndzOTA1cGhycTZ0NWV4OHZ6eGRodmMwZ3NtcA==', 'index': True}, {'key': 'YW1vdW50', 'value': 'NTAwMDAwdW9zbW8=', 'index': True}]}, {'type': 'coin_received', 'attributes': [{'key': 'cmVjZWl2ZXI=', 'value': 'b3NtbzE3eHBmdmFrbTJhbWc5NjJ5bHM2Zjg0ejNrZWxsOGM1bGN6c3NhMA==', 'index': True}, {'key': 'YW1vdW50', 'value': 'NTAwMDAwdW9zbW8=', 'index': True}]}, {'type': 'transfer', 'attributes': [{'key': 'cmVjaXBpZW50', 'value': 'b3NtbzE3eHBmdmFrbTJhbWc5NjJ5bHM2Zjg0ejNrZWxsOGM1bGN6c3NhMA==', 'index': True}, {'key': 'c2VuZGVy', 'value': 'b3NtbzE2a2tudzc5dmQ4cndzOTA1cGhycTZ0NWV4OHZ6eGRodmMwZ3NtcA==', 'index': True}, {'key': 'YW1vdW50', 'value': 'NTAwMDAwdW9zbW8=', 'index': True}]}, {'type': 'message', 'attributes': [{'key': 'c2VuZGVy', 'value': 'b3NtbzE2a2tudzc5dmQ4cndzOTA1cGhycTZ0NWV4OHZ6eGRodmMwZ3NtcA==', 'index': True}]}, {'type': 'tx', 'attributes': [{'key': 'ZmVl', 'value': 'NTAwMDAwdW9zbW8=', 'index': True}]}, {'type': 'tx', 'attributes': [{'key': 'YWNjX3NlcQ==', 'value': 'b3NtbzE2a2tudzc5dmQ4cndzOTA1cGhycTZ0NWV4OHZ6eGRodmMwZ3NtcC81NA==', 'index': True}]}, {'type': 'tx', 'attributes': [{'key': 'c2lnbmF0dXJl', 'value': 'azR1TGxIQnBTWDlwandqMkRONngzTXJsc1lHTGsvVnBXWit4bmJQNmh2RkhITE5yZkhiVjBwZk0zS0VRV2h5ZjhSRFcwaW1KUG00S3lGWFN3UW5acVE9PQ==', 'index': True}]}, {'type': 'message', 'attributes': [{'key': 'YWN0aW9u', 'value': 'L2liYy5jb3JlLmNsaWVudC52MS5Nc2dVcGRhdGVDbGllbnQ=', 'index': True}]}, {'type': 'update_client', 'attributes': [{'key': 'Y2xpZW50X2lk', 'value': 'MDctdGVuZGVybWludC0zMjQx', 'index': True}, {'key': 'Y2xpZW50X3R5cGU=', 'value': 'MDctdGVuZGVybWludA==', 'index': True}, {'key': 'Y29uc2Vuc3VzX2hlaWdodA==', 'value': 'MS0zMjAwNTkx', 'index': True}, {'key': 'aGVhZGVy', 'value': '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', 'index': True}]}, {'type': 'message', 'attributes': [{'key': 'bW9kdWxl', 'value': 'aWJjX2NsaWVudA==', 'index': True}]}]}}\n"
     ]
    }
   ],
   "source": [
    "#fetch client, connection, consensus proofs\n",
    "\n"
   ]
  },
  {
   "cell_type": "code",
   "execution_count": null,
   "id": "72a1769a-92be-4ec0-8186-ba8d2a5128a2",
   "metadata": {
    "tags": []
   },
   "outputs": [],
   "source": [
    "#fabricate message & dispatch via stargate"
   ]
  },
  {
   "cell_type": "markdown",
   "id": "28eaea00-5d65-4247-980b-d8e77ae4a595",
   "metadata": {},
   "source": [
    "IBC connection step 3 - MsgConnectionOpenAck"
   ]
  },
  {
   "cell_type": "code",
   "execution_count": null,
   "id": "da555fce-3936-4755-a53d-9de714576a8d",
   "metadata": {},
   "outputs": [],
   "source": [
    "#update client on terra (ie, refresh terra's knowledge of osmosis's tendermint state) & fetch proofs"
   ]
  },
  {
   "cell_type": "code",
   "execution_count": null,
   "id": "b2845408-0fc8-448d-ad2d-feb9117c9a2f",
   "metadata": {},
   "outputs": [],
   "source": [
    "#fabricate message & dispatch via stargate"
   ]
  },
  {
   "cell_type": "markdown",
   "id": "ff2edf07-e7a6-48fc-9190-a5d3b4b64688",
   "metadata": {},
   "source": [
    "IBC connection step 4 - MsgConnectionOpenConfirm"
   ]
  },
  {
   "cell_type": "code",
   "execution_count": 3,
   "id": "a40a2f1d-3537-4247-986b-58ebd32f3147",
   "metadata": {},
   "outputs": [],
   "source": [
    "#update client again on osmosis & fetch proofs"
   ]
  },
  {
   "cell_type": "code",
   "execution_count": null,
   "id": "2ef6ca8c-c73c-47e5-83f6-4bcb21630762",
   "metadata": {},
   "outputs": [],
   "source": [
    "#fabricate message & dispatch via stargate"
   ]
  },
  {
   "cell_type": "code",
   "execution_count": null,
   "id": "28184ec5-d04a-4359-8b31-d3fade9427ec",
   "metadata": {},
   "outputs": [],
   "source": [
    "#persist connection_id's on both chains for later stages"
   ]
  }
 ],
 "metadata": {
  "kernelspec": {
   "display_name": "Python 3 (ipykernel)",
   "language": "python",
   "name": "python3"
  },
  "language_info": {
   "codemirror_mode": {
    "name": "ipython",
    "version": 3
   },
   "file_extension": ".py",
   "mimetype": "text/x-python",
   "name": "python",
   "nbconvert_exporter": "python",
   "pygments_lexer": "ipython3",
   "version": "3.8.15"
  }
 },
 "nbformat": 4,
 "nbformat_minor": 5
}
