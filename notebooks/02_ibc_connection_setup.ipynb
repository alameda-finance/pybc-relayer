{
 "cells": [
  {
   "cell_type": "markdown",
   "id": "3072ea46-1496-489d-910d-bd5fc609be2b",
   "metadata": {},
   "source": [
    "The second step is completing the 4-step IBC connection handshake between terra and osmosis - 1) init (on terra), 2) try (on osmosis), 3) ack (on terra), 4) confirm (on osmosis).\n",
    "\n",
    "With an IBC connection in-place, we lay the foundation for terra/osmosis smart contract pairs to communicate."
   ]
  },
  {
   "cell_type": "code",
   "execution_count": null,
   "id": "ce9ce729-33ff-4f50-b81c-b28af8d6d2e0",
   "metadata": {},
   "outputs": [],
   "source": []
  },
  {
   "cell_type": "code",
   "execution_count": 1,
   "id": "f3a9361a-ec45-4ef7-9a70-9ea25a47395f",
   "metadata": {},
   "outputs": [],
   "source": [
    "#imports"
   ]
  },
  {
   "cell_type": "code",
   "execution_count": null,
   "id": "eecb637a-bff3-48c2-a32f-28f8de24c476",
   "metadata": {},
   "outputs": [],
   "source": [
    "#setup lcd clients, rpc urls, wallets"
   ]
  },
  {
   "cell_type": "markdown",
   "id": "8f042359-e5b1-40c5-a9c8-20e3799bda4d",
   "metadata": {},
   "source": [
    "These are the protobuf classes specific for setting up the IBC connection. One noteworthy protobuf class that will see continual usage now, and in later stages, is MsgUpdateClient, which basically refreshes the light client information (ie the counterpart chain tendermint state)."
   ]
  },
  {
   "cell_type": "code",
   "execution_count": null,
   "id": "44e0b22d-b67a-47cb-9659-5775e6bf3051",
   "metadata": {},
   "outputs": [],
   "source": [
    "#terra_proto imports"
   ]
  },
  {
   "cell_type": "markdown",
   "id": "32a2c027-4f91-4038-89a6-faca261db347",
   "metadata": {},
   "source": [
    "Load client_id's from previous step; if we don't find it, we'll use default client_id's built by the authors."
   ]
  },
  {
   "cell_type": "code",
   "execution_count": null,
   "id": "c7ce8cc2-c9e2-4947-abdb-ae4976f9f7d8",
   "metadata": {},
   "outputs": [],
   "source": [
    "#load context.yaml"
   ]
  },
  {
   "cell_type": "markdown",
   "id": "33d92aa9-eebc-45e5-b276-069bd6189036",
   "metadata": {},
   "source": [
    "IBC connection step 1 - MsgConnectionOpenInit"
   ]
  },
  {
   "cell_type": "code",
   "execution_count": 2,
   "id": "9046090d-1f42-4cde-9153-e7d912ff2dd5",
   "metadata": {},
   "outputs": [],
   "source": [
    "#fabricate message & dispatch via stargate"
   ]
  },
  {
   "cell_type": "markdown",
   "id": "73cec54d-14ed-4dfd-a728-f187219ff004",
   "metadata": {},
   "source": [
    "IBC connection step 2 - MsgConnectionOpenTry"
   ]
  },
  {
   "cell_type": "code",
   "execution_count": null,
   "id": "138efa72-0ff3-415a-af49-01b6d182b887",
   "metadata": {
    "tags": []
   },
   "outputs": [],
   "source": [
    "#update the client_id on osmosis (ie, refresh osmosis's knowledge of terra's tendermint state)"
   ]
  },
  {
   "cell_type": "code",
   "execution_count": null,
   "id": "287772d1-cc9a-404e-bccf-8181495767df",
   "metadata": {},
   "outputs": [],
   "source": [
    "#fetch client, connection, consensus proofs"
   ]
  },
  {
   "cell_type": "code",
   "execution_count": null,
   "id": "72a1769a-92be-4ec0-8186-ba8d2a5128a2",
   "metadata": {
    "tags": []
   },
   "outputs": [],
   "source": [
    "#fabricate message & dispatch via stargate"
   ]
  },
  {
   "cell_type": "markdown",
   "id": "28eaea00-5d65-4247-980b-d8e77ae4a595",
   "metadata": {},
   "source": [
    "IBC connection step 3 - MsgConnectionOpenAck"
   ]
  },
  {
   "cell_type": "code",
   "execution_count": null,
   "id": "da555fce-3936-4755-a53d-9de714576a8d",
   "metadata": {},
   "outputs": [],
   "source": [
    "#update client on terra (ie, refresh terra's knowledge of osmosis's tendermint state) & fetch proofs"
   ]
  },
  {
   "cell_type": "code",
   "execution_count": null,
   "id": "b2845408-0fc8-448d-ad2d-feb9117c9a2f",
   "metadata": {},
   "outputs": [],
   "source": [
    "#fabricate message & dispatch via stargate"
   ]
  },
  {
   "cell_type": "markdown",
   "id": "ff2edf07-e7a6-48fc-9190-a5d3b4b64688",
   "metadata": {},
   "source": [
    "IBC connection step 4 - MsgConnectionOpenConfirm"
   ]
  },
  {
   "cell_type": "code",
   "execution_count": 3,
   "id": "a40a2f1d-3537-4247-986b-58ebd32f3147",
   "metadata": {},
   "outputs": [],
   "source": [
    "#update client again on osmosis & fetch proofs"
   ]
  },
  {
   "cell_type": "code",
   "execution_count": null,
   "id": "2ef6ca8c-c73c-47e5-83f6-4bcb21630762",
   "metadata": {},
   "outputs": [],
   "source": [
    "#fabricate message & dispatch via stargate"
   ]
  },
  {
   "cell_type": "code",
   "execution_count": null,
   "id": "28184ec5-d04a-4359-8b31-d3fade9427ec",
   "metadata": {},
   "outputs": [],
   "source": [
    "#persist connection_id's on both chains for later stages"
   ]
  }
 ],
 "metadata": {
  "kernelspec": {
   "display_name": "Python 3 (ipykernel)",
   "language": "python",
   "name": "python3"
  },
  "language_info": {
   "codemirror_mode": {
    "name": "ipython",
    "version": 3
   },
   "file_extension": ".py",
   "mimetype": "text/x-python",
   "name": "python",
   "nbconvert_exporter": "python",
   "pygments_lexer": "ipython3",
   "version": "3.8.15"
  }
 },
 "nbformat": 4,
 "nbformat_minor": 5
}
