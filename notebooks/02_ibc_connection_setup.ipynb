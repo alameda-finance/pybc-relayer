{
 "cells": [
  {
   "cell_type": "markdown",
   "id": "3072ea46-1496-489d-910d-bd5fc609be2b",
   "metadata": {},
   "source": [
    "## The second step is completing the 4-step IBC connection handshake between terra and osmosis - 1) init (on inj), 2) try (on osmosis), 3) ack (on inj), 4) confirm (on osmosis).\n",
    "\n",
    "## With an IBC connection in-place, we lay the foundation for injective/osmosis smart contract pairs to communicate."
   ]
  },
  {
   "cell_type": "code",
   "execution_count": null,
   "id": "ce9ce729-33ff-4f50-b81c-b28af8d6d2e0",
   "metadata": {},
   "outputs": [],
   "source": []
  },
  {
   "cell_type": "code",
   "execution_count": 2,
   "id": "f3a9361a-ec45-4ef7-9a70-9ea25a47395f",
   "metadata": {
    "tags": []
   },
   "outputs": [],
   "source": [
    "#imports\n",
    "\n",
    "import pandas as pd\n",
    "import json\n",
    "import os\n",
    "import sys\n",
    "import base64\n",
    "import requests\n",
    "import subprocess\n",
    "import math\n",
    "import hashlib\n",
    "import bech32\n",
    "import time\n",
    "\n",
    "from dateutil.parser import parse\n",
    "from datetime import datetime, timedelta\n",
    "from ecdsa import SECP256k1, SigningKey\n",
    "from ecdsa.util import sigencode_string_canonize\n",
    "from bech32 import bech32_decode, bech32_encode, convertbits\n",
    "from google.protobuf.timestamp_pb2 import Timestamp as googTimestamp\n",
    "\n",
    "from terra_sdk.client.lcd import LCDClient\n",
    "from terra_sdk.core.wasm import MsgStoreCode, MsgInstantiateContract, MsgExecuteContract\n",
    "from terra_sdk.core.bank import MsgSend\n",
    "from terra_sdk.core.fee import Fee\n",
    "from terra_sdk.key.mnemonic import MnemonicKey\n",
    "from terra_sdk.core.bech32 import get_bech\n",
    "from terra_sdk.core import AccAddress, Coin, Coins\n",
    "from terra_sdk.client.lcd.api.tx import CreateTxOptions, SignerOptions\n",
    "from terra_sdk.client.localterra import LocalTerra\n",
    "from terra_sdk.core.wasm.data import AccessConfig\n",
    "from terra_sdk.client.lcd.api._base import BaseAsyncAPI, sync_bind\n",
    "\n",
    "from terra_proto.cosmwasm.wasm.v1 import AccessType\n",
    "from terra_proto.cosmos.tx.v1beta1 import Tx, TxBody, AuthInfo, SignDoc, SignerInfo, ModeInfo, ModeInfoSingle, BroadcastTxResponse\n",
    "from terra_proto.cosmos.base.abci.v1beta1 import TxResponse\n",
    "from terra_proto.cosmos.tx.signing.v1beta1 import SignMode\n",
    "from terra_proto.ibc.core.client.v1 import MsgCreateClient, Height, MsgUpdateClient, QueryClientStateRequest, QueryClientStateResponse\n",
    "from terra_proto.ibc.core.channel.v1 import MsgChannelOpenInit, Channel, State, Order, Counterparty, MsgChannelOpenTry, MsgChannelOpenAck, MsgChannelOpenConfirm, QueryUnreceivedPacketsRequest, QueryUnreceivedPacketsResponse, QueryPacketCommitmentRequest, QueryPacketCommitmentResponse, Packet, QueryNextSequenceReceiveRequest, QueryNextSequenceReceiveResponse, MsgRecvPacket, MsgTimeout, QueryUnreceivedAcksRequest, QueryUnreceivedAcksResponse, MsgAcknowledgement\n",
    "from terra_proto.ibc.core.connection.v1 import MsgConnectionOpenInit, Counterparty as ConnectionCounterParty, Version, MsgConnectionOpenTry, MsgConnectionOpenAck, MsgConnectionOpenConfirm\n",
    "from terra_proto.ibc.lightclients.tendermint.v1 import ClientState, ConsensusState, Fraction, Header\n",
    "from terra_proto.ics23 import HashOp, LengthOp, LeafOp, InnerOp, ProofSpec, InnerSpec, CommitmentProof, ExistenceProof, NonExistenceProof, BatchProof, CompressedBatchProof, BatchEntry, CompressedBatchEntry, CompressedExistenceProof, CompressedNonExistenceProof\n",
    "from terra_proto.ibc.core.commitment.v1 import MerkleRoot, MerklePrefix, MerkleProof\n",
    "from terra_proto.tendermint.types import ValidatorSet, Validator, SignedHeader, Header as tendermintHeader, Commit, BlockId, PartSetHeader, CommitSig, BlockIdFlag\n",
    "from terra_proto.tendermint.version import Consensus\n",
    "from terra_proto.tendermint.crypto import PublicKey\n",
    "from betterproto.lib.google.protobuf import Any\n",
    "from betterproto import Timestamp\n",
    "\n",
    "#misc helper functions\n",
    "sys.path.append(os.path.join(os.path.dirname(__name__), '..', 'scripts'))\n",
    "\n",
    "from helpers import proto_to_binary, timestamp_string_to_proto, stargate_msg, create_ibc_client, fetch_chain_objects, bech32_to_hexstring, hexstring_to_bytes, bech32_to_b64, b64_to_bytes, fabricate_update_client, fetch_proofs"
   ]
  },
  {
   "cell_type": "code",
   "execution_count": 3,
   "id": "eecb637a-bff3-48c2-a32f-28f8de24c476",
   "metadata": {},
   "outputs": [],
   "source": [
    "#setup lcd clients, rpc urls, wallets\n",
    "(inj, inj_wallet, inj_rpc_url, inj_rpc_header) = fetch_chain_objects(\"injective-888\")\n",
    "(osmo, osmo_wallet, osmo_rpc_url, osmo_rpc_header) = fetch_chain_objects(\"osmo-test-4\")"
   ]
  },
  {
   "cell_type": "markdown",
   "id": "8f042359-e5b1-40c5-a9c8-20e3799bda4d",
   "metadata": {},
   "source": [
    "## These are the protobuf classes specific for setting up the IBC connection. One noteworthy protobuf class that will see continual usage now, and in later stages, is MsgUpdateClient, which basically refreshes the light client information (ie the counterpart chain tendermint state)."
   ]
  },
  {
   "cell_type": "code",
   "execution_count": 4,
   "id": "44e0b22d-b67a-47cb-9659-5775e6bf3051",
   "metadata": {},
   "outputs": [],
   "source": [
    "#terra_proto imports\n",
    "from terra_proto.ibc.core.connection.v1 import MsgConnectionOpenInit, Counterparty as ConnectionCounterParty, Version, MsgConnectionOpenTry, MsgConnectionOpenAck, MsgConnectionOpenConfirm\n",
    "from terra_proto.ibc.core.client.v1 import MsgCreateClient, Height, MsgUpdateClient, QueryClientStateRequest, QueryClientStateResponse"
   ]
  },
  {
   "cell_type": "markdown",
   "id": "32a2c027-4f91-4038-89a6-faca261db347",
   "metadata": {},
   "source": [
    "## Load client_id's from previous step; if we don't find it, we'll use default client_id's built by the authors."
   ]
  },
  {
   "cell_type": "code",
   "execution_count": 5,
   "id": "c7ce8cc2-c9e2-4947-abdb-ae4976f9f7d8",
   "metadata": {},
   "outputs": [
    {
     "name": "stdout",
     "output_type": "stream",
     "text": [
      "{'client_id_on_inj': '07-tendermint-87', 'client_id_on_osmo': '07-tendermint-4298'}\n"
     ]
    }
   ],
   "source": [
    "#load context.json\n",
    "context = {}\n",
    "# Open the file for reading\n",
    "with open(\"context.json\", \"r\") as f:\n",
    "    # Load the dictionary from the file\n",
    "    context = json.load(f)\n",
    "    \n",
    "client_id_on_inj = context[\"client_id_on_inj\"]\n",
    "client_id_on_osmo = context[\"client_id_on_osmo\"]\n",
    "\n",
    "print(context)"
   ]
  },
  {
   "cell_type": "markdown",
   "id": "33d92aa9-eebc-45e5-b276-069bd6189036",
   "metadata": {},
   "source": [
    "## IBC connection step 1 - MsgConnectionOpenInit (called on injective)"
   ]
  },
  {
   "cell_type": "code",
   "execution_count": 6,
   "id": "9046090d-1f42-4cde-9153-e7d912ff2dd5",
   "metadata": {},
   "outputs": [
    {
     "name": "stdout",
     "output_type": "stream",
     "text": [
      "connection_id on inj: connection-69\n"
     ]
    }
   ],
   "source": [
    "#fabricate message & dispatch via stargate\n",
    "msg = MsgConnectionOpenInit(\n",
    "  client_id=client_id_on_inj,\n",
    "  counterparty=ConnectionCounterParty(\n",
    "    client_id=client_id_on_osmo,\n",
    "    prefix=MerklePrefix(\n",
    "      key_prefix=bytes(\"ibc\", \"ascii\"),\n",
    "    )\n",
    "  ),\n",
    "  version=Version(\n",
    "    identifier=\"1\",\n",
    "    features=[\"ORDER_ORDERED\", \"ORDER_UNORDERED\"],\n",
    "  ),\n",
    "  delay_period=0,\n",
    "  signer=inj_wallet.key.acc_address\n",
    ")\n",
    "\n",
    "result = stargate_msg(\"/ibc.core.connection.v1.MsgConnectionOpenInit\", msg, inj_wallet, inj)\n",
    "result_df = pd.DataFrame(result[\"tx_response\"][\"logs\"][0][\"events\"][0][\"attributes\"])\n",
    "connection_id_on_inj = result_df[result_df[\"key\"]==\"connection_id\"][\"value\"].values[0]\n",
    "\n",
    "print(f\"connection_id on inj: {connection_id_on_inj}\")"
   ]
  },
  {
   "cell_type": "markdown",
   "id": "73cec54d-14ed-4dfd-a728-f187219ff004",
   "metadata": {},
   "source": [
    "## IBC connection step 2 - MsgConnectionOpenTry (called on osmosis)"
   ]
  },
  {
   "cell_type": "code",
   "execution_count": 7,
   "id": "138efa72-0ff3-415a-af49-01b6d182b887",
   "metadata": {
    "tags": []
   },
   "outputs": [
    {
     "name": "stdout",
     "output_type": "stream",
     "text": [
      "timestamp: seconds: 1678825745\n",
      "nanos: 847033536\n",
      " \n",
      "\n",
      "\n",
      "source current tendermint:\n",
      "{'block_id': {'hash': 'XIM1hpeo3emqNzK+DXUfuXJaUwTm96+DpVoQCa8L4vY=', 'part_set_header': {'total': 1, 'hash': 'YUyEeISIpOd/QEtrNS2H+ZZPfhPRsPAvJIUt2btdWfA='}}, 'block': {'header': {'version': {'block': '11', 'app': '0'}, 'chain_id': 'injective-888', 'height': '9199704', 'time': '2023-03-14T20:29:05.847033536Z', 'last_block_id': {'hash': 'e62UW4cOA/d2ukcSxrL44zOljxcTnwxxMqlX+XrClRw=', 'part_set_header': {'total': 1, 'hash': 'G1jPhCFwg7wabU9P9VXFUT0ovvp5RsKvcUzGLxkpSHQ='}}, 'last_commit_hash': 'mXvqMIlwFgYViGSmMOcutqIL3Cw12u+sADSxtqWE2uo=', 'data_hash': 'K91Eeztd8UmVQvW2fJETK7mkWQqNOxEJNSPm145XDWY=', 'validators_hash': 'FI/e4hLK65ZxQjpH7coHwFCKHMb3WPVzA5PGSyB7KMg=', 'next_validators_hash': 'FI/e4hLK65ZxQjpH7coHwFCKHMb3WPVzA5PGSyB7KMg=', 'consensus_hash': 'vml94SL+cPwUT5B4L5ZAe/3n0gSLsv2tqMpUVEVA8gg=', 'app_hash': 'v2WSM1d25S97PG1hucEjAsquNkPOdtjRrxlOQ5CWJQU=', 'last_results_hash': '47DEQpj8HBSa+/TImW+5JCeuQeRkm5NMpJWZG3hSuFU=', 'evidence_hash': '47DEQpj8HBSa+/TImW+5JCeuQeRkm5NMpJWZG3hSuFU=', 'proposer_address': 'M5HjW2EATgO+uI+h2rRES5E7174='}, 'data': {'txs': ['CtUCCtICCjQvaW5qZWN0aXZlLmV4Y2hhbmdlLnYxYmV0YTEuTXNnQ3JlYXRlU3BvdE1hcmtldE9yZGVyEpkCCippbmoxNjJ4M2F4N3o2a3NxdWhzaGxxaDZkNDk4a3I2MHFkeDd3cWY5d2US6gEKQjB4MDYxMTc4MGJhNjk2NTY5NDk1MjUwMTNkOTQ3NzEzMzAwZjU2YzM3YjYxNzVlMDJmMjZiZmZhNDk1YzMyMDhmZRKhAQpCMHhkMjhkMWU5YmMyZDVhMDBlNWUxN2Y4MmZhNmQ0YTdiMGY0ZjAzNGRlMDAwMDAwMDAwMDAwMDAwMDAwMDAwMDAwEippbmoxNjJ4M2F4N3o2a3NxdWhzaGxxaDZkNDk4a3I2MHFkeDd3cWY5d2UaBzYzMjAwMDAiJjgwMDAwMDAwMDAwMDAwMDAwMDAwMDAwMDAwMDAwMDAwMDAwMDAwGAESfwpgClQKLS9pbmplY3RpdmUuY3J5cHRvLnYxYmV0YTEuZXRoc2VjcDI1NmsxLlB1YktleRIjCiECdrymkKCtFdQ9qE3wLjcKwRH38NBOkupTWCCG60wM9KASBAoCCAEYq7cKEhsKFQoDaW5qEg44MDk4MzUwMDAwMDAwMBCv8QkaQc/pJCpVkEnSWc4+AVe9Nnx37L/jesh1Fk9zMsGsifvzEBkq+K+Cvn8w/reFvXQ8F6bG9+K6oj9EqnwWevq88FAA']}, 'evidence': {'evidence': []}, 'last_commit': {'height': '9199703', 'round': 0, 'block_id': {'hash': 'e62UW4cOA/d2ukcSxrL44zOljxcTnwxxMqlX+XrClRw=', 'part_set_header': {'total': 1, 'hash': 'G1jPhCFwg7wabU9P9VXFUT0ovvp5RsKvcUzGLxkpSHQ='}}, 'signatures': [{'block_id_flag': 'BLOCK_ID_FLAG_COMMIT', 'validator_address': 'pp0xJG+3PqSvgHC1GJU9SwvYymM=', 'timestamp': '2023-03-14T20:29:05.745068095Z', 'signature': '8SoLMIu6sI7QkHvit5XXyUpCsfitjzq6btoxVTuGz7Q4GqsBY3rUOgQEJzKi/NNEZ4Ckn9gebTKbseCn6kimCg=='}, {'block_id_flag': 'BLOCK_ID_FLAG_COMMIT', 'validator_address': 'Nv8cuLE25L4mgnBx8shCmG68xfc=', 'timestamp': '2023-03-14T20:29:05.847033536Z', 'signature': 'xn5umWKoLk/MaAL8gVUzENKUB/YM3gTdgcjONMmYi3UqCD8bVFtVQHvKeNPjlSq8Z2tK4Zwewnz1vsvCdyMzAQ=='}, {'block_id_flag': 'BLOCK_ID_FLAG_COMMIT', 'validator_address': 'M5HjW2EATgO+uI+h2rRES5E7174=', 'timestamp': '2023-03-14T20:29:05.847092919Z', 'signature': 'MrvjWD93EqBEX1x6VamrpO+cyunEK4G/zUc1VdzcwrIVvNmtvI6RMVabU1LES4MUjVQycFKxD4m/kCRY4LtnDA=='}, {'block_id_flag': 'BLOCK_ID_FLAG_COMMIT', 'validator_address': 'ObUXYdS8jfTSNPonUBFPJkft7eA=', 'timestamp': '2023-03-14T20:29:05.846696669Z', 'signature': '/mpP2mXGaCm0HY9TJCe/U7YKlhqHvTW0ZyRgWTezoYmOklzmCHJLJ5w2NQc7bUFNLRJIavf5mVN5ZG3Zx7/SAw=='}, {'block_id_flag': 'BLOCK_ID_FLAG_COMMIT', 'validator_address': 'wIZn4dvVrjfbpoqyxvKVK56xeK8=', 'timestamp': '2023-03-14T20:29:05.904755144Z', 'signature': 'NedRFuuJuBS9mG59zqJwYfoRLkz59igtrMc3HOXeCmehYWbN42XoNsgtyZ5JltrDmuSwy/8cutI+tTz+9/bjAA=='}]}}}\n",
      "\n",
      "\n",
      "\n",
      "\n",
      "\n",
      "commit_info:\n",
      "\n",
      "{'jsonrpc': '2.0', 'id': -1, 'result': {'signed_header': {'header': {'version': {'block': '11'}, 'chain_id': 'injective-888', 'height': '9199704', 'time': '2023-03-14T20:29:05.847033536Z', 'last_block_id': {'hash': '7BAD945B870E03F776BA4712C6B2F8E333A58F17139F0C7132A957F97AC2951C', 'parts': {'total': 1, 'hash': '1B58CF84217083BC1A6D4F4FF555C5513D28BEFA7946C2AF714CC62F19294874'}}, 'last_commit_hash': '997BEA3089701606158864A630E72EB6A20BDC2C35DAEFAC0034B1B6A584DAEA', 'data_hash': '2BDD447B3B5DF1499542F5B67C91132BB9A4590A8D3B11093523E6D78E570D66', 'validators_hash': '148FDEE212CAEB9671423A47EDCA07C0508A1CC6F758F5730393C64B207B28C8', 'next_validators_hash': '148FDEE212CAEB9671423A47EDCA07C0508A1CC6F758F5730393C64B207B28C8', 'consensus_hash': 'BE697DE122FE70FC144F90782F96407BFDE7D2048BB2FDADA8CA54544540F208', 'app_hash': 'BF6592335776E52F7B3C6D61B9C12302CAAE3643CE76D8D1AF194E4390962505', 'last_results_hash': 'E3B0C44298FC1C149AFBF4C8996FB92427AE41E4649B934CA495991B7852B855', 'evidence_hash': 'E3B0C44298FC1C149AFBF4C8996FB92427AE41E4649B934CA495991B7852B855', 'proposer_address': '3391E35B61004E03BEB88FA1DAB4444B913BD7BE'}, 'commit': {'height': '9199704', 'round': 0, 'block_id': {'hash': '5C83358697A8DDE9AA3732BE0D751FB9725A5304E6F7AF83A55A1009AF0BE2F6', 'parts': {'total': 1, 'hash': '614C84788488A4E77F404B6B352D87F9964F7E13D1B0F02F24852DD9BB5D59F0'}}, 'signatures': [{'block_id_flag': 1, 'validator_address': '', 'timestamp': '0001-01-01T00:00:00Z', 'signature': None}, {'block_id_flag': 2, 'validator_address': '36FF1CB8B136E4BE26827071F2C842986EBCC5F7', 'timestamp': '2023-03-14T20:29:08.252145291Z', 'signature': 'YiAXIiV4fL6N9Yaz7CJ9Zh19orZk3sf0bOkzMIxcicbBNCjg8xpA+R40mWYXEDrqq9Q+qiBnhIy2Aolw8+jVAg=='}, {'block_id_flag': 2, 'validator_address': '3391E35B61004E03BEB88FA1DAB4444B913BD7BE', 'timestamp': '2023-03-14T20:29:08.444536627Z', 'signature': 'fZUZo35QeJlIA6K6hENSZoGgGfBsp6dLQCsM0FJE2l54C+5PTLPgAreCG7PUt6yhhGtoE6llgHdGyyz+VD9gAg=='}, {'block_id_flag': 2, 'validator_address': '39B51761D4BC8DF4D234FA2750114F2647EDEDE0', 'timestamp': '2023-03-14T20:29:08.252019359Z', 'signature': 'abeLFXD3D9zvFP+ABeKb/BNS8nS4Ttibh7D+fR8oDFDshmzvv1I7Ko3Q72sWXVZedyXNm0VqnVA0Io3qIE94BA=='}, {'block_id_flag': 1, 'validator_address': '', 'timestamp': '0001-01-01T00:00:00Z', 'signature': None}]}}, 'canonical': False}}\n",
      "\n",
      "\n",
      "\n",
      "\n",
      "\n",
      "update client msg:\n",
      "\n",
      "{'clientId': '07-tendermint-4298', 'header': {'typeUrl': '/ibc.lightclients.tendermint.v1.Header', 'value': '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'}, 'signer': 'osmo16kknw79vd8rws905phrq6t5ex8vzxdhvc0gsmp'}\n",
      "\n",
      "\n"
     ]
    }
   ],
   "source": [
    "#update the client_id on osmosis (ie, refresh osmosis's knowledge of injectives's tendermint state)\n",
    "#only this cell will show the full gory details; the rest will just call the helper function\n",
    "\n",
    "#gather tendermint/consensus/validator information on injective's current state\n",
    "time.sleep(10) #wait a few blocks\n",
    "tendermint_info_on_other_chain = inj.tendermint.block_info()\n",
    "\n",
    "timestamp = googTimestamp()\n",
    "timestamp.FromJsonString(tendermint_info_on_other_chain[\"block\"][\"header\"][\"time\"])\n",
    "print(f\"timestamp: {timestamp} \\n\\n\")\n",
    "\n",
    "print(\"source current tendermint:\")\n",
    "print(tendermint_info_on_other_chain)\n",
    "print(\"\\n\\n\")\n",
    "\n",
    "validator_info_on_other_chain = inj.tendermint.validator_set(height=int(tendermint_info_on_other_chain[\"block\"][\"header\"][\"height\"]))\n",
    "commit_info_on_other_chain = requests.get(f\"{inj_rpc_url}/commit\", headers=inj_rpc_header, params={\"height\": tendermint_info_on_other_chain[\"block\"][\"header\"][\"height\"]}).json()\n",
    "\n",
    "print(\"\\n\\ncommit_info:\\n\")\n",
    "print(commit_info_on_other_chain)\n",
    "print(\"\\n\\n\")\n",
    "\n",
    "resp = requests.get(f\"{inj_rpc_url}/blockchain\", headers=inj_rpc_header, params={\"minHeight\": tendermint_info_on_other_chain[\"block\"][\"header\"][\"height\"], \"maxHeight\": tendermint_info_on_other_chain[\"block\"][\"header\"][\"height\"]}).json()\n",
    "block_proposer_on_other_chain = resp[\"result\"][\"block_metas\"][0][\"header\"][\"proposer_address\"]\n",
    "\n",
    "proposer_info = None\n",
    "for x in validator_info_on_other_chain[\"validators\"]:\n",
    "    if block_proposer_on_other_chain == bech32_to_hexstring(x[\"address\"]).upper():\n",
    "        proposer_info = x\n",
    "\n",
    "#gather osmosis's understanding of inj's tendermint/consensus/validator information \n",
    "client_state_of_other_chain_on_my_chain = osmo.broadcaster.query(f\"/ibc/core/client/v1/client_states/{client_id_on_osmo}\")\n",
    "validator_info_of_other_chain_on_my_chain = inj.tendermint.validator_set(height=int(client_state_of_other_chain_on_my_chain[\"client_state\"][\"latest_height\"][\"revision_height\"])+1)\n",
    "block_proposer_of_other_chain_on_my_chain = requests.get(f\"{inj_rpc_url}/blockchain\", headers=inj_rpc_header, params={\"minHeight\": int(client_state_of_other_chain_on_my_chain[\"client_state\"][\"latest_height\"][\"revision_height\"])+1, \"maxHeight\": int(client_state_of_other_chain_on_my_chain[\"client_state\"][\"latest_height\"][\"revision_height\"])+1}).json()[\"result\"][\"block_metas\"][0][\"header\"][\"proposer_address\"]\n",
    "\n",
    "trusted_proposer_info = None\n",
    "for x in validator_info_of_other_chain_on_my_chain[\"validators\"]:\n",
    "    if block_proposer_of_other_chain_on_my_chain == bech32_to_hexstring(x[\"address\"]).upper():\n",
    "        trusted_proposer_info = x\n",
    "\n",
    "version_app = 0 if \"app\" not in commit_info_on_other_chain[\"result\"][\"signed_header\"][\"header\"][\"version\"].keys() else int(commit_info_on_other_chain[\"result\"][\"signed_header\"][\"header\"][\"version\"][\"app\"])\n",
    "\n",
    "#fabricate the MsgUpdateClient message; this updates osmosis's knowledge of inj's tendermint/consensus state\n",
    "msg = MsgUpdateClient(\n",
    "    signer=osmo_wallet.key.acc_address,\n",
    "    client_id=client_id_on_osmo,\n",
    "    header=Any(\n",
    "      type_url=\"/ibc.lightclients.tendermint.v1.Header\",\n",
    "      value=Header(\n",
    "        signed_header=SignedHeader(\n",
    "          header=tendermintHeader(\n",
    "            version=Consensus(\n",
    "              block=int(commit_info_on_other_chain[\"result\"][\"signed_header\"][\"header\"][\"version\"][\"block\"]),\n",
    "              app=version_app,\n",
    "            ),\n",
    "            chain_id=inj.chain_id,\n",
    "            height=int(commit_info_on_other_chain[\"result\"][\"signed_header\"][\"header\"][\"height\"]),\n",
    "            time=Timestamp(timestamp.seconds, timestamp.nanos),\n",
    "            last_block_id=BlockId(\n",
    "              hash=hexstring_to_bytes(commit_info_on_other_chain[\"result\"][\"signed_header\"][\"header\"][\"last_block_id\"][\"hash\"]),\n",
    "              part_set_header=PartSetHeader(\n",
    "                total=int(commit_info_on_other_chain[\"result\"][\"signed_header\"][\"header\"][\"last_block_id\"][\"parts\"][\"total\"]),\n",
    "                hash=hexstring_to_bytes(commit_info_on_other_chain[\"result\"][\"signed_header\"][\"header\"][\"last_block_id\"][\"parts\"][\"hash\"]),\n",
    "              ),\n",
    "            ),\n",
    "            last_commit_hash=hexstring_to_bytes(commit_info_on_other_chain[\"result\"][\"signed_header\"][\"header\"][\"last_commit_hash\"]),\n",
    "            data_hash=hexstring_to_bytes(commit_info_on_other_chain[\"result\"][\"signed_header\"][\"header\"][\"data_hash\"]),\n",
    "            validators_hash=hexstring_to_bytes(commit_info_on_other_chain[\"result\"][\"signed_header\"][\"header\"][\"validators_hash\"]),\n",
    "            next_validators_hash=hexstring_to_bytes(commit_info_on_other_chain[\"result\"][\"signed_header\"][\"header\"][\"next_validators_hash\"]),\n",
    "            consensus_hash=hexstring_to_bytes(commit_info_on_other_chain[\"result\"][\"signed_header\"][\"header\"][\"consensus_hash\"]),\n",
    "            app_hash=hexstring_to_bytes(commit_info_on_other_chain[\"result\"][\"signed_header\"][\"header\"][\"app_hash\"]),\n",
    "            last_results_hash=hexstring_to_bytes(commit_info_on_other_chain[\"result\"][\"signed_header\"][\"header\"][\"last_results_hash\"]),\n",
    "            evidence_hash=hexstring_to_bytes(commit_info_on_other_chain[\"result\"][\"signed_header\"][\"header\"][\"evidence_hash\"]),\n",
    "            proposer_address=hexstring_to_bytes(commit_info_on_other_chain[\"result\"][\"signed_header\"][\"header\"][\"proposer_address\"]),\n",
    "          ),\n",
    "          commit=Commit(\n",
    "            height=int(commit_info_on_other_chain[\"result\"][\"signed_header\"][\"commit\"][\"height\"]),\n",
    "            round=int(commit_info_on_other_chain[\"result\"][\"signed_header\"][\"commit\"][\"round\"]),\n",
    "            block_id=BlockId(\n",
    "              hash=hexstring_to_bytes(commit_info_on_other_chain[\"result\"][\"signed_header\"][\"commit\"][\"block_id\"][\"hash\"]),\n",
    "              part_set_header=PartSetHeader(\n",
    "                total=int(commit_info_on_other_chain[\"result\"][\"signed_header\"][\"commit\"][\"block_id\"][\"parts\"][\"total\"]),\n",
    "                hash=hexstring_to_bytes(commit_info_on_other_chain[\"result\"][\"signed_header\"][\"commit\"][\"block_id\"][\"parts\"][\"hash\"]),\n",
    "              )\n",
    "            ),\n",
    "            signatures=[\n",
    "              CommitSig(\n",
    "                block_id_flag=BlockIdFlag(x[\"block_id_flag\"]),\n",
    "                validator_address=hexstring_to_bytes(x[\"validator_address\"]),\n",
    "                timestamp=timestamp_string_to_proto(x[\"timestamp\"]),\n",
    "                signature=base64.b64decode(x[\"signature\"]) if x[\"signature\"] is not None else None,\n",
    "              )\n",
    "              for x in commit_info_on_other_chain[\"result\"][\"signed_header\"][\"commit\"][\"signatures\"]\n",
    "            ],\n",
    "          ),\n",
    "        ),\n",
    "        validator_set=ValidatorSet(\n",
    "          validators=[\n",
    "            Validator(\n",
    "              address=base64.b64decode(bech32_to_b64(x[\"address\"])),\n",
    "              pub_key=PublicKey(\n",
    "                ed25519=base64.b64decode(x[\"pub_key\"][\"key\"])\n",
    "              ) if \"ed25519\" in x[\"pub_key\"][\"@type\"] else PublicKey(\n",
    "                secp256_k1=base64.b64decode(x[\"pub_key\"][\"key\"])\n",
    "              ),\n",
    "              voting_power=int(x[\"voting_power\"]),\n",
    "            ) for x in validator_info_on_other_chain[\"validators\"]\n",
    "          ],\n",
    "          proposer=Validator(\n",
    "            address=base64.b64decode(bech32_to_b64(proposer_info[\"address\"])),\n",
    "            pub_key=PublicKey(\n",
    "              ed25519=base64.b64decode(proposer_info[\"pub_key\"][\"key\"])\n",
    "            ) if \"ed25519\" in proposer_info[\"pub_key\"][\"@type\"] else PublicKey(\n",
    "                secp256_k1=base64.b64decode(proposer_info[\"pub_key\"][\"key\"])\n",
    "            ),\n",
    "            voting_power=int(proposer_info[\"voting_power\"]),\n",
    "          ) \n",
    "          ,\n",
    "          total_voting_power=sum([int(x[\"voting_power\"]) for x in validator_info_on_other_chain[\"validators\"]]),\n",
    "        ),\n",
    "        trusted_height=Height(\n",
    "          revision_number=int(client_state_of_other_chain_on_my_chain[\"client_state\"][\"latest_height\"][\"revision_number\"]),\n",
    "          revision_height=int(client_state_of_other_chain_on_my_chain[\"client_state\"][\"latest_height\"][\"revision_height\"]),\n",
    "        ),\n",
    "        trusted_validators=ValidatorSet(\n",
    "          validators=[\n",
    "            Validator(\n",
    "              address=base64.b64decode(bech32_to_b64(x[\"address\"])),\n",
    "              pub_key=PublicKey(\n",
    "                ed25519=base64.b64decode(x[\"pub_key\"][\"key\"])\n",
    "              ) if \"ed25519\" in x[\"pub_key\"][\"@type\"] else PublicKey(\n",
    "                secp256_k1=base64.b64decode(x[\"pub_key\"][\"key\"])\n",
    "              ),\n",
    "              voting_power=int(x[\"voting_power\"]),\n",
    "            ) for x in validator_info_of_other_chain_on_my_chain[\"validators\"]\n",
    "          ],\n",
    "          proposer=Validator(\n",
    "            address=base64.b64decode(bech32_to_b64(trusted_proposer_info[\"address\"])),\n",
    "            pub_key=PublicKey(\n",
    "              ed25519=base64.b64decode(trusted_proposer_info[\"pub_key\"][\"key\"])\n",
    "            ) if \"ed25519\" in trusted_proposer_info[\"pub_key\"][\"@type\"] else PublicKey(\n",
    "                secp256_k1=base64.b64decode(trusted_proposer_info[\"pub_key\"][\"key\"])\n",
    "            ),\n",
    "            voting_power=int(trusted_proposer_info[\"voting_power\"]),\n",
    "          ) \n",
    "          ,\n",
    "          total_voting_power=sum([int(x[\"voting_power\"]) for x in validator_info_of_other_chain_on_my_chain[\"validators\"]]),\n",
    "        ),\n",
    "      ).SerializeToString(),\n",
    "    ),\n",
    ")\n",
    "\n",
    "print(f\"\"\"\n",
    "\n",
    "update client msg:\n",
    "\n",
    "{ msg.to_dict()}\n",
    "\n",
    "\"\"\")\n",
    "\n",
    "update_client_on_osmo_result = stargate_msg(\"/ibc.core.client.v1.MsgUpdateClient\", msg, osmo_wallet, osmo)\n",
    "header_height = Header.FromString(msg.header.value).signed_header.header.height"
   ]
  },
  {
   "cell_type": "code",
   "execution_count": 8,
   "id": "287772d1-cc9a-404e-bccf-8181495767df",
   "metadata": {
    "tags": []
   },
   "outputs": [
    {
     "name": "stdout",
     "output_type": "stream",
     "text": [
      "\n",
      "client_proof:\n",
      "\n",
      "MerkleProof(proofs=[CommitmentProof(exist=ExistenceProof(key=b'clients/07-tendermint-87/clientState', value=b'\\n+/ibc.lightclients.tendermint.v1.ClientState\\x12\\x83\\x01\\n\\x0bosmo-test-4\\x12\\x04\\x08\\x01\\x10\\x03\\x1a\\x04\\x08\\x80\\x9c1\"\\x04\\x08\\x80\\xeaI*\\x02\\x08\\x142\\x00:\\x07\\x08\\x04\\x10\\xca\\xba\\xc7\\x04B\\x19\\n\\t\\x08\\x01\\x18\\x01 \\x01*\\x01\\x00\\x12\\x0c\\n\\x02\\x00\\x01\\x10!\\x18\\x04 \\x0c0\\x01B\\x19\\n\\t\\x08\\x01\\x18\\x01 \\x01*\\x01\\x00\\x12\\x0c\\n\\x02\\x00\\x01\\x10 \\x18\\x01 \\x010\\x01J\\x07upgradeJ\\x10upgradedIBCStateP\\x01X\\x01', leaf=LeafOp(hash=1, prehash_value=1, length=1, prefix=b'\\x00\\x02\\x9e\\xfd\\xe2\\x08'), path=[InnerOp(hash=1, prefix=b'\\x02\\x04\\xdc\\x80\\xe3\\x08 ', suffix=b' V?a\\xf8\\x9a\\x81i\\x929\\x8e\\x19\\xae\\x1cV\\xd6\\x13\\x13\\xa6\\x8b\\xd4\\xa3\\xdb\\xe0\\xa4A\\xbe\\xf7\\xb5+\\xa4\\x84\\xaa'), InnerOp(hash=1, prefix=b'\\x04\\x08\\xdc\\x80\\xe3\\x08 ', suffix=b' \\x85e{\\xff\\xaa\\xdb\\x1c5\\xdb\\xdb\\xf4\\x1c\\xd7\\x08\\xcf>\\x8c\\xe4G\\xd0X\\xaf\\x01\\x07\\xd4$w~\\xc8\\xe54\\xeb'), InnerOp(hash=1, prefix=b'\\x06\\x10\\xdc\\x80\\xe3\\x08 ', suffix=b' \\xe6\\xfea 1x\\xec!\\x1b\\x83\\x98\\xd5b(\\xdfb\\xbd\\xdb\\xb1\\xf7\\xe3\\xe9\\x8aq3\\xc0s\\xf1c\\xc4K\\x1b'), InnerOp(hash=1, prefix=b'\\x08\\x16\\xdc\\x80\\xe3\\x08 \\xea\\xa1<\\x8c\\x8diI\\xed\\xa8\\xf9[s\\xc0\\t{\\xe1\\xa8x\\x87\\xd2i\\x15\\xc5\\x8d\\x12\\x1f\\xc0-2\\x86\\x90F '), InnerOp(hash=1, prefix=b'\\n \\xdc\\x80\\xe3\\x08 \\x14\\x08\\x88\\xc0\\xee\\x91\\xa7\\xbf\\x1b<qI\\x17>Q\\x88\\xcc\\xa2\\xf4\\xea\\x90;\\xc2]]\\xb9\\xbe\\xcf\\xcd\\xd2\\x90\\x1b '), InnerOp(hash=1, prefix=b'\\x0cV\\xdc\\x80\\xe3\\x08 \\xff\\x87w\\x8d\\xde\\xa5(\\xeeC\\xf3\\xba=.\\xb8D;0\\xa1>s\\xd4pA\\xbfU\\x1b}\\xb82\\xb1G\\xd6 '), InnerOp(hash=1, prefix=b\"\\x0e\\xac\\x01\\xdc\\x80\\xe3\\x08 \\x99\\x17\\xe4Z\\xd0\\xf8\\x11\\xf0L\\xe4s/\\xbf\\xf3'\\x1e\\x82\\xa03\\xf6\\x0e\\xe7\\x0c\\xb9\\x03]\\xe9\\xd6\\x08u8\\x8c \"), InnerOp(hash=1, prefix=b\"\\x10\\xec\\x02\\xdc\\x80\\xe3\\x08 \\xb1\\xfb\\x8f'e\\xcfB\\x04\\x9a=\\xce\\xb0^\\xaa\\xb2\\r\\xae\\x83 \\x13WN\\x0c\\xcc\\xd4\\xf4\\x1a\\x13\\xe2\\xf3\\xfdc \"), InnerOp(hash=1, prefix=b'\\x12\\xec\\x05\\xdc\\x80\\xe3\\x08 1%\\xc6\\xc2\\x14^#\\xa6e\\x0e\\xea\\x91\\xb3\\xf3\\x06I\\xd3\\xd2w\\xa8\\xd7\\xcc\\\\9\\xc4m\\xe7\\xf7\\xc0\\xcf\\x1e\\xea '), InnerOp(hash=1, prefix=b'\\x14\\xec\\x0b\\xdc\\x80\\xe3\\x08 \\x9e \\xf7\\xb6\\xe0O\\xf9$}\\xd8\\xc8\\xe5\\xc83\\xc8\\x1f\\xd7\\x18{\\x81m\\xc2\\xef._\\x89b\\x0f\\x18>\\xe1\\xc1 '), InnerOp(hash=1, prefix=b'\\x16\\xec\\x11\\xdc\\x80\\xe3\\x08 \\xe5\\xc4\\xd1\\x81f\\xd09[\\xcd`\\xb9\\xdew|\\xe2\\xb7\"!f\\x9az\\xa2\\x8bJ\\x0b\\x9e\\x15\\xcf\\xe6\\xb4^\\x1f '), InnerOp(hash=1, prefix=b'\\x18\\xec)\\xdc\\x80\\xe3\\x08  \\xa5\\x8al\\xd4j=\\xa3w\\xcd\\xc2i\\xa1\\xac\\x05\\n\\x87c|\\x9a\\xc8<\\t\\x12\\xaa\\xb7\\xd1un\\xac6\\x7f '), InnerOp(hash=1, prefix=b'\\x1a\\xecA\\xdc\\x80\\xe3\\x08 +A=\\xa8\\x18\\xaa\\\\z\\xca\\xa81\\xe5\\xb8\\xb6\\xf1\\xea\\x06\\x02\\x84\\xe6\\xf9\\r\\xc3De\\xbf\\xd0aq$\\xde\\xd2 '), InnerOp(hash=1, prefix=b'\\x1c\\xec\\xa1\\x01\\xdc\\x80\\xe3\\x08 \\x0c\\xd9r1L\\x93\\xf5\\xf9M\\xb2\\nW\\x9dQ\\xe2\\x82\\x13T\\xc8f\\xc1\\t\\x92Q\\x03\\xc2\\xe0\\x8f`B@K '), InnerOp(hash=1, prefix=b'\\x1e\\xec\\xe1\\x02\\xdc\\x80\\xe3\\x08 I!E7\\xbf\\xab\\xb0\\xcb\\x80\\xc7\\x89o\\xb7\\xa1\\xfdR\\x1c@\\xa8H\\x18\\x99\\r\\xa1\\\\\\xc5\\x0f\\x10\\xc8\\xfeH\\xd4 '), InnerOp(hash=1, prefix=b' \\x9c\\xd8\\x04\\xdc\\x80\\xe3\\x08 \\xd9O\\xc4\\xc1v\\x195Q#\\x82\\xb50f\\x9c\\xcfnK\\x13\\xf2Tbv\\xc6+\\x8eK\\x00Sz\\xe2\"c '), InnerOp(hash=1, prefix=b'\"\\x80\\x86\\x07\\xdc\\x80\\xe3\\x08 \\x9a\\x9cN\\xa0LN/\\xf8.\\x1fs\"\\x00\\xdd[\\xfb\\x7f\\xd4\\xa6\\x14\\x8c\\xa95\\x89\\xb7%\\r\\xa6\\xc1B\\xef\\x12 '), InnerOp(hash=1, prefix=b'$\\xce\\xe9\\x0b\\xdc\\x80\\xe3\\x08 \\x07t\\xfc\\x03\\x9f\\xfd\\x01\\x03`\\xd9\\x838\\x02@\\xafM\\xa1h\\xc5\\xc1\\x91\\xb6;\\x84&\\xdc\\x86\\xbdr\\xef\\xeeD '), InnerOp(hash=1, prefix=b'&\\xe0\\xa4\\x1a\\xdc\\x80\\xe3\\x08 \\xfd)\\xdb\\x9aU\\r\\xbf[y.*\\x07\\xb0\\x91\\x94\\x91\\x7f\\xfb\\x1f7\\xdf\\xbe\\xce#&yb\\xe0\\x15\\xccC\\xbe '), InnerOp(hash=1, prefix=b'(\\x9a\\xbf>\\xdc\\x80\\xe3\\x08 ', suffix=b' +\\xd7\\xfbz\\x172\\x14X\\x94}F\\x9e\\xa3\\x063\\x16\\x0c)B\\xf9\\x0c\\xae8$\\xfe\\xf7\\x1a\\x01\\xa3\\x84\\x03\\xba'), InnerOp(hash=1, prefix=b'*\\xe0\\xc7e\\xdc\\x80\\xe3\\x08 \\xf0\\x1d\\xbf\\xa8\\x83\\x7f=\\xe5I\\x1a\\xf8`\\x7f\\x99\\xa3N\\xf7E\\x80j\\xf2\\x85j\\x96\\xeb\\xb1\\xee\\xb7 \\xa0\"\\xe1 '), InnerOp(hash=1, prefix=b'.\\x80\\xc7\\xb6\\x01\\xdc\\x80\\xe3\\x08 ', suffix=b' \\xb7?BkZ:\\x1a\\xb5\\x1c[\\xcd\\xa3\\x9c\\xc6\\xd3B6\\xaa\\x1b.x\\x95JI\\x1a\\x19%Q\\xee\\x13\\x03\\x98')])), CommitmentProof(exist=ExistenceProof(key=b'ibc', value=b'\\x9f\\xa5 C\\x84h]\\xdb\\xedk\\xa8\\xeaXVAW\\xb2K\\x8a9\\x86\\xca\\x96\\xa6a\\xadva=G\\x87\\xe1', leaf=LeafOp(hash=1, prehash_value=1, length=1, prefix=b'\\x00'), path=[InnerOp(hash=1, prefix=b'\\x01', suffix=b'\\xa0}<?q\\x96cr_\\x90PK\\x9d\\xd8\\x90:$\\xf3T\\xc4\\xb2\\x03\\x81uW\\xf3\\xd2:;\\xe9\\r\\xb5'), InnerOp(hash=1, prefix=b'\\x01', suffix=b'ce\\xc9%\\xa9\\x9aM\\xb7?\\x16\\x9f\\xb5\\x04\\xebX=\\x894\\xc2]\\x80 \\xd1\\x810\\xcf\\x9b\\xe9\\x83\\x99\\x91h'), InnerOp(hash=1, prefix=b'\\x01\\x83\\xbee,O\\xed\\x93\\xb6\\xf5\\xd6ZSV>\\xd1=\\xfbA\\xb0\\x03\\xd7\\xf8\\x1b\\x1fv\\x89P\\x14M\\r\\xc1\\x1a'), InnerOp(hash=1, prefix=b'\\x01M\\xcd\\xae0\\x06\\x92\\x91\\x80,83\\xfb9&D\\x1d\\x7f1q\\xfb\\x9bOV\\x1b\\x03\\xbfMS\\xceJ\\x0c\\xeb'), InnerOp(hash=1, prefix=b'\\x01', suffix=b'\\xcb\\x1c\\xb1\\x07N\\xa2X\\xd7Iz\\xaa\\x011<\\x80\\x9df\\x84\\xcc\\x97|\\x88>\\xee\\xf4\\x86w?\\xfe\\x19\\x1d/')]))])\n",
      "\n",
      "\n",
      "\n",
      "connection_proof:\n",
      "\n",
      "MerkleProof(proofs=[CommitmentProof(exist=ExistenceProof(key=b'connections/connection-69', value=b'\\n\\x1007-tendermint-87\\x12#\\n\\x011\\x12\\rORDER_ORDERED\\x12\\x0fORDER_UNORDERED\\x18\\x01\"\\x1b\\n\\x1207-tendermint-4298\\x1a\\x05\\n\\x03ibc', leaf=LeafOp(hash=1, prehash_value=1, length=1, prefix=b'\\x00\\x02\\xdc\\x80\\xe3\\x08'), path=[InnerOp(hash=1, prefix=b'\\x02\\x04\\xdc\\x80\\xe3\\x08 \\\\\\xb4\\x15\\x94\\xaf\\xd2\\x9e\\x8a\\xe9\\xb7\\x8a\\x9dLL|\\xd8Sc\\xb1)\\xa6[\\xd8\\x90H\\xc2ny\\xea\\xeb\\xb2\\xe9 '), InnerOp(hash=1, prefix=b'\\x04\\x08\\xdc\\x80\\xe3\\x08 \\xfd\\xfe\\xcef\\xa9\\xdb\\xeeI\\xb6|\\xd6*t)\\x97^h\\xd3\\x07Y\\xf5\\xad:o\\xe0\\x13\\xf4\\x06\\x97\\x1aB\\xdc '), InnerOp(hash=1, prefix=b'\\x06\\x0e\\xdc\\x80\\xe3\\x08 ', suffix=b' k\\x9d\\xb9\\x06-\\xbdM\\xed\\xbaF\\xc2f\\xe0\\xa8\\xb0\\xcb\\xd1\\xea0-~\\x91\\xa7\\xaf\\xf3\\xa8Mk\\xceW\\xae.'), InnerOp(hash=1, prefix=b'\\x08\\x1a\\xdc\\x80\\xe3\\x08 \\xc4\\xd8s\\x1fK\\xa6.M\\xd7\\x00O7\\xcc?^\\xba\\x13\\x91\\x96l=\\xd4\\x9c\\x84\\xa5P\\xb5t\\x88\\x03\\xc0R '), InnerOp(hash=1, prefix=b'\\n2\\xdc\\x80\\xe3\\x08 \\x81\\t\\ru\\xf1L\\xd9-K\\xc9@\\x9b\\xe8)\\x92\\xec\\xb9\\x1f8\\x98vK\\x9f\\x99\\xbc\\x92\\x8aq\\xf7\\xcd\\xb0\\x83 '), InnerOp(hash=1, prefix=b'\\x0cb\\xdc\\x80\\xe3\\x08 \\xd5i\\xb4\\xd3sO\\xaeJ\\xdb\\xe3\\x95\\xdc\\x8f\\x85VI\\xcf\\xb6\\x00\\x8e\\x9f\\x82H\\x8f\\x8b\\xe0^\\n\\xeb\\xdf\\xa5\\xfc '), InnerOp(hash=1, prefix=b'\\x0e\\x8a\\x01\\xdc\\x80\\xe3\\x08 \\xff\\x04\\x9b\\xbd\\x16\\xf8\\x0f\\x83\\xfc\\x05q0\\xac\\x0eW\\xd0 \\x86\\x9d\\x1d9\\x18\\x1e\\x92$\\x07n\\xab@\\x8e1\\x87 '), InnerOp(hash=1, prefix=b'\\x10\\xb6\\x02\\xdc\\x80\\xe3\\x08 ', suffix=b' 4\\xb8\\xa8\\xd0p\\xd1\\xc3\\xe9\\xf8zuf\\xfc\\xefS\\xb6V\\xed7f\\xed\\x91\\xa9\\x0c\\x06\\x08tK\\xd8\\xec\\x06\\x9d'), InnerOp(hash=1, prefix=b'\\x12\\xb8\\x05\\xdc\\x80\\xe3\\x08 ', suffix=b\" \\x8f\\xdfs\\xcd\\x84\\xff\\x85\\xfb\\xc4' \\x90\\xb9\\x8c\\xd0\\x9c_<>\\xb2\\xe8\\xa9B\\xd7\\xd2H\\xb5,\\xa6S\\xebg\"), InnerOp(hash=1, prefix=b'\\x14\\xb8\\t\\xdc\\x80\\xe3\\x08 ', suffix=b' \\x182\\x9d\\x1e\\xf9 I\\x00ETUs\\n\\xdel\\xe0\\xb2\\x0c\\x01{\\xc9_\\xa4\\x98<\\x12T\\xa1\\xeb\\xf7qo'), InnerOp(hash=1, prefix=b'\\x18\\xb8)\\xdc\\x80\\xe3\\x08 ', suffix=b' +\\xc5\\x86p\\xd9\\x01\\x1b\\\\\\xaeNCy\\x18\\xb3\\xe5tp\\x04 vvV\\xcby\\x8c\\xce\\xcer\\xd9\\xd2\\x92\\x95'), InnerOp(hash=1, prefix=b'\\x1c\\xcal\\xdc\\x80\\xe3\\x08 \\xf4\\x0cK\\x15)\\xbaK\\xc0\\x0e\\x0b\\x95\\xe5C0\\xb4\\x9cG\\xaf\\x9d\\x90l\\xbbe\\x90\\xcb@\\xc5\\xa48\\x08 \\xd1 '), InnerOp(hash=1, prefix=b'\\x1e\\x84\\xd9\\x01\\xdc\\x80\\xe3\\x08 \\xd3\\xa9\\xa5<\\xb9b\\xe9y\\xac+r\\xa5T\\xdc\\xe2\\xa7(\\xb2{3\\xf5\\xba\\x803\\x10>I\\xcd\\xd3\\x93\\xc7U '), InnerOp(hash=1, prefix=b' \\xfa\\xd7\\x02\\xdc\\x80\\xe3\\x08 \\xf6J\\xdf\\x0cD\\xca\\xa7\\x1f\\x93\\xa29K\\xa6\\xb5L/\\xb2\\x9e\\n$\\xc68\\xcf\\xff\\x84\\xd5WI>\\x85]\\xb2 '), InnerOp(hash=1, prefix=b'\"\\xb4\\x8d\\x04\\xdc\\x80\\xe3\\x08 <}\\xc3u\\x82,\\xc2\\x8d\\xaen\\xd2\\x8d\\xd2\\xa0\\x01j\\x8d0E\\n\\xe4\\xc6A6\\xd1\\xf9\\x9d\\xfe\\xec2B\\x1b '), InnerOp(hash=1, prefix=b'&\\xf4\\xc5\\r\\xdc\\x80\\xe3\\x08 5\\x1a\\\\\\xf3\\x1aZ\\x06%\\xef\\xef\\x032\\x8e(f=\"WPv\\xfc\\x7f/\\xfe\\xce\\xe2\\x95={I\\x1ak '), InnerOp(hash=1, prefix=b\"(\\xba\\xb6\\x14\\xdc\\x80\\xe3\\x08 \\xcc\\x16\\x14\\x1b\\xa9\\x14j\\xeb\\xad\\xe8W\\x11\\xe6\\xac$c\\xdbK\\xf8o\\xea\\xec\\x81f\\xb8'N\\x95e\\xfb}\\x96 \"), InnerOp(hash=1, prefix=b\"*\\xbe\\xa7'\\xdc\\x80\\xe3\\x08 \", suffix=b' \\xdb\\xe0\\\\\\xa1Ng\\xacg\\x1c\\xd3\\xb2\\xf6\\xdd\\x8bk\\x1b\\xdd8\\xe3\\xac\\x9e\\xaa\\x18H\\x93\\x9d\\xc2-\\xdd}X\\x04'), InnerOp(hash=1, prefix=b',\\xa0\\xffP\\xdc\\x80\\xe3\\x08 ib\\n8\\xe2\\x19If\\xc5\\x08F\\xbb\\x0b^3\\rb]\\x19S\\x890\\x84\\x07+\\xaa]?a\\x1dw* '), InnerOp(hash=1, prefix=b'.\\x80\\xc7\\xb6\\x01\\xdc\\x80\\xe3\\x08 s\\x89\\x06\\xdd}x\\xb9.z\\t\\xb6kn[\\xbc/\\xe7Q\\x96\\x16\\x05UDF@\\xc4\\xda\\x95\\x19\\xdc]\\xfe ')])), CommitmentProof(exist=ExistenceProof(key=b'ibc', value=b'\\x9f\\xa5 C\\x84h]\\xdb\\xedk\\xa8\\xeaXVAW\\xb2K\\x8a9\\x86\\xca\\x96\\xa6a\\xadva=G\\x87\\xe1', leaf=LeafOp(hash=1, prehash_value=1, length=1, prefix=b'\\x00'), path=[InnerOp(hash=1, prefix=b'\\x01', suffix=b'\\xa0}<?q\\x96cr_\\x90PK\\x9d\\xd8\\x90:$\\xf3T\\xc4\\xb2\\x03\\x81uW\\xf3\\xd2:;\\xe9\\r\\xb5'), InnerOp(hash=1, prefix=b'\\x01', suffix=b'ce\\xc9%\\xa9\\x9aM\\xb7?\\x16\\x9f\\xb5\\x04\\xebX=\\x894\\xc2]\\x80 \\xd1\\x810\\xcf\\x9b\\xe9\\x83\\x99\\x91h'), InnerOp(hash=1, prefix=b'\\x01\\x83\\xbee,O\\xed\\x93\\xb6\\xf5\\xd6ZSV>\\xd1=\\xfbA\\xb0\\x03\\xd7\\xf8\\x1b\\x1fv\\x89P\\x14M\\r\\xc1\\x1a'), InnerOp(hash=1, prefix=b'\\x01M\\xcd\\xae0\\x06\\x92\\x91\\x80,83\\xfb9&D\\x1d\\x7f1q\\xfb\\x9bOV\\x1b\\x03\\xbfMS\\xceJ\\x0c\\xeb'), InnerOp(hash=1, prefix=b'\\x01', suffix=b'\\xcb\\x1c\\xb1\\x07N\\xa2X\\xd7Iz\\xaa\\x011<\\x80\\x9df\\x84\\xcc\\x97|\\x88>\\xee\\xf4\\x86w?\\xfe\\x19\\x1d/')]))])\n",
      "\n",
      "\n",
      "\n",
      "consensus_height:\n",
      "\n",
      "Height(revision_number=4, revision_height=9559370)\n",
      "\n",
      "\n",
      "\n",
      "consensus_proof:\n",
      "\n",
      "MerkleProof(proofs=[CommitmentProof(exist=ExistenceProof(key=b'clients/07-tendermint-87/consensusStates/4-9559370', value=b'\\n./ibc.lightclients.tendermint.v1.ConsensusState\\x12T\\n\\x0c\\x08\\x86\\xad\\xc3\\xa0\\x06\\x10\\xe7\\xaf\\xc4\\xe7\\x01\\x12\"\\n \\xbb\\x02\\xcc\\x83$\\xe2K\\x02k\\xd7A\\xf0\\xd3uW\\x95V\\x13\\xbf\\xbb\\xbc\\xed\\x8bm\\xc5\\xc0\\xaey\\xf0(C\\x9a\\x1a 8\\xa3\\xb9\\x11\\xb5\\x13;\\x94\\xdd\\xeeF\\xed\\x91s\\xbb?k?\\x9f\\'\\x1e\\x8c\\x82b\\xd8c\\xf6\\x0f\\xf0\\xb3\\xf2\\xba', leaf=LeafOp(hash=1, prehash_value=1, length=1, prefix=b'\\x00\\x02\\x9e\\xfd\\xe2\\x08'), path=[InnerOp(hash=1, prefix=b'\\x02\\x04\\xdc\\x80\\xe3\\x08 ', suffix=b' \\xb71w\\xf8\\x12/\\xe7\\x01\\x86\\x0f\\xf4g\\xad\\x02[}m\\xfb\\x85>uQ\\x14V\\x91\\xc3\\x0b\\xb4\\xdb+\\xf0\\x00'), InnerOp(hash=1, prefix=b'\\x04\\x08\\xdc\\x80\\xe3\\x08 \\x93\\xac\\xe3\\x9b\\xb6\\xb6\\x9dW\\xc5\\xea3Yu\\x0cX\\x1b\\xc1\\xecL;\\xe6\\x9f\\xf8\\x18Rk\\x11{\\xbc\\xc7d\\xbb '), InnerOp(hash=1, prefix=b'\\x06\\x10\\xdc\\x80\\xe3\\x08 ', suffix=b' \\xe6\\xfea 1x\\xec!\\x1b\\x83\\x98\\xd5b(\\xdfb\\xbd\\xdb\\xb1\\xf7\\xe3\\xe9\\x8aq3\\xc0s\\xf1c\\xc4K\\x1b'), InnerOp(hash=1, prefix=b'\\x08\\x16\\xdc\\x80\\xe3\\x08 \\xea\\xa1<\\x8c\\x8diI\\xed\\xa8\\xf9[s\\xc0\\t{\\xe1\\xa8x\\x87\\xd2i\\x15\\xc5\\x8d\\x12\\x1f\\xc0-2\\x86\\x90F '), InnerOp(hash=1, prefix=b'\\n \\xdc\\x80\\xe3\\x08 \\x14\\x08\\x88\\xc0\\xee\\x91\\xa7\\xbf\\x1b<qI\\x17>Q\\x88\\xcc\\xa2\\xf4\\xea\\x90;\\xc2]]\\xb9\\xbe\\xcf\\xcd\\xd2\\x90\\x1b '), InnerOp(hash=1, prefix=b'\\x0cV\\xdc\\x80\\xe3\\x08 \\xff\\x87w\\x8d\\xde\\xa5(\\xeeC\\xf3\\xba=.\\xb8D;0\\xa1>s\\xd4pA\\xbfU\\x1b}\\xb82\\xb1G\\xd6 '), InnerOp(hash=1, prefix=b\"\\x0e\\xac\\x01\\xdc\\x80\\xe3\\x08 \\x99\\x17\\xe4Z\\xd0\\xf8\\x11\\xf0L\\xe4s/\\xbf\\xf3'\\x1e\\x82\\xa03\\xf6\\x0e\\xe7\\x0c\\xb9\\x03]\\xe9\\xd6\\x08u8\\x8c \"), InnerOp(hash=1, prefix=b\"\\x10\\xec\\x02\\xdc\\x80\\xe3\\x08 \\xb1\\xfb\\x8f'e\\xcfB\\x04\\x9a=\\xce\\xb0^\\xaa\\xb2\\r\\xae\\x83 \\x13WN\\x0c\\xcc\\xd4\\xf4\\x1a\\x13\\xe2\\xf3\\xfdc \"), InnerOp(hash=1, prefix=b'\\x12\\xec\\x05\\xdc\\x80\\xe3\\x08 1%\\xc6\\xc2\\x14^#\\xa6e\\x0e\\xea\\x91\\xb3\\xf3\\x06I\\xd3\\xd2w\\xa8\\xd7\\xcc\\\\9\\xc4m\\xe7\\xf7\\xc0\\xcf\\x1e\\xea '), InnerOp(hash=1, prefix=b'\\x14\\xec\\x0b\\xdc\\x80\\xe3\\x08 \\x9e \\xf7\\xb6\\xe0O\\xf9$}\\xd8\\xc8\\xe5\\xc83\\xc8\\x1f\\xd7\\x18{\\x81m\\xc2\\xef._\\x89b\\x0f\\x18>\\xe1\\xc1 '), InnerOp(hash=1, prefix=b'\\x16\\xec\\x11\\xdc\\x80\\xe3\\x08 \\xe5\\xc4\\xd1\\x81f\\xd09[\\xcd`\\xb9\\xdew|\\xe2\\xb7\"!f\\x9az\\xa2\\x8bJ\\x0b\\x9e\\x15\\xcf\\xe6\\xb4^\\x1f '), InnerOp(hash=1, prefix=b'\\x18\\xec)\\xdc\\x80\\xe3\\x08  \\xa5\\x8al\\xd4j=\\xa3w\\xcd\\xc2i\\xa1\\xac\\x05\\n\\x87c|\\x9a\\xc8<\\t\\x12\\xaa\\xb7\\xd1un\\xac6\\x7f '), InnerOp(hash=1, prefix=b'\\x1a\\xecA\\xdc\\x80\\xe3\\x08 +A=\\xa8\\x18\\xaa\\\\z\\xca\\xa81\\xe5\\xb8\\xb6\\xf1\\xea\\x06\\x02\\x84\\xe6\\xf9\\r\\xc3De\\xbf\\xd0aq$\\xde\\xd2 '), InnerOp(hash=1, prefix=b'\\x1c\\xec\\xa1\\x01\\xdc\\x80\\xe3\\x08 \\x0c\\xd9r1L\\x93\\xf5\\xf9M\\xb2\\nW\\x9dQ\\xe2\\x82\\x13T\\xc8f\\xc1\\t\\x92Q\\x03\\xc2\\xe0\\x8f`B@K '), InnerOp(hash=1, prefix=b'\\x1e\\xec\\xe1\\x02\\xdc\\x80\\xe3\\x08 I!E7\\xbf\\xab\\xb0\\xcb\\x80\\xc7\\x89o\\xb7\\xa1\\xfdR\\x1c@\\xa8H\\x18\\x99\\r\\xa1\\\\\\xc5\\x0f\\x10\\xc8\\xfeH\\xd4 '), InnerOp(hash=1, prefix=b' \\x9c\\xd8\\x04\\xdc\\x80\\xe3\\x08 \\xd9O\\xc4\\xc1v\\x195Q#\\x82\\xb50f\\x9c\\xcfnK\\x13\\xf2Tbv\\xc6+\\x8eK\\x00Sz\\xe2\"c '), InnerOp(hash=1, prefix=b'\"\\x80\\x86\\x07\\xdc\\x80\\xe3\\x08 \\x9a\\x9cN\\xa0LN/\\xf8.\\x1fs\"\\x00\\xdd[\\xfb\\x7f\\xd4\\xa6\\x14\\x8c\\xa95\\x89\\xb7%\\r\\xa6\\xc1B\\xef\\x12 '), InnerOp(hash=1, prefix=b'$\\xce\\xe9\\x0b\\xdc\\x80\\xe3\\x08 \\x07t\\xfc\\x03\\x9f\\xfd\\x01\\x03`\\xd9\\x838\\x02@\\xafM\\xa1h\\xc5\\xc1\\x91\\xb6;\\x84&\\xdc\\x86\\xbdr\\xef\\xeeD '), InnerOp(hash=1, prefix=b'&\\xe0\\xa4\\x1a\\xdc\\x80\\xe3\\x08 \\xfd)\\xdb\\x9aU\\r\\xbf[y.*\\x07\\xb0\\x91\\x94\\x91\\x7f\\xfb\\x1f7\\xdf\\xbe\\xce#&yb\\xe0\\x15\\xccC\\xbe '), InnerOp(hash=1, prefix=b'(\\x9a\\xbf>\\xdc\\x80\\xe3\\x08 ', suffix=b' +\\xd7\\xfbz\\x172\\x14X\\x94}F\\x9e\\xa3\\x063\\x16\\x0c)B\\xf9\\x0c\\xae8$\\xfe\\xf7\\x1a\\x01\\xa3\\x84\\x03\\xba'), InnerOp(hash=1, prefix=b'*\\xe0\\xc7e\\xdc\\x80\\xe3\\x08 \\xf0\\x1d\\xbf\\xa8\\x83\\x7f=\\xe5I\\x1a\\xf8`\\x7f\\x99\\xa3N\\xf7E\\x80j\\xf2\\x85j\\x96\\xeb\\xb1\\xee\\xb7 \\xa0\"\\xe1 '), InnerOp(hash=1, prefix=b'.\\x80\\xc7\\xb6\\x01\\xdc\\x80\\xe3\\x08 ', suffix=b' \\xb7?BkZ:\\x1a\\xb5\\x1c[\\xcd\\xa3\\x9c\\xc6\\xd3B6\\xaa\\x1b.x\\x95JI\\x1a\\x19%Q\\xee\\x13\\x03\\x98')])), CommitmentProof(exist=ExistenceProof(key=b'ibc', value=b'\\x9f\\xa5 C\\x84h]\\xdb\\xedk\\xa8\\xeaXVAW\\xb2K\\x8a9\\x86\\xca\\x96\\xa6a\\xadva=G\\x87\\xe1', leaf=LeafOp(hash=1, prehash_value=1, length=1, prefix=b'\\x00'), path=[InnerOp(hash=1, prefix=b'\\x01', suffix=b'\\xa0}<?q\\x96cr_\\x90PK\\x9d\\xd8\\x90:$\\xf3T\\xc4\\xb2\\x03\\x81uW\\xf3\\xd2:;\\xe9\\r\\xb5'), InnerOp(hash=1, prefix=b'\\x01', suffix=b'ce\\xc9%\\xa9\\x9aM\\xb7?\\x16\\x9f\\xb5\\x04\\xebX=\\x894\\xc2]\\x80 \\xd1\\x810\\xcf\\x9b\\xe9\\x83\\x99\\x91h'), InnerOp(hash=1, prefix=b'\\x01\\x83\\xbee,O\\xed\\x93\\xb6\\xf5\\xd6ZSV>\\xd1=\\xfbA\\xb0\\x03\\xd7\\xf8\\x1b\\x1fv\\x89P\\x14M\\r\\xc1\\x1a'), InnerOp(hash=1, prefix=b'\\x01M\\xcd\\xae0\\x06\\x92\\x91\\x80,83\\xfb9&D\\x1d\\x7f1q\\xfb\\x9bOV\\x1b\\x03\\xbfMS\\xceJ\\x0c\\xeb'), InnerOp(hash=1, prefix=b'\\x01', suffix=b'\\xcb\\x1c\\xb1\\x07N\\xa2X\\xd7Iz\\xaa\\x011<\\x80\\x9df\\x84\\xcc\\x97|\\x88>\\xee\\xf4\\x86w?\\xfe\\x19\\x1d/')]))])\n",
      "\n",
      "\n"
     ]
    }
   ],
   "source": [
    "#fetch client, connection, consensus proofs\n",
    "\n",
    "inj_client_trusted_height = header_height\n",
    "inj_client_trusted_revision_number = osmo.broadcaster.query(f\"/ibc/core/client/v1/client_states/{client_id_on_osmo}\")[\"client_state\"][\"latest_height\"][\"revision_number\"]\n",
    "\n",
    "#client state proof - inj's understanding of osmo's state\n",
    "params = {\n",
    "    \"path\": '\"/store/ibc/key\"',\n",
    "    \"data\": \"0x\" + bytes(f\"clients/{client_id_on_inj}/clientState\", \"ascii\").hex(),\n",
    "    \"prove\": \"true\",\n",
    "    \"height\": int(inj_client_trusted_height) - 1,\n",
    "}\n",
    "osmo_client_proof_on_inj = requests.get(f\"{inj_rpc_url}/abci_query\", headers=inj_rpc_header, params=params).json()\n",
    "proofs = [CommitmentProof.FromString(b64_to_bytes(x[\"data\"])) for x in osmo_client_proof_on_inj[\"result\"][\"response\"][\"proofOps\"][\"ops\"]]\n",
    "client_proof = MerkleProof(proofs=proofs)\n",
    "\n",
    "print(f\"\"\"\n",
    "client_proof:\n",
    "\n",
    "{client_proof}\n",
    "\n",
    "\"\"\")\n",
    "\n",
    "#connection proof\n",
    "time.sleep(2)\n",
    "params = {\n",
    "    \"path\": '\"/store/ibc/key\"',\n",
    "    \"data\": \"0x\" + bytes(f\"connections/{connection_id_on_inj}\", \"ascii\").hex(),\n",
    "    \"prove\": \"true\",\n",
    "    \"height\": int(inj_client_trusted_height) - 1,\n",
    "}\n",
    "connection_proof_on_inj = requests.get(f\"{inj_rpc_url}/abci_query\", headers=inj_rpc_header, params=params).json()\n",
    "connection_proofs = [CommitmentProof.FromString(b64_to_bytes(x[\"data\"])) for x in connection_proof_on_inj[\"result\"][\"response\"][\"proofOps\"][\"ops\"]]\n",
    "connection_proof = MerkleProof(proofs=connection_proofs)\n",
    "\n",
    "print(f\"\"\"\n",
    "connection_proof:\n",
    "\n",
    "{connection_proof}\n",
    "\n",
    "\"\"\")\n",
    "\n",
    "#fetch inj's understanding of osmo's consensus height \n",
    "time.sleep(3)\n",
    "params = {\n",
    "    \"path\": '\"/ibc.core.client.v1.Query/ClientState\"',\n",
    "    \"data\": \"0x\" + QueryClientStateRequest(client_id_on_inj).SerializeToString().hex(),\n",
    "    \"prove\": \"false\",\n",
    "}\n",
    "consensus_height = ClientState.FromString(QueryClientStateResponse.FromString(b64_to_bytes(requests.get(f\"{inj_rpc_url}/abci_query\", headers=inj_rpc_header, params=params).json()[\"result\"][\"response\"][\"value\"])).client_state.value).latest_height\n",
    "\n",
    "print(f\"\"\"\n",
    "consensus_height:\n",
    "\n",
    "{consensus_height}\n",
    "\n",
    "\"\"\")\n",
    "\n",
    "#consensus proof - inj's understanding of osmo's consensus\n",
    "time.sleep(3)\n",
    "params = {\n",
    "    \"path\": '\"/store/ibc/key\"',\n",
    "    \"data\": \"0x\" + bytes(f\"clients/{client_id_on_inj}/consensusStates/{consensus_height.revision_number}-{consensus_height.revision_height}\", \"ascii\").hex(),\n",
    "    \"prove\": \"true\",\n",
    "    \"height\": int(inj_client_trusted_height) - 1,\n",
    "}\n",
    "consensus_proof_on_inj = requests.get(f\"{inj_rpc_url}/abci_query\", headers=inj_rpc_header, params=params).json()\n",
    "consensus_proofs = [CommitmentProof.FromString(b64_to_bytes(x[\"data\"])) for x in consensus_proof_on_inj[\"result\"][\"response\"][\"proofOps\"][\"ops\"]]\n",
    "consensus_proof = MerkleProof(proofs=consensus_proofs)\n",
    "\n",
    "print(f\"\"\"\n",
    "consensus_proof:\n",
    "\n",
    "{consensus_proof}\n",
    "\n",
    "\"\"\")\n",
    "\n",
    "\n",
    "client_state = Any(\n",
    "    type_url=\"/ibc.lightclients.tendermint.v1.ClientState\",\n",
    "    value=ClientState.FromString(\n",
    "      Any.FromString(\n",
    "        b64_to_bytes(osmo_client_proof_on_inj[\"result\"][\"response\"][\"value\"])\n",
    "      ).value\n",
    "    ).SerializeToString()\n",
    ")\n",
    "\n"
   ]
  },
  {
   "cell_type": "code",
   "execution_count": 9,
   "id": "72a1769a-92be-4ec0-8186-ba8d2a5128a2",
   "metadata": {
    "tags": []
   },
   "outputs": [
    {
     "name": "stdout",
     "output_type": "stream",
     "text": [
      "                          key               value\n",
      "0               connection_id     connection-3714\n",
      "1                   client_id  07-tendermint-4298\n",
      "2      counterparty_client_id    07-tendermint-87\n",
      "3  counterparty_connection_id       connection-69\n"
     ]
    }
   ],
   "source": [
    "#fabricate message & dispatch via stargate\n",
    "\n",
    "msg = MsgConnectionOpenTry(\n",
    "  client_id=client_id_on_osmo, #str\n",
    "  client_state=client_state, #Any\n",
    "  counterparty=ConnectionCounterParty(\n",
    "    client_id=client_id_on_inj,\n",
    "    prefix=MerklePrefix(\n",
    "      key_prefix=bytes(\"ibc\", \"ascii\"),\n",
    "    ),\n",
    "    connection_id=connection_id_on_inj,\n",
    "  ),\n",
    "  delay_period=0, #int\n",
    "  counterparty_versions=[\n",
    "        Version(\n",
    "          identifier=\"1\",\n",
    "          features=[\"ORDER_ORDERED\", \"ORDER_UNORDERED\"],\n",
    "        )\n",
    "    ], #list of Version\n",
    "  proof_height=Height(int(inj_client_trusted_revision_number), int(inj_client_trusted_height)), #Height\n",
    "  proof_init=connection_proof.SerializeToString(), #bytes\n",
    "  proof_client=client_proof.SerializeToString(), #bytes\n",
    "  proof_consensus=consensus_proof.SerializeToString(), #bytes\n",
    "  consensus_height=consensus_height, #Height\n",
    "  signer=osmo_wallet.key.acc_address, #str\n",
    ")\n",
    "\n",
    "connection_try_on_osmo_result = stargate_msg(\"/ibc.core.connection.v1.MsgConnectionOpenTry\", msg, osmo_wallet, osmo)\n",
    "create_connection_on_osmo_df = pd.DataFrame(connection_try_on_osmo_result[\"tx_response\"][\"logs\"][0][\"events\"][0][\"attributes\"])\n",
    "connection_id_on_osmo = create_connection_on_osmo_df[create_connection_on_osmo_df[\"key\"]==\"connection_id\"][\"value\"].values[0]\n",
    "\n",
    "print(create_connection_on_osmo_df)"
   ]
  },
  {
   "cell_type": "markdown",
   "id": "28eaea00-5d65-4247-980b-d8e77ae4a595",
   "metadata": {},
   "source": [
    "## IBC connection step 3 - MsgConnectionOpenAck (called on inj)"
   ]
  },
  {
   "cell_type": "code",
   "execution_count": 10,
   "id": "da555fce-3936-4755-a53d-9de714576a8d",
   "metadata": {
    "tags": []
   },
   "outputs": [
    {
     "name": "stdout",
     "output_type": "stream",
     "text": [
      "{'remote_lcd': <terra_sdk.client.lcd.lcdclient.LCDClient object at 0x7f234047da00>, 'remote_rpc_url': 'https://rpc-test.osmosis.zone', 'remote_rpc_header': {}, 'client_lcd': <terra_sdk.client.lcd.lcdclient.LCDClient object at 0x7f2340052580>, 'client_wallet': <terra_sdk.client.lcd.wallet.Wallet object at 0x7f234041fa00>, 'client_id': '07-tendermint-87'}\n",
      "\n",
      "\n",
      "\n",
      "timestamp: seconds: 1678825871\n",
      "nanos: 455350963\n",
      " \n",
      "\n",
      "\n",
      "source current tendermint:\n",
      "{'block_id': {'hash': 'zSR0S3nv79QS4yTDpLXhlfO7MfOr83/TNRpNvpC9Qe8=', 'part_set_header': {'total': 1, 'hash': 'TSoAXHuheMUHifRajBVzIF8X+YlI9C7YnkDJ3IwKXz4='}}, 'block': {'header': {'version': {'block': '11', 'app': '16'}, 'chain_id': 'osmo-test-4', 'height': '9559525', 'time': '2023-03-14T20:31:11.455350963Z', 'last_block_id': {'hash': '2l33FWPW/tkfRTFtBksvG2pss/NzzwDlyD9B0XK+ONI=', 'part_set_header': {'total': 1, 'hash': 'zzwLdaJ5vNfji31aEiRwJIrvSzbCqpfFRfJYSw/KyJc='}}, 'last_commit_hash': 'G4/kUmi0e0bu4XHAYaKNYMKpk2DCG9uyADMXS+fB6Wo=', 'data_hash': '47DEQpj8HBSa+/TImW+5JCeuQeRkm5NMpJWZG3hSuFU=', 'validators_hash': 'OKO5EbUTO5Td7kbtkXO7P2s/nycejIJi2GP2D/Cz8ro=', 'next_validators_hash': 'OKO5EbUTO5Td7kbtkXO7P2s/nycejIJi2GP2D/Cz8ro=', 'consensus_hash': 'qWfVX6y7oZq5YUkEjyR2xGV+wD0lt4qBr1uPCgj2Hf8=', 'app_hash': 'PKtCQ6iaFvDSxqpNiuMeEAzRaAIUXaDr9A6hb1CbLWc=', 'last_results_hash': '47DEQpj8HBSa+/TImW+5JCeuQeRkm5NMpJWZG3hSuFU=', 'evidence_hash': '47DEQpj8HBSa+/TImW+5JCeuQeRkm5NMpJWZG3hSuFU=', 'proposer_address': 'VpZxag4yMaDqkoAJJjK6v4Fve28='}, 'data': {'txs': []}, 'evidence': {'evidence': []}, 'last_commit': {'height': '9559524', 'round': 0, 'block_id': {'hash': '2l33FWPW/tkfRTFtBksvG2pss/NzzwDlyD9B0XK+ONI=', 'part_set_header': {'total': 1, 'hash': 'zzwLdaJ5vNfji31aEiRwJIrvSzbCqpfFRfJYSw/KyJc='}}, 'signatures': [{'block_id_flag': 'BLOCK_ID_FLAG_COMMIT', 'validator_address': 'VpZxag4yMaDqkoAJJjK6v4Fve28=', 'timestamp': '2023-03-14T20:31:11.455350963Z', 'signature': 'CY6aEfaaSO+mEP8kSFflyRntSNJQd9qSD56xJvJLEjE3QBFN25YOpL5tTxiv1Y+BXJWMhD+XjgPcClhzKsUnDA=='}, {'block_id_flag': 'BLOCK_ID_FLAG_NIL', 'validator_address': 'RZtlaXV1HIbS0+n1l6l5NE8djP0=', 'timestamp': '2023-03-14T20:31:11.783076037Z', 'signature': '6NwjeRW8+3VarblybwaBt8iUr22w/5dvMpCTXL3Vj0Lpr/RY0WeCU0K00N9xqZHiF2t+hnplIKaHtYy49xfGAQ=='}, {'block_id_flag': 'BLOCK_ID_FLAG_NIL', 'validator_address': '0S+fYerUINQxMAAVX2ADSheBdEI=', 'timestamp': '2023-03-14T20:31:11.577149844Z', 'signature': 'vEXUxREPcuQzfEJ8XXNvNb447m/a8yoNhc/GJqLvcMUg6/dNz42Ri7Bm1WbvbHU0hsA5FPJjM1jVSdyIb7uJBw=='}, {'block_id_flag': 'BLOCK_ID_FLAG_NIL', 'validator_address': 'pIRf84SzPKxmbSw2eERqJv2O7uM=', 'timestamp': '2023-03-14T20:31:11.641910130Z', 'signature': 'vmGVnDOrGWGbZx2acL89YhxT95ObD/gY5tZryDDng5ZB4iBpnLmajizTlOhop2FwYD86DrJ+Hq3Hr3jHPlfmAw=='}, {'block_id_flag': 'BLOCK_ID_FLAG_ABSENT', 'validator_address': None, 'timestamp': '0001-01-01T00:00:00Z', 'signature': None}, {'block_id_flag': 'BLOCK_ID_FLAG_NIL', 'validator_address': 'yJaRcfm1ozVMcSog8AfN4GSMmQ8=', 'timestamp': '2023-03-14T20:31:11.639562735Z', 'signature': 'ZatGtxr1eWsEWW0BD0m+IJdDndHQnEFlmISAis4uCRCNj21LIF8WRYumnJr9borOnPSSWTvUytI1e2bKCoyGCQ=='}, {'block_id_flag': 'BLOCK_ID_FLAG_ABSENT', 'validator_address': None, 'timestamp': '0001-01-01T00:00:00Z', 'signature': None}]}}}\n",
      "\n",
      "\n",
      "\n",
      "\n",
      "\n",
      "commit_info:\n",
      "\n",
      "{'jsonrpc': '2.0', 'id': -1, 'result': {'signed_header': {'header': {'version': {'block': '11', 'app': '16'}, 'chain_id': 'osmo-test-4', 'height': '9559525', 'time': '2023-03-14T20:31:11.455350963Z', 'last_block_id': {'hash': 'DA5DF71563D6FED91F45316D064B2F1B6A6CB3F373CF00E5C83F41D172BE38D2', 'parts': {'total': 1, 'hash': 'CF3C0B75A279BCD7E38B7D5A122470248AEF4B36C2AA97C545F2584B0FCAC897'}}, 'last_commit_hash': '1B8FE45268B47B46EEE171C061A28D60C2A99360C21BDBB20033174BE7C1E96A', 'data_hash': 'E3B0C44298FC1C149AFBF4C8996FB92427AE41E4649B934CA495991B7852B855', 'validators_hash': '38A3B911B5133B94DDEE46ED9173BB3F6B3F9F271E8C8262D863F60FF0B3F2BA', 'next_validators_hash': '38A3B911B5133B94DDEE46ED9173BB3F6B3F9F271E8C8262D863F60FF0B3F2BA', 'consensus_hash': 'A967D55FACBBA19AB96149048F2476C4657EC03D25B78A81AF5B8F0A08F61DFF', 'app_hash': '3CAB4243A89A16F0D2C6AA4D8AE31E100CD16802145DA0EBF40EA16F509B2D67', 'last_results_hash': 'E3B0C44298FC1C149AFBF4C8996FB92427AE41E4649B934CA495991B7852B855', 'evidence_hash': 'E3B0C44298FC1C149AFBF4C8996FB92427AE41E4649B934CA495991B7852B855', 'proposer_address': '5696716A0E3231A0EA9280092632BABF816F7B6F'}, 'commit': {'height': '9559525', 'round': 0, 'block_id': {'hash': 'CD24744B79EFEFD412E324C3A4B5E195F3BB31F3ABF37FD3351A4DBE90BD41EF', 'parts': {'total': 1, 'hash': '4D2A005C7BA178C50789F45A8C1573205F17F98948F42ED89E40C9DC8C0A5F3E'}}, 'signatures': [{'block_id_flag': 2, 'validator_address': '5696716A0E3231A0EA9280092632BABF816F7B6F', 'timestamp': '2023-03-14T20:31:16.466045316Z', 'signature': 'Q4TVWi9lDmOhEQZxiLdHY3dMKFeuFLgAA6HeQUW6nCkTvI+HK7UHQm5Vktl8HdTt+AilNtZeEVf6jfTSrXq0CQ=='}, {'block_id_flag': 1, 'validator_address': '', 'timestamp': '0001-01-01T00:00:00Z', 'signature': None}, {'block_id_flag': 1, 'validator_address': '', 'timestamp': '0001-01-01T00:00:00Z', 'signature': None}, {'block_id_flag': 1, 'validator_address': '', 'timestamp': '0001-01-01T00:00:00Z', 'signature': None}, {'block_id_flag': 1, 'validator_address': '', 'timestamp': '0001-01-01T00:00:00Z', 'signature': None}, {'block_id_flag': 1, 'validator_address': '', 'timestamp': '0001-01-01T00:00:00Z', 'signature': None}, {'block_id_flag': 1, 'validator_address': '', 'timestamp': '0001-01-01T00:00:00Z', 'signature': None}]}}, 'canonical': False}}\n",
      "\n",
      "\n",
      "\n"
     ]
    }
   ],
   "source": [
    "#update client on inj (ie, refresh inj's knowledge of osmosis's tendermint state) & fetch proofs\n",
    "\n",
    "time.sleep(10) #wait a few blocks\n",
    "msg = fabricate_update_client(osmo, osmo_rpc_url, osmo_rpc_header, inj, inj_wallet, client_id_on_inj)\n",
    "update_client_on_inj_result = stargate_msg(\"/ibc.core.client.v1.MsgUpdateClient\", msg, inj_wallet, inj)\n",
    "header_height = Header.FromString(msg.header.value).signed_header.header.height\n",
    "\n",
    "osmo_client_trusted_height = header_height\n",
    "osmo_client_trusted_revision_number = inj.broadcaster.query(f\"/ibc/core/client/v1/client_states/{client_id_on_inj}\")[\"client_state\"][\"latest_height\"][\"revision_number\"]\n",
    "\n",
    "client_proof, connection_proof, consensus_proof, consensus_height, client_state = fetch_proofs(osmo_rpc_url, osmo_rpc_header, client_id_on_osmo, osmo_client_trusted_height, osmo_client_trusted_revision_number, connection_id_on_osmo)"
   ]
  },
  {
   "cell_type": "code",
   "execution_count": 12,
   "id": "b2845408-0fc8-448d-ad2d-feb9117c9a2f",
   "metadata": {},
   "outputs": [
    {
     "name": "stdout",
     "output_type": "stream",
     "text": [
      "                          key               value\n",
      "0               connection_id       connection-69\n",
      "1                   client_id    07-tendermint-87\n",
      "2      counterparty_client_id  07-tendermint-4298\n",
      "3  counterparty_connection_id     connection-3714\n"
     ]
    }
   ],
   "source": [
    "#fabricate message & dispatch via stargate\n",
    "\n",
    "\n",
    "msg = MsgConnectionOpenAck(\n",
    "  connection_id=connection_id_on_inj,\n",
    "  counterparty_connection_id=connection_id_on_osmo,\n",
    "  version=Version(\n",
    "      identifier=\"1\",\n",
    "      features=[\"ORDER_ORDERED\", \"ORDER_UNORDERED\"],\n",
    "    ),\n",
    "  client_state=client_state,\n",
    "  proof_height=Height(int(osmo_client_trusted_revision_number), int(osmo_client_trusted_height)),\n",
    "  proof_try=connection_proof.SerializeToString(),\n",
    "  proof_client=client_proof.SerializeToString(),\n",
    "  proof_consensus=consensus_proof.SerializeToString(),\n",
    "  consensus_height=consensus_height,\n",
    "  signer=inj_wallet.key.acc_address,\n",
    ")\n",
    "\n",
    "connection_ack_on_inj_result = stargate_msg(\"/ibc.core.connection.v1.MsgConnectionOpenAck\", msg, inj_wallet, inj)\n",
    "connection_ack_on_inj_df = pd.DataFrame(connection_ack_on_inj_result[\"tx_response\"][\"logs\"][0][\"events\"][0][\"attributes\"])\n",
    "\n",
    "print(connection_ack_on_inj_df)"
   ]
  },
  {
   "cell_type": "markdown",
   "id": "ff2edf07-e7a6-48fc-9190-a5d3b4b64688",
   "metadata": {},
   "source": [
    "## IBC connection step 4 - MsgConnectionOpenConfirm (called on osmosis)"
   ]
  },
  {
   "cell_type": "code",
   "execution_count": 13,
   "id": "a40a2f1d-3537-4247-986b-58ebd32f3147",
   "metadata": {
    "tags": []
   },
   "outputs": [
    {
     "name": "stdout",
     "output_type": "stream",
     "text": [
      "{'remote_lcd': <terra_sdk.client.lcd.lcdclient.LCDClient object at 0x7f2340052580>, 'remote_rpc_url': 'https://k8s.testnet.tm.injective.network:443/', 'remote_rpc_header': {}, 'client_lcd': <terra_sdk.client.lcd.lcdclient.LCDClient object at 0x7f234047da00>, 'client_wallet': <terra_sdk.client.lcd.wallet.Wallet object at 0x7f2340278cd0>, 'client_id': '07-tendermint-4298'}\n",
      "\n",
      "\n",
      "\n",
      "timestamp: seconds: 1678825974\n",
      "nanos: 296918484\n",
      " \n",
      "\n",
      "\n",
      "source current tendermint:\n",
      "{'block_id': {'hash': 'zt1aANCJzee3vV+AbGSmkFmpHrjb78ZGOf9D4sCToAk=', 'part_set_header': {'total': 1, 'hash': 'oIaQ1Y0gVDX+n5o9EJzYQl2gs7tCyLRq+L2T47E7+/w='}}, 'block': {'header': {'version': {'block': '11', 'app': '0'}, 'chain_id': 'injective-888', 'height': '9199798', 'time': '2023-03-14T20:32:54.296918484Z', 'last_block_id': {'hash': '6azuT5FAVtcbjGCrMADtABK8LshqejkaK7kNM/JVBdc=', 'part_set_header': {'total': 1, 'hash': 'rx3RqMG52Br2X0DUGrl3s/Rth8MNYh7zsxzNSdoLc64='}}, 'last_commit_hash': 'vSXyc9us6tzDDlVTAi171UXRYo+WZZU0EI6yXNpjesM=', 'data_hash': '47DEQpj8HBSa+/TImW+5JCeuQeRkm5NMpJWZG3hSuFU=', 'validators_hash': 'FI/e4hLK65ZxQjpH7coHwFCKHMb3WPVzA5PGSyB7KMg=', 'next_validators_hash': 'FI/e4hLK65ZxQjpH7coHwFCKHMb3WPVzA5PGSyB7KMg=', 'consensus_hash': 'vml94SL+cPwUT5B4L5ZAe/3n0gSLsv2tqMpUVEVA8gg=', 'app_hash': 'cS0E9iZNoTH8u9QgUd6lCvzS+0G0ImHl3NUVYbz+di0=', 'last_results_hash': 'pM4WppDoOBqk047ex783N7doIgm6VTwlC7MIxcfMKQw=', 'evidence_hash': '47DEQpj8HBSa+/TImW+5JCeuQeRkm5NMpJWZG3hSuFU=', 'proposer_address': 'ObUXYdS8jfTSNPonUBFPJkft7eA='}, 'data': {'txs': []}, 'evidence': {'evidence': []}, 'last_commit': {'height': '9199797', 'round': 0, 'block_id': {'hash': '6azuT5FAVtcbjGCrMADtABK8LshqejkaK7kNM/JVBdc=', 'part_set_header': {'total': 1, 'hash': 'rx3RqMG52Br2X0DUGrl3s/Rth8MNYh7zsxzNSdoLc64='}}, 'signatures': [{'block_id_flag': 'BLOCK_ID_FLAG_COMMIT', 'validator_address': 'pp0xJG+3PqSvgHC1GJU9SwvYymM=', 'timestamp': '2023-03-14T20:32:54.296918484Z', 'signature': 'mX6QOSPJaSEZ0dAgG9Nh11MJL4uizsFIQBuC8+KsiJaoEg795f7sC0P0PDZCQJApNb31fMG34uhWlHwNpt8iCQ=='}, {'block_id_flag': 'BLOCK_ID_FLAG_COMMIT', 'validator_address': 'Nv8cuLE25L4mgnBx8shCmG68xfc=', 'timestamp': '2023-03-14T20:32:54.393163171Z', 'signature': 'xscSPIcYXtyHFZgQ+2v6RYLo2BZPLVs87omTkr+2wN0vyTWyWGFqdamNQeMJxI6hW0QgbORpomx51XQU3j5iAw=='}, {'block_id_flag': 'BLOCK_ID_FLAG_COMMIT', 'validator_address': 'M5HjW2EATgO+uI+h2rRES5E7174=', 'timestamp': '2023-03-14T20:32:54.200789951Z', 'signature': '1sh5mJ2ht5YtKjXpNRDBh+pMaZs4RZJ+65+J10OP2OaSivUunrYys8tpO/B2rb4RZGOqzrx9SK7msd3pcoe1Aw=='}, {'block_id_flag': 'BLOCK_ID_FLAG_COMMIT', 'validator_address': 'ObUXYdS8jfTSNPonUBFPJkft7eA=', 'timestamp': '2023-03-14T20:32:54.197096100Z', 'signature': 'A7GAm6xwvQ6MJkLJYVMHbK4IZY0Cg/3UtXI8HsYfq/z2NjyBwk2TYfjrAuSPa7gDJ+ZunxO2HKt3I4KxO8DACQ=='}, {'block_id_flag': 'BLOCK_ID_FLAG_COMMIT', 'validator_address': 'wIZn4dvVrjfbpoqyxvKVK56xeK8=', 'timestamp': '2023-03-14T20:32:54.359616604Z', 'signature': 's8JF4MtPzPNOoxgfkQlGb3VMm1dp3gGnG71PzVW1F4oegS7/8geDHg98je/zbmmQXdq7fUwbfR/LaHY4XOUPDA=='}]}}}\n",
      "\n",
      "\n",
      "\n",
      "\n",
      "\n",
      "commit_info:\n",
      "\n",
      "{'jsonrpc': '2.0', 'id': -1, 'result': {'signed_header': {'header': {'version': {'block': '11'}, 'chain_id': 'injective-888', 'height': '9199798', 'time': '2023-03-14T20:32:54.296918484Z', 'last_block_id': {'hash': 'E9ACEE4F914056D71B8C60AB3000ED0012BC2EC86A7A391A2BB90D33F25505D7', 'parts': {'total': 1, 'hash': 'AF1DD1A8C1B9D81AF65F40D41AB977B3F46D87C30D621EF3B31CCD49DA0B73AE'}}, 'last_commit_hash': 'BD25F273DBACEADCC30E5553022D7BD545D1628F96659534108EB25CDA637AC3', 'data_hash': 'E3B0C44298FC1C149AFBF4C8996FB92427AE41E4649B934CA495991B7852B855', 'validators_hash': '148FDEE212CAEB9671423A47EDCA07C0508A1CC6F758F5730393C64B207B28C8', 'next_validators_hash': '148FDEE212CAEB9671423A47EDCA07C0508A1CC6F758F5730393C64B207B28C8', 'consensus_hash': 'BE697DE122FE70FC144F90782F96407BFDE7D2048BB2FDADA8CA54544540F208', 'app_hash': '712D04F6264DA131FCBBD42051DEA50AFCD2FB41B42261E5DCD51561BCFE762D', 'last_results_hash': 'A4CE16A690E8381AA4D38EDEC7BF3737B7682209BA553C250BB308C5C7CC290C', 'evidence_hash': 'E3B0C44298FC1C149AFBF4C8996FB92427AE41E4649B934CA495991B7852B855', 'proposer_address': '39B51761D4BC8DF4D234FA2750114F2647EDEDE0'}, 'commit': {'height': '9199798', 'round': 0, 'block_id': {'hash': 'CEDD5A00D089CDE7B7BD5F806C64A69059A91EB8DBEFC64639FF43E2C093A009', 'parts': {'total': 1, 'hash': 'A08690D58D205435FE9F9A3D109CD8425DA0B3BB42C8B46AF8BD93E3B13BFBFC'}}, 'signatures': [{'block_id_flag': 2, 'validator_address': 'A69D31246FB73EA4AF8070B518953D4B0BD8CA63', 'timestamp': '2023-03-14T20:32:56.715511097Z', 'signature': 'RVC4mr1CUTL3xcEY89ZZo3pbgktS5ELxm2hnNZRhtR4laPJh2zDnDsB6tSgTdEedRHbJH7We3we0OxP2bcvFAQ=='}, {'block_id_flag': 2, 'validator_address': '36FF1CB8B136E4BE26827071F2C842986EBCC5F7', 'timestamp': '2023-03-14T20:32:56.621052498Z', 'signature': 'gKexp4OULfBt8tQ7axR+IAcuOOrIvl+hPy6/Qas4bkNzedJcdqmbg18omrJk2j5abnIk7+mqtDwGtItpCUaSDg=='}, {'block_id_flag': 2, 'validator_address': '3391E35B61004E03BEB88FA1DAB4444B913BD7BE', 'timestamp': '2023-03-14T20:32:56.617371358Z', 'signature': 'S6KSS1FT5t1PnF79DjcmXlV9VoIlTvG9lCwd36jsRylzRu16yIpmOJ/Y6wquxfN9KzUykyZ2WNNRwzMqiIQjDg=='}, {'block_id_flag': 1, 'validator_address': '', 'timestamp': '0001-01-01T00:00:00Z', 'signature': None}, {'block_id_flag': 1, 'validator_address': '', 'timestamp': '0001-01-01T00:00:00Z', 'signature': None}]}}, 'canonical': False}}\n",
      "\n",
      "\n",
      "\n"
     ]
    }
   ],
   "source": [
    "#update client again on osmosis & fetch proofs\n",
    "\n",
    "time.sleep(10) #wait a few blocks\n",
    "msg = fabricate_update_client(inj, inj_rpc_url, inj_rpc_header, osmo, osmo_wallet, client_id_on_osmo)\n",
    "update_client_on_osmo_result = stargate_msg(\"/ibc.core.client.v1.MsgUpdateClient\", msg, osmo_wallet, osmo)\n",
    "header_height = Header.FromString(msg.header.value).signed_header.header.height\n",
    "\n",
    "inj_client_trusted_height = header_height\n",
    "inj_client_trusted_revision_number = osmo.broadcaster.query(f\"/ibc/core/client/v1/client_states/{client_id_on_osmo}\")[\"client_state\"][\"latest_height\"][\"revision_number\"]\n",
    "\n",
    "client_proof, connection_proof, consensus_proof, consensus_height, client_state = fetch_proofs(inj_rpc_url, inj_rpc_header, client_id_on_inj, inj_client_trusted_height, inj_client_trusted_revision_number, connection_id_on_inj)"
   ]
  },
  {
   "cell_type": "code",
   "execution_count": 14,
   "id": "2ef6ca8c-c73c-47e5-83f6-4bcb21630762",
   "metadata": {},
   "outputs": [
    {
     "name": "stdout",
     "output_type": "stream",
     "text": [
      "                          key               value\n",
      "0               connection_id     connection-3714\n",
      "1                   client_id  07-tendermint-4298\n",
      "2      counterparty_client_id    07-tendermint-87\n",
      "3  counterparty_connection_id       connection-69\n"
     ]
    }
   ],
   "source": [
    "#fabricate message & dispatch via stargate\n",
    "\n",
    "\n",
    "msg = MsgConnectionOpenConfirm(\n",
    "  connection_id=connection_id_on_osmo,\n",
    "  proof_ack=connection_proof.SerializeToString(),\n",
    "  proof_height=Height(int(inj_client_trusted_revision_number), int(inj_client_trusted_height)),\n",
    "  signer=osmo_wallet.key.acc_address,\n",
    ")\n",
    "\n",
    "connection_confirm_on_osmo_result = stargate_msg(\"/ibc.core.connection.v1.MsgConnectionOpenConfirm\", msg, osmo_wallet, osmo)\n",
    "connection_confirm_on_osmo_df = pd.DataFrame(connection_confirm_on_osmo_result[\"tx_response\"][\"logs\"][0][\"events\"][0][\"attributes\"])\n",
    "\n",
    "print(connection_confirm_on_osmo_df)"
   ]
  },
  {
   "cell_type": "code",
   "execution_count": 15,
   "id": "28184ec5-d04a-4359-8b31-d3fade9427ec",
   "metadata": {
    "tags": []
   },
   "outputs": [
    {
     "name": "stdout",
     "output_type": "stream",
     "text": [
      "{'client_id_on_inj': '07-tendermint-87', 'client_id_on_osmo': '07-tendermint-4298', 'connection_id_on_inj': 'connection-69', 'connection_id_on_osmo': 'connection-3714'}\n"
     ]
    }
   ],
   "source": [
    "#persist connection_id's on both chains for later stages\n",
    "\n",
    "context[\"connection_id_on_inj\"] = connection_id_on_inj\n",
    "context[\"connection_id_on_osmo\"] = connection_id_on_osmo\n",
    "print(context)\n",
    "\n",
    "with open(\"context.json\", \"w\") as f:\n",
    "    # Write the dictionary to the file as a JSON string\n",
    "    json.dump(context, f)\n"
   ]
  },
  {
   "cell_type": "code",
   "execution_count": null,
   "id": "df2ca9cf-b822-4711-a1fb-b43dcf87573a",
   "metadata": {},
   "outputs": [],
   "source": []
  }
 ],
 "metadata": {
  "kernelspec": {
   "display_name": "Python 3 (ipykernel)",
   "language": "python",
   "name": "python3"
  },
  "language_info": {
   "codemirror_mode": {
    "name": "ipython",
    "version": 3
   },
   "file_extension": ".py",
   "mimetype": "text/x-python",
   "name": "python",
   "nbconvert_exporter": "python",
   "pygments_lexer": "ipython3",
   "version": "3.8.15"
  }
 },
 "nbformat": 4,
 "nbformat_minor": 5
}
