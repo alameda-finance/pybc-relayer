{
 "cells": [
  {
   "cell_type": "markdown",
   "id": "3072ea46-1496-489d-910d-bd5fc609be2b",
   "metadata": {},
   "source": [
    "## The first step is setting up the IBC light clients that live on each counterpart's chain. We will heavily utilize terra.py (https://github.com/terra-money/terra.py) and terra_proto (https://github.com/terra-money/terra.proto) in this series, but you can absolutely use more generalized packages to interact with lcd endpoints and generate proto classes.\n",
    "\n",
    "## Additionally, we use Setten (https://setten.io/) for private terra rpc endpoints; Osmosis provides a public rpc that we can use."
   ]
  },
  {
   "cell_type": "markdown",
   "id": "15c3c917-2eeb-4004-bca9-f56e5a59e52e",
   "metadata": {},
   "source": []
  },
  {
   "cell_type": "code",
   "execution_count": null,
   "id": "f472f253-a629-4334-8faf-0da67f60f75a",
   "metadata": {
    "tags": []
   },
   "outputs": [],
   "source": [
    "#imports\n",
    "\n",
    "import pandas as pd\n",
    "import json\n",
    "import os\n",
    "import sys\n",
    "import base64\n",
    "import requests\n",
    "import subprocess\n",
    "import math\n",
    "import hashlib\n",
    "import bech32\n",
    "import time\n",
    "\n",
    "from dateutil.parser import parse\n",
    "from datetime import datetime, timedelta\n",
    "from ecdsa import SECP256k1, SigningKey\n",
    "from ecdsa.util import sigencode_string_canonize\n",
    "from bech32 import bech32_decode, bech32_encode, convertbits\n",
    "\n",
    "from terra_sdk.client.lcd import LCDClient\n",
    "from terra_sdk.core.wasm import MsgStoreCode, MsgInstantiateContract, MsgExecuteContract\n",
    "from terra_sdk.core.bank import MsgSend\n",
    "from terra_sdk.core.fee import Fee\n",
    "from terra_sdk.key.mnemonic import MnemonicKey\n",
    "from terra_sdk.core.bech32 import get_bech\n",
    "from terra_sdk.core import AccAddress, Coin, Coins\n",
    "from terra_sdk.client.lcd.api.tx import CreateTxOptions, SignerOptions\n",
    "from terra_sdk.client.localterra import LocalTerra\n",
    "from terra_sdk.core.wasm.data import AccessConfig\n",
    "from terra_sdk.client.lcd.api._base import BaseAsyncAPI, sync_bind\n",
    "\n",
    "from terra_proto.cosmwasm.wasm.v1 import AccessType\n",
    "from terra_proto.cosmos.tx.v1beta1 import Tx, TxBody, AuthInfo, SignDoc, SignerInfo, ModeInfo, ModeInfoSingle, BroadcastTxResponse\n",
    "from terra_proto.cosmos.base.abci.v1beta1 import TxResponse\n",
    "from terra_proto.cosmos.tx.signing.v1beta1 import SignMode\n",
    "from terra_proto.ibc.core.client.v1 import MsgCreateClient, Height, MsgUpdateClient, QueryClientStateRequest, QueryClientStateResponse\n",
    "from terra_proto.ibc.core.channel.v1 import MsgChannelOpenInit, Channel, State, Order, Counterparty, MsgChannelOpenTry, MsgChannelOpenAck, MsgChannelOpenConfirm, QueryUnreceivedPacketsRequest, QueryUnreceivedPacketsResponse, QueryPacketCommitmentRequest, QueryPacketCommitmentResponse, Packet, QueryNextSequenceReceiveRequest, QueryNextSequenceReceiveResponse, MsgRecvPacket, MsgTimeout, QueryUnreceivedAcksRequest, QueryUnreceivedAcksResponse, MsgAcknowledgement\n",
    "from terra_proto.ibc.core.connection.v1 import MsgConnectionOpenInit, Counterparty as ConnectionCounterParty, Version, MsgConnectionOpenTry, MsgConnectionOpenAck, MsgConnectionOpenConfirm\n",
    "from terra_proto.ibc.lightclients.tendermint.v1 import ClientState, ConsensusState, Fraction, Header\n",
    "from terra_proto.ics23 import HashOp, LengthOp, LeafOp, InnerOp, ProofSpec, InnerSpec, CommitmentProof, ExistenceProof, NonExistenceProof, BatchProof, CompressedBatchProof, BatchEntry, CompressedBatchEntry, CompressedExistenceProof, CompressedNonExistenceProof\n",
    "from terra_proto.ibc.core.commitment.v1 import MerkleRoot, MerklePrefix, MerkleProof\n",
    "from terra_proto.tendermint.types import ValidatorSet, Validator, SignedHeader, Header as tendermintHeader, Commit, BlockId, PartSetHeader, CommitSig, BlockIdFlag\n",
    "from terra_proto.tendermint.version import Consensus\n",
    "from terra_proto.tendermint.crypto import PublicKey\n",
    "from betterproto.lib.google.protobuf import Any\n",
    "from betterproto import Timestamp"
   ]
  },
  {
   "cell_type": "code",
   "execution_count": null,
   "id": "560b8175-2249-4fa8-98f7-680e1f3f917c",
   "metadata": {
    "tags": []
   },
   "outputs": [],
   "source": [
    "#misc helper functions\n",
    "sys.path.append(os.path.join(os.path.dirname(__name__), '..', 'scripts'))\n",
    "\n",
    "from helpers import proto_to_binary, timestamp_string_to_proto, stargate_msg, create_ibc_client"
   ]
  },
  {
   "cell_type": "markdown",
   "id": "d23c1a9e-291c-480d-8b4b-c87103221d36",
   "metadata": {},
   "source": [
    "## We can actually use terra's lcd client & wallet classes for pretty much any cosmos chain."
   ]
  },
  {
   "cell_type": "code",
   "execution_count": null,
   "id": "5eb1e4e8-e0c9-48d1-b299-94090a58c7a4",
   "metadata": {
    "tags": []
   },
   "outputs": [],
   "source": [
    "#lcd setup\n",
    "class BaseAsyncAPI2(BaseAsyncAPI):\n",
    "    async def query(self, query_string: str, params=None):\n",
    "        if params is None:\n",
    "          res = await self._c._get(query_string)\n",
    "        else:\n",
    "          res = await self._c._get(query_string, params=params)\n",
    "        return res\n",
    "\n",
    "    #for dispatching protobuf classes to the chain\n",
    "    async def broadcast(self, tx):\n",
    "        res = await self._c._post(\"/cosmos/tx/v1beta1/txs\", {\"tx_bytes\": proto_to_binary(tx), \"mode\": \"BROADCAST_MODE_BLOCK\"})\n",
    "        return res\n",
    "\n",
    "\n",
    "class BaseAPI2(BaseAsyncAPI2):\n",
    "    @sync_bind(BaseAsyncAPI2.query)\n",
    "    def query(self, query_string: str):\n",
    "        pass\n",
    "\n",
    "    @sync_bind(BaseAsyncAPI2.broadcast)\n",
    "    def broadcast(self, tx: Tx):\n",
    "        pass\n",
    "\n",
    "#terra\n",
    "terra = LCDClient(url=\"https://pisco-lcd.terra.dev/\", chain_id=\"pisco-1\")\n",
    "terra.broadcaster = BaseAPI2(terra)\n",
    "\n",
    "#osmosis\n",
    "osmo = LCDClient(url=\"https://lcd-test.osmosis.zone\", chain_id=\"localterra\")\n",
    "osmo.chain_id = \"osmo-test-4\"\n",
    "osmo.broadcaster = BaseAPI2(osmo)"
   ]
  },
  {
   "cell_type": "code",
   "execution_count": null,
   "id": "3a80810b-5019-4d9b-8e00-a9600a936a1c",
   "metadata": {
    "tags": []
   },
   "outputs": [],
   "source": [
    "#rpc setup\n",
    "\n",
    "#terra\n",
    "setten_project_id = \"a0a3abea69544a99a67700ce2c7926fb\"\n",
    "setten_project_key = \"4a68cbb2303d4c109ea99f7bf7ede000\"\n",
    "terra_rpc_url = f\"https://rpc.pisco.terra.setten.io/{setten_project_id}\"\n",
    "terra_rpc_header = {\"Authorization\": f\"Bearer {setten_project_key}\"}\n",
    "\n",
    "\n",
    "#osmosis\n",
    "osmo_rpc_url = \"https://rpc-test.osmosis.zone\""
   ]
  },
  {
   "cell_type": "code",
   "execution_count": null,
   "id": "b92390c8-9561-4cef-bb4c-2e87d82eb0dd",
   "metadata": {
    "tags": []
   },
   "outputs": [],
   "source": [
    "#wallet setup\n",
    "\n",
    "#terra\n",
    "wallet = terra.wallet(MnemonicKey(mnemonic=\"differ flight humble cry abandon inherit noodle blood sister potato there denial woman sword divide funny trash empty novel odor churn grid easy pelican\"))\n",
    "\n",
    "#osmosis\n",
    "class OsmoKey(MnemonicKey):\n",
    "  @property\n",
    "  def acc_address(self) -> AccAddress: \n",
    "    if not self.raw_address:\n",
    "      raise ValueError(\"could not compute acc_address: missing raw_address\")\n",
    "    return AccAddress(get_bech(\"osmo\", self.raw_address.hex()))\n",
    "\n",
    "osmo_wallet = osmo.wallet(OsmoKey(mnemonic=\"differ flight humble cry abandon inherit noodle blood sister potato there denial woman sword divide funny trash empty novel odor churn grid easy pelican\", coin_type=118))"
   ]
  },
  {
   "cell_type": "markdown",
   "id": "27976fd3-a379-44d4-af54-5487508b898e",
   "metadata": {},
   "source": [
    "## Terra provides the python protobuf classes (via betterproto) for ibc/tendermint; again other python-ized protos may be used (or self-generated)"
   ]
  },
  {
   "cell_type": "code",
   "execution_count": null,
   "id": "77dcf50e-cb3a-4126-bd87-72353404e565",
   "metadata": {
    "tags": []
   },
   "outputs": [],
   "source": [
    "#terra_proto imports\n",
    "from terra_proto.ibc.core.client.v1 import MsgCreateClient, Height, MsgUpdateClient, QueryClientStateRequest, QueryClientStateResponse\n",
    "from terra_proto.ibc.lightclients.tendermint.v1 import ClientState, ConsensusState, Fraction, Header\n",
    "from terra_proto.ics23 import HashOp, LengthOp, LeafOp, InnerOp, ProofSpec, InnerSpec, CommitmentProof, ExistenceProof, NonExistenceProof, BatchProof, CompressedBatchProof, BatchEntry, CompressedBatchEntry, CompressedExistenceProof, CompressedNonExistenceProof\n",
    "from terra_proto.ibc.core.commitment.v1 import MerkleRoot, MerklePrefix, MerkleProof\n",
    "from terra_proto.tendermint.version import Consensus\n"
   ]
  },
  {
   "cell_type": "markdown",
   "id": "e0ecb25f-3586-4d4f-affc-b521076beb45",
   "metadata": {},
   "source": [
    "## Create ibc light clients by submitting stargate messages containing context data from the counterpart chain"
   ]
  },
  {
   "cell_type": "code",
   "execution_count": null,
   "id": "d5a2e44e-fd15-4a5f-b9bc-c031c0613162",
   "metadata": {
    "tags": []
   },
   "outputs": [],
   "source": [
    "#fetch osmosis tendermint data\n",
    "unbonding_period = int(osmo.staking.parameters()[\"unbonding_time\"].replace('s', ''))\n",
    "trusting_period = math.floor(unbonding_period * 2 / 3)\n",
    "max_clock_drift = 20\n",
    "latest_height_revision_number = 4\n",
    "tendermint_info = osmo.tendermint.block_info()[\"block\"]\n",
    "\n",
    "print(f\"\"\"\n",
    "osmosis information for client on terra\n",
    "\n",
    "unbonding_period: {unbonding_period}\n",
    "trusting_period: {trusting_period}\n",
    "max_clock_drift: {max_clock_drift}\n",
    "tendermint_info: {tendermint_info}\n",
    "\"\"\")\n",
    "\n",
    "#create the ibc client on terra, containing fetched osmosis tendermint data\n",
    "msg = MsgCreateClient(\n",
    "client_state=Any(\n",
    "  type_url=\"/ibc.lightclients.tendermint.v1.ClientState\",\n",
    "  value=ClientState(\n",
    "    chain_id=osmo.chain_id,\n",
    "    trust_level=Fraction(1,3),\n",
    "    trusting_period=timedelta(seconds=trusting_period),\n",
    "    unbonding_period=timedelta(seconds=unbonding_period),\n",
    "    max_clock_drift=timedelta(seconds=max_clock_drift),\n",
    "    frozen_height=Height(0,0),\n",
    "    latest_height=Height(latest_height_revision_number, int(tendermint_info[\"header\"][\"height\"])),\n",
    "    proof_specs=[\n",
    "      ProofSpec(\n",
    "        leaf_spec=LeafOp(\n",
    "          hash=HashOp.SHA256,\n",
    "          prehash_key=HashOp.NO_HASH,\n",
    "          prehash_value=HashOp.SHA256,\n",
    "          length=LengthOp.VAR_PROTO,\n",
    "          prefix=base64.b64decode(b\"AA==\"),\n",
    "        ),\n",
    "        inner_spec=InnerSpec(\n",
    "          child_order=[0,1],\n",
    "          child_size=33,\n",
    "          min_prefix_length=4,\n",
    "          max_prefix_length=12,\n",
    "          #empty_child=b'',\n",
    "          hash=HashOp.SHA256,\n",
    "        ),\n",
    "        max_depth=0,\n",
    "        min_depth=0\n",
    "      ),\n",
    "      ProofSpec(\n",
    "        leaf_spec=LeafOp(\n",
    "          hash=HashOp.SHA256,\n",
    "          prehash_key=HashOp.NO_HASH,\n",
    "          prehash_value=HashOp.SHA256,\n",
    "          length=LengthOp.VAR_PROTO,\n",
    "          prefix=base64.b64decode(b\"AA==\"),\n",
    "        ),\n",
    "        inner_spec=InnerSpec(\n",
    "          child_order=[0,1],\n",
    "          child_size=32,\n",
    "          min_prefix_length=1,\n",
    "          max_prefix_length=1,\n",
    "          #empty_child=b'',\n",
    "          hash=HashOp.SHA256,\n",
    "        ),\n",
    "        max_depth=0,\n",
    "        min_depth=0\n",
    "      ),\n",
    "    ],\n",
    "    upgrade_path=[\"upgrade\", \"upgradedIBCState\"],\n",
    "    allow_update_after_expiry=True,\n",
    "    allow_update_after_misbehaviour=True,\n",
    "  ).SerializeToString()\n",
    "),\n",
    "consensus_state=Any(\n",
    "  type_url=\"/ibc.lightclients.tendermint.v1.ConsensusState\",\n",
    "  value=ConsensusState(\n",
    "    timestamp=timestamp_string_to_proto(tendermint_info[\"header\"][\"time\"]),\n",
    "    root=MerkleRoot(base64.b64decode(tendermint_info[\"header\"][\"app_hash\"])),\n",
    "    next_validators_hash=base64.b64decode(tendermint_info[\"header\"][\"next_validators_hash\"]),\n",
    "  ).SerializeToString(),\n",
    "),\n",
    "signer=wallet.key.acc_address,\n",
    ")\n",
    "\n",
    "print(f\"\"\"\n",
    "\n",
    "ibc client creation message to be run on terra\n",
    "\n",
    "{msg.to_dict()}\n",
    "\n",
    "\"\"\")\n",
    "\n",
    "#dispatch the message\n",
    "result = stargate_msg(\"/ibc.core.client.v1.MsgCreateClient\", msg, wallet, terra)\n",
    "result_df = pd.DataFrame(result[\"tx_response\"][\"logs\"][0][\"events\"][0][\"attributes\"])\n",
    "client_id_on_terra = result_df[result_df[\"key\"]==\"client_id\"][\"value\"].values[0]\n",
    "\n",
    "print(f\"\"\"\n",
    "\n",
    "client_id on terra: {client_id_on_terra}\n",
    "\n",
    "\"\"\")"
   ]
  },
  {
   "cell_type": "code",
   "execution_count": null,
   "id": "6764fdc9-c008-4e2f-afe7-c4af83f07bc5",
   "metadata": {},
   "outputs": [],
   "source": [
    "#use helper function, create_ibc_client, to fetch terra tendermint data, fabricate the MsgCreateClient msg, and dispatch to osmosis chain\n",
    "#ie. execute same steps as previous cell, but with reversed roles (terra consensus info on osmo chain)\n",
    "\n",
    "result = create_ibc_client(terra, osmo, osmo_wallet, 1)\n",
    "result_df = pd.DataFrame(result[\"tx_response\"][\"logs\"][0][\"events\"][0][\"attributes\"])\n",
    "client_id_on_osmo = result_df[result_df[\"key\"]==\"client_id\"][\"value\"].values[0]\n",
    "\n",
    "print(f\"\"\"\n",
    "\n",
    "client_id on osmo: {client_id_on_osmo}\n",
    "\n",
    "\"\"\")"
   ]
  },
  {
   "cell_type": "markdown",
   "id": "5b0969d5-5676-4ffb-be71-63391834086b",
   "metadata": {},
   "source": [
    "## The key results from this step are the client_id's built each on terra and osmosis. Let's take a look at the client_id's, and the underlying client state data stored onchain."
   ]
  },
  {
   "cell_type": "code",
   "execution_count": null,
   "id": "44c7fd30-6746-48da-9953-a2ff7ddb698c",
   "metadata": {},
   "outputs": [],
   "source": [
    "#client_id on terra, and its underlying state representing a snapshot summary of osmosis's consensus/tendermint state\n",
    "client_state_on_terra = terra.broadcaster.query(f\"/ibc/core/client/v1/client_states/{client_id_on_terra}\")\n",
    "\n",
    "print(f\"\"\"\n",
    "\n",
    "client_id on terra: {client_id_on_terra}\n",
    "client_state on terra: {client_state_on_terra}\n",
    "\n",
    "\"\"\")"
   ]
  },
  {
   "cell_type": "code",
   "execution_count": null,
   "id": "d1c9c402-b894-4170-958d-e3def4b005a8",
   "metadata": {},
   "outputs": [],
   "source": [
    "#client_id on osmosis, and its underlying state representing a snapshot summary of terra's consensus/tendermint state\n",
    "client_state_on_osmo = osmo.broadcaster.query(f\"/ibc/core/client/v1/client_states/{client_id_on_osmo}\")\n",
    "\n",
    "print(f\"\"\"\n",
    "\n",
    "client_id on osmosis: {client_id_on_osmo}\n",
    "client_state on osmosis: {client_state_on_osmo}\n",
    "\n",
    "\"\"\")"
   ]
  },
  {
   "cell_type": "markdown",
   "id": "52d39cdb-abc5-48ca-a41d-b2a24f46691f",
   "metadata": {},
   "source": [
    "## Persist client_id's for next steps."
   ]
  },
  {
   "cell_type": "code",
   "execution_count": null,
   "id": "44f9f41a-45ce-445a-928c-4100bac26744",
   "metadata": {},
   "outputs": [],
   "source": [
    "#save to current directory\n",
    "\n",
    "data = {\n",
    "    \"client_id_on_terra\": client_id_on_terra,\n",
    "    \"client_id_on_osmo\": client_id_on_osmo,\n",
    "}\n",
    "\n",
    "with open(\"context.json\", \"w\") as f:\n",
    "    # Write the dictionary to the file as a JSON string\n",
    "    json.dump(data, f)\n"
   ]
  },
  {
   "cell_type": "markdown",
   "id": "02cb5a82-37fa-49f5-8ec9-a6a3d450523f",
   "metadata": {},
   "source": [
    "## And that's it for IBC client setup! Please continue to the next notebook to create an ibc connection between terra and osmosis."
   ]
  }
 ],
 "metadata": {
  "kernelspec": {
   "display_name": "Python 3 (ipykernel)",
   "language": "python",
   "name": "python3"
  },
  "language_info": {
   "codemirror_mode": {
    "name": "ipython",
    "version": 3
   },
   "file_extension": ".py",
   "mimetype": "text/x-python",
   "name": "python",
   "nbconvert_exporter": "python",
   "pygments_lexer": "ipython3",
   "version": "3.8.15"
  }
 },
 "nbformat": 4,
 "nbformat_minor": 5
}
