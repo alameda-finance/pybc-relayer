{
 "cells": [
  {
   "cell_type": "markdown",
   "id": "3072ea46-1496-489d-910d-bd5fc609be2b",
   "metadata": {},
   "source": [
    "## The first step is setting up the IBC light clients that live on each counterpart's chain. We will heavily utilize terra.py (https://github.com/terra-money/terra.py) and terra_proto (https://github.com/terra-money/terra.proto) in this series, but you can absolutely use more generalized packages to interact with lcd endpoints and generate proto classes.\n",
    "\n",
    "## Additionally, we use Setten (https://setten.io/) for private terra rpc endpoints; Osmosis provides a public rpc that we can use."
   ]
  },
  {
   "cell_type": "markdown",
   "id": "15c3c917-2eeb-4004-bca9-f56e5a59e52e",
   "metadata": {},
   "source": []
  },
  {
   "cell_type": "code",
   "execution_count": 1,
   "id": "f472f253-a629-4334-8faf-0da67f60f75a",
   "metadata": {
    "tags": []
   },
   "outputs": [],
   "source": [
    "#imports\n",
    "\n",
    "import pandas as pd\n",
    "import json\n",
    "import os\n",
    "import sys\n",
    "import base64\n",
    "import requests\n",
    "import subprocess\n",
    "import math\n",
    "import hashlib\n",
    "import bech32\n",
    "import time\n",
    "\n",
    "from dateutil.parser import parse\n",
    "from datetime import datetime, timedelta\n",
    "from ecdsa import SECP256k1, SigningKey\n",
    "from ecdsa.util import sigencode_string_canonize\n",
    "from bech32 import bech32_decode, bech32_encode, convertbits\n",
    "\n",
    "from terra_sdk.client.lcd import LCDClient\n",
    "from terra_sdk.core.wasm import MsgStoreCode, MsgInstantiateContract, MsgExecuteContract\n",
    "from terra_sdk.core.bank import MsgSend\n",
    "from terra_sdk.core.fee import Fee\n",
    "from terra_sdk.key.mnemonic import MnemonicKey\n",
    "from terra_sdk.core.bech32 import get_bech\n",
    "from terra_sdk.core import AccAddress, Coin, Coins\n",
    "from terra_sdk.client.lcd.api.tx import CreateTxOptions, SignerOptions\n",
    "from terra_sdk.client.localterra import LocalTerra\n",
    "from terra_sdk.core.wasm.data import AccessConfig\n",
    "from terra_sdk.client.lcd.api._base import BaseAsyncAPI, sync_bind\n",
    "\n",
    "from terra_proto.cosmwasm.wasm.v1 import AccessType\n",
    "from terra_proto.cosmos.tx.v1beta1 import Tx, TxBody, AuthInfo, SignDoc, SignerInfo, ModeInfo, ModeInfoSingle, BroadcastTxResponse\n",
    "from terra_proto.cosmos.base.abci.v1beta1 import TxResponse\n",
    "from terra_proto.cosmos.tx.signing.v1beta1 import SignMode\n",
    "from terra_proto.ibc.core.client.v1 import MsgCreateClient, Height, MsgUpdateClient, QueryClientStateRequest, QueryClientStateResponse\n",
    "from terra_proto.ibc.core.channel.v1 import MsgChannelOpenInit, Channel, State, Order, Counterparty, MsgChannelOpenTry, MsgChannelOpenAck, MsgChannelOpenConfirm, QueryUnreceivedPacketsRequest, QueryUnreceivedPacketsResponse, QueryPacketCommitmentRequest, QueryPacketCommitmentResponse, Packet, QueryNextSequenceReceiveRequest, QueryNextSequenceReceiveResponse, MsgRecvPacket, MsgTimeout, QueryUnreceivedAcksRequest, QueryUnreceivedAcksResponse, MsgAcknowledgement\n",
    "from terra_proto.ibc.core.connection.v1 import MsgConnectionOpenInit, Counterparty as ConnectionCounterParty, Version, MsgConnectionOpenTry, MsgConnectionOpenAck, MsgConnectionOpenConfirm\n",
    "from terra_proto.ibc.lightclients.tendermint.v1 import ClientState, ConsensusState, Fraction, Header\n",
    "from terra_proto.ics23 import HashOp, LengthOp, LeafOp, InnerOp, ProofSpec, InnerSpec, CommitmentProof, ExistenceProof, NonExistenceProof, BatchProof, CompressedBatchProof, BatchEntry, CompressedBatchEntry, CompressedExistenceProof, CompressedNonExistenceProof\n",
    "from terra_proto.ibc.core.commitment.v1 import MerkleRoot, MerklePrefix, MerkleProof\n",
    "from terra_proto.tendermint.types import ValidatorSet, Validator, SignedHeader, Header as tendermintHeader, Commit, BlockId, PartSetHeader, CommitSig, BlockIdFlag\n",
    "from terra_proto.tendermint.version import Consensus\n",
    "from terra_proto.tendermint.crypto import PublicKey\n",
    "from betterproto.lib.google.protobuf import Any\n",
    "from betterproto import Timestamp"
   ]
  },
  {
   "cell_type": "code",
   "execution_count": 2,
   "id": "560b8175-2249-4fa8-98f7-680e1f3f917c",
   "metadata": {
    "tags": []
   },
   "outputs": [],
   "source": [
    "#misc helper functions\n",
    "sys.path.append(os.path.join(os.path.dirname(__name__), '..', 'scripts'))\n",
    "\n",
    "from helpers import proto_to_binary, timestamp_string_to_proto, stargate_msg, create_ibc_client, fetch_chain_objects"
   ]
  },
  {
   "cell_type": "markdown",
   "id": "d23c1a9e-291c-480d-8b4b-c87103221d36",
   "metadata": {},
   "source": [
    "## We can actually use terra's lcd client & wallet classes for pretty much any cosmos chain."
   ]
  },
  {
   "cell_type": "code",
   "execution_count": 3,
   "id": "b92390c8-9561-4cef-bb4c-2e87d82eb0dd",
   "metadata": {
    "tags": []
   },
   "outputs": [],
   "source": [
    "#(terra, wallet, terra_rpc_url, terra_rpc_header) = fetch_chain_objects(\"localterra\")\n",
    "(inj, inj_wallet, inj_rpc_url, inj_rpc_header) = fetch_chain_objects(\"injective-888\")\n",
    "(osmo, osmo_wallet, osmo_rpc_url, osmo_rpc_header) = fetch_chain_objects(\"osmo-test-4\")"
   ]
  },
  {
   "cell_type": "markdown",
   "id": "27976fd3-a379-44d4-af54-5487508b898e",
   "metadata": {},
   "source": [
    "## Terra provides the python protobuf classes (via betterproto) for ibc/tendermint; again other python-ized protos may be used (or self-generated)"
   ]
  },
  {
   "cell_type": "code",
   "execution_count": 4,
   "id": "77dcf50e-cb3a-4126-bd87-72353404e565",
   "metadata": {
    "tags": []
   },
   "outputs": [],
   "source": [
    "#terra_proto imports\n",
    "from terra_proto.ibc.core.client.v1 import MsgCreateClient, Height, MsgUpdateClient, QueryClientStateRequest, QueryClientStateResponse\n",
    "from terra_proto.ibc.lightclients.tendermint.v1 import ClientState, ConsensusState, Fraction, Header\n",
    "from terra_proto.ics23 import HashOp, LengthOp, LeafOp, InnerOp, ProofSpec, InnerSpec, CommitmentProof, ExistenceProof, NonExistenceProof, BatchProof, CompressedBatchProof, BatchEntry, CompressedBatchEntry, CompressedExistenceProof, CompressedNonExistenceProof\n",
    "from terra_proto.ibc.core.commitment.v1 import MerkleRoot, MerklePrefix, MerkleProof\n",
    "from terra_proto.tendermint.version import Consensus\n"
   ]
  },
  {
   "cell_type": "markdown",
   "id": "e0ecb25f-3586-4d4f-affc-b521076beb45",
   "metadata": {},
   "source": [
    "## Create ibc light clients by submitting stargate messages containing context data from the counterpart chain"
   ]
  },
  {
   "cell_type": "code",
   "execution_count": 5,
   "id": "80ced671-29ba-40e3-99f4-7919ffe4050f",
   "metadata": {
    "tags": []
   },
   "outputs": [
    {
     "name": "stdout",
     "output_type": "stream",
     "text": [
      "\n",
      "osmosis information for client on injective\n",
      "\n",
      "unbonding_period: 1209600\n",
      "trusting_period: 806400\n",
      "max_clock_drift: 20\n",
      "tendermint_info: {'header': {'version': {'block': '11', 'app': '16'}, 'chain_id': 'osmo-test-4', 'height': '9559370', 'time': '2023-03-14T20:18:14.485562343Z', 'last_block_id': {'hash': '0pHsWrAD3nUwIBcaIogSlMQxhc59gCJKtFugMdEcAVg=', 'part_set_header': {'total': 1, 'hash': 'tKp8TzeqGxb5g250omg96z3GVxYaWaADq1zIN4zgmhM='}}, 'last_commit_hash': 'fSIafhIwwGf8vXuLfMKgj9aXAvkCS5bMNXtsq1vEXsQ=', 'data_hash': '47DEQpj8HBSa+/TImW+5JCeuQeRkm5NMpJWZG3hSuFU=', 'validators_hash': 'OKO5EbUTO5Td7kbtkXO7P2s/nycejIJi2GP2D/Cz8ro=', 'next_validators_hash': 'OKO5EbUTO5Td7kbtkXO7P2s/nycejIJi2GP2D/Cz8ro=', 'consensus_hash': 'qWfVX6y7oZq5YUkEjyR2xGV+wD0lt4qBr1uPCgj2Hf8=', 'app_hash': 'uwLMgyTiSwJr10Hw03VXlVYTv7u87YttxcCuefAoQ5o=', 'last_results_hash': '47DEQpj8HBSa+/TImW+5JCeuQeRkm5NMpJWZG3hSuFU=', 'evidence_hash': '47DEQpj8HBSa+/TImW+5JCeuQeRkm5NMpJWZG3hSuFU=', 'proposer_address': 'VpZxag4yMaDqkoAJJjK6v4Fve28='}, 'data': {'txs': []}, 'evidence': {'evidence': []}, 'last_commit': {'height': '9559369', 'round': 0, 'block_id': {'hash': '0pHsWrAD3nUwIBcaIogSlMQxhc59gCJKtFugMdEcAVg=', 'part_set_header': {'total': 1, 'hash': 'tKp8TzeqGxb5g250omg96z3GVxYaWaADq1zIN4zgmhM='}}, 'signatures': [{'block_id_flag': 'BLOCK_ID_FLAG_COMMIT', 'validator_address': 'VpZxag4yMaDqkoAJJjK6v4Fve28=', 'timestamp': '2023-03-14T20:18:14.485562343Z', 'signature': '7eSRuW2mpuSYwAc1VZ849n8ACEQFsRWTLs8mJIj1N6YkHCSJOpsgpHj6WKZfnMOgkxemqaYBqN8+UHjrsNpaAw=='}, {'block_id_flag': 'BLOCK_ID_FLAG_NIL', 'validator_address': 'RZtlaXV1HIbS0+n1l6l5NE8djP0=', 'timestamp': '2023-03-14T20:18:15.427113736Z', 'signature': 'BCLiGUOsumJ7fdf0689mTlvyu42jnHt77bjoV4oVj0Rexl9gU/vwYvZXWy4W4TVLplq3GGysUB0RhNkcDXkJCw=='}, {'block_id_flag': 'BLOCK_ID_FLAG_NIL', 'validator_address': '0S+fYerUINQxMAAVX2ADSheBdEI=', 'timestamp': '2023-03-14T20:18:14.694862138Z', 'signature': 'FAp1BiH4QX6fT1QcBgO5Hh6zBZJZkbhHybWEauSBbx8Vn1eCtAXXwnEXaW3J9kO64nVGu70nr4wlVgg6N3JZBA=='}, {'block_id_flag': 'BLOCK_ID_FLAG_NIL', 'validator_address': 'pIRf84SzPKxmbSw2eERqJv2O7uM=', 'timestamp': '2023-03-14T20:18:14.672187353Z', 'signature': '0y7OSzbDRsQSmOT1nCpCfHpBv3c7fU+z9S844T257rdyV7Ey2pou6MzfNshlfz1/P11kgOeNHVV4M5Sx1ufrCQ=='}, {'block_id_flag': 'BLOCK_ID_FLAG_ABSENT', 'validator_address': None, 'timestamp': '0001-01-01T00:00:00Z', 'signature': None}, {'block_id_flag': 'BLOCK_ID_FLAG_NIL', 'validator_address': 'yJaRcfm1ozVMcSog8AfN4GSMmQ8=', 'timestamp': '2023-03-14T20:18:14.669331292Z', 'signature': '40PTIjmUNqzZe7z+oiWRcw9Oy4agj3ee1HMWA2a3wzK0kjIQPpHbWrWW6Wy7wyhPx46VhaRhPUsKe9DKPc/3CA=='}, {'block_id_flag': 'BLOCK_ID_FLAG_ABSENT', 'validator_address': None, 'timestamp': '0001-01-01T00:00:00Z', 'signature': None}]}}\n",
      "\n",
      "\n",
      "\n",
      "ibc client creation message to be run on inj\n",
      "\n",
      "{'clientState': {'typeUrl': '/ibc.lightclients.tendermint.v1.ClientState', 'value': 'Cgtvc21vLXRlc3QtNBIECAEQAxoECICcMSIECIDqSSoCCBQyADoHCAQQyrrHBEIZCgkIARgBIAEqAQASDAoCAAEQIRgEIAwwAUIZCgkIARgBIAEqAQASDAoCAAEQIBgBIAEwAUoHdXBncmFkZUoQdXBncmFkZWRJQkNTdGF0ZVABWAE='}, 'consensusState': {'typeUrl': '/ibc.lightclients.tendermint.v1.ConsensusState', 'value': 'CgwIhq3DoAYQ56/E5wESIgoguwLMgyTiSwJr10Hw03VXlVYTv7u87YttxcCuefAoQ5oaIDijuRG1EzuU3e5G7ZFzuz9rP58nHoyCYthj9g/ws/K6'}, 'signer': 'inj1dc6rrxhfjaxexzdcrec5w3ryl4jn6x5t7t9j3z'}\n",
      "\n",
      "\n",
      "\n",
      "\n",
      "client_id on injective: 07-tendermint-87\n",
      "\n",
      "\n"
     ]
    }
   ],
   "source": [
    "#fetch osmosis tendermint data\n",
    "unbonding_period = int(osmo.staking.parameters()[\"unbonding_time\"].replace('s', ''))\n",
    "trusting_period = math.floor(unbonding_period * 2 / 3)\n",
    "max_clock_drift = 20\n",
    "latest_height_revision_number = 4\n",
    "tendermint_info = osmo.tendermint.block_info()[\"block\"]\n",
    "\n",
    "print(f\"\"\"\n",
    "osmosis information for client on injective\n",
    "\n",
    "unbonding_period: {unbonding_period}\n",
    "trusting_period: {trusting_period}\n",
    "max_clock_drift: {max_clock_drift}\n",
    "tendermint_info: {tendermint_info}\n",
    "\"\"\")\n",
    "\n",
    "#create the ibc client on injective, containing fetched osmosis tendermint data\n",
    "msg = MsgCreateClient(\n",
    "client_state=Any(\n",
    "  type_url=\"/ibc.lightclients.tendermint.v1.ClientState\",\n",
    "  value=ClientState(\n",
    "    chain_id=osmo.chain_id,\n",
    "    trust_level=Fraction(1,3),\n",
    "    trusting_period=timedelta(seconds=trusting_period),\n",
    "    unbonding_period=timedelta(seconds=unbonding_period),\n",
    "    max_clock_drift=timedelta(seconds=max_clock_drift),\n",
    "    frozen_height=Height(0,0),\n",
    "    latest_height=Height(latest_height_revision_number, int(tendermint_info[\"header\"][\"height\"])),\n",
    "    proof_specs=[\n",
    "      ProofSpec(\n",
    "        leaf_spec=LeafOp(\n",
    "          hash=HashOp.SHA256,\n",
    "          prehash_key=HashOp.NO_HASH,\n",
    "          prehash_value=HashOp.SHA256,\n",
    "          length=LengthOp.VAR_PROTO,\n",
    "          prefix=base64.b64decode(b\"AA==\"),\n",
    "        ),\n",
    "        inner_spec=InnerSpec(\n",
    "          child_order=[0,1],\n",
    "          child_size=33,\n",
    "          min_prefix_length=4,\n",
    "          max_prefix_length=12,\n",
    "          #empty_child=b'',\n",
    "          hash=HashOp.SHA256,\n",
    "        ),\n",
    "        max_depth=0,\n",
    "        min_depth=0\n",
    "      ),\n",
    "      ProofSpec(\n",
    "        leaf_spec=LeafOp(\n",
    "          hash=HashOp.SHA256,\n",
    "          prehash_key=HashOp.NO_HASH,\n",
    "          prehash_value=HashOp.SHA256,\n",
    "          length=LengthOp.VAR_PROTO,\n",
    "          prefix=base64.b64decode(b\"AA==\"),\n",
    "        ),\n",
    "        inner_spec=InnerSpec(\n",
    "          child_order=[0,1],\n",
    "          child_size=32,\n",
    "          min_prefix_length=1,\n",
    "          max_prefix_length=1,\n",
    "          #empty_child=b'',\n",
    "          hash=HashOp.SHA256,\n",
    "        ),\n",
    "        max_depth=0,\n",
    "        min_depth=0\n",
    "      ),\n",
    "    ],\n",
    "    upgrade_path=[\"upgrade\", \"upgradedIBCState\"],\n",
    "    allow_update_after_expiry=True,\n",
    "    allow_update_after_misbehaviour=True,\n",
    "  ).SerializeToString()\n",
    "),\n",
    "consensus_state=Any(\n",
    "  type_url=\"/ibc.lightclients.tendermint.v1.ConsensusState\",\n",
    "  value=ConsensusState(\n",
    "    timestamp=timestamp_string_to_proto(tendermint_info[\"header\"][\"time\"]),\n",
    "    root=MerkleRoot(base64.b64decode(tendermint_info[\"header\"][\"app_hash\"])),\n",
    "    next_validators_hash=base64.b64decode(tendermint_info[\"header\"][\"next_validators_hash\"]),\n",
    "  ).SerializeToString(),\n",
    "),\n",
    "signer=inj_wallet.key.acc_address,\n",
    ")\n",
    "\n",
    "print(f\"\"\"\n",
    "\n",
    "ibc client creation message to be run on inj\n",
    "\n",
    "{msg.to_dict()}\n",
    "\n",
    "\"\"\")\n",
    "\n",
    "#dispatch the message\n",
    "result = stargate_msg(\"/ibc.core.client.v1.MsgCreateClient\", msg, inj_wallet, inj)\n",
    "result_df = pd.DataFrame(result[\"tx_response\"][\"logs\"][0][\"events\"][0][\"attributes\"])\n",
    "client_id_on_inj = result_df[result_df[\"key\"]==\"client_id\"][\"value\"].values[0]\n",
    "\n",
    "print(f\"\"\"\n",
    "\n",
    "client_id on injective: {client_id_on_inj}\n",
    "\n",
    "\"\"\")"
   ]
  },
  {
   "cell_type": "code",
   "execution_count": 19,
   "id": "6764fdc9-c008-4e2f-afe7-c4af83f07bc5",
   "metadata": {},
   "outputs": [
    {
     "name": "stdout",
     "output_type": "stream",
     "text": [
      "\n",
      "  injective-888 information for client on osmo-test-4 \n",
      "\n",
      "  unbonding_period: 1814400\n",
      "  trusting_period: 1209600\n",
      "  max_clock_drift: 20\n",
      "  tendermint_info: {'header': {'version': {'block': '11', 'app': '0'}, 'chain_id': 'injective-888', 'height': '9199589', 'time': '2023-03-14T20:24:26.883970300Z', 'last_block_id': {'hash': '16CQZ9V6bJj6M1K30Fth//FWVKTTFaLR4uvBioyhYFg=', 'part_set_header': {'total': 1, 'hash': 'W8u7T9Gx7KB1KwiKGWG8JtIEWWhXamldx4leBnAEznc='}}, 'last_commit_hash': 'jIiBA32+36vtpmfaZ0u8dbCohUrFZqFFvm7GEI2Kxx4=', 'data_hash': '47DEQpj8HBSa+/TImW+5JCeuQeRkm5NMpJWZG3hSuFU=', 'validators_hash': 'NZMqGpR9oVa/krke1jgDJlhF56y9IG0E0xOYrBWUJ6w=', 'next_validators_hash': 'NZMqGpR9oVa/krke1jgDJlhF56y9IG0E0xOYrBWUJ6w=', 'consensus_hash': 'vml94SL+cPwUT5B4L5ZAe/3n0gSLsv2tqMpUVEVA8gg=', 'app_hash': 'vfkLQmiu4wFT3xoDoflr/4v1w0UCWWDbvsB9SC12/5Q=', 'last_results_hash': '47DEQpj8HBSa+/TImW+5JCeuQeRkm5NMpJWZG3hSuFU=', 'evidence_hash': '47DEQpj8HBSa+/TImW+5JCeuQeRkm5NMpJWZG3hSuFU=', 'proposer_address': 'Nv8cuLE25L4mgnBx8shCmG68xfc='}, 'data': {'txs': []}, 'evidence': {'evidence': []}, 'last_commit': {'height': '9199588', 'round': 0, 'block_id': {'hash': '16CQZ9V6bJj6M1K30Fth//FWVKTTFaLR4uvBioyhYFg=', 'part_set_header': {'total': 1, 'hash': 'W8u7T9Gx7KB1KwiKGWG8JtIEWWhXamldx4leBnAEznc='}}, 'signatures': [{'block_id_flag': 'BLOCK_ID_FLAG_COMMIT', 'validator_address': 'pp0xJG+3PqSvgHC1GJU9SwvYymM=', 'timestamp': '2023-03-14T20:24:26.867182089Z', 'signature': '3TksIbdZtdkczFyXn3fShWqVCPY3caur13AV9CGwSG0HwixkXBV6TsvY/fZPQ4uP6EX5YNEHDEWZhO3yzbEyAA=='}, {'block_id_flag': 'BLOCK_ID_FLAG_COMMIT', 'validator_address': 'Nv8cuLE25L4mgnBx8shCmG68xfc=', 'timestamp': '2023-03-14T20:24:26.883970300Z', 'signature': 'wl2VGSDppevu25pwX+R4Ucr/woYCvN+fem7cdv3LIw8BYbTgVltYyb+wD6fufT/e09xy/+L6kbl40/LohxMhBw=='}, {'block_id_flag': 'BLOCK_ID_FLAG_COMMIT', 'validator_address': 'M5HjW2EATgO+uI+h2rRES5E7174=', 'timestamp': '2023-03-14T20:24:26.968145046Z', 'signature': '2/mQc0wqBvnTmFMW33J33YUSklew72LcLYfGhTUovZLRFqDeSGMNhZWwIc2SCO9PLpoBpQ2eeiTeg6Kp7A6KBg=='}, {'block_id_flag': 'BLOCK_ID_FLAG_COMMIT', 'validator_address': 'ObUXYdS8jfTSNPonUBFPJkft7eA=', 'timestamp': '2023-03-14T20:24:26.873989383Z', 'signature': 'pG3+fu4ncMVqxyHTjTygiQxbJBqapJZp9J96iEujQiHPuKEQVfP2wf9yFrcwon0wLtmwZTaLfRKit98ixnqjBA=='}, {'block_id_flag': 'BLOCK_ID_FLAG_COMMIT', 'validator_address': 'wIZn4dvVrjfbpoqyxvKVK56xeK8=', 'timestamp': '2023-03-14T20:24:27.030444176Z', 'signature': 'wgsnQoS1QcvLnIIRjBDhPPzeWXSFLKu4FiA67NKilohAOlS1BqeVa5Qa5yapkC4XvZRLxQ5b06LvZyHildhPDA=='}]}}\n",
      "\n",
      "  \n",
      "\n",
      "\n",
      "  ibc client creation message to be run osmo-test-4\n",
      "\n",
      "  {'clientState': {'typeUrl': '/ibc.lightclients.tendermint.v1.ClientState', 'value': 'Cg1pbmplY3RpdmUtODg4EgQIARADGgQIgOpJIgQIgN9uKgIIFDIAOggI+AYQ5b+xBEIZCgkIARgBIAEqAQASDAoCAAEQIRgEIAwwAUIZCgkIARgBIAEqAQASDAoCAAEQIBgBIAEwAUoHdXBncmFkZUoQdXBncmFkZWRJQkNTdGF0ZVABWAE='}, 'consensusState': {'typeUrl': '/ibc.lightclients.tendermint.v1.ConsensusState', 'value': 'CgwI+q/DoAYQ/KHBpQMSIgogvfkLQmiu4wFT3xoDoflr/4v1w0UCWWDbvsB9SC12/5QaIDWTKhqUfaFWv5K5HtY4AyZYReesvSBtBNMTmKwVlCes'}, 'signer': 'osmo16kknw79vd8rws905phrq6t5ex8vzxdhvc0gsmp'}\n",
      "\n",
      "  \n",
      "\n",
      "\n",
      "client_id on osmo: 07-tendermint-4298\n",
      "\n",
      "\n"
     ]
    }
   ],
   "source": [
    "#use helper function, create_ibc_client, to fetch injective tendermint data, fabricate the MsgCreateClient msg, and dispatch to osmosis chain\n",
    "#ie. execute same steps as previous cell, but with reversed roles (injective consensus info on osmo chain)\n",
    "\n",
    "result = create_ibc_client(inj, osmo, osmo_wallet, 888)\n",
    "result_df = pd.DataFrame(result[\"tx_response\"][\"logs\"][0][\"events\"][0][\"attributes\"])\n",
    "client_id_on_osmo = result_df[result_df[\"key\"]==\"client_id\"][\"value\"].values[0]\n",
    "\n",
    "print(f\"\"\"\n",
    "\n",
    "client_id on osmo: {client_id_on_osmo}\n",
    "\n",
    "\"\"\")"
   ]
  },
  {
   "cell_type": "markdown",
   "id": "5b0969d5-5676-4ffb-be71-63391834086b",
   "metadata": {},
   "source": [
    "## The key results from this step are the client_id's built each on injective and osmosis. Let's take a look at the client_id's, and the underlying client state data stored onchain."
   ]
  },
  {
   "cell_type": "code",
   "execution_count": 20,
   "id": "44c7fd30-6746-48da-9953-a2ff7ddb698c",
   "metadata": {},
   "outputs": [
    {
     "name": "stdout",
     "output_type": "stream",
     "text": [
      "\n",
      "\n",
      "client_id on inj: 07-tendermint-87\n",
      "client_state on inj: {'client_state': {'@type': '/ibc.lightclients.tendermint.v1.ClientState', 'chain_id': 'osmo-test-4', 'trust_level': {'numerator': '1', 'denominator': '3'}, 'trusting_period': '806400s', 'unbonding_period': '1209600s', 'max_clock_drift': '20s', 'frozen_height': {'revision_number': '0', 'revision_height': '0'}, 'latest_height': {'revision_number': '4', 'revision_height': '9559370'}, 'proof_specs': [{'leaf_spec': {'hash': 'SHA256', 'prehash_key': 'NO_HASH', 'prehash_value': 'SHA256', 'length': 'VAR_PROTO', 'prefix': 'AA=='}, 'inner_spec': {'child_order': [0, 1], 'child_size': 33, 'min_prefix_length': 4, 'max_prefix_length': 12, 'empty_child': None, 'hash': 'SHA256'}, 'max_depth': 0, 'min_depth': 0}, {'leaf_spec': {'hash': 'SHA256', 'prehash_key': 'NO_HASH', 'prehash_value': 'SHA256', 'length': 'VAR_PROTO', 'prefix': 'AA=='}, 'inner_spec': {'child_order': [0, 1], 'child_size': 32, 'min_prefix_length': 1, 'max_prefix_length': 1, 'empty_child': None, 'hash': 'SHA256'}, 'max_depth': 0, 'min_depth': 0}], 'upgrade_path': ['upgrade', 'upgradedIBCState'], 'allow_update_after_expiry': True, 'allow_update_after_misbehaviour': True}, 'proof': None, 'proof_height': {'revision_number': '888', 'revision_height': '9199606'}}\n",
      "\n",
      "\n"
     ]
    }
   ],
   "source": [
    "#client_id on injective, and its underlying state representing a snapshot summary of osmosis's consensus/tendermint state\n",
    "client_state_on_inj = inj.broadcaster.query(f\"/ibc/core/client/v1/client_states/{client_id_on_inj}\")\n",
    "\n",
    "print(f\"\"\"\n",
    "\n",
    "client_id on inj: {client_id_on_inj}\n",
    "client_state on inj: {client_state_on_inj}\n",
    "\n",
    "\"\"\")"
   ]
  },
  {
   "cell_type": "code",
   "execution_count": 21,
   "id": "d1c9c402-b894-4170-958d-e3def4b005a8",
   "metadata": {},
   "outputs": [
    {
     "name": "stdout",
     "output_type": "stream",
     "text": [
      "\n",
      "\n",
      "client_id on osmosis: 07-tendermint-4298\n",
      "client_state on osmosis: {'client_state': {'@type': '/ibc.lightclients.tendermint.v1.ClientState', 'chain_id': 'injective-888', 'trust_level': {'numerator': '1', 'denominator': '3'}, 'trusting_period': '1209600s', 'unbonding_period': '1814400s', 'max_clock_drift': '20s', 'frozen_height': {'revision_number': '0', 'revision_height': '0'}, 'latest_height': {'revision_number': '888', 'revision_height': '9199589'}, 'proof_specs': [{'leaf_spec': {'hash': 'SHA256', 'prehash_key': 'NO_HASH', 'prehash_value': 'SHA256', 'length': 'VAR_PROTO', 'prefix': 'AA=='}, 'inner_spec': {'child_order': [0, 1], 'child_size': 33, 'min_prefix_length': 4, 'max_prefix_length': 12, 'empty_child': None, 'hash': 'SHA256'}, 'max_depth': 0, 'min_depth': 0}, {'leaf_spec': {'hash': 'SHA256', 'prehash_key': 'NO_HASH', 'prehash_value': 'SHA256', 'length': 'VAR_PROTO', 'prefix': 'AA=='}, 'inner_spec': {'child_order': [0, 1], 'child_size': 32, 'min_prefix_length': 1, 'max_prefix_length': 1, 'empty_child': None, 'hash': 'SHA256'}, 'max_depth': 0, 'min_depth': 0}], 'upgrade_path': ['upgrade', 'upgradedIBCState'], 'allow_update_after_expiry': True, 'allow_update_after_misbehaviour': True}, 'proof': None, 'proof_height': {'revision_number': '4', 'revision_height': '9559453'}}\n",
      "\n",
      "\n"
     ]
    }
   ],
   "source": [
    "#client_id on osmosis, and its underlying state representing a snapshot summary of terra's consensus/tendermint state\n",
    "client_state_on_osmo = osmo.broadcaster.query(f\"/ibc/core/client/v1/client_states/{client_id_on_osmo}\")\n",
    "\n",
    "print(f\"\"\"\n",
    "\n",
    "client_id on osmosis: {client_id_on_osmo}\n",
    "client_state on osmosis: {client_state_on_osmo}\n",
    "\n",
    "\"\"\")"
   ]
  },
  {
   "cell_type": "markdown",
   "id": "52d39cdb-abc5-48ca-a41d-b2a24f46691f",
   "metadata": {},
   "source": [
    "## Persist client_id's for next steps."
   ]
  },
  {
   "cell_type": "code",
   "execution_count": 22,
   "id": "44f9f41a-45ce-445a-928c-4100bac26744",
   "metadata": {},
   "outputs": [],
   "source": [
    "#save to current directory\n",
    "\n",
    "data = {\n",
    "    \"client_id_on_inj\": client_id_on_inj,\n",
    "    \"client_id_on_osmo\": client_id_on_osmo,\n",
    "}\n",
    "\n",
    "with open(\"context.json\", \"w\") as f:\n",
    "    # Write the dictionary to the file as a JSON string\n",
    "    json.dump(data, f)\n"
   ]
  },
  {
   "cell_type": "markdown",
   "id": "02cb5a82-37fa-49f5-8ec9-a6a3d450523f",
   "metadata": {},
   "source": [
    "## And that's it for IBC client setup! Please continue to the next notebook to create an ibc connection between terra and osmosis."
   ]
  },
  {
   "cell_type": "code",
   "execution_count": null,
   "id": "5333aea8-377a-48cf-96c6-4d635c917a6b",
   "metadata": {},
   "outputs": [],
   "source": []
  }
 ],
 "metadata": {
  "kernelspec": {
   "display_name": "Python 3 (ipykernel)",
   "language": "python",
   "name": "python3"
  },
  "language_info": {
   "codemirror_mode": {
    "name": "ipython",
    "version": 3
   },
   "file_extension": ".py",
   "mimetype": "text/x-python",
   "name": "python",
   "nbconvert_exporter": "python",
   "pygments_lexer": "ipython3",
   "version": "3.8.15"
  }
 },
 "nbformat": 4,
 "nbformat_minor": 5
}
