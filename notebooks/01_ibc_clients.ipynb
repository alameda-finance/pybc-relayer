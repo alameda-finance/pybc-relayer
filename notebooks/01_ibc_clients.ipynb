{
 "cells": [
  {
   "cell_type": "markdown",
   "id": "3072ea46-1496-489d-910d-bd5fc609be2b",
   "metadata": {},
   "source": [
    "The first step is setting up the IBC light clients that live on each counterpart's chain. We will heavily utilize terra.py (https://github.com/terra-money/terra.py) and terra_proto (https://github.com/terra-money/terra.proto) in this series, but you can absolutely use more generalized packages to interact with lcd endpoints.\n",
    "\n",
    "Additionally, we use Setten (https://setten.io/) for private terra rpc endpoints; Osmosis provides a public rpc that we can use."
   ]
  },
  {
   "cell_type": "markdown",
   "id": "15c3c917-2eeb-4004-bca9-f56e5a59e52e",
   "metadata": {},
   "source": []
  },
  {
   "cell_type": "code",
   "execution_count": null,
   "id": "f472f253-a629-4334-8faf-0da67f60f75a",
   "metadata": {},
   "outputs": [],
   "source": [
    "#imports\n",
    "\n"
   ]
  },
  {
   "cell_type": "markdown",
   "id": "d23c1a9e-291c-480d-8b4b-c87103221d36",
   "metadata": {},
   "source": [
    "We can actually use terra's lcd client & wallet classes for pretty much any cosmos chain."
   ]
  },
  {
   "cell_type": "code",
   "execution_count": 1,
   "id": "5eb1e4e8-e0c9-48d1-b299-94090a58c7a4",
   "metadata": {},
   "outputs": [],
   "source": [
    "#lcd setup\n",
    "\n",
    "#terra\n",
    "\n",
    "#osmosis"
   ]
  },
  {
   "cell_type": "code",
   "execution_count": null,
   "id": "3a80810b-5019-4d9b-8e00-a9600a936a1c",
   "metadata": {},
   "outputs": [],
   "source": [
    "#rpc setup\n",
    "\n",
    "#terra\n",
    "\n",
    "#osmosis"
   ]
  },
  {
   "cell_type": "code",
   "execution_count": null,
   "id": "b92390c8-9561-4cef-bb4c-2e87d82eb0dd",
   "metadata": {},
   "outputs": [],
   "source": [
    "#wallet setup\n",
    "\n",
    "#terra\n",
    "\n",
    "#osmosis"
   ]
  },
  {
   "cell_type": "markdown",
   "id": "27976fd3-a379-44d4-af54-5487508b898e",
   "metadata": {},
   "source": [
    "Terra provides the python protobuf classes (via betterproto) for ibc/tendermint; again other python-ized protos may be used (or self-generated)"
   ]
  },
  {
   "cell_type": "code",
   "execution_count": 2,
   "id": "77dcf50e-cb3a-4126-bd87-72353404e565",
   "metadata": {},
   "outputs": [],
   "source": [
    "#terra_proto imports"
   ]
  },
  {
   "cell_type": "markdown",
   "id": "e0ecb25f-3586-4d4f-affc-b521076beb45",
   "metadata": {},
   "source": [
    "Create ibc light clients by submitting stargate messages containing context data from the counterpart chain"
   ]
  },
  {
   "cell_type": "code",
   "execution_count": 3,
   "id": "d5a2e44e-fd15-4a5f-b9bc-c031c0613162",
   "metadata": {},
   "outputs": [],
   "source": [
    "#fetch osmosis tendermint data\n",
    "#create the ibc client on terra, containing fetched osmosis tendermint data"
   ]
  },
  {
   "cell_type": "code",
   "execution_count": null,
   "id": "6764fdc9-c008-4e2f-afe7-c4af83f07bc5",
   "metadata": {},
   "outputs": [],
   "source": [
    "#fetch terra tendermint data\n",
    "#create ibc client on osmosis, containing fetched terra tendermint data"
   ]
  }
 ],
 "metadata": {
  "kernelspec": {
   "display_name": "Python 3 (ipykernel)",
   "language": "python",
   "name": "python3"
  },
  "language_info": {
   "codemirror_mode": {
    "name": "ipython",
    "version": 3
   },
   "file_extension": ".py",
   "mimetype": "text/x-python",
   "name": "python",
   "nbconvert_exporter": "python",
   "pygments_lexer": "ipython3",
   "version": "3.8.15"
  }
 },
 "nbformat": 4,
 "nbformat_minor": 5
}
