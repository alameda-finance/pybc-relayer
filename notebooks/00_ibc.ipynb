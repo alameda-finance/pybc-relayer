{
 "cells": [
  {
   "cell_type": "markdown",
   "id": "3072ea46-1496-489d-910d-bd5fc609be2b",
   "metadata": {},
   "source": [
    "Welcome! This notebook series demonstrates nearly the entire end-to-end ibc relayer setup and usage (close channel/connection not covered).\n",
    "\n",
    "Our end goal is to setup confio's ICA demo contracts (https://github.com/confio/cw-ibc-demo) between terra and osmosis testnets. \n",
    "\n",
    "The full script for the \"py\"-bc relayer lives in the pybc-relayer/scripts directory.  "
   ]
  },
  {
   "cell_type": "code",
   "execution_count": null,
   "id": "ce9ce729-33ff-4f50-b81c-b28af8d6d2e0",
   "metadata": {},
   "outputs": [],
   "source": []
  },
  {
   "cell_type": "code",
   "execution_count": null,
   "id": "f3a9361a-ec45-4ef7-9a70-9ea25a47395f",
   "metadata": {},
   "outputs": [],
   "source": []
  }
 ],
 "metadata": {
  "kernelspec": {
   "display_name": "Python 3 (ipykernel)",
   "language": "python",
   "name": "python3"
  },
  "language_info": {
   "codemirror_mode": {
    "name": "ipython",
    "version": 3
   },
   "file_extension": ".py",
   "mimetype": "text/x-python",
   "name": "python",
   "nbconvert_exporter": "python",
   "pygments_lexer": "ipython3",
   "version": "3.8.15"
  }
 },
 "nbformat": 4,
 "nbformat_minor": 5
}
